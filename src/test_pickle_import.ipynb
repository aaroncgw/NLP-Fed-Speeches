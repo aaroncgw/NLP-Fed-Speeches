{
 "cells": [
  {
   "cell_type": "code",
   "execution_count": 65,
   "metadata": {},
   "outputs": [],
   "source": [
    "# testing pickle file\n",
    "import pickle\n",
    "import os"
   ]
  },
  {
   "cell_type": "code",
   "execution_count": 66,
   "metadata": {},
   "outputs": [],
   "source": [
    "# loading Fed Speeches\n",
    "df = pickle.load( open( \"all_fed_speeches\", \"rb\" ) )"
   ]
  },
  {
   "cell_type": "code",
   "execution_count": 67,
   "metadata": {},
   "outputs": [
    {
     "data": {
      "text/html": [
       "<div>\n",
       "<style scoped>\n",
       "    .dataframe tbody tr th:only-of-type {\n",
       "        vertical-align: middle;\n",
       "    }\n",
       "\n",
       "    .dataframe tbody tr th {\n",
       "        vertical-align: top;\n",
       "    }\n",
       "\n",
       "    .dataframe thead th {\n",
       "        text-align: right;\n",
       "    }\n",
       "</style>\n",
       "<table border=\"1\" class=\"dataframe\">\n",
       "  <thead>\n",
       "    <tr style=\"text-align: right;\">\n",
       "      <th></th>\n",
       "      <th>date</th>\n",
       "      <th>speaker</th>\n",
       "      <th>title</th>\n",
       "      <th>link</th>\n",
       "      <th>text</th>\n",
       "    </tr>\n",
       "  </thead>\n",
       "  <tbody>\n",
       "    <tr>\n",
       "      <th>337</th>\n",
       "      <td>2011-11-11</td>\n",
       "      <td>Vice Chair Janet L. Yellen</td>\n",
       "      <td>Pursuing Financial Stability at the Federal Re...</td>\n",
       "      <td>/newsevents/speech/yellen20111111a.htm</td>\n",
       "      <td>\\n       Let me begin by thanking the Federal ...</td>\n",
       "    </tr>\n",
       "    <tr>\n",
       "      <th>127</th>\n",
       "      <td>2007-04-11</td>\n",
       "      <td>Chairman Ben S. Bernanke</td>\n",
       "      <td>Financial Regulation and the Invisible Hand</td>\n",
       "      <td>/newsevents/speech/bernanke20070411a.htm</td>\n",
       "      <td>Market forces determine most outcomes in our e...</td>\n",
       "    </tr>\n",
       "    <tr>\n",
       "      <th>273</th>\n",
       "      <td>2009-02-16</td>\n",
       "      <td>Governor Elizabeth A. Duke</td>\n",
       "      <td>Stabilizing the Housing Market: Focus on Commu...</td>\n",
       "      <td>/newsevents/speech/duke20090216a.htm</td>\n",
       "      <td>It is great to be back here with community ban...</td>\n",
       "    </tr>\n",
       "    <tr>\n",
       "      <th>648</th>\n",
       "      <td>2017-06-01</td>\n",
       "      <td>Governor Jerome H. Powell</td>\n",
       "      <td>Thoughts on the Normalization of Monetary Policy</td>\n",
       "      <td>/newsevents/speech/powell20170601a.htm</td>\n",
       "      <td>Thank you for the opportunity to speak here at...</td>\n",
       "    </tr>\n",
       "    <tr>\n",
       "      <th>174</th>\n",
       "      <td>2008-06-16</td>\n",
       "      <td>Chairman Ben S. Bernanke</td>\n",
       "      <td>Challenges for Health-Care Reform</td>\n",
       "      <td>/newsevents/speech/bernanke20080616a.htm</td>\n",
       "      <td>Improving the performance of our health-care s...</td>\n",
       "    </tr>\n",
       "    <tr>\n",
       "      <th>0</th>\n",
       "      <td>2006-12-15</td>\n",
       "      <td>Chairman Ben S. Bernanke</td>\n",
       "      <td>The Chinese Economy: Progress and Challenges</td>\n",
       "      <td>/newsevents/speech/bernanke20061215a.htm</td>\n",
       "      <td>The emergence of China as a global economic po...</td>\n",
       "    </tr>\n",
       "    <tr>\n",
       "      <th>495</th>\n",
       "      <td>2014-08-22</td>\n",
       "      <td>Chair Janet L. Yellen</td>\n",
       "      <td>Labor Market Dynamics and Monetary Policy</td>\n",
       "      <td>/newsevents/speech/yellen20140822a.htm</td>\n",
       "      <td>\\n       In the five years since the end of th...</td>\n",
       "    </tr>\n",
       "    <tr>\n",
       "      <th>693</th>\n",
       "      <td>2018-08-24</td>\n",
       "      <td>Chairman Jerome H. Powell</td>\n",
       "      <td>Monetary Policy in a Changing Economy</td>\n",
       "      <td>/newsevents/speech/powell20180824a.htm</td>\n",
       "      <td>Thank you for the opportunity to speak here to...</td>\n",
       "    </tr>\n",
       "    <tr>\n",
       "      <th>409</th>\n",
       "      <td>2012-04-13</td>\n",
       "      <td>Chairman Ben S. Bernanke</td>\n",
       "      <td>Some Reflections on the Crisis and the Policy ...</td>\n",
       "      <td>/newsevents/speech/bernanke20120413a.htm</td>\n",
       "      <td>\\n       I would like to thank the conference ...</td>\n",
       "    </tr>\n",
       "    <tr>\n",
       "      <th>341</th>\n",
       "      <td>2011-11-04</td>\n",
       "      <td>Governor Daniel K. Tarullo</td>\n",
       "      <td>The International Agenda for Financial Regulation</td>\n",
       "      <td>/newsevents/speech/tarullo20111104a.htm</td>\n",
       "      <td>\\n       Long before the recent financial cris...</td>\n",
       "    </tr>\n",
       "  </tbody>\n",
       "</table>\n",
       "</div>"
      ],
      "text/plain": [
       "          date                     speaker  \\\n",
       "337 2011-11-11  Vice Chair Janet L. Yellen   \n",
       "127 2007-04-11    Chairman Ben S. Bernanke   \n",
       "273 2009-02-16  Governor Elizabeth A. Duke   \n",
       "648 2017-06-01   Governor Jerome H. Powell   \n",
       "174 2008-06-16    Chairman Ben S. Bernanke   \n",
       "0   2006-12-15    Chairman Ben S. Bernanke   \n",
       "495 2014-08-22       Chair Janet L. Yellen   \n",
       "693 2018-08-24   Chairman Jerome H. Powell   \n",
       "409 2012-04-13    Chairman Ben S. Bernanke   \n",
       "341 2011-11-04  Governor Daniel K. Tarullo   \n",
       "\n",
       "                                                 title  \\\n",
       "337  Pursuing Financial Stability at the Federal Re...   \n",
       "127        Financial Regulation and the Invisible Hand   \n",
       "273  Stabilizing the Housing Market: Focus on Commu...   \n",
       "648   Thoughts on the Normalization of Monetary Policy   \n",
       "174                  Challenges for Health-Care Reform   \n",
       "0         The Chinese Economy: Progress and Challenges   \n",
       "495          Labor Market Dynamics and Monetary Policy   \n",
       "693              Monetary Policy in a Changing Economy   \n",
       "409  Some Reflections on the Crisis and the Policy ...   \n",
       "341  The International Agenda for Financial Regulation   \n",
       "\n",
       "                                         link  \\\n",
       "337    /newsevents/speech/yellen20111111a.htm   \n",
       "127  /newsevents/speech/bernanke20070411a.htm   \n",
       "273      /newsevents/speech/duke20090216a.htm   \n",
       "648    /newsevents/speech/powell20170601a.htm   \n",
       "174  /newsevents/speech/bernanke20080616a.htm   \n",
       "0    /newsevents/speech/bernanke20061215a.htm   \n",
       "495    /newsevents/speech/yellen20140822a.htm   \n",
       "693    /newsevents/speech/powell20180824a.htm   \n",
       "409  /newsevents/speech/bernanke20120413a.htm   \n",
       "341   /newsevents/speech/tarullo20111104a.htm   \n",
       "\n",
       "                                                  text  \n",
       "337  \\n       Let me begin by thanking the Federal ...  \n",
       "127  Market forces determine most outcomes in our e...  \n",
       "273  It is great to be back here with community ban...  \n",
       "648  Thank you for the opportunity to speak here at...  \n",
       "174  Improving the performance of our health-care s...  \n",
       "0    The emergence of China as a global economic po...  \n",
       "495  \\n       In the five years since the end of th...  \n",
       "693  Thank you for the opportunity to speak here to...  \n",
       "409  \\n       I would like to thank the conference ...  \n",
       "341  \\n       Long before the recent financial cris...  "
      ]
     },
     "execution_count": 67,
     "metadata": {},
     "output_type": "execute_result"
    }
   ],
   "source": [
    "df.sample(10)"
   ]
  },
  {
   "cell_type": "markdown",
   "metadata": {},
   "source": [
    "## Testing interest rate data"
   ]
  },
  {
   "cell_type": "code",
   "execution_count": 82,
   "metadata": {},
   "outputs": [],
   "source": [
    "df = pickle.load(open(\"data/interest_rate_data\", \"rb\" ) )"
   ]
  },
  {
   "cell_type": "code",
   "execution_count": 72,
   "metadata": {},
   "outputs": [
    {
     "name": "stdout",
     "output_type": "stream",
     "text": [
      "<class 'pandas.core.frame.DataFrame'>\n",
      "DatetimeIndex: 3313 entries, 2006-01-03 to 2019-03-28\n",
      "Data columns (total 8 columns):\n",
      "3 MO     3313 non-null float64\n",
      "6 MO     3313 non-null float64\n",
      "1 YR     3313 non-null float64\n",
      "2 YR     3313 non-null float64\n",
      "3 YR     3313 non-null float64\n",
      "5 YR     3313 non-null float64\n",
      "7 YR     3313 non-null float64\n",
      "10 YR    3313 non-null float64\n",
      "dtypes: float64(8)\n",
      "memory usage: 232.9 KB\n"
     ]
    }
   ],
   "source": [
    "df.info()"
   ]
  },
  {
   "cell_type": "code",
   "execution_count": 81,
   "metadata": {},
   "outputs": [
    {
     "data": {
      "text/plain": [
       "'/Users/davidsmith/Documents/Galvanize/Capstone'"
      ]
     },
     "execution_count": 81,
     "metadata": {},
     "output_type": "execute_result"
    }
   ],
   "source": [
    "pwd"
   ]
  },
  {
   "cell_type": "code",
   "execution_count": 79,
   "metadata": {},
   "outputs": [],
   "source": [
    "df = pickle.load( open( \"data/FX_data\", \"rb\" ) )"
   ]
  },
  {
   "cell_type": "code",
   "execution_count": 80,
   "metadata": {},
   "outputs": [
    {
     "name": "stdout",
     "output_type": "stream",
     "text": [
      "<class 'pandas.core.frame.DataFrame'>\n",
      "DatetimeIndex: 3316 entries, 2006-01-03 to 2019-03-22\n",
      "Data columns (total 3 columns):\n",
      "Value    3316 non-null float64\n",
      "GBP      3316 non-null float64\n",
      "JPY      3316 non-null float64\n",
      "dtypes: float64(3)\n",
      "memory usage: 103.6 KB\n"
     ]
    }
   ],
   "source": [
    "df.info()"
   ]
  },
  {
   "cell_type": "code",
   "execution_count": 37,
   "metadata": {},
   "outputs": [],
   "source": [
    "import numpy as np\n",
    "import pandas as pd\n",
    "import matplotlib.pyplot as plt\n",
    "import seaborn as sns\n",
    "import quandl\n",
    "import pickle\n",
    "import os\n"
   ]
  },
  {
   "cell_type": "code",
   "execution_count": 64,
   "metadata": {},
   "outputs": [
    {
     "name": "stdout",
     "output_type": "stream",
     "text": [
      "Variable   Type         Data/Info\n",
      "---------------------------------\n",
      "df         DataFrame                3 MO  6 MO  1<...>\\n[3313 rows x 8 columns]\n",
      "df_EUR     DataFrame                 Value     GB<...>\\n[3316 rows x 3 columns]\n",
      "df_FX      DataFrame                 Value     GB<...>\\n[3316 rows x 3 columns]\n",
      "df_GBP     DataFrame                 Value\\nDate <...>\\n[3316 rows x 1 columns]\n",
      "df_JPY     DataFrame                 Value\\nDate <...>\\n[3316 rows x 1 columns]\n",
      "np         module       <module 'numpy' from '/an<...>kages/numpy/__init__.py'>\n",
      "os         module       <module 'os' from '/anaco<...>da3/lib/python3.6/os.py'>\n",
      "pd         module       <module 'pandas' from '/a<...>ages/pandas/__init__.py'>\n",
      "pickle     module       <module 'pickle' from '/a<...>lib/python3.6/pickle.py'>\n",
      "plt        module       <module 'matplotlib.pyplo<...>es/matplotlib/pyplot.py'>\n",
      "quandl     module       <module 'quandl' from '/a<...>ages/quandl/__init__.py'>\n",
      "sns        module       <module 'seaborn' from '/<...>ges/seaborn/__init__.py'>\n"
     ]
    }
   ],
   "source": [
    "whos"
   ]
  },
  {
   "cell_type": "code",
   "execution_count": null,
   "metadata": {},
   "outputs": [],
   "source": [
    "\n",
    "\n"
   ]
  },
  {
   "cell_type": "code",
   "execution_count": null,
   "metadata": {},
   "outputs": [],
   "source": []
  },
  {
   "cell_type": "code",
   "execution_count": null,
   "metadata": {},
   "outputs": [],
   "source": []
  },
  {
   "cell_type": "code",
   "execution_count": 83,
   "metadata": {},
   "outputs": [],
   "source": [
    "# testing dataframe merging crap"
   ]
  },
  {
   "cell_type": "code",
   "execution_count": 85,
   "metadata": {},
   "outputs": [
    {
     "data": {
      "text/html": [
       "<div>\n",
       "<style scoped>\n",
       "    .dataframe tbody tr th:only-of-type {\n",
       "        vertical-align: middle;\n",
       "    }\n",
       "\n",
       "    .dataframe tbody tr th {\n",
       "        vertical-align: top;\n",
       "    }\n",
       "\n",
       "    .dataframe thead th {\n",
       "        text-align: right;\n",
       "    }\n",
       "</style>\n",
       "<table border=\"1\" class=\"dataframe\">\n",
       "  <thead>\n",
       "    <tr style=\"text-align: right;\">\n",
       "      <th></th>\n",
       "      <th>3 MO</th>\n",
       "      <th>6 MO</th>\n",
       "      <th>1 YR</th>\n",
       "      <th>2 YR</th>\n",
       "      <th>3 YR</th>\n",
       "      <th>5 YR</th>\n",
       "      <th>7 YR</th>\n",
       "      <th>10 YR</th>\n",
       "    </tr>\n",
       "    <tr>\n",
       "      <th>Date</th>\n",
       "      <th></th>\n",
       "      <th></th>\n",
       "      <th></th>\n",
       "      <th></th>\n",
       "      <th></th>\n",
       "      <th></th>\n",
       "      <th></th>\n",
       "      <th></th>\n",
       "    </tr>\n",
       "  </thead>\n",
       "  <tbody>\n",
       "    <tr>\n",
       "      <th>2006-01-03</th>\n",
       "      <td>4.16</td>\n",
       "      <td>4.40</td>\n",
       "      <td>4.38</td>\n",
       "      <td>4.34</td>\n",
       "      <td>4.30</td>\n",
       "      <td>4.30</td>\n",
       "      <td>4.32</td>\n",
       "      <td>4.37</td>\n",
       "    </tr>\n",
       "    <tr>\n",
       "      <th>2006-01-04</th>\n",
       "      <td>4.19</td>\n",
       "      <td>4.37</td>\n",
       "      <td>4.35</td>\n",
       "      <td>4.31</td>\n",
       "      <td>4.28</td>\n",
       "      <td>4.28</td>\n",
       "      <td>4.31</td>\n",
       "      <td>4.36</td>\n",
       "    </tr>\n",
       "    <tr>\n",
       "      <th>2006-01-05</th>\n",
       "      <td>4.20</td>\n",
       "      <td>4.37</td>\n",
       "      <td>4.36</td>\n",
       "      <td>4.32</td>\n",
       "      <td>4.29</td>\n",
       "      <td>4.29</td>\n",
       "      <td>4.31</td>\n",
       "      <td>4.36</td>\n",
       "    </tr>\n",
       "    <tr>\n",
       "      <th>2006-01-06</th>\n",
       "      <td>4.22</td>\n",
       "      <td>4.39</td>\n",
       "      <td>4.38</td>\n",
       "      <td>4.36</td>\n",
       "      <td>4.32</td>\n",
       "      <td>4.32</td>\n",
       "      <td>4.33</td>\n",
       "      <td>4.38</td>\n",
       "    </tr>\n",
       "    <tr>\n",
       "      <th>2006-01-09</th>\n",
       "      <td>4.23</td>\n",
       "      <td>4.40</td>\n",
       "      <td>4.39</td>\n",
       "      <td>4.36</td>\n",
       "      <td>4.32</td>\n",
       "      <td>4.32</td>\n",
       "      <td>4.34</td>\n",
       "      <td>4.38</td>\n",
       "    </tr>\n",
       "  </tbody>\n",
       "</table>\n",
       "</div>"
      ],
      "text/plain": [
       "            3 MO  6 MO  1 YR  2 YR  3 YR  5 YR  7 YR  10 YR\n",
       "Date                                                       \n",
       "2006-01-03  4.16  4.40  4.38  4.34  4.30  4.30  4.32   4.37\n",
       "2006-01-04  4.19  4.37  4.35  4.31  4.28  4.28  4.31   4.36\n",
       "2006-01-05  4.20  4.37  4.36  4.32  4.29  4.29  4.31   4.36\n",
       "2006-01-06  4.22  4.39  4.38  4.36  4.32  4.32  4.33   4.38\n",
       "2006-01-09  4.23  4.40  4.39  4.36  4.32  4.32  4.34   4.38"
      ]
     },
     "execution_count": 85,
     "metadata": {},
     "output_type": "execute_result"
    }
   ],
   "source": [
    "df.head()"
   ]
  },
  {
   "cell_type": "code",
   "execution_count": null,
   "metadata": {},
   "outputs": [],
   "source": []
  },
  {
   "cell_type": "code",
   "execution_count": null,
   "metadata": {},
   "outputs": [],
   "source": []
  },
  {
   "cell_type": "code",
   "execution_count": null,
   "metadata": {},
   "outputs": [],
   "source": []
  }
 ],
 "metadata": {
  "kernelspec": {
   "display_name": "Python 3",
   "language": "python",
   "name": "python3"
  },
  "language_info": {
   "codemirror_mode": {
    "name": "ipython",
    "version": 3
   },
   "file_extension": ".py",
   "mimetype": "text/x-python",
   "name": "python",
   "nbconvert_exporter": "python",
   "pygments_lexer": "ipython3",
   "version": "3.6.8"
  }
 },
 "nbformat": 4,
 "nbformat_minor": 2
}
