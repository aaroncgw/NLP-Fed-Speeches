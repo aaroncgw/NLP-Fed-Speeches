{
 "cells": [
  {
   "cell_type": "code",
   "execution_count": 65,
   "metadata": {},
   "outputs": [],
   "source": [
    "# testing pickle file\n",
    "import pickle\n",
    "import os"
   ]
  },
  {
   "cell_type": "code",
   "execution_count": 66,
   "metadata": {},
   "outputs": [],
   "source": [
    "# loading Fed Speeches\n",
    "df = pickle.load( open( \"all_fed_speeches\", \"rb\" ) )"
   ]
  },
  {
   "cell_type": "code",
   "execution_count": 67,
   "metadata": {},
   "outputs": [
    {
     "data": {
      "text/html": [
       "<div>\n",
       "<style scoped>\n",
       "    .dataframe tbody tr th:only-of-type {\n",
       "        vertical-align: middle;\n",
       "    }\n",
       "\n",
       "    .dataframe tbody tr th {\n",
       "        vertical-align: top;\n",
       "    }\n",
       "\n",
       "    .dataframe thead th {\n",
       "        text-align: right;\n",
       "    }\n",
       "</style>\n",
       "<table border=\"1\" class=\"dataframe\">\n",
       "  <thead>\n",
       "    <tr style=\"text-align: right;\">\n",
       "      <th></th>\n",
       "      <th>date</th>\n",
       "      <th>speaker</th>\n",
       "      <th>title</th>\n",
       "      <th>link</th>\n",
       "      <th>text</th>\n",
       "    </tr>\n",
       "  </thead>\n",
       "  <tbody>\n",
       "    <tr>\n",
       "      <th>337</th>\n",
       "      <td>2011-11-11</td>\n",
       "      <td>Vice Chair Janet L. Yellen</td>\n",
       "      <td>Pursuing Financial Stability at the Federal Re...</td>\n",
       "      <td>/newsevents/speech/yellen20111111a.htm</td>\n",
       "      <td>\\n       Let me begin by thanking the Federal ...</td>\n",
       "    </tr>\n",
       "    <tr>\n",
       "      <th>127</th>\n",
       "      <td>2007-04-11</td>\n",
       "      <td>Chairman Ben S. Bernanke</td>\n",
       "      <td>Financial Regulation and the Invisible Hand</td>\n",
       "      <td>/newsevents/speech/bernanke20070411a.htm</td>\n",
       "      <td>Market forces determine most outcomes in our e...</td>\n",
       "    </tr>\n",
       "    <tr>\n",
       "      <th>273</th>\n",
       "      <td>2009-02-16</td>\n",
       "      <td>Governor Elizabeth A. Duke</td>\n",
       "      <td>Stabilizing the Housing Market: Focus on Commu...</td>\n",
       "      <td>/newsevents/speech/duke20090216a.htm</td>\n",
       "      <td>It is great to be back here with community ban...</td>\n",
       "    </tr>\n",
       "    <tr>\n",
       "      <th>648</th>\n",
       "      <td>2017-06-01</td>\n",
       "      <td>Governor Jerome H. Powell</td>\n",
       "      <td>Thoughts on the Normalization of Monetary Policy</td>\n",
       "      <td>/newsevents/speech/powell20170601a.htm</td>\n",
       "      <td>Thank you for the opportunity to speak here at...</td>\n",
       "    </tr>\n",
       "    <tr>\n",
       "      <th>174</th>\n",
       "      <td>2008-06-16</td>\n",
       "      <td>Chairman Ben S. Bernanke</td>\n",
       "      <td>Challenges for Health-Care Reform</td>\n",
       "      <td>/newsevents/speech/bernanke20080616a.htm</td>\n",
       "      <td>Improving the performance of our health-care s...</td>\n",
       "    </tr>\n",
       "    <tr>\n",
       "      <th>0</th>\n",
       "      <td>2006-12-15</td>\n",
       "      <td>Chairman Ben S. Bernanke</td>\n",
       "      <td>The Chinese Economy: Progress and Challenges</td>\n",
       "      <td>/newsevents/speech/bernanke20061215a.htm</td>\n",
       "      <td>The emergence of China as a global economic po...</td>\n",
       "    </tr>\n",
       "    <tr>\n",
       "      <th>495</th>\n",
       "      <td>2014-08-22</td>\n",
       "      <td>Chair Janet L. Yellen</td>\n",
       "      <td>Labor Market Dynamics and Monetary Policy</td>\n",
       "      <td>/newsevents/speech/yellen20140822a.htm</td>\n",
       "      <td>\\n       In the five years since the end of th...</td>\n",
       "    </tr>\n",
       "    <tr>\n",
       "      <th>693</th>\n",
       "      <td>2018-08-24</td>\n",
       "      <td>Chairman Jerome H. Powell</td>\n",
       "      <td>Monetary Policy in a Changing Economy</td>\n",
       "      <td>/newsevents/speech/powell20180824a.htm</td>\n",
       "      <td>Thank you for the opportunity to speak here to...</td>\n",
       "    </tr>\n",
       "    <tr>\n",
       "      <th>409</th>\n",
       "      <td>2012-04-13</td>\n",
       "      <td>Chairman Ben S. Bernanke</td>\n",
       "      <td>Some Reflections on the Crisis and the Policy ...</td>\n",
       "      <td>/newsevents/speech/bernanke20120413a.htm</td>\n",
       "      <td>\\n       I would like to thank the conference ...</td>\n",
       "    </tr>\n",
       "    <tr>\n",
       "      <th>341</th>\n",
       "      <td>2011-11-04</td>\n",
       "      <td>Governor Daniel K. Tarullo</td>\n",
       "      <td>The International Agenda for Financial Regulation</td>\n",
       "      <td>/newsevents/speech/tarullo20111104a.htm</td>\n",
       "      <td>\\n       Long before the recent financial cris...</td>\n",
       "    </tr>\n",
       "  </tbody>\n",
       "</table>\n",
       "</div>"
      ],
      "text/plain": [
       "          date                     speaker  \\\n",
       "337 2011-11-11  Vice Chair Janet L. Yellen   \n",
       "127 2007-04-11    Chairman Ben S. Bernanke   \n",
       "273 2009-02-16  Governor Elizabeth A. Duke   \n",
       "648 2017-06-01   Governor Jerome H. Powell   \n",
       "174 2008-06-16    Chairman Ben S. Bernanke   \n",
       "0   2006-12-15    Chairman Ben S. Bernanke   \n",
       "495 2014-08-22       Chair Janet L. Yellen   \n",
       "693 2018-08-24   Chairman Jerome H. Powell   \n",
       "409 2012-04-13    Chairman Ben S. Bernanke   \n",
       "341 2011-11-04  Governor Daniel K. Tarullo   \n",
       "\n",
       "                                                 title  \\\n",
       "337  Pursuing Financial Stability at the Federal Re...   \n",
       "127        Financial Regulation and the Invisible Hand   \n",
       "273  Stabilizing the Housing Market: Focus on Commu...   \n",
       "648   Thoughts on the Normalization of Monetary Policy   \n",
       "174                  Challenges for Health-Care Reform   \n",
       "0         The Chinese Economy: Progress and Challenges   \n",
       "495          Labor Market Dynamics and Monetary Policy   \n",
       "693              Monetary Policy in a Changing Economy   \n",
       "409  Some Reflections on the Crisis and the Policy ...   \n",
       "341  The International Agenda for Financial Regulation   \n",
       "\n",
       "                                         link  \\\n",
       "337    /newsevents/speech/yellen20111111a.htm   \n",
       "127  /newsevents/speech/bernanke20070411a.htm   \n",
       "273      /newsevents/speech/duke20090216a.htm   \n",
       "648    /newsevents/speech/powell20170601a.htm   \n",
       "174  /newsevents/speech/bernanke20080616a.htm   \n",
       "0    /newsevents/speech/bernanke20061215a.htm   \n",
       "495    /newsevents/speech/yellen20140822a.htm   \n",
       "693    /newsevents/speech/powell20180824a.htm   \n",
       "409  /newsevents/speech/bernanke20120413a.htm   \n",
       "341   /newsevents/speech/tarullo20111104a.htm   \n",
       "\n",
       "                                                  text  \n",
       "337  \\n       Let me begin by thanking the Federal ...  \n",
       "127  Market forces determine most outcomes in our e...  \n",
       "273  It is great to be back here with community ban...  \n",
       "648  Thank you for the opportunity to speak here at...  \n",
       "174  Improving the performance of our health-care s...  \n",
       "0    The emergence of China as a global economic po...  \n",
       "495  \\n       In the five years since the end of th...  \n",
       "693  Thank you for the opportunity to speak here to...  \n",
       "409  \\n       I would like to thank the conference ...  \n",
       "341  \\n       Long before the recent financial cris...  "
      ]
     },
     "execution_count": 67,
     "metadata": {},
     "output_type": "execute_result"
    }
   ],
   "source": [
    "df.sample(10)"
   ]
  },
  {
   "cell_type": "markdown",
   "metadata": {},
   "source": [
    "## Testing interest rate data"
   ]
  },
  {
   "cell_type": "code",
   "execution_count": 82,
   "metadata": {},
   "outputs": [],
   "source": [
    "df = pickle.load(open(\"data/interest_rate_data\", \"rb\" ) )"
   ]
  },
  {
   "cell_type": "code",
   "execution_count": 72,
   "metadata": {},
   "outputs": [
    {
     "name": "stdout",
     "output_type": "stream",
     "text": [
      "<class 'pandas.core.frame.DataFrame'>\n",
      "DatetimeIndex: 3313 entries, 2006-01-03 to 2019-03-28\n",
      "Data columns (total 8 columns):\n",
      "3 MO     3313 non-null float64\n",
      "6 MO     3313 non-null float64\n",
      "1 YR     3313 non-null float64\n",
      "2 YR     3313 non-null float64\n",
      "3 YR     3313 non-null float64\n",
      "5 YR     3313 non-null float64\n",
      "7 YR     3313 non-null float64\n",
      "10 YR    3313 non-null float64\n",
      "dtypes: float64(8)\n",
      "memory usage: 232.9 KB\n"
     ]
    }
   ],
   "source": [
    "df.info()"
   ]
  },
  {
   "cell_type": "code",
   "execution_count": 81,
   "metadata": {},
   "outputs": [
    {
     "data": {
      "text/plain": [
       "'/Users/davidsmith/Documents/Galvanize/Capstone'"
      ]
     },
     "execution_count": 81,
     "metadata": {},
     "output_type": "execute_result"
    }
   ],
   "source": [
    "pwd"
   ]
  },
  {
   "cell_type": "code",
   "execution_count": 79,
   "metadata": {},
   "outputs": [],
   "source": [
    "df = pickle.load( open( \"data/FX_data\", \"rb\" ) )"
   ]
  },
  {
   "cell_type": "code",
   "execution_count": 80,
   "metadata": {},
   "outputs": [
    {
     "name": "stdout",
     "output_type": "stream",
     "text": [
      "<class 'pandas.core.frame.DataFrame'>\n",
      "DatetimeIndex: 3316 entries, 2006-01-03 to 2019-03-22\n",
      "Data columns (total 3 columns):\n",
      "Value    3316 non-null float64\n",
      "GBP      3316 non-null float64\n",
      "JPY      3316 non-null float64\n",
      "dtypes: float64(3)\n",
      "memory usage: 103.6 KB\n"
     ]
    }
   ],
   "source": [
    "df.info()"
   ]
  },
  {
   "cell_type": "code",
   "execution_count": 37,
   "metadata": {},
   "outputs": [],
   "source": [
    "import numpy as np\n",
    "import pandas as pd\n",
    "import matplotlib.pyplot as plt\n",
    "import seaborn as sns\n",
    "import quandl\n",
    "import pickle\n",
    "import os\n"
   ]
  },
  {
   "cell_type": "code",
   "execution_count": 64,
   "metadata": {},
   "outputs": [
    {
     "name": "stdout",
     "output_type": "stream",
     "text": [
      "Variable   Type         Data/Info\n",
      "---------------------------------\n",
      "df         DataFrame                3 MO  6 MO  1<...>\\n[3313 rows x 8 columns]\n",
      "df_EUR     DataFrame                 Value     GB<...>\\n[3316 rows x 3 columns]\n",
      "df_FX      DataFrame                 Value     GB<...>\\n[3316 rows x 3 columns]\n",
      "df_GBP     DataFrame                 Value\\nDate <...>\\n[3316 rows x 1 columns]\n",
      "df_JPY     DataFrame                 Value\\nDate <...>\\n[3316 rows x 1 columns]\n",
      "np         module       <module 'numpy' from '/an<...>kages/numpy/__init__.py'>\n",
      "os         module       <module 'os' from '/anaco<...>da3/lib/python3.6/os.py'>\n",
      "pd         module       <module 'pandas' from '/a<...>ages/pandas/__init__.py'>\n",
      "pickle     module       <module 'pickle' from '/a<...>lib/python3.6/pickle.py'>\n",
      "plt        module       <module 'matplotlib.pyplo<...>es/matplotlib/pyplot.py'>\n",
      "quandl     module       <module 'quandl' from '/a<...>ages/quandl/__init__.py'>\n",
      "sns        module       <module 'seaborn' from '/<...>ges/seaborn/__init__.py'>\n"
     ]
    }
   ],
   "source": [
    "whos"
   ]
  },
  {
   "cell_type": "code",
   "execution_count": null,
   "metadata": {},
   "outputs": [],
   "source": [
    "\n",
    "\n"
   ]
  },
  {
   "cell_type": "code",
   "execution_count": null,
   "metadata": {},
   "outputs": [],
   "source": []
  },
  {
   "cell_type": "code",
   "execution_count": null,
   "metadata": {},
   "outputs": [],
   "source": []
  },
  {
   "cell_type": "code",
   "execution_count": 83,
   "metadata": {},
   "outputs": [],
   "source": [
    "# testing dataframe merging crap"
   ]
  },
  {
   "cell_type": "code",
   "execution_count": 85,
   "metadata": {},
   "outputs": [
    {
     "data": {
      "text/html": [
       "<div>\n",
       "<style scoped>\n",
       "    .dataframe tbody tr th:only-of-type {\n",
       "        vertical-align: middle;\n",
       "    }\n",
       "\n",
       "    .dataframe tbody tr th {\n",
       "        vertical-align: top;\n",
       "    }\n",
       "\n",
       "    .dataframe thead th {\n",
       "        text-align: right;\n",
       "    }\n",
       "</style>\n",
       "<table border=\"1\" class=\"dataframe\">\n",
       "  <thead>\n",
       "    <tr style=\"text-align: right;\">\n",
       "      <th></th>\n",
       "      <th>3 MO</th>\n",
       "      <th>6 MO</th>\n",
       "      <th>1 YR</th>\n",
       "      <th>2 YR</th>\n",
       "      <th>3 YR</th>\n",
       "      <th>5 YR</th>\n",
       "      <th>7 YR</th>\n",
       "      <th>10 YR</th>\n",
       "    </tr>\n",
       "    <tr>\n",
       "      <th>Date</th>\n",
       "      <th></th>\n",
       "      <th></th>\n",
       "      <th></th>\n",
       "      <th></th>\n",
       "      <th></th>\n",
       "      <th></th>\n",
       "      <th></th>\n",
       "      <th></th>\n",
       "    </tr>\n",
       "  </thead>\n",
       "  <tbody>\n",
       "    <tr>\n",
       "      <th>2006-01-03</th>\n",
       "      <td>4.16</td>\n",
       "      <td>4.40</td>\n",
       "      <td>4.38</td>\n",
       "      <td>4.34</td>\n",
       "      <td>4.30</td>\n",
       "      <td>4.30</td>\n",
       "      <td>4.32</td>\n",
       "      <td>4.37</td>\n",
       "    </tr>\n",
       "    <tr>\n",
       "      <th>2006-01-04</th>\n",
       "      <td>4.19</td>\n",
       "      <td>4.37</td>\n",
       "      <td>4.35</td>\n",
       "      <td>4.31</td>\n",
       "      <td>4.28</td>\n",
       "      <td>4.28</td>\n",
       "      <td>4.31</td>\n",
       "      <td>4.36</td>\n",
       "    </tr>\n",
       "    <tr>\n",
       "      <th>2006-01-05</th>\n",
       "      <td>4.20</td>\n",
       "      <td>4.37</td>\n",
       "      <td>4.36</td>\n",
       "      <td>4.32</td>\n",
       "      <td>4.29</td>\n",
       "      <td>4.29</td>\n",
       "      <td>4.31</td>\n",
       "      <td>4.36</td>\n",
       "    </tr>\n",
       "    <tr>\n",
       "      <th>2006-01-06</th>\n",
       "      <td>4.22</td>\n",
       "      <td>4.39</td>\n",
       "      <td>4.38</td>\n",
       "      <td>4.36</td>\n",
       "      <td>4.32</td>\n",
       "      <td>4.32</td>\n",
       "      <td>4.33</td>\n",
       "      <td>4.38</td>\n",
       "    </tr>\n",
       "    <tr>\n",
       "      <th>2006-01-09</th>\n",
       "      <td>4.23</td>\n",
       "      <td>4.40</td>\n",
       "      <td>4.39</td>\n",
       "      <td>4.36</td>\n",
       "      <td>4.32</td>\n",
       "      <td>4.32</td>\n",
       "      <td>4.34</td>\n",
       "      <td>4.38</td>\n",
       "    </tr>\n",
       "  </tbody>\n",
       "</table>\n",
       "</div>"
      ],
      "text/plain": [
       "            3 MO  6 MO  1 YR  2 YR  3 YR  5 YR  7 YR  10 YR\n",
       "Date                                                       \n",
       "2006-01-03  4.16  4.40  4.38  4.34  4.30  4.30  4.32   4.37\n",
       "2006-01-04  4.19  4.37  4.35  4.31  4.28  4.28  4.31   4.36\n",
       "2006-01-05  4.20  4.37  4.36  4.32  4.29  4.29  4.31   4.36\n",
       "2006-01-06  4.22  4.39  4.38  4.36  4.32  4.32  4.33   4.38\n",
       "2006-01-09  4.23  4.40  4.39  4.36  4.32  4.32  4.34   4.38"
      ]
     },
     "execution_count": 85,
     "metadata": {},
     "output_type": "execute_result"
    }
   ],
   "source": [
    "df.head()"
   ]
  },
  {
   "cell_type": "code",
   "execution_count": null,
   "metadata": {},
   "outputs": [],
   "source": []
  },
  {
   "cell_type": "code",
   "execution_count": null,
   "metadata": {},
   "outputs": [],
   "source": []
  },
  {
   "cell_type": "code",
   "execution_count": null,
   "metadata": {},
   "outputs": [],
   "source": []
  },
  {
   "cell_type": "code",
   "execution_count": null,
   "metadata": {},
   "outputs": [],
   "source": []
  },
  {
   "cell_type": "code",
   "execution_count": 86,
   "metadata": {},
   "outputs": [],
   "source": [
    "import numpy as np\n",
    "import pandas as pd\n",
    "import pyflux as pf\n",
    "import datetime as datetime\n",
    "import matplotlib.pyplot as plt\n",
    "\n",
    "import os\n",
    "import pickle\n",
    "\n"
   ]
  },
  {
   "cell_type": "code",
   "execution_count": 87,
   "metadata": {},
   "outputs": [
    {
     "data": {
      "text/plain": [
       "'/Users/davidsmith/Documents/Galvanize/Capstone'"
      ]
     },
     "execution_count": 87,
     "metadata": {},
     "output_type": "execute_result"
    }
   ],
   "source": [
    "pwd\n"
   ]
  },
  {
   "cell_type": "code",
   "execution_count": 88,
   "metadata": {},
   "outputs": [],
   "source": [
    "X = pickle.load(open(\"data/interest_rate_data\", \"rb\" ))\n",
    "X_fwds = pickle.load(open('data/forward_rates', 'rb'))\n",
    "X_zeros = pickle.load(open('data/zero_rates', 'rb'))\n"
   ]
  },
  {
   "cell_type": "code",
   "execution_count": 89,
   "metadata": {},
   "outputs": [
    {
     "name": "stdout",
     "output_type": "stream",
     "text": [
      "Variable   Type         Data/Info\n",
      "---------------------------------\n",
      "X          DataFrame                  3 MO    6 M<...>\\n[3313 rows x 8 columns]\n",
      "X_fwds     DataFrame                  6 MO    1 Y<...>\\n[3313 rows x 7 columns]\n",
      "X_zeros    DataFrame                  3 MO    6 M<...>\\n[3313 rows x 8 columns]\n",
      "datetime   module       <module 'datetime' from '<...>b/python3.6/datetime.py'>\n",
      "df         DataFrame                3 MO  6 MO  1<...>\\n[3313 rows x 8 columns]\n",
      "df_EUR     DataFrame                 Value     GB<...>\\n[3316 rows x 3 columns]\n",
      "df_FX      DataFrame                 Value     GB<...>\\n[3316 rows x 3 columns]\n",
      "df_GBP     DataFrame                 Value\\nDate <...>\\n[3316 rows x 1 columns]\n",
      "df_JPY     DataFrame                 Value\\nDate <...>\\n[3316 rows x 1 columns]\n",
      "np         module       <module 'numpy' from '/an<...>kages/numpy/__init__.py'>\n",
      "os         module       <module 'os' from '/anaco<...>da3/lib/python3.6/os.py'>\n",
      "pd         module       <module 'pandas' from '/a<...>ages/pandas/__init__.py'>\n",
      "pf         module       <module 'pyflux' from '/a<...>ages/pyflux/__init__.py'>\n",
      "pickle     module       <module 'pickle' from '/a<...>lib/python3.6/pickle.py'>\n",
      "plt        module       <module 'matplotlib.pyplo<...>es/matplotlib/pyplot.py'>\n",
      "quandl     module       <module 'quandl' from '/a<...>ages/quandl/__init__.py'>\n",
      "sns        module       <module 'seaborn' from '/<...>ges/seaborn/__init__.py'>\n"
     ]
    }
   ],
   "source": [
    "whos"
   ]
  },
  {
   "cell_type": "code",
   "execution_count": 99,
   "metadata": {},
   "outputs": [],
   "source": [
    "# below I am testing the smaller dataset of the fed speeches\n",
    "#df_FED = pickle.load( open( \"src/more_fed_speeches\", \"rb\" ) )\n",
    "df_FED = pickle.load(open('src/small_ts_cosine_sim', 'rb'))"
   ]
  },
  {
   "cell_type": "code",
   "execution_count": 101,
   "metadata": {},
   "outputs": [],
   "source": [
    "cos_last = df_FED[0]\n",
    "cos_avg_n = df_FED[1]\n",
    "ts_dates = df_FED[2]\n"
   ]
  },
  {
   "cell_type": "code",
   "execution_count": 102,
   "metadata": {},
   "outputs": [
    {
     "name": "stdout",
     "output_type": "stream",
     "text": [
      "<class 'numpy.ndarray'>\n"
     ]
    }
   ],
   "source": [
    "print(type(ts_dates))"
   ]
  },
  {
   "cell_type": "code",
   "execution_count": 103,
   "metadata": {},
   "outputs": [
    {
     "data": {
      "text/plain": [
       "array(['12/13/2017', '12/07/2018', '12/06/2018', '12/05/2018',\n",
       "       '12/03/2018', '12/03/2018', '12/03/2018', '11/30/2017',\n",
       "       '11/28/2018', '11/27/2018', '11/16/2018', '11/16/2017',\n",
       "       '11/15/2017', '11/13/2018', '11/09/2018', '11/07/2017',\n",
       "       '11/02/2017', '10/25/2018', '10/20/2017', '10/18/2018',\n",
       "       '10/18/2017', '10/17/2018', '10/15/2018', '10/15/2017',\n",
       "       '10/12/2017', '10/12/2017', '10/05/2017', '10/04/2018',\n",
       "       '10/04/2017', '10/03/2018', '10/02/2018', '09/28/2017',\n",
       "       '09/27/2018', '09/27/2017', '09/26/2017', '09/26/2017',\n",
       "       '09/12/2018', '09/05/2017', '08/30/2017', '08/25/2017',\n",
       "       '08/24/2018', '07/31/2017', '07/28/2017', '07/19/2018',\n",
       "       '07/18/2018', '07/13/2017', '07/11/2017', '07/06/2017',\n",
       "       '07/06/2017', '06/27/2018', '06/27/2017', '06/26/2017',\n",
       "       '06/23/2017', '06/20/2018', '06/20/2017', '06/01/2017'],\n",
       "      dtype=object)"
      ]
     },
     "execution_count": 103,
     "metadata": {},
     "output_type": "execute_result"
    }
   ],
   "source": [
    "ts_dates"
   ]
  },
  {
   "cell_type": "markdown",
   "metadata": {},
   "source": [
    "# NOW MATCH WITH MY DATAFRAME"
   ]
  },
  {
   "cell_type": "code",
   "execution_count": 122,
   "metadata": {},
   "outputs": [
    {
     "data": {
      "text/html": [
       "<div>\n",
       "<style scoped>\n",
       "    .dataframe tbody tr th:only-of-type {\n",
       "        vertical-align: middle;\n",
       "    }\n",
       "\n",
       "    .dataframe tbody tr th {\n",
       "        vertical-align: top;\n",
       "    }\n",
       "\n",
       "    .dataframe thead th {\n",
       "        text-align: right;\n",
       "    }\n",
       "</style>\n",
       "<table border=\"1\" class=\"dataframe\">\n",
       "  <thead>\n",
       "    <tr style=\"text-align: right;\">\n",
       "      <th></th>\n",
       "      <th>3 MO</th>\n",
       "      <th>6 MO</th>\n",
       "      <th>1 YR</th>\n",
       "      <th>2 YR</th>\n",
       "      <th>3 YR</th>\n",
       "      <th>5 YR</th>\n",
       "      <th>7 YR</th>\n",
       "      <th>10 YR</th>\n",
       "      <th>cos_sim</th>\n",
       "      <th>cos_avg</th>\n",
       "    </tr>\n",
       "    <tr>\n",
       "      <th>Date</th>\n",
       "      <th></th>\n",
       "      <th></th>\n",
       "      <th></th>\n",
       "      <th></th>\n",
       "      <th></th>\n",
       "      <th></th>\n",
       "      <th></th>\n",
       "      <th></th>\n",
       "      <th></th>\n",
       "      <th></th>\n",
       "    </tr>\n",
       "  </thead>\n",
       "  <tbody>\n",
       "    <tr>\n",
       "      <th>2006-01-03</th>\n",
       "      <td>0.0416</td>\n",
       "      <td>0.0440</td>\n",
       "      <td>0.0438</td>\n",
       "      <td>0.0434</td>\n",
       "      <td>0.0430</td>\n",
       "      <td>0.0430</td>\n",
       "      <td>0.04321</td>\n",
       "      <td>0.04378</td>\n",
       "      <td>0</td>\n",
       "      <td>0</td>\n",
       "    </tr>\n",
       "    <tr>\n",
       "      <th>2006-01-04</th>\n",
       "      <td>0.0419</td>\n",
       "      <td>0.0437</td>\n",
       "      <td>0.0435</td>\n",
       "      <td>0.0431</td>\n",
       "      <td>0.0428</td>\n",
       "      <td>0.0428</td>\n",
       "      <td>0.04312</td>\n",
       "      <td>0.04368</td>\n",
       "      <td>0</td>\n",
       "      <td>0</td>\n",
       "    </tr>\n",
       "    <tr>\n",
       "      <th>2006-01-05</th>\n",
       "      <td>0.0420</td>\n",
       "      <td>0.0437</td>\n",
       "      <td>0.0436</td>\n",
       "      <td>0.0432</td>\n",
       "      <td>0.0429</td>\n",
       "      <td>0.0429</td>\n",
       "      <td>0.04312</td>\n",
       "      <td>0.04368</td>\n",
       "      <td>0</td>\n",
       "      <td>0</td>\n",
       "    </tr>\n",
       "    <tr>\n",
       "      <th>2006-01-06</th>\n",
       "      <td>0.0422</td>\n",
       "      <td>0.0439</td>\n",
       "      <td>0.0438</td>\n",
       "      <td>0.0436</td>\n",
       "      <td>0.0432</td>\n",
       "      <td>0.0432</td>\n",
       "      <td>0.04331</td>\n",
       "      <td>0.04387</td>\n",
       "      <td>0</td>\n",
       "      <td>0</td>\n",
       "    </tr>\n",
       "    <tr>\n",
       "      <th>2006-01-09</th>\n",
       "      <td>0.0423</td>\n",
       "      <td>0.0440</td>\n",
       "      <td>0.0439</td>\n",
       "      <td>0.0436</td>\n",
       "      <td>0.0432</td>\n",
       "      <td>0.0432</td>\n",
       "      <td>0.04341</td>\n",
       "      <td>0.04386</td>\n",
       "      <td>0</td>\n",
       "      <td>0</td>\n",
       "    </tr>\n",
       "  </tbody>\n",
       "</table>\n",
       "</div>"
      ],
      "text/plain": [
       "              3 MO    6 MO    1 YR    2 YR    3 YR    5 YR     7 YR    10 YR  \\\n",
       "Date                                                                           \n",
       "2006-01-03  0.0416  0.0440  0.0438  0.0434  0.0430  0.0430  0.04321  0.04378   \n",
       "2006-01-04  0.0419  0.0437  0.0435  0.0431  0.0428  0.0428  0.04312  0.04368   \n",
       "2006-01-05  0.0420  0.0437  0.0436  0.0432  0.0429  0.0429  0.04312  0.04368   \n",
       "2006-01-06  0.0422  0.0439  0.0438  0.0436  0.0432  0.0432  0.04331  0.04387   \n",
       "2006-01-09  0.0423  0.0440  0.0439  0.0436  0.0432  0.0432  0.04341  0.04386   \n",
       "\n",
       "            cos_sim  cos_avg  \n",
       "Date                          \n",
       "2006-01-03        0        0  \n",
       "2006-01-04        0        0  \n",
       "2006-01-05        0        0  \n",
       "2006-01-06        0        0  \n",
       "2006-01-09        0        0  "
      ]
     },
     "execution_count": 122,
     "metadata": {},
     "output_type": "execute_result"
    }
   ],
   "source": [
    "X_zeros['cos_sim'] = 0\n",
    "X_zeros['cos_avg'] = 0\n",
    "X_zeros.head()\n",
    "\n"
   ]
  },
  {
   "cell_type": "code",
   "execution_count": 108,
   "metadata": {},
   "outputs": [
    {
     "data": {
      "text/plain": [
       "'12/13/2017'"
      ]
     },
     "execution_count": 108,
     "metadata": {},
     "output_type": "execute_result"
    }
   ],
   "source": [
    "i = 0\n",
    "this_date = ts_dates[i]\n",
    "this_date"
   ]
  },
  {
   "cell_type": "code",
   "execution_count": 109,
   "metadata": {},
   "outputs": [],
   "source": [
    "temp = X_zeros.loc[this_date]"
   ]
  },
  {
   "cell_type": "code",
   "execution_count": 111,
   "metadata": {},
   "outputs": [],
   "source": [
    "X_zeros['cos_sim'].loc[this_date] = cos_last[i]"
   ]
  },
  {
   "cell_type": "code",
   "execution_count": 112,
   "metadata": {},
   "outputs": [
    {
     "data": {
      "text/plain": [
       "3 MO       0.013000\n",
       "6 MO       0.014700\n",
       "1 YR       0.016800\n",
       "2 YR       0.018000\n",
       "3 YR       0.019100\n",
       "5 YR       0.021300\n",
       "7 YR       0.022720\n",
       "10 YR      0.023760\n",
       "cos_sim    0.214142\n",
       "Name: 2017-12-13 00:00:00, dtype: float64"
      ]
     },
     "execution_count": 112,
     "metadata": {},
     "output_type": "execute_result"
    }
   ],
   "source": [
    "X_zeros.loc[this_date]"
   ]
  },
  {
   "cell_type": "code",
   "execution_count": 123,
   "metadata": {},
   "outputs": [],
   "source": [
    "for i in range(len(ts_dates)):\n",
    "    X_zeros['cos_sim'].loc[ts_dates[i]] = cos_last[i]\n",
    "    X_zeros['cos_avg'].loc[ts_dates[i]] = cos_avg_n[i]"
   ]
  },
  {
   "cell_type": "code",
   "execution_count": 116,
   "metadata": {},
   "outputs": [
    {
     "data": {
      "text/html": [
       "<div>\n",
       "<style scoped>\n",
       "    .dataframe tbody tr th:only-of-type {\n",
       "        vertical-align: middle;\n",
       "    }\n",
       "\n",
       "    .dataframe tbody tr th {\n",
       "        vertical-align: top;\n",
       "    }\n",
       "\n",
       "    .dataframe thead th {\n",
       "        text-align: right;\n",
       "    }\n",
       "</style>\n",
       "<table border=\"1\" class=\"dataframe\">\n",
       "  <thead>\n",
       "    <tr style=\"text-align: right;\">\n",
       "      <th></th>\n",
       "      <th>3 MO</th>\n",
       "      <th>6 MO</th>\n",
       "      <th>1 YR</th>\n",
       "      <th>2 YR</th>\n",
       "      <th>3 YR</th>\n",
       "      <th>5 YR</th>\n",
       "      <th>7 YR</th>\n",
       "      <th>10 YR</th>\n",
       "      <th>cos_sim</th>\n",
       "    </tr>\n",
       "  </thead>\n",
       "  <tbody>\n",
       "    <tr>\n",
       "      <th>count</th>\n",
       "      <td>3313.000000</td>\n",
       "      <td>3313.000000</td>\n",
       "      <td>3313.000000</td>\n",
       "      <td>3313.000000</td>\n",
       "      <td>3313.000000</td>\n",
       "      <td>3313.000000</td>\n",
       "      <td>3313.000000</td>\n",
       "      <td>3313.000000</td>\n",
       "      <td>3313.000000</td>\n",
       "    </tr>\n",
       "    <tr>\n",
       "      <th>mean</th>\n",
       "      <td>0.011427</td>\n",
       "      <td>0.012523</td>\n",
       "      <td>0.013427</td>\n",
       "      <td>0.015489</td>\n",
       "      <td>0.017683</td>\n",
       "      <td>0.022316</td>\n",
       "      <td>0.026187</td>\n",
       "      <td>0.029921</td>\n",
       "      <td>0.000235</td>\n",
       "    </tr>\n",
       "    <tr>\n",
       "      <th>std</th>\n",
       "      <td>0.016504</td>\n",
       "      <td>0.016720</td>\n",
       "      <td>0.016194</td>\n",
       "      <td>0.014752</td>\n",
       "      <td>0.013689</td>\n",
       "      <td>0.011916</td>\n",
       "      <td>0.010632</td>\n",
       "      <td>0.009779</td>\n",
       "      <td>0.007881</td>\n",
       "    </tr>\n",
       "    <tr>\n",
       "      <th>min</th>\n",
       "      <td>0.000000</td>\n",
       "      <td>0.000200</td>\n",
       "      <td>0.000800</td>\n",
       "      <td>0.001700</td>\n",
       "      <td>0.002900</td>\n",
       "      <td>0.005700</td>\n",
       "      <td>0.009190</td>\n",
       "      <td>0.013840</td>\n",
       "      <td>0.000000</td>\n",
       "    </tr>\n",
       "    <tr>\n",
       "      <th>25%</th>\n",
       "      <td>0.000600</td>\n",
       "      <td>0.001200</td>\n",
       "      <td>0.001900</td>\n",
       "      <td>0.004800</td>\n",
       "      <td>0.008400</td>\n",
       "      <td>0.014200</td>\n",
       "      <td>0.019050</td>\n",
       "      <td>0.022300</td>\n",
       "      <td>0.000000</td>\n",
       "    </tr>\n",
       "    <tr>\n",
       "      <th>50%</th>\n",
       "      <td>0.001800</td>\n",
       "      <td>0.003100</td>\n",
       "      <td>0.004900</td>\n",
       "      <td>0.008800</td>\n",
       "      <td>0.012800</td>\n",
       "      <td>0.018600</td>\n",
       "      <td>0.023120</td>\n",
       "      <td>0.027800</td>\n",
       "      <td>0.000000</td>\n",
       "    </tr>\n",
       "    <tr>\n",
       "      <th>75%</th>\n",
       "      <td>0.017800</td>\n",
       "      <td>0.019500</td>\n",
       "      <td>0.021200</td>\n",
       "      <td>0.023500</td>\n",
       "      <td>0.024600</td>\n",
       "      <td>0.027400</td>\n",
       "      <td>0.031490</td>\n",
       "      <td>0.037030</td>\n",
       "      <td>0.000000</td>\n",
       "    </tr>\n",
       "    <tr>\n",
       "      <th>max</th>\n",
       "      <td>0.051900</td>\n",
       "      <td>0.053300</td>\n",
       "      <td>0.053000</td>\n",
       "      <td>0.052900</td>\n",
       "      <td>0.052600</td>\n",
       "      <td>0.052300</td>\n",
       "      <td>0.052300</td>\n",
       "      <td>0.052730</td>\n",
       "      <td>0.305875</td>\n",
       "    </tr>\n",
       "  </tbody>\n",
       "</table>\n",
       "</div>"
      ],
      "text/plain": [
       "              3 MO         6 MO         1 YR         2 YR         3 YR  \\\n",
       "count  3313.000000  3313.000000  3313.000000  3313.000000  3313.000000   \n",
       "mean      0.011427     0.012523     0.013427     0.015489     0.017683   \n",
       "std       0.016504     0.016720     0.016194     0.014752     0.013689   \n",
       "min       0.000000     0.000200     0.000800     0.001700     0.002900   \n",
       "25%       0.000600     0.001200     0.001900     0.004800     0.008400   \n",
       "50%       0.001800     0.003100     0.004900     0.008800     0.012800   \n",
       "75%       0.017800     0.019500     0.021200     0.023500     0.024600   \n",
       "max       0.051900     0.053300     0.053000     0.052900     0.052600   \n",
       "\n",
       "              5 YR         7 YR        10 YR      cos_sim  \n",
       "count  3313.000000  3313.000000  3313.000000  3313.000000  \n",
       "mean      0.022316     0.026187     0.029921     0.000235  \n",
       "std       0.011916     0.010632     0.009779     0.007881  \n",
       "min       0.005700     0.009190     0.013840     0.000000  \n",
       "25%       0.014200     0.019050     0.022300     0.000000  \n",
       "50%       0.018600     0.023120     0.027800     0.000000  \n",
       "75%       0.027400     0.031490     0.037030     0.000000  \n",
       "max       0.052300     0.052300     0.052730     0.305875  "
      ]
     },
     "execution_count": 116,
     "metadata": {},
     "output_type": "execute_result"
    }
   ],
   "source": [
    "X_zeros.describe()\n"
   ]
  },
  {
   "cell_type": "code",
   "execution_count": 117,
   "metadata": {},
   "outputs": [
    {
     "data": {
      "text/plain": [
       "0.3732864065184788"
      ]
     },
     "execution_count": 117,
     "metadata": {},
     "output_type": "execute_result"
    }
   ],
   "source": [
    "np.max(cos_last)"
   ]
  },
  {
   "cell_type": "code",
   "execution_count": 124,
   "metadata": {},
   "outputs": [
    {
     "name": "stdout",
     "output_type": "stream",
     "text": [
      "This is the sum of the cosine from cos_last 12.704427820166046\n"
     ]
    }
   ],
   "source": [
    "sum_cost = np.sum(cos_last)\n",
    "print('This is the sum of the cosine from cos_last', sum_cost)"
   ]
  },
  {
   "cell_type": "code",
   "execution_count": 125,
   "metadata": {},
   "outputs": [
    {
     "name": "stdout",
     "output_type": "stream",
     "text": [
      "This is the sum from the dateframe: 11.708600961822395\n"
     ]
    }
   ],
   "source": [
    "sum_zeros = np.sum(X_zeros['cos_sim'])\n",
    "print('This is the sum from the dateframe:',sum_zeros)"
   ]
  },
  {
   "cell_type": "code",
   "execution_count": 126,
   "metadata": {},
   "outputs": [
    {
     "name": "stdout",
     "output_type": "stream",
     "text": [
      "This is the sum of the cosine from cos_last 12.81906434926012\n",
      "This is the sum from the dateframe: 11.762947465314527\n"
     ]
    }
   ],
   "source": [
    "sum_avg = np.sum(cos_avg_n)\n",
    "print('This is the sum of the cosine from cos_last', sum_avg)\n",
    "sum_z_avg = np.sum(X_zeros['cos_avg'])\n",
    "print('This is the sum from the dateframe:',sum_z_avg)"
   ]
  },
  {
   "cell_type": "code",
   "execution_count": 129,
   "metadata": {},
   "outputs": [
    {
     "data": {
      "text/html": [
       "<div>\n",
       "<style scoped>\n",
       "    .dataframe tbody tr th:only-of-type {\n",
       "        vertical-align: middle;\n",
       "    }\n",
       "\n",
       "    .dataframe tbody tr th {\n",
       "        vertical-align: top;\n",
       "    }\n",
       "\n",
       "    .dataframe thead th {\n",
       "        text-align: right;\n",
       "    }\n",
       "</style>\n",
       "<table border=\"1\" class=\"dataframe\">\n",
       "  <thead>\n",
       "    <tr style=\"text-align: right;\">\n",
       "      <th></th>\n",
       "      <th>3 MO</th>\n",
       "      <th>6 MO</th>\n",
       "      <th>1 YR</th>\n",
       "      <th>2 YR</th>\n",
       "      <th>3 YR</th>\n",
       "      <th>5 YR</th>\n",
       "      <th>7 YR</th>\n",
       "      <th>10 YR</th>\n",
       "      <th>cos_sim</th>\n",
       "      <th>cos_avg</th>\n",
       "    </tr>\n",
       "  </thead>\n",
       "  <tbody>\n",
       "    <tr>\n",
       "      <th>count</th>\n",
       "      <td>3313.000000</td>\n",
       "      <td>3313.000000</td>\n",
       "      <td>3313.000000</td>\n",
       "      <td>3313.000000</td>\n",
       "      <td>3313.000000</td>\n",
       "      <td>3313.000000</td>\n",
       "      <td>3313.000000</td>\n",
       "      <td>3313.000000</td>\n",
       "      <td>3313.000000</td>\n",
       "      <td>3313.000000</td>\n",
       "    </tr>\n",
       "    <tr>\n",
       "      <th>mean</th>\n",
       "      <td>0.011427</td>\n",
       "      <td>0.012523</td>\n",
       "      <td>0.013427</td>\n",
       "      <td>0.015489</td>\n",
       "      <td>0.017683</td>\n",
       "      <td>0.022316</td>\n",
       "      <td>0.026187</td>\n",
       "      <td>0.029921</td>\n",
       "      <td>0.000235</td>\n",
       "      <td>0.000235</td>\n",
       "    </tr>\n",
       "    <tr>\n",
       "      <th>std</th>\n",
       "      <td>0.016504</td>\n",
       "      <td>0.016720</td>\n",
       "      <td>0.016194</td>\n",
       "      <td>0.014752</td>\n",
       "      <td>0.013689</td>\n",
       "      <td>0.011916</td>\n",
       "      <td>0.010632</td>\n",
       "      <td>0.009779</td>\n",
       "      <td>0.007881</td>\n",
       "      <td>0.007881</td>\n",
       "    </tr>\n",
       "    <tr>\n",
       "      <th>min</th>\n",
       "      <td>0.000000</td>\n",
       "      <td>0.000200</td>\n",
       "      <td>0.000800</td>\n",
       "      <td>0.001700</td>\n",
       "      <td>0.002900</td>\n",
       "      <td>0.005700</td>\n",
       "      <td>0.009190</td>\n",
       "      <td>0.013840</td>\n",
       "      <td>0.000000</td>\n",
       "      <td>0.000000</td>\n",
       "    </tr>\n",
       "    <tr>\n",
       "      <th>25%</th>\n",
       "      <td>0.000600</td>\n",
       "      <td>0.001200</td>\n",
       "      <td>0.001900</td>\n",
       "      <td>0.004800</td>\n",
       "      <td>0.008400</td>\n",
       "      <td>0.014200</td>\n",
       "      <td>0.019050</td>\n",
       "      <td>0.022300</td>\n",
       "      <td>0.000000</td>\n",
       "      <td>0.000000</td>\n",
       "    </tr>\n",
       "    <tr>\n",
       "      <th>50%</th>\n",
       "      <td>0.001800</td>\n",
       "      <td>0.003100</td>\n",
       "      <td>0.004900</td>\n",
       "      <td>0.008800</td>\n",
       "      <td>0.012800</td>\n",
       "      <td>0.018600</td>\n",
       "      <td>0.023120</td>\n",
       "      <td>0.027800</td>\n",
       "      <td>0.000000</td>\n",
       "      <td>0.000000</td>\n",
       "    </tr>\n",
       "    <tr>\n",
       "      <th>75%</th>\n",
       "      <td>0.017800</td>\n",
       "      <td>0.019500</td>\n",
       "      <td>0.021200</td>\n",
       "      <td>0.023500</td>\n",
       "      <td>0.024600</td>\n",
       "      <td>0.027400</td>\n",
       "      <td>0.031490</td>\n",
       "      <td>0.037030</td>\n",
       "      <td>0.000000</td>\n",
       "      <td>0.000000</td>\n",
       "    </tr>\n",
       "    <tr>\n",
       "      <th>max</th>\n",
       "      <td>0.051900</td>\n",
       "      <td>0.053300</td>\n",
       "      <td>0.053000</td>\n",
       "      <td>0.052900</td>\n",
       "      <td>0.052600</td>\n",
       "      <td>0.052300</td>\n",
       "      <td>0.052300</td>\n",
       "      <td>0.052730</td>\n",
       "      <td>0.305875</td>\n",
       "      <td>0.305875</td>\n",
       "    </tr>\n",
       "  </tbody>\n",
       "</table>\n",
       "</div>"
      ],
      "text/plain": [
       "              3 MO         6 MO         1 YR         2 YR         3 YR  \\\n",
       "count  3313.000000  3313.000000  3313.000000  3313.000000  3313.000000   \n",
       "mean      0.011427     0.012523     0.013427     0.015489     0.017683   \n",
       "std       0.016504     0.016720     0.016194     0.014752     0.013689   \n",
       "min       0.000000     0.000200     0.000800     0.001700     0.002900   \n",
       "25%       0.000600     0.001200     0.001900     0.004800     0.008400   \n",
       "50%       0.001800     0.003100     0.004900     0.008800     0.012800   \n",
       "75%       0.017800     0.019500     0.021200     0.023500     0.024600   \n",
       "max       0.051900     0.053300     0.053000     0.052900     0.052600   \n",
       "\n",
       "              5 YR         7 YR        10 YR      cos_sim      cos_avg  \n",
       "count  3313.000000  3313.000000  3313.000000  3313.000000  3313.000000  \n",
       "mean      0.022316     0.026187     0.029921     0.000235     0.000235  \n",
       "std       0.011916     0.010632     0.009779     0.007881     0.007881  \n",
       "min       0.005700     0.009190     0.013840     0.000000     0.000000  \n",
       "25%       0.014200     0.019050     0.022300     0.000000     0.000000  \n",
       "50%       0.018600     0.023120     0.027800     0.000000     0.000000  \n",
       "75%       0.027400     0.031490     0.037030     0.000000     0.000000  \n",
       "max       0.052300     0.052300     0.052730     0.305875     0.305875  "
      ]
     },
     "execution_count": 129,
     "metadata": {},
     "output_type": "execute_result"
    }
   ],
   "source": [
    "X_zeros.describe()"
   ]
  },
  {
   "cell_type": "code",
   "execution_count": 130,
   "metadata": {},
   "outputs": [
    {
     "data": {
      "text/plain": [
       "<matplotlib.collections.PathCollection at 0x1a144df240>"
      ]
     },
     "execution_count": 130,
     "metadata": {},
     "output_type": "execute_result"
    },
    {
     "data": {
      "image/png": "[encoded data removed]",
      "text/plain": [
       "<Figure size 432x288 with 1 Axes>"
      ]
     },
     "metadata": {
      "needs_background": "light"
     },
     "output_type": "display_data"
    }
   ],
   "source": [
    "plt.scatter(X_zeros['cos_sim'], X_zeros['cos_avg'])"
   ]
  },
  {
   "cell_type": "code",
   "execution_count": 131,
   "metadata": {},
   "outputs": [
    {
     "name": "stdout",
     "output_type": "stream",
     "text": [
      "              3 MO         6 MO         1 YR         2 YR         3 YR  \\\n",
      "count  3313.000000  3313.000000  3313.000000  3313.000000  3313.000000   \n",
      "mean      0.011427     0.012523     0.013427     0.015406     0.017595   \n",
      "std       0.016504     0.016720     0.016194     0.014783     0.013717   \n",
      "min       0.000000     0.000200     0.000800     0.001600     0.002800   \n",
      "25%       0.000600     0.001200     0.001900     0.004700     0.008300   \n",
      "50%       0.001800     0.003100     0.004900     0.008700     0.012700   \n",
      "75%       0.017800     0.019500     0.021200     0.023400     0.024500   \n",
      "max       0.051900     0.053300     0.053000     0.052900     0.052600   \n",
      "\n",
      "              5 YR         7 YR        10 YR  \n",
      "count  3313.000000  3313.000000  3313.000000  \n",
      "mean      0.022151     0.025897     0.029388  \n",
      "std       0.011938     0.010655     0.009759  \n",
      "min       0.005600     0.009100     0.013700  \n",
      "25%       0.014000     0.018800     0.021900  \n",
      "50%       0.018400     0.022800     0.027100  \n",
      "75%       0.027300     0.030900     0.035900  \n",
      "max       0.052300     0.052300     0.052600  \n"
     ]
    }
   ],
   "source": [
    "print(X.describe())"
   ]
  },
  {
   "cell_type": "code",
   "execution_count": null,
   "metadata": {},
   "outputs": [],
   "source": []
  }
 ],
 "metadata": {
  "kernelspec": {
   "display_name": "Python 3",
   "language": "python",
   "name": "python3"
  },
  "language_info": {
   "codemirror_mode": {
    "name": "ipython",
    "version": 3
   },
   "file_extension": ".py",
   "mimetype": "text/x-python",
   "name": "python",
   "nbconvert_exporter": "python",
   "pygments_lexer": "ipython3",
   "version": "3.6.8"
  }
 },
 "nbformat": 4,
 "nbformat_minor": 2
}
