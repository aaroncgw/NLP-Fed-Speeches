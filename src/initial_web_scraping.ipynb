{
 "cells": [
  {
   "cell_type": "markdown",
   "metadata": {},
   "source": [
    "### Web Scraping of the FOMC speaches"
   ]
  },
  {
   "cell_type": "code",
   "execution_count": 10,
   "metadata": {},
   "outputs": [],
   "source": [
    "from urllib.request import urlopen\n"
   ]
  },
  {
   "cell_type": "code",
   "execution_count": null,
   "metadata": {},
   "outputs": [],
   "source": [
    "#url = \"http://www.example.com\"\n",
    "url = 'https://www.stlouisfed.org/fomcspeak/viewbydate'\n",
    "fp = urlopen(url) #open the web page\n",
    "contents = fp.read() #read the web page\n",
    "decoded_contents = contents.decode() # decoding the contents\n",
    "print(decoded_contents)"
   ]
  },
  {
   "cell_type": "code",
   "execution_count": null,
   "metadata": {},
   "outputs": [],
   "source": [
    "#hacknology alert: this is a built-in string method\n",
    "\n",
    "start = decoded_contents.find(\"<title>\")\n",
    "end = decoded_contents.find(\"</title>\")\n",
    "decoded_contents[ start+len(\"<title>\") : end ]"
   ]
  },
  {
   "cell_type": "code",
   "execution_count": 11,
   "metadata": {},
   "outputs": [],
   "source": [
    "import socket"
   ]
  },
  {
   "cell_type": "code",
   "execution_count": null,
   "metadata": {},
   "outputs": [],
   "source": [
    "''' BELOW DOES NOT WORK\n",
    "request = b\"GET / HTTPS/1.1\\r\\nHost: www.stlouisfed.org/fomcspeak/viewbydate\"\n",
    "\n",
    "s = socket.socket(socket.AF_INET, socket.SOCK_STREAM)\n",
    "s.connect((\"www.stlouisfed.org/fomcspeak/viewbydate\", 80))\n",
    "s.sendall(request)\n",
    "\n",
    "resp = s.recv(4*1024)\n",
    "print( resp )\n",
    "s.close()\n",
    "'''"
   ]
  },
  {
   "cell_type": "code",
   "execution_count": null,
   "metadata": {},
   "outputs": [],
   "source": []
  },
  {
   "cell_type": "code",
   "execution_count": 12,
   "metadata": {},
   "outputs": [],
   "source": [
    "#Moving on the the next section of the lecture notes\n",
    "from http.client import HTTPConnection"
   ]
  },
  {
   "cell_type": "code",
   "execution_count": null,
   "metadata": {},
   "outputs": [],
   "source": [
    "conn = HTTPConnection(host = 'www.stlouisfed.org/fomcspeak/viewbydate' )\n",
    "#https://www.stlouisfed.org/fomcspeak/viewbydate"
   ]
  },
  {
   "cell_type": "code",
   "execution_count": null,
   "metadata": {},
   "outputs": [],
   "source": [
    "conn.request(method=\"GET\", url=\"/\")\n",
    "#conn.request(method=\"GET\")"
   ]
  },
  {
   "cell_type": "code",
   "execution_count": 13,
   "metadata": {},
   "outputs": [],
   "source": [
    "from pymongo import MongoClient"
   ]
  },
  {
   "cell_type": "code",
   "execution_count": null,
   "metadata": {},
   "outputs": [],
   "source": [
    "client=MongoClient()"
   ]
  },
  {
   "cell_type": "code",
   "execution_count": null,
   "metadata": {},
   "outputs": [],
   "source": [
    "db = client.test_database"
   ]
  },
  {
   "cell_type": "code",
   "execution_count": null,
   "metadata": {},
   "outputs": [],
   "source": [
    "collection = db.test_collection"
   ]
  },
  {
   "cell_type": "code",
   "execution_count": null,
   "metadata": {},
   "outputs": [],
   "source": [
    "idx = collection.inser_one( {'host': 'www.example.com',\n",
    "                            'path':\"/\",\n",
    "                            'headers':dict(headers),\n",
    "                            'body': response_body.decode()}).inserted_id"
   ]
  },
  {
   "cell_type": "code",
   "execution_count": 14,
   "metadata": {},
   "outputs": [],
   "source": [
    "from bs4 import BeautifulSoup"
   ]
  },
  {
   "cell_type": "code",
   "execution_count": null,
   "metadata": {},
   "outputs": [],
   "source": [
    "# flailing on the first two, need to work on th final piece"
   ]
  },
  {
   "cell_type": "code",
   "execution_count": null,
   "metadata": {},
   "outputs": [],
   "source": [
    "from http.client import HTTPSConnection #NOTE I NEEDED AN S HERE"
   ]
  },
  {
   "cell_type": "code",
   "execution_count": null,
   "metadata": {},
   "outputs": [],
   "source": [
    "#conn = HTTPSConnection(host = \"www.stlouisfed.org\")\n",
    "conn = HTTPSConnection(host = \"www.akc.org\")"
   ]
  },
  {
   "cell_type": "code",
   "execution_count": null,
   "metadata": {},
   "outputs": [],
   "source": [
    "conn.request(method='GET', url = \"/expert-advice/nutrition/breed-weight-chart/\")"
   ]
  },
  {
   "cell_type": "code",
   "execution_count": null,
   "metadata": {},
   "outputs": [],
   "source": [
    "resp = conn.getresponse()"
   ]
  },
  {
   "cell_type": "code",
   "execution_count": null,
   "metadata": {},
   "outputs": [],
   "source": [
    "resp.headers['Content-Type']"
   ]
  },
  {
   "cell_type": "code",
   "execution_count": null,
   "metadata": {},
   "outputs": [],
   "source": [
    "body = resp.read()"
   ]
  },
  {
   "cell_type": "code",
   "execution_count": null,
   "metadata": {},
   "outputs": [],
   "source": [
    "resp.status"
   ]
  },
  {
   "cell_type": "code",
   "execution_count": null,
   "metadata": {},
   "outputs": [],
   "source": [
    "len(body)"
   ]
  },
  {
   "cell_type": "code",
   "execution_count": null,
   "metadata": {},
   "outputs": [],
   "source": [
    "body[0:1000]"
   ]
  },
  {
   "cell_type": "code",
   "execution_count": null,
   "metadata": {},
   "outputs": [],
   "source": [
    "soup = BeautifulSoup(body)"
   ]
  },
  {
   "cell_type": "code",
   "execution_count": null,
   "metadata": {},
   "outputs": [],
   "source": [
    "## looking for the target tag\n",
    "atable = soup.find('div', class_='content-body').table"
   ]
  },
  {
   "cell_type": "raw",
   "metadata": {},
   "source": [
    "# as a list comprehension [x.text for x in atable.find_all(\"tr\")[1].find_all(\"td\")]"
   ]
  },
  {
   "cell_type": "code",
   "execution_count": null,
   "metadata": {},
   "outputs": [],
   "source": [
    "rows = []\n",
    "for row in atable.find_all('tr'):\n",
    "    textrow = [x.text for x in row.find_all('td')]\n",
    "    print(textrow)\n",
    "    rows.append(textrow)"
   ]
  },
  {
   "cell_type": "markdown",
   "metadata": {},
   "source": [
    "## Back to Mongodb"
   ]
  },
  {
   "cell_type": "code",
   "execution_count": null,
   "metadata": {},
   "outputs": [],
   "source": [
    "client = MongoClient()\n",
    "db = client.test_database\n",
    "dogs = db.dogs"
   ]
  },
  {
   "cell_type": "code",
   "execution_count": null,
   "metadata": {},
   "outputs": [],
   "source": [
    "dogs"
   ]
  },
  {
   "cell_type": "code",
   "execution_count": null,
   "metadata": {},
   "outputs": [],
   "source": [
    "idx = dogs.insert_one({'data':rows}).inserted_id"
   ]
  },
  {
   "cell_type": "code",
   "execution_count": null,
   "metadata": {},
   "outputs": [],
   "source": [
    "obj = dogs.find_one({\"_id\":idx})"
   ]
  },
  {
   "cell_type": "code",
   "execution_count": null,
   "metadata": {},
   "outputs": [],
   "source": [
    "obj"
   ]
  },
  {
   "cell_type": "code",
   "execution_count": null,
   "metadata": {},
   "outputs": [],
   "source": [
    "rows = obj['data']\n",
    "rows[0:4]"
   ]
  },
  {
   "cell_type": "code",
   "execution_count": null,
   "metadata": {},
   "outputs": [],
   "source": [
    "import pandas as pd"
   ]
  },
  {
   "cell_type": "code",
   "execution_count": null,
   "metadata": {},
   "outputs": [],
   "source": []
  },
  {
   "cell_type": "code",
   "execution_count": null,
   "metadata": {},
   "outputs": [],
   "source": [
    "client = MongoClient()\n",
    "db = client.test_database\n",
    "collection = db.test_collection\n",
    "\n"
   ]
  },
  {
   "cell_type": "code",
   "execution_count": null,
   "metadata": {},
   "outputs": [],
   "source": [
    "base = 'www.federalreserve.gov'\n",
    "path1 ='/newsevents/speeches.htm'"
   ]
  },
  {
   "cell_type": "code",
   "execution_count": null,
   "metadata": {},
   "outputs": [],
   "source": [
    "idx = collection.insert_one({'host': base,\n",
    "                             'path': path1,\n",
    "                             'headers': dict(headers),\n",
    "                             'body': response_body.decode()} ).inserted_id"
   ]
  },
  {
   "cell_type": "code",
   "execution_count": null,
   "metadata": {},
   "outputs": [],
   "source": []
  },
  {
   "cell_type": "markdown",
   "metadata": {},
   "source": [
    "## NOW I A WORKING ON JUST GETTING SOMETHING FROM HERE"
   ]
  },
  {
   "cell_type": "code",
   "execution_count": 1,
   "metadata": {},
   "outputs": [],
   "source": [
    "from http.client import HTTPSConnection"
   ]
  },
  {
   "cell_type": "code",
   "execution_count": 2,
   "metadata": {},
   "outputs": [],
   "source": [
    "conn = HTTPSConnection(host = 'www.federalreserve.gov')"
   ]
  },
  {
   "cell_type": "code",
   "execution_count": 3,
   "metadata": {},
   "outputs": [],
   "source": [
    "conn.request(method='GET', url ='/newsevents/speeches.htm')"
   ]
  },
  {
   "cell_type": "code",
   "execution_count": 4,
   "metadata": {},
   "outputs": [],
   "source": [
    "resp = conn.getresponse()"
   ]
  },
  {
   "cell_type": "code",
   "execution_count": 5,
   "metadata": {},
   "outputs": [
    {
     "data": {
      "text/plain": [
       "'text/html'"
      ]
     },
     "execution_count": 5,
     "metadata": {},
     "output_type": "execute_result"
    }
   ],
   "source": [
    "resp.headers['Content-Type']"
   ]
  },
  {
   "cell_type": "code",
   "execution_count": 6,
   "metadata": {},
   "outputs": [],
   "source": [
    "body = resp.read()"
   ]
  },
  {
   "cell_type": "code",
   "execution_count": 7,
   "metadata": {},
   "outputs": [
    {
     "data": {
      "text/plain": [
       "200"
      ]
     },
     "execution_count": 7,
     "metadata": {},
     "output_type": "execute_result"
    }
   ],
   "source": [
    "resp.status"
   ]
  },
  {
   "cell_type": "code",
   "execution_count": 8,
   "metadata": {},
   "outputs": [
    {
     "data": {
      "text/plain": [
       "b'\\xef\\xbb\\xbf<!doctype html>\\n<html lang=\"en\" class=\"no-js\">\\n<head>\\n    <meta charset=\"utf-8\">\\n    <meta http-equiv=\"X-UA-Compatible\" content=\"IE=edge\">\\n    <meta name=\"viewport\" content=\"width=device-width, initial-scale=1.0, minimum-scale=1.0 maximum-scale=1.6, user-scalable=1\">\\n    <meta name=\"keywords\" content=\"Board of Governors of the Federal Reserve System, Federal Reserve Board of Governors, Federal Reserve Board, Federal Reserve\" />\\n   \\n    \\r\\n\\r\\n\\r\\n \\n    <meta name=\"description\" content=\"\" />\\n    <title>Federal Reserve Board - Speeches of Federal Reserve Officials</title>\\n    \\n    <link href=\"/css/bootstrap.css\" rel=\"stylesheet\" type=\"text/css\">\\n    <link href=\"/css/bluesteel-theme.css\" rel=\"stylesheet\" type=\"text/css\">\\n    <script src=\"/js/modernizr-latest.js\" type=\"text/javascript\"></script>\\n    <script src=\"/js/grunticon.loader.js\"></script>\\n    <script>\\n        grunticon([\"/css/icons.data.svg.css\", \"/css/icons.data.png.css\", \"/css/icons.fallback.css\"]);\\n    </script>\\n    <noscript>\\n   '"
      ]
     },
     "execution_count": 8,
     "metadata": {},
     "output_type": "execute_result"
    }
   ],
   "source": [
    "body[0:1000]"
   ]
  },
  {
   "cell_type": "code",
   "execution_count": 15,
   "metadata": {},
   "outputs": [],
   "source": [
    "soup = BeautifulSoup(body)"
   ]
  },
  {
   "cell_type": "code",
   "execution_count": 16,
   "metadata": {},
   "outputs": [
    {
     "data": {
      "text/plain": [
       "50319"
      ]
     },
     "execution_count": 16,
     "metadata": {},
     "output_type": "execute_result"
    }
   ],
   "source": [
    "len(body)"
   ]
  },
  {
   "cell_type": "code",
   "execution_count": 17,
   "metadata": {},
   "outputs": [],
   "source": [
    "#body[30000:31000]"
   ]
  },
  {
   "cell_type": "code",
   "execution_count": 18,
   "metadata": {},
   "outputs": [],
   "source": [
    "#my_table = soup.find_all('div', class_ = 'angularEvents items ng-scope')\n",
    "my_table = soup.find_all('div', id= 'article')"
   ]
  },
  {
   "cell_type": "code",
   "execution_count": 20,
   "metadata": {},
   "outputs": [
    {
     "data": {
      "text/plain": [
       "[<div class=\"col-xs-12 col-sm-8 col-md-8\" id=\"article\">\n",
       " <div class=\"angularEvents items\" ng-include=\"'items.html'\">\n",
       " </div>\n",
       " <div class=\"nojsEvents items js__Hide\">\n",
       " <div class=\"panel panel-default\">\n",
       " <div class=\"panel-body\">\n",
       " <ul class=\"list-unstyled panel-body__list\">\n",
       " <li>\n",
       " <a href=\"/newsevents/speech/2019-speeches.htm\">2019</a>\n",
       " </li>\n",
       " <li>\n",
       " <a href=\"/newsevents/speech/2018-speeches.htm\">2018</a>\n",
       " </li>\n",
       " <li>\n",
       " <a href=\"/newsevents/speech/2017-speeches.htm\">2017</a>\n",
       " </li>\n",
       " <li>\n",
       " <a href=\"/newsevents/speech/2016-speeches.htm\">2016</a>\n",
       " </li>\n",
       " <li>\n",
       " <a href=\"/newsevents/speech/2015-speeches.htm\">2015</a>\n",
       " </li>\n",
       " <li>\n",
       " <a href=\"/newsevents/speech/2014-speeches.htm\">2014</a>\n",
       " </li>\n",
       " <li>\n",
       " <a href=\"/newsevents/speech/2013-speeches.htm\">2013</a>\n",
       " </li>\n",
       " <li>\n",
       " <a href=\"/newsevents/speech/2012-speeches.htm\">2012</a>\n",
       " </li>\n",
       " <li>\n",
       " <a href=\"/newsevents/speech/2011-speeches.htm\">2011</a>\n",
       " </li>\n",
       " <li>\n",
       " <a href=\"/newsevents/speech/2010speech.htm\">2010</a>\n",
       " </li>\n",
       " <li>\n",
       " <a href=\"/newsevents/speech/2009speech.htm\">2009</a>\n",
       " </li>\n",
       " <li>\n",
       " <a href=\"/newsevents/speech/2008speech.htm\">2008</a>\n",
       " </li>\n",
       " <li>\n",
       " <a href=\"/newsevents/speech/2007speech.htm\">2007</a>\n",
       " </li>\n",
       " <li>\n",
       " <a href=\"/newsevents/speech/2006speech.htm\">2006</a>\n",
       " </li>\n",
       " <li>\n",
       " <a href=\"/newsevents/speech/speeches-archive.htm\">Archive</a>\n",
       " </li>\n",
       " </ul>\n",
       " </div>\n",
       " </div>\n",
       " </div>\n",
       " <ul aria-label=\"pagination\" class=\"hidden-xs\" items-per-page=\"itemsPerPage\" max-size=\"8\" ng-change=\"pageChanged()\" ng-model=\"currentPage\" ng-show=\"filtered.length !==0\" rotate=\"false\" total-items=\"total\" uib-pagination=\"\"></ul><ul aria-label=\"pagination\" class=\"visible-xs-inline-block\" items-per-page=\"itemsPerPage\" max-size=\"4\" ng-change=\"pageChanged()\" ng-model=\"currentPage\" ng-show=\"filtered.length !==0\" rotate=\"false\" total-items=\"total\" uib-pagination=\"\"></ul>\n",
       " </div>]"
      ]
     },
     "execution_count": 20,
     "metadata": {},
     "output_type": "execute_result"
    }
   ],
   "source": [
    "my_table"
   ]
  },
  {
   "cell_type": "markdown",
   "metadata": {},
   "source": [
    "## Web structure\n",
    "it looks like the speeches are coming from different sites.\n",
    "www.federalreserve.gov/newsevernts/speech/2019-speeches.htm is the first\n",
    "the 2018 ones are all on that page with .... speech/2018-speeches.htm\n",
    "\n",
    "We can create a loop to go through these and it may be cleaner to web scrape\n",
    "\n"
   ]
  },
  {
   "cell_type": "code",
   "execution_count": 22,
   "metadata": {},
   "outputs": [],
   "source": [
    "#my_table[0]"
   ]
  },
  {
   "cell_type": "code",
   "execution_count": 23,
   "metadata": {},
   "outputs": [],
   "source": [
    "annual_htm_list= []\n",
    "front_string = '/newsevents/speech/'\n",
    "end_string = 'speech.htm'\n",
    "\n",
    "for x in range(2006, 2020):\n",
    "    mid_str = str(x)\n",
    "    \n",
    "    annual_htm_list.append(front_string + mid_str + end_string)\n",
    "    "
   ]
  },
  {
   "cell_type": "code",
   "execution_count": 24,
   "metadata": {},
   "outputs": [
    {
     "data": {
      "text/plain": [
       "['/newsevents/speech/2006speech.htm',\n",
       " '/newsevents/speech/2007speech.htm',\n",
       " '/newsevents/speech/2008speech.htm',\n",
       " '/newsevents/speech/2009speech.htm',\n",
       " '/newsevents/speech/2010speech.htm',\n",
       " '/newsevents/speech/2011speech.htm',\n",
       " '/newsevents/speech/2012speech.htm',\n",
       " '/newsevents/speech/2013speech.htm',\n",
       " '/newsevents/speech/2014speech.htm',\n",
       " '/newsevents/speech/2015speech.htm',\n",
       " '/newsevents/speech/2016speech.htm',\n",
       " '/newsevents/speech/2017speech.htm',\n",
       " '/newsevents/speech/2018speech.htm',\n",
       " '/newsevents/speech/2019speech.htm']"
      ]
     },
     "execution_count": 24,
     "metadata": {},
     "output_type": "execute_result"
    }
   ],
   "source": [
    "annual_htm_list"
   ]
  },
  {
   "cell_type": "markdown",
   "metadata": {},
   "source": [
    "## NOTE: Before 2005 we had very different speech index\n",
    "the \"/newsevents/speech/speeches-archive.htm\" contains a link to all of the events. \n",
    "These are not quite the same format so I will need to scrape these a little differently than we did the other ones.\n"
   ]
  },
  {
   "cell_type": "code",
   "execution_count": 25,
   "metadata": {},
   "outputs": [
    {
     "ename": "AttributeError",
     "evalue": "ResultSet object has no attribute 'find_all'. You're probably treating a list of items like a single item. Did you call find_all() when you meant to call find()?",
     "output_type": "error",
     "traceback": [
      "\u001b[0;31m---------------------------------------------------------------------------\u001b[0m",
      "\u001b[0;31mAttributeError\u001b[0m                            Traceback (most recent call last)",
      "\u001b[0;32m<ipython-input-25-e2f8d8454cf2>\u001b[0m in \u001b[0;36m<module>\u001b[0;34m\u001b[0m\n\u001b[1;32m      1\u001b[0m \u001b[0mtitle_list\u001b[0m \u001b[0;34m=\u001b[0m \u001b[0;34m[\u001b[0m\u001b[0;34m]\u001b[0m\u001b[0;34m\u001b[0m\u001b[0;34m\u001b[0m\u001b[0m\n\u001b[0;32m----> 2\u001b[0;31m \u001b[0;32mfor\u001b[0m \u001b[0mrow\u001b[0m \u001b[0;32min\u001b[0m \u001b[0mmy_table\u001b[0m\u001b[0;34m.\u001b[0m\u001b[0mfind_all\u001b[0m\u001b[0;34m(\u001b[0m\u001b[0;34m'div'\u001b[0m\u001b[0;34m,\u001b[0m \u001b[0mclass_\u001b[0m \u001b[0;34m=\u001b[0m \u001b[0;34m'item_title'\u001b[0m\u001b[0;34m)\u001b[0m\u001b[0;34m:\u001b[0m\u001b[0;34m\u001b[0m\u001b[0;34m\u001b[0m\u001b[0m\n\u001b[0m\u001b[1;32m      3\u001b[0m     \u001b[0mthis_title\u001b[0m \u001b[0;34m=\u001b[0m \u001b[0;34m[\u001b[0m\u001b[0mx\u001b[0m\u001b[0;34m.\u001b[0m\u001b[0mtext\u001b[0m \u001b[0;32mfor\u001b[0m \u001b[0mx\u001b[0m \u001b[0;32min\u001b[0m \u001b[0mrow\u001b[0m\u001b[0;34m.\u001b[0m\u001b[0mfind_all\u001b[0m\u001b[0;34m(\u001b[0m\u001b[0;34m'em'\u001b[0m\u001b[0;34m)\u001b[0m\u001b[0;34m]\u001b[0m\u001b[0;34m\u001b[0m\u001b[0;34m\u001b[0m\u001b[0m\n\u001b[1;32m      4\u001b[0m     \u001b[0mprint\u001b[0m\u001b[0;34m(\u001b[0m\u001b[0mthis_title\u001b[0m\u001b[0;34m)\u001b[0m\u001b[0;34m\u001b[0m\u001b[0;34m\u001b[0m\u001b[0m\n\u001b[1;32m      5\u001b[0m     \u001b[0mtitle_list\u001b[0m\u001b[0;34m.\u001b[0m\u001b[0mappend\u001b[0m\u001b[0;34m(\u001b[0m\u001b[0mthis_title\u001b[0m\u001b[0;34m)\u001b[0m\u001b[0;34m\u001b[0m\u001b[0;34m\u001b[0m\u001b[0m\n",
      "\u001b[0;32m/anaconda3/lib/python3.6/site-packages/bs4/element.py\u001b[0m in \u001b[0;36m__getattr__\u001b[0;34m(self, key)\u001b[0m\n\u001b[1;32m   1618\u001b[0m     \u001b[0;32mdef\u001b[0m \u001b[0m__getattr__\u001b[0m\u001b[0;34m(\u001b[0m\u001b[0mself\u001b[0m\u001b[0;34m,\u001b[0m \u001b[0mkey\u001b[0m\u001b[0;34m)\u001b[0m\u001b[0;34m:\u001b[0m\u001b[0;34m\u001b[0m\u001b[0;34m\u001b[0m\u001b[0m\n\u001b[1;32m   1619\u001b[0m         raise AttributeError(\n\u001b[0;32m-> 1620\u001b[0;31m             \u001b[0;34m\"ResultSet object has no attribute '%s'. You're probably treating a list of items like a single item. Did you call find_all() when you meant to call find()?\"\u001b[0m \u001b[0;34m%\u001b[0m \u001b[0mkey\u001b[0m\u001b[0;34m\u001b[0m\u001b[0;34m\u001b[0m\u001b[0m\n\u001b[0m\u001b[1;32m   1621\u001b[0m         )\n",
      "\u001b[0;31mAttributeError\u001b[0m: ResultSet object has no attribute 'find_all'. You're probably treating a list of items like a single item. Did you call find_all() when you meant to call find()?"
     ]
    }
   ],
   "source": [
    "title_list = []\n",
    "for row in my_table.find_all('div', class_ = 'item_title'):\n",
    "    this_title = [x.text for x in row.find_all('em')]\n",
    "    print(this_title)\n",
    "    title_list.append(this_title)"
   ]
  },
  {
   "cell_type": "code",
   "execution_count": null,
   "metadata": {},
   "outputs": [],
   "source": [
    "my_table"
   ]
  },
  {
   "cell_type": "markdown",
   "metadata": {},
   "source": [
    "### 2019 as an example to see if we can get the data"
   ]
  },
  {
   "cell_type": "code",
   "execution_count": 26,
   "metadata": {},
   "outputs": [],
   "source": [
    "conn = HTTPSConnection(host = 'www.federalreserve.gov')\n",
    "conn.request(method='GET', url = '/newsevents/speech/2019-speeches.htm')"
   ]
  },
  {
   "cell_type": "code",
   "execution_count": 27,
   "metadata": {},
   "outputs": [],
   "source": [
    "resp = conn.getresponse()"
   ]
  },
  {
   "cell_type": "code",
   "execution_count": 28,
   "metadata": {},
   "outputs": [
    {
     "data": {
      "text/plain": [
       "'text/html'"
      ]
     },
     "execution_count": 28,
     "metadata": {},
     "output_type": "execute_result"
    }
   ],
   "source": [
    "resp.headers['Content-Type']"
   ]
  },
  {
   "cell_type": "code",
   "execution_count": 29,
   "metadata": {},
   "outputs": [],
   "source": [
    "body = resp.read()"
   ]
  },
  {
   "cell_type": "code",
   "execution_count": 30,
   "metadata": {},
   "outputs": [
    {
     "name": "stdout",
     "output_type": "stream",
     "text": [
      "<class 'int'>\n"
     ]
    }
   ],
   "source": [
    "print(type(resp.status))"
   ]
  },
  {
   "cell_type": "code",
   "execution_count": 31,
   "metadata": {},
   "outputs": [
    {
     "data": {
      "text/plain": [
       "59198"
      ]
     },
     "execution_count": 31,
     "metadata": {},
     "output_type": "execute_result"
    }
   ],
   "source": [
    "len(body)"
   ]
  },
  {
   "cell_type": "code",
   "execution_count": 32,
   "metadata": {},
   "outputs": [],
   "source": [
    "# now lets get the 'div' with class = 'row eventlist'\n",
    "soup=BeautifulSoup(body)"
   ]
  },
  {
   "cell_type": "code",
   "execution_count": 33,
   "metadata": {},
   "outputs": [
    {
     "data": {
      "text/plain": [
       "'<!DOCTYPE html>\\n<html class=\"no-js\" lang=\"en\">\\n <head>\\n  <meta charset=\"utf-8\"/>\\n  <meta content=\"IE=edge\" http-equiv=\"X-UA-Compatible\"/>\\n  <meta content=\"width=device-width, initial-scale=1.0, minimum-scale=1.0 maximum-scale=1.6, user-scalable=1\" name=\"viewport\"/>\\n  <meta content=\"Board of Governors of The Federal Reserve System\" name=\"description\"/>\\n  <meta content=\"2019\" property=\"og:title\"/>\\n  <meta content=\"Board of Governors of the Federal Reserve System\" property=\"og:site_name\"/>\\n  <meta content=\"article\" property=\"og:type\"/>\\n  <meta content=\"Board of Governors of The Federal Reserve System\" property=\"og:description\"/>\\n  <meta content=\"/Social_Default_Image.jpg\" property=\"og:image\"/>\\n  <meta content=\"summary\" name=\"twitter:card\"/>\\n  <meta content=\"2019\" name=\"twitter:title\"/>\\n  <meta content=\"Board of Governors of The Federal Reserve System\" name=\"twitter:description\"/>\\n  <meta content=\"/Social_Default_Image.jpg\" name=\"twitter:image\"/>\\n  <title>\\n   Federal Reserve Board - 2019 Speeches\\n  </title>\\n  <link href=\"/css/bootstrap.css\" rel=\"stylesheet\" type=\"text/css\"/>\\n  <link href=\"/css/bluesteel-theme.css\" rel=\"stylesheet\" type=\"text/css\"/>\\n  <script src=\"/js/modernizr-latest.js\" type=\"text/javascript\">\\n  </script>\\n  <script src=\"/js/grunticon.loader.js\">\\n  </script>\\n  <script>\\n   grunticon([\"/css/icons.data.svg.css\", \"/css/icons.data.png.css\", \"/css/icons.fallback.css\"]);\\n  </script>\\n  <noscript>\\n   <link href=\"/css/icons.fallback.css\" rel=\"stylesheet\"/>\\n  </noscript>\\n  <script src=\"/js/angular.min.js\" type=\"text/javascript\">\\n  </script>\\n  <script src=\"/js/app.js\" type=\"text/javascript\">\\n  </script>\\n  <!-- For Linear Gradients in IE9 or greater -->\\n  <!--[if gte IE 9]>\\n        <style type=\"text/css\">\\n          .gradient {\\n             filter: none;\\n          }\\n        </style>\\n      <![endif]-->\\n  <script type=\"text/javascript\">\\n   (function(i,s,o,g,r,a,m){i[\\'GoogleAnalyticsObject\\']=r;i[r]=i[r]||function(){\\n  (i[r].q=i[r].q||[]).push(arguments)},i[r].l=1*new Date();a=s.createElement(o),\\n  m=s.getElementsByTagName(o)[0];a.async=1;a.src=g;m.parentNode.insertBefore(a,m)\\n  })(window,document,\\'script\\',\\'//www.google-analytics.com/analytics.js\\',\\'ga\\');\\n  ga(\\'create\\', \\'UA-35121701-1\\', \\'federalreserve.gov\\', {\\'cookieExpires\\': 0});\\n  ga(\\'set\\', \\'anonymizeIp\\', true);\\n  ga(\\'send\\', \\'pageview\\');\\n  </script>\\n </head>\\n <body>\\n  <a class=\"globalskip\" href=\"#content\">\\n   Skip to main content\\n  </a>\\n  <nav class=\"nav-primary-mobile\" id=\"nav-primary-mobile\">\\n  </nav>\\n  <div class=\"t1_nav navbar navbar-default navbar-fixed-top\" role=\"navigation\">\\n   <div class=\"t1_container clearfix\">\\n    <a class=\"btn btn-default icon-FRB_logo-bw visible-xs-table-cell t1__btnlogo\" href=\"/default.htm\" id=\"logo\" role=\"button\">\\n     <span class=\"sr-only\">\\n      Back to Home\\n     </span>\\n    </a>\\n    <a class=\"visible-xs-table-cell t1__banner\" href=\"/default.htm\" id=\"banner\" role=\"button\" title=\"Link to Home Page\">\\n     Board of Governors of the Federal Reserve System\\n    </a>\\n    <ul class=\"nav navbar-nav visible-md visible-lg t1_toplinks\">\\n     <li class=\"navbar-text navbar-text__social\">\\n      <span class=\"navbar-link\" tabindex=\"0\">\\n       Stay Connected\\n      </span>\\n      <ul class=\"nav navbar-nav t1_social\">\\n       <li class=\"social__item\">\\n        <a class=\"noIcon\" data-icon=\"facebook\" href=\"https://www.facebook.com/federalreserve\">\\n         <div class=\"icon-facebook-color icon icon__sm\">\\n         </div>\\n         <span class=\"sr-only\">\\n          Link to Federal Reserve Facebook Page\\n         </span>\\n        </a>\\n       </li>\\n       <li class=\"social__item\">\\n        <a class=\"noIcon\" data-icon=\"twitter\" href=\"https://twitter.com/federalreserve\">\\n         <div class=\"icon-twitter-color icon icon__sm\">\\n         </div>\\n         <span class=\"sr-only\">\\n          Link to Federal Reserve Twitter Page\\n         </span>\\n        </a>\\n       </li>\\n       <li class=\"social__item\">\\n        <a class=\"noIcon\" data-icon=\"youtube\" href=\"https://www.youtube.com/federalreserve\">\\n         <div class=\"icon-youtube-color icon icon__sm\">\\n         </div>\\n         <span class=\"sr-only\">\\n          Link to Federal Reserve YouTube Page\\n         </span>\\n        </a>\\n       </li>\\n       <li class=\"social__item\">\\n        <a class=\"noIcon\" data-icon=\"flickr\" href=\"https://www.flickr.com/photos/federalreserve/\">\\n         <div class=\"icon-flickr-color icon icon__sm\">\\n         </div>\\n         <span class=\"sr-only\">\\n          Link to Federal Reserve Flickr Page\\n         </span>\\n        </a>\\n       </li>\\n       <li class=\"social__item\">\\n        <a class=\"noIcon\" data-icon=\"linkedin\" href=\"https://www.linkedin.com/company/federal-reserve-board\">\\n         <div class=\"icon-linkedin-color icon icon__sm\">\\n         </div>\\n         <span class=\"sr-only\">\\n          Federal Reserve LinkedIn Page\\n         </span>\\n        </a>\\n       </li>\\n       <li class=\"social__item\">\\n        <a class=\"noIcon\" data-icon=\"rss\" href=\"/feeds/feeds.htm\">\\n         <div class=\"icon-rss-color icon icon__sm\">\\n         </div>\\n         <span class=\"sr-only\">\\n          Subscribe to RSS\\n         </span>\\n        </a>\\n       </li>\\n       <li class=\"social__item\">\\n        <a class=\"noIcon\" data-icon=\"email\" href=\"/subscribe.htm\">\\n         <div class=\"icon-email-color icon icon__sm\">\\n         </div>\\n         <span class=\"sr-only\">\\n          Subscribe to Email\\n         </span>\\n        </a>\\n       </li>\\n      </ul>\\n     </li>\\n     <li class=\"navbar-text\">\\n      <a class=\"navbar-link\" href=\"/recentpostings.htm\">\\n       Recent Postings\\n      </a>\\n     </li>\\n     <li class=\"navbar-text\">\\n      <a class=\"navbar-link\" href=\"/newsevents/calendar.htm\">\\n       Calendar\\n      </a>\\n     </li>\\n     <li class=\"navbar-text\">\\n      <a class=\"navbar-link\" href=\"/publications.htm\">\\n       Publications\\n      </a>\\n     </li>\\n     <li class=\"navbar-text\">\\n      <a class=\"navbar-link\" href=\"/sitemap.htm\">\\n       Site Map\\n      </a>\\n     </li>\\n     <li class=\"navbar-text\">\\n      <a class=\"navbar-link\" href=\"/azindex.htm\">\\n       A-Z index\\n      </a>\\n     </li>\\n     <li class=\"navbar-text\">\\n      <a class=\"navbar-link\" href=\"/careers.htm\">\\n       Careers\\n      </a>\\n     </li>\\n     <li class=\"navbar-text\">\\n      <a class=\"navbar-link\" href=\"/faqs.htm\">\\n       FAQs\\n      </a>\\n     </li>\\n     <li class=\"navbar-text\">\\n      <a class=\"navbar-link\" href=\"/videos.htm\">\\n       Videos\\n      </a>\\n     </li>\\n     <li class=\"navbar-text\">\\n      <a class=\"navbar-link\" href=\"/aboutthefed/contact-us-topics.htm\">\\n       Contact\\n      </a>\\n     </li>\\n    </ul>\\n    <form action=\"//www.fedsearch.org/board_public/search\" class=\"nav navbar-form hidden-xs nav__search\" method=\"get\" role=\"search\">\\n     <div class=\"form-group input-group input-group-sm\">\\n      <label class=\"sr-only\" for=\"t1search\">\\n       Search\\n      </label>\\n      <input class=\"nav__input form-control\" id=\"t1search\" name=\"text\" placeholder=\"Search\" type=\"text\"/>\\n      <span class=\"input-group-btn\">\\n       <button class=\"nav__button btn btn-default\" id=\"headerTopLinksSearchFormSubmit\" name=\"Search\" type=\"submit\">\\n        <span class=\"sr-only\">\\n         Submit Search Button\\n        </span>\\n        <span class=\"icon-magnifying-glass icon icon__xs icon--right\">\\n        </span>\\n       </button>\\n      </span>\\n     </div>\\n     <div class=\"nav__advanced\">\\n      <a class=\"noIcon\" href=\"//www.fedsearch.org/board_public\">\\n       Advanced\\n      </a>\\n     </div>\\n    </form>\\n    <div class=\"btn-group visible-xs-table-cell visible-sm-table-cell t1__dropdown\">\\n     <span class=\"icon icon__md icon--right dropdown-toggle icon-options-nav\" data-toggle=\"dropdown\">\\n      <span class=\"sr-only\">\\n       Toggle Dropdown Menu\\n      </span>\\n     </span>\\n    </div>\\n   </div>\\n  </div>\\n  <header class=\"jumbotron hidden-xs\">\\n   <a class=\"jumbotron__link\" href=\"/default.htm\" title=\"Link to Home Page\">\\n    <div class=\"container-fluid\">\\n     <h1 class=\"jumbotron__heading\">\\n      Board of Governors of the Federal Reserve System\\n     </h1>\\n     <p class=\"jumbotron__content\">\\n      <em>\\n       The Federal Reserve, the central bank of the United States, provides the nation with a safe, flexible, and stable monetary and financial system.\\n      </em>\\n     </p>\\n    </div>\\n   </a>\\n  </header>\\n  <div class=\"t2__offcanvas visible-xs-block\">\\n   <div class=\"navbar-header\">\\n    <button class=\"offcanvas__toggle icon-offcanvas-nav\" data-canvas=\"body\" data-target=\"#offcanvasT2Menu\" data-toggle=\"offcanvas\" type=\"button\">\\n     <span class=\"sr-only\">\\n      Main Menu Toggle Button\\n     </span>\\n    </button>\\n    <span class=\"navbar-brand offcanvas__title\">\\n     Sections\\n    </span>\\n    <button class=\"offcanvas__search icon-search-nav\" data-target=\"#navbar-collapse\" data-toggle=\"collapse\" type=\"button\">\\n     <span class=\"sr-only\">\\n      Search Toggle Button\\n     </span>\\n    </button>\\n   </div>\\n   <div class=\"navbar-collapse collapse mobile-form\" id=\"navbar-collapse\">\\n    <form action=\"//www.fedsearch.org/board_public/search\" class=\"navbar-form\" method=\"get\" role=\"search\">\\n     <div class=\"form-group input-group mobileSearch\">\\n      <label class=\"sr-only\" for=\"t2search\">\\n       Search\\n      </label>\\n      <input class=\"form-control\" id=\"t2search\" name=\"text\" placeholder=\"Search\" type=\"text\"/>\\n      <span class=\"input-group-btn\">\\n       <span class=\"sr-only\">\\n        Search Submit Button\\n       </span>\\n       <button class=\"btn btn-default\" type=\"submit\">\\n        Submit\\n       </button>\\n      </span>\\n     </div>\\n    </form>\\n   </div>\\n  </div>\\n  <nav class=\"nav-primary navbar hidden-xs\" id=\"nav-primary\" role=\"navigation\">\\n   <ul class=\"nav navbar-nav\" role=\"menubar\">\\n    <li class=\"dropdown nav-about dropdown--3Col\" role=\"menuitem\">\\n     <a aria-haspopup=\"true\" class=\"sr-only-focusable\" href=\"/aboutthefed.htm\" id=\"aboutMenu\">\\n      About\\n      <br/>\\n      the Fed\\n     </a>\\n     <ul aria-labelledby=\"aboutMenu\" class=\"dropdown-menu sub-nav-group navmenu-nav\" role=\"menu\">\\n      <li>\\n       <div class=\"row\">\\n        <ul class=\"col-sm-4 list-unstyled\">\\n         <li>\\n          <a class=\"sr-only-focusable\" href=\"/aboutthefed/structure-federal-reserve-system.htm\">\\n           Structure of the Federal Reserve System\\n          </a>\\n         </li>\\n         <li>\\n          <a class=\"sr-only-focusable\" href=\"/aboutthefed/pf.htm\">\\n           Purposes &amp; Functions\\n          </a>\\n         </li>\\n         <li>\\n          <a class=\"sr-only-focusable\" href=\"/aboutthefed/bios/board/default.htm\">\\n           Board Members\\n          </a>\\n         </li>\\n         <li>\\n          <a class=\"sr-only-focusable\" href=\"/aboutthefed/advisorydefault.htm\">\\n           Advisory Councils\\n          </a>\\n         </li>\\n         <li>\\n          <a class=\"sr-only-focusable\" href=\"/aboutthefed/federal-reserve-system.htm\">\\n           Federal Reserve Banks\\n          </a>\\n         </li>\\n         <li>\\n          <a class=\"sr-only-focusable\" href=\"/aboutthefed/fract.htm\">\\n           Federal Reserve Act\\n          </a>\\n         </li>\\n         <li>\\n          <a class=\"sr-only-focusable\" href=\"/aboutthefed/currency.htm\">\\n           Currency\\n          </a>\\n         </li>\\n        </ul>\\n        <ul class=\"col-sm-4 list-unstyled\">\\n         <li>\\n          <a class=\"sr-only-focusable\" href=\"/aboutthefed/boardmeetings/meetingdates.htm\">\\n           Board Meetings\\n          </a>\\n         </li>\\n         <li>\\n          <a class=\"sr-only-focusable\" href=\"/aboutthefed/boardvotes.htm\">\\n           Board Votes\\n          </a>\\n         </li>\\n         <li>\\n          <a class=\"sr-only-focusable\" href=\"/aboutthefed/diversityinclusion.htm\">\\n           Diversity &amp; Inclusion\\n          </a>\\n         </li>\\n         <li>\\n          <a class=\"sr-only-focusable\" href=\"/careers.htm\">\\n           Careers\\n          </a>\\n         </li>\\n         <li>\\n          <a class=\"sr-only-focusable\" href=\"/aboutthefed/procurement/about.htm\">\\n           Do Business with the Board\\n          </a>\\n         </li>\\n         <li>\\n          <a class=\"sr-only-focusable\" href=\"/aboutthefed/k8.htm\">\\n           Holidays Observed - K.8\\n          </a>\\n         </li>\\n        </ul>\\n        <ul class=\"col-sm-4 list-unstyled\">\\n         <li>\\n          <a class=\"sr-only-focusable\" href=\"/aboutthefed/contact-us-topics.htm\">\\n           Contact\\n          </a>\\n         </li>\\n         <li>\\n          <a class=\"sr-only-focusable\" href=\"/foia/about_foia.htm\">\\n           Requesting Information (FOIA)\\n          </a>\\n         </li>\\n         <li>\\n          <a class=\"sr-only-focusable\" href=\"/faqs.htm\">\\n           FAQs\\n          </a>\\n         </li>\\n         <li>\\n          <a class=\"sr-only-focusable\" href=\"/aboutthefed/fed-financial-statements.htm\">\\n           Fed Financial Statements\\n          </a>\\n         </li>\\n        </ul>\\n       </div>\\n      </li>\\n     </ul>\\n    </li>\\n    <li class=\"dropdown nav-news dropdown--1Col\" role=\"menuitem\">\\n     <a aria-haspopup=\"true\" class=\"sr-only-focusable\" href=\"/newsevents.htm\" id=\"newsMenu\">\\n      News\\n      <br/>\\n      &amp; Events\\n     </a>\\n     <ul aria-labelledby=\"newsMenu\" class=\"dropdown-menu sub-nav-group navmenu-nav\" role=\"menu\">\\n      <li>\\n       <a class=\"sr-only-focusable\" href=\"/newsevents/pressreleases.htm\">\\n        Press Releases\\n       </a>\\n      </li>\\n      <li>\\n       <a class=\"sr-only-focusable\" href=\"/newsevents/speeches.htm\">\\n        Speeches\\n       </a>\\n      </li>\\n      <li>\\n       <a class=\"sr-only-focusable\" href=\"/newsevents/testimony.htm\">\\n        Testimony\\n       </a>\\n      </li>\\n      <li>\\n       <a class=\"sr-only-focusable\" href=\"/newsevents/calendar.htm\">\\n        Calendar\\n       </a>\\n      </li>\\n      <li>\\n       <a class=\"sr-only-focusable\" href=\"/videos.htm\">\\n        Videos\\n       </a>\\n      </li>\\n      <li>\\n       <a class=\"sr-only-focusable\" href=\"/photogallery.htm\">\\n        Photo Gallery\\n       </a>\\n      </li>\\n     </ul>\\n    </li>\\n    <li class=\"dropdown nav-monetary dropdown--2Col\" role=\"menuitem\">\\n     <a aria-haspopup=\"true\" class=\"sr-only-focusable\" href=\"/monetarypolicy.htm\" id=\"monetaryMenu\">\\n      Monetary\\n      <br/>\\n      Policy\\n     </a>\\n     <ul aria-labelledby=\"monetaryMenu\" class=\"dropdown-menu sub-nav-group navmenu-nav\" role=\"menu\">\\n      <li>\\n       <div class=\"row\">\\n        <ul class=\"col-sm-6 list-unstyled\">\\n         <li class=\"nav__header\">\\n          <p>\\n           <strong>\\n            Federal Open Market Committee\\n           </strong>\\n          </p>\\n         </li>\\n         <li>\\n          <a class=\"sr-only-focusable\" href=\"/monetarypolicy/fomc.htm\">\\n           About the FOMC\\n          </a>\\n         </li>\\n         <li>\\n          <a class=\"sr-only-focusable\" href=\"/monetarypolicy/fomccalendars.htm\">\\n           Meeting calendars and information\\n          </a>\\n         </li>\\n         <li>\\n          <a class=\"sr-only-focusable\" href=\"/monetarypolicy/fomc_historical.htm\">\\n           Transcripts and other historical materials\\n          </a>\\n         </li>\\n         <li>\\n          <a class=\"sr-only-focusable\" href=\"/monetarypolicy/fomc_projectionsfaqs.htm\">\\n           FAQs\\n          </a>\\n         </li>\\n         <li class=\"nav__header\">\\n          <p>\\n           <strong>\\n            Monetary Policy Principles and Practice\\n           </strong>\\n          </p>\\n         </li>\\n         <li>\\n          <a class=\"sr-only-focusable\" href=\"/monetarypolicy/monetary-policy-principles-and-practice.htm\">\\n           Notes\\n          </a>\\n         </li>\\n        </ul>\\n        <ul class=\"col-sm-6 list-unstyled\">\\n         <li class=\"nav__header\">\\n          <p>\\n           <strong>\\n            Policy Implementation\\n           </strong>\\n          </p>\\n         </li>\\n         <li>\\n          <a class=\"sr-only-focusable\" href=\"/monetarypolicy/policy-normalization.htm\">\\n           Policy Normalization\\n          </a>\\n         </li>\\n         <li>\\n          <a class=\"sr-only-focusable\" href=\"/monetarypolicy/policytools.htm\">\\n           Policy Tools\\n          </a>\\n         </li>\\n         <li class=\"nav__header\">\\n          <p>\\n           <strong>\\n            Reports\\n           </strong>\\n          </p>\\n         </li>\\n         <li>\\n          <a class=\"sr-only-focusable\" href=\"/monetarypolicy/mpr_default.htm\">\\n           Monetary Policy Report\\n          </a>\\n         </li>\\n         <li>\\n          <a class=\"sr-only-focusable\" href=\"/monetarypolicy/beige-book-default.htm\">\\n           Beige Book\\n          </a>\\n         </li>\\n         <li>\\n          <a class=\"sr-only-focusable\" href=\"/monetarypolicy/quarterly-balance-sheet-developments-report.htm\">\\n           Quarterly Report on Federal Reserve Balance Sheet Developments\\n          </a>\\n         </li>\\n         <li class=\"nav__header\">\\n          <p>\\n           <strong>\\n            Review of Monetary Policy Strategy, Tools, and Communications\\n           </strong>\\n          </p>\\n         </li>\\n         <li>\\n          <a class=\"sr-only-focusable\" href=\"/monetarypolicy/review-of-monetary-policy-strategy-tools-and-communications.htm\">\\n           Overview\\n          </a>\\n         </li>\\n        </ul>\\n       </div>\\n      </li>\\n     </ul>\\n    </li>\\n    <li class=\"dropdown nav-supervision dropdown--fw\" role=\"menuitem\">\\n     <a aria-haspopup=\"true\" class=\"sr-only-focusable\" href=\"/supervisionreg.htm\" id=\"supervisionMenu\">\\n      Supervision\\n      <br/>\\n      &amp; Regulation\\n     </a>\\n     <ul aria-labelledby=\"supervisionMenu\" class=\"dropdown-menu sub-nav-group navmenu-nav\" role=\"menu\">\\n      <li>\\n       <div class=\"row\">\\n        <ul class=\"col-sm-3 col-nav list-unstyled\">\\n         <li class=\"nav__header\">\\n          <p>\\n           <strong>\\n            Institution Supervision\\n           </strong>\\n          </p>\\n         </li>\\n         <li>\\n          <a class=\"sr-only-focusable\" href=\"/supervisionreg/community-and-regional-financial-institutions.htm\">\\n           Community &amp; Regional Financial Institutions\\n          </a>\\n         </li>\\n         <li>\\n          <a class=\"sr-only-focusable\" href=\"/supervisionreg/large-financial-institutions.htm\">\\n           Large Financial Institutions\\n          </a>\\n         </li>\\n         <li>\\n          <a class=\"sr-only-focusable\" href=\"/supervisionreg/foreign-banking-organizations.htm\">\\n           Foreign Banking Organizations\\n          </a>\\n         </li>\\n         <li>\\n          <a class=\"sr-only-focusable\" href=\"/supervisionreg/financial-market-utility-supervision.htm\">\\n           Financial Market Utilities\\n          </a>\\n         </li>\\n         <li>\\n          <a class=\"sr-only-focusable\" href=\"/supervisionreg/consumer-compliance.htm\">\\n           Consumer Compliance\\n          </a>\\n         </li>\\n         <li class=\"nav__header\">\\n          <p>\\n           <strong>\\n            Reports\\n           </strong>\\n          </p>\\n         </li>\\n         <li>\\n          <a class=\"sr-only-focusable\" href=\"/publications/supervision-and-regulation-report.htm\">\\n           Federal Reserve Supervision and Regulation Report\\n          </a>\\n         </li>\\n        </ul>\\n        <ul class=\"col-sm-3 list-unstyled col-nav\">\\n         <li class=\"nav__header\">\\n          <p>\\n           <strong>\\n            Reporting Forms\\n           </strong>\\n          </p>\\n         </li>\\n         <li>\\n          <a class=\"sr-only-focusable\" href=\"/apps/reportforms/default.aspx\">\\n           All Reporting Forms\\n          </a>\\n         </li>\\n         <li>\\n          <a class=\"sr-only-focusable\" href=\"/supervisionreg/reporting-forms-whats-new.htm\">\\n           Recent Updates\\n          </a>\\n         </li>\\n         <li>\\n          <a class=\"sr-only-focusable\" href=\"/apps/reportforms/review.aspx\">\\n           Information collections under review\\n          </a>\\n         </li>\\n         <li>\\n          <a class=\"sr-only-focusable\" href=\"/apps/reportforms/categoryindex.aspx?xTdTa+FaSlI=\">\\n           Financial Statements\\n          </a>\\n         </li>\\n         <li>\\n          <a class=\"sr-only-focusable\" href=\"/apps/reportforms/categoryindex.aspx?+PhkJwiBjbA=\">\\n           Applications/structure change\\n          </a>\\n         </li>\\n         <li>\\n          <a class=\"sr-only-focusable\" href=\"/apps/reportforms/categoryindex.aspx?1/RIXO/UduI=\">\\n           Federal Financial Institutions Examination Council (FFIEC)\\n          </a>\\n         </li>\\n         <li>\\n          <a class=\"sr-only-focusable\" href=\"/apps/reportforms/categoryindex.aspx?L877VwEj9Ss=\">\\n           Municipal &amp; Government Securities\\n          </a>\\n         </li>\\n        </ul>\\n        <ul class=\"col-sm-3 list-unstyled col-nav\">\\n         <li class=\"nav__header\">\\n          <p>\\n           <strong>\\n            Supervision &amp; Regulation Letters\\n           </strong>\\n          </p>\\n         </li>\\n         <li>\\n          <a class=\"sr-only-focusable\" href=\"/supervisionreg/srletters/srletters.htm\">\\n           By Year\\n          </a>\\n         </li>\\n         <li>\\n          <a class=\"sr-only-focusable\" href=\"/supervisionreg/topics/topics.htm\">\\n           By Topic\\n          </a>\\n         </li>\\n         <li class=\"nav__header\">\\n          <p>\\n           <strong>\\n            Banking Applications &amp; Legal Developments\\n           </strong>\\n          </p>\\n         </li>\\n         <li>\\n          <a class=\"sr-only-focusable\" href=\"/supervisionreg/application-process.htm\">\\n           Application Process\\n          </a>\\n         </li>\\n         <li>\\n          <a class=\"sr-only-focusable\" href=\"/supervisionreg/board-and-reserve-bank-actions.htm\">\\n           Board &amp; Reserve Bank Action\\n          </a>\\n         </li>\\n         <li>\\n          <a class=\"sr-only-focusable\" href=\"/supervisionreg/legal-developments.htm\">\\n           Enforcement Actions &amp; Legal Developments\\n          </a>\\n         </li>\\n        </ul>\\n        <ul class=\"col-sm-3 list-unstyled col-nav\">\\n         <li class=\"nav__header\">\\n          <p>\\n           <strong>\\n            Regulatory Resources\\n           </strong>\\n          </p>\\n         </li>\\n         <li>\\n          <a class=\"sr-only-focusable\" href=\"/supervisionreg/reglisting.htm\">\\n           Regulations\\n          </a>\\n         </li>\\n         <li>\\n          <a class=\"sr-only-focusable\" href=\"/publications/supmanual.htm\">\\n           Manuals\\n          </a>\\n         </li>\\n         <li>\\n          <a class=\"sr-only-focusable\" href=\"/supervisionreg/basel/basel-default.htm\">\\n           Basel Regulatory Framework\\n          </a>\\n         </li>\\n         <li>\\n          <a class=\"sr-only-focusable\" href=\"/supervisionreg/volcker-rule.htm\">\\n           Volcker Rule\\n          </a>\\n         </li>\\n         <li>\\n          <a class=\"sr-only-focusable\" href=\"/supervisionreg/training-and-assistance-landing.htm\">\\n           Education, Training, and Assistance\\n          </a>\\n         </li>\\n        </ul>\\n        <ul class=\"col-sm-3 list-unstyled col-nav\">\\n         <li class=\"nav__header\">\\n          <p>\\n           <strong>\\n            Banking &amp; Data Structure\\n           </strong>\\n          </p>\\n         </li>\\n         <li>\\n          <a class=\"sr-only-focusable\" href=\"/apps/reportforms/insider.aspx\">\\n           Beneficial Ownership reports\\n          </a>\\n         </li>\\n         <li>\\n          <a class=\"sr-only-focusable\" href=\"/releases/lbr/\">\\n           Large Commercial Banks\\n          </a>\\n         </li>\\n         <li>\\n          <a class=\"sr-only-focusable\" href=\"/releases/mob/\">\\n           Minority-Owned Depository Institutions\\n          </a>\\n         </li>\\n         <li>\\n          <a class=\"sr-only-focusable\" href=\"/releases/iba/\">\\n           U.S. Offices of Foreign Entities\\n          </a>\\n         </li>\\n         <li>\\n          <a class=\"sr-only-focusable\" href=\"/supervisionreg/fhc.htm\">\\n           Financial Holding Companies\\n          </a>\\n         </li>\\n         <li>\\n          <a class=\"sr-only-focusable\" href=\"/supervisionreg/isb-default.htm\">\\n           Interstate Branching\\n          </a>\\n         </li>\\n         <li>\\n          <a class=\"sr-only-focusable\" href=\"/supervisionreg/suds.htm\">\\n           Securities Underwriting &amp; Dealing Subsidiaries\\n          </a>\\n         </li>\\n        </ul>\\n       </div>\\n      </li>\\n     </ul>\\n    </li>\\n    <li class=\"dropdown nav-payment dropdown--fw\" role=\"menuitem\">\\n     <a aria-haspopup=\"true\" class=\"sr-only-focusable\" href=\"/paymentsystems.htm\" id=\"paymentMenu\">\\n      Payment\\n      <br/>\\n      Systems\\n     </a>\\n     <ul aria-labelledby=\"paymentMenu\" class=\"dropdown-menu sub-nav-group navmenu-nav\" role=\"menu\">\\n      <li>\\n       <div class=\"row\">\\n        <ul class=\"col-sm-3 col-nav list-unstyled\">\\n         <li class=\"nav__header\">\\n          <p>\\n           <strong>\\n            Regulations &amp; Statutes\\n           </strong>\\n          </p>\\n         </li>\\n         <li>\\n          <a class=\"sr-only-focusable\" href=\"/paymentsystems/regcc-about.htm\">\\n           Regulation CC (Availability of Funds and Collection of Checks)\\n          </a>\\n         </li>\\n         <li>\\n          <a class=\"sr-only-focusable\" href=\"/paymentsystems/regii-about.htm\">\\n           Regulation II (Debit Card Interchange Fees and Routing)\\n          </a>\\n         </li>\\n         <li>\\n          <a class=\"sr-only-focusable\" href=\"/paymentsystems/reghh-about.htm\">\\n           Regulation HH (Financial Market Utilities)\\n          </a>\\n         </li>\\n         <li>\\n          <a class=\"sr-only-focusable\" href=\"/paymentsystems/other-regulations.htm\">\\n           Other Regulations and Statutes\\n          </a>\\n         </li>\\n        </ul>\\n        <ul class=\"col-sm-3 list-unstyled col-nav\">\\n         <li class=\"nav__header\">\\n          <p>\\n           <strong>\\n            Payment Policies\\n           </strong>\\n          </p>\\n         </li>\\n         <li>\\n          <a class=\"sr-only-focusable\" href=\"/paymentsystems/pfs_about.htm\">\\n           Federal Reserve\\'s Key Policies for the Provision of Financial Services\\n          </a>\\n         </li>\\n         <li>\\n          <a class=\"sr-only-focusable\" href=\"/paymentsystems/oo_about.htm\">\\n           Overnight Overdrafts\\n          </a>\\n         </li>\\n         <li>\\n          <a class=\"sr-only-focusable\" href=\"/paymentsystems/psr_about.htm\">\\n           Payment System Risk\\n          </a>\\n         </li>\\n         <li>\\n          <a class=\"sr-only-focusable\" href=\"/paymentsystems/telecomm.htm\">\\n           Sponsorship for Priority Telecommunication Services\\n          </a>\\n         </li>\\n        </ul>\\n        <ul class=\"col-sm-3 list-unstyled col-nav\">\\n         <li class=\"nav__header\">\\n          <p>\\n           <strong>\\n            Reserve Bank Payment Services &amp; Data\\n           </strong>\\n          </p>\\n         </li>\\n         <li>\\n          <a class=\"sr-only-focusable\" href=\"/paymentsystems/fedach_about.htm\">\\n           Automated Clearinghouse Services\\n          </a>\\n         </li>\\n         <li>\\n          <a class=\"sr-only-focusable\" href=\"/paymentsystems/check_about.htm\">\\n           Check Services\\n          </a>\\n         </li>\\n         <li>\\n          <a class=\"sr-only-focusable\" href=\"/paymentsystems/coin_about.htm\">\\n           Currency and Coin Services\\n          </a>\\n         </li>\\n         <li>\\n          <a class=\"sr-only-focusable\" href=\"/paymentsystems/psr_data.htm\">\\n           Daylight Overdrafts and Fees\\n          </a>\\n         </li>\\n         <li>\\n          <a class=\"sr-only-focusable\" href=\"/paymentsystems/fedfunds_about.htm\">\\n           Fedwire Funds Services\\n          </a>\\n         </li>\\n         <li>\\n          <a class=\"sr-only-focusable\" href=\"/paymentsystems/fedsecs_about.htm\">\\n           Fedwire Securities Services\\n          </a>\\n         </li>\\n         <li>\\n          <a class=\"sr-only-focusable\" href=\"/paymentsystems/fisagy_about.htm\">\\n           Fiscal Agency Services\\n          </a>\\n         </li>\\n         <li>\\n          <a class=\"sr-only-focusable\" href=\"/paymentsystems/natl_about.htm\">\\n           National Settlement Service\\n          </a>\\n         </li>\\n        </ul>\\n        <ul class=\"col-sm-3 list-unstyled col-nav\">\\n         <li class=\"nav__header\">\\n          <p>\\n           <strong>\\n            Financial Market Utilities &amp; Infrastructures\\n           </strong>\\n          </p>\\n         </li>\\n         <li>\\n          <a class=\"sr-only-focusable\" href=\"/paymentsystems/over_about.htm\">\\n           Supervision &amp; Oversight of Financial Market Infrastructures\\n          </a>\\n         </li>\\n         <li>\\n          <a class=\"sr-only-focusable\" href=\"/paymentsystems/designated_fmu_about.htm\">\\n           Designated Financial Market Utilities\\n          </a>\\n         </li>\\n         <li>\\n          <a class=\"sr-only-focusable\" href=\"/paymentsystems/int_standards.htm\">\\n           International Standards for Financial Market Infrastructures\\n          </a>\\n         </li>\\n        </ul>\\n        <ul class=\"col-sm-3 list-unstyled col-nav\">\\n         <li class=\"nav__header\">\\n          <p>\\n           <strong>\\n            Research, Committees, and Forums\\n           </strong>\\n          </p>\\n         </li>\\n         <li>\\n          <a class=\"sr-only-focusable\" href=\"/paymentsystems/payres_about.htm\">\\n           Payment Research\\n          </a>\\n         </li>\\n         <li>\\n          <a class=\"sr-only-focusable\" href=\"/paymentsystems/pspa_committee.htm\">\\n           Payments System Policy Advisory Committee\\n          </a>\\n         </li>\\n         <li>\\n          <a class=\"sr-only-focusable\" href=\"/paymentsystems/forums.htm\">\\n           Forums\\n          </a>\\n         </li>\\n        </ul>\\n       </div>\\n      </li>\\n     </ul>\\n    </li>\\n    <li class=\"dropdown nav-econ dropdown--right dropdown--2Col\" role=\"menuitem\">\\n     <a aria-haspopup=\"true\" class=\"sr-only-focusable\" href=\"/econres.htm\" id=\"econMenu\">\\n      Economic\\n      <br/>\\n      Research\\n     </a>\\n     <ul aria-labelledby=\"econMenu\" class=\"dropdown-menu sub-nav-group navmenu-nav\" role=\"menu\">\\n      <li>\\n       <div class=\"row\">\\n        <ul class=\"col-sm-6 list-unstyled\">\\n         <li class=\"nav__header\">\\n          <p>\\n           <strong>\\n            Working Papers and Notes\\n           </strong>\\n          </p>\\n         </li>\\n         <li>\\n          <a class=\"sr-only-focusable\" href=\"/econres/feds/index.htm\">\\n           Finance and Economics Discussion Series (FEDS)\\n          </a>\\n         </li>\\n         <li>\\n          <a class=\"sr-only-focusable\" href=\"/econres/notes/feds-notes/default.htm\">\\n           FEDS Notes\\n          </a>\\n         </li>\\n         <li>\\n          <a class=\"sr-only-focusable\" href=\"/econres/ifdp/index.htm\">\\n           International Finance Discussion Papers (IFDP)\\n          </a>\\n         </li>\\n         <li>\\n          <a class=\"sr-only-focusable\" href=\"/econres/notes/ifdp-notes/default.htm\">\\n           IFDP Notes\\n          </a>\\n         </li>\\n        </ul>\\n        <ul class=\"col-sm-6 list-unstyled\">\\n         <li>\\n          <a class=\"sr-only-focusable\" href=\"/econres/theeconomists.htm\">\\n           Meet the Economists\\n          </a>\\n         </li>\\n         <li class=\"nav__header\">\\n          <p>\\n           <strong>\\n            Models and Tools\\n           </strong>\\n          </p>\\n         </li>\\n         <li>\\n          <a class=\"sr-only-focusable\" href=\"/econres/us-models-about.htm\">\\n           FRB/US Model\\n          </a>\\n         </li>\\n         <li>\\n          <a class=\"sr-only-focusable\" href=\"/econres/edo-models-about.htm\">\\n           Estimated Dynamic Optimization (EDO) Model\\n          </a>\\n         </li>\\n         <li>\\n          <a class=\"sr-only-focusable\" href=\"/econres/scfindex.htm\">\\n           Survey of Consumer Finances (SCF)\\n          </a>\\n         </li>\\n        </ul>\\n       </div>\\n      </li>\\n     </ul>\\n    </li>\\n    <li class=\"dropdown nav-data dropdown--right dropdown--fw\" role=\"menuitem\">\\n     <a aria-haspopup=\"true\" class=\"sr-only-focusable\" href=\"/data.htm\" id=\"dataMenu\">\\n      Data\\n     </a>\\n     <ul aria-labelledby=\"dataMenu\" class=\"dropdown-menu sub-nav-group navmenu-nav\" role=\"menu\">\\n      <li>\\n       <div class=\"row\">\\n        <ul class=\"col-sm-3 col-nav list-unstyled\">\\n         <li class=\"nav__header\">\\n          <p>\\n           <strong>\\n            Bank Assets and Liabilities\\n           </strong>\\n          </p>\\n         </li>\\n         <li>\\n          <a class=\"sr-only-focusable\" href=\"/releases/h3/current/default.htm\">\\n           Aggregate Reserves of Depository Institutions and the Monetary Base - H.3\\n          </a>\\n         </li>\\n         <li>\\n          <a class=\"sr-only-focusable\" href=\"/releases/h8/current/default.htm\">\\n           Assets and Liabilities of Commercial Banks in the U.S. - H.8\\n          </a>\\n         </li>\\n         <li>\\n          <a class=\"sr-only-focusable\" href=\"/data/assetliab/current.htm\">\\n           Assets and Liabilities of U.S. Branches and Agencies of Foreign Banks\\n          </a>\\n         </li>\\n         <li>\\n          <a class=\"sr-only-focusable\" href=\"/releases/chargeoff/\">\\n           Charge-Off and Delinquency Rates on Loans and Leases at Commercial Banks\\n          </a>\\n         </li>\\n         <li>\\n          <a class=\"sr-only-focusable\" href=\"/data/sfos/sfos.htm\">\\n           Senior Financial Officer Survey\\n          </a>\\n         </li>\\n         <li>\\n          <a class=\"sr-only-focusable\" href=\"/data/sloos/sloos.htm\">\\n           Senior Loan Officer Opinion Survey on Bank Lending Practices\\n          </a>\\n         </li>\\n        </ul>\\n        <ul class=\"col-sm-3 list-unstyled col-nav\">\\n         <li class=\"nav__header\">\\n          <p>\\n           <strong>\\n            Bank Structure Data\\n           </strong>\\n          </p>\\n         </li>\\n         <li>\\n          <a class=\"sr-only-focusable\" href=\"/releases/lbr/\">\\n           Large Commercial Banks\\n          </a>\\n         </li>\\n         <li>\\n          <a class=\"sr-only-focusable\" href=\"/releases/mob/\">\\n           Minority-Owned Depository Institutions\\n          </a>\\n         </li>\\n         <li>\\n          <a class=\"sr-only-focusable\" href=\"/releases/iba/default.htm\">\\n           Structure and Share Data for the U.S. Offices of Foreign Banks\\n          </a>\\n         </li>\\n         <li class=\"nav__header\">\\n          <p>\\n           <strong>\\n            Business Finance\\n           </strong>\\n          </p>\\n         </li>\\n         <li>\\n          <a class=\"sr-only-focusable\" href=\"/releases/cp/\">\\n           Commercial Paper\\n          </a>\\n         </li>\\n         <li>\\n          <a class=\"sr-only-focusable\" href=\"/releases/g20/current/g20.htm\">\\n           Finance Companies - G.20\\n          </a>\\n         </li>\\n         <li>\\n          <a class=\"sr-only-focusable\" href=\"/data/govsecure/current.htm\">\\n           New Security Issues, State and Local Governments\\n          </a>\\n         </li>\\n         <li>\\n          <a class=\"sr-only-focusable\" href=\"/data/corpsecure/current.htm\">\\n           New Security Issues, U.S. Corporations\\n          </a>\\n         </li>\\n         <li class=\"nav__header\">\\n          <p>\\n           <strong>\\n            Dealer Financing Terms\\n           </strong>\\n          </p>\\n         </li>\\n         <li>\\n          <a class=\"sr-only-focusable\" href=\"/data/scoos.htm\">\\n           Senior Credit Officer Opinion Survey on Dealer Financing Terms\\n          </a>\\n         </li>\\n        </ul>\\n        <ul class=\"col-sm-3 list-unstyled col-nav\">\\n         <li class=\"nav__header\">\\n          <p>\\n           <strong>\\n            Exchange Rates and International Data\\n           </strong>\\n          </p>\\n         </li>\\n         <li>\\n          <a class=\"sr-only-focusable\" href=\"/releases/h10/current/\">\\n           Foreign Exchange Rates - H.10/G.5\\n          </a>\\n         </li>\\n         <li>\\n          <a class=\"sr-only-focusable\" href=\"/data/intlsumm/current.htm\">\\n           International Summary Statistics\\n          </a>\\n         </li>\\n         <li>\\n          <a class=\"sr-only-focusable\" href=\"/data/secholdtrans/current.htm\">\\n           Securities Holdings and Transactions\\n          </a>\\n         </li>\\n         <li>\\n          <a class=\"sr-only-focusable\" href=\"/data/statbanksus/current.htm\">\\n           Statistics Reported by Banks and Other Financial Firms in the United States\\n          </a>\\n         </li>\\n         <li>\\n          <a class=\"sr-only-focusable\" href=\"/releases/iba/default.htm\">\\n           Structure and Share Data for U.S. Offices of Foreign Banks\\n          </a>\\n         </li>\\n         <li class=\"nav__header\">\\n          <p>\\n           <strong>\\n            Financial Accounts\\n           </strong>\\n          </p>\\n         </li>\\n         <li>\\n          <a class=\"sr-only-focusable\" href=\"/releases/z1/current/default.htm\">\\n           Financial Accounts of the United States - Z.1\\n          </a>\\n         </li>\\n        </ul>\\n        <ul class=\"col-sm-3 list-unstyled col-nav\">\\n         <li class=\"nav__header\">\\n          <p>\\n           <strong>\\n            Household Finance\\n           </strong>\\n          </p>\\n         </li>\\n         <li>\\n          <a class=\"sr-only-focusable\" href=\"/releases/g19/current/default.htm\">\\n           Consumer Credit - G.19\\n          </a>\\n         </li>\\n         <li>\\n          <a class=\"sr-only-focusable\" href=\"/releases/housedebt/default.htm\">\\n           Household Debt Service and Financial Obligations Ratios\\n          </a>\\n         </li>\\n         <li>\\n          <a class=\"sr-only-focusable\" href=\"/data/mortoutstand/current.htm\">\\n           Mortgage Debt Outstanding\\n          </a>\\n         </li>\\n         <li>\\n          <a class=\"sr-only-focusable\" href=\"/econres/scfindex.htm\">\\n           Survey of Consumer Finances (SCF)\\n          </a>\\n         </li>\\n         <li class=\"nav__header\">\\n          <p>\\n           <strong>\\n            Industrial Activity\\n           </strong>\\n          </p>\\n         </li>\\n         <li>\\n          <a class=\"sr-only-focusable\" href=\"/releases/g17/Current/default.htm\">\\n           Industrial Production and Capacity Utilization - G.17\\n          </a>\\n         </li>\\n         <li class=\"nav__header\">\\n          <p>\\n           <strong>\\n            Interest Rates\\n           </strong>\\n          </p>\\n         </li>\\n         <li>\\n          <a class=\"sr-only-focusable\" href=\"/releases/h15/\">\\n           Selected Interest Rates - H.15\\n          </a>\\n         </li>\\n        </ul>\\n        <ul class=\"col-sm-3 list-unstyled col-nav\">\\n         <li class=\"nav__header\">\\n          <p>\\n           <strong>\\n            Micro Data Reference Manual (MDRM)\\n           </strong>\\n          </p>\\n         </li>\\n         <li>\\n          <a class=\"sr-only-focusable\" href=\"/data/mdrm.htm\">\\n           Micro and Macro Data Collections\\n          </a>\\n         </li>\\n         <li class=\"nav__header\">\\n          <p>\\n           <strong>\\n            Money Stock and Reserve Balances\\n           </strong>\\n          </p>\\n         </li>\\n         <li>\\n          <a class=\"sr-only-focusable\" href=\"/releases/h41/\">\\n           Factors Affecting Reserve Balances - H.4.1\\n          </a>\\n         </li>\\n         <li>\\n          <a class=\"sr-only-focusable\" href=\"/releases/h6/current/default.htm\">\\n           Money Stock Measures - H.6\\n          </a>\\n         </li>\\n         <li>\\n          <a class=\"sr-only-focusable\" href=\"/data/scoos.htm\">\\n           Senior Credit Officer Opinion Survey on Dealer Financing Terms\\n          </a>\\n         </li>\\n        </ul>\\n       </div>\\n      </li>\\n     </ul>\\n    </li>\\n    <li class=\"dropdown nav-consumer dropdown--right dropdown--4Col\" role=\"menuitem\">\\n     <a aria-haspopup=\"true\" class=\"sr-only-focusable\" href=\"/consumerscommunities.htm\" id=\"consumerMenu\">\\n      Consumers\\n      <br/>\\n      &amp; Communities\\n     </a>\\n     <ul aria-labelledby=\"consumerMenu\" class=\"dropdown-menu sub-nav-group navmenu-nav\" role=\"menu\">\\n      <li>\\n       <div class=\"row\">\\n        <ul class=\"col-sm-3 list-unstyled\">\\n         <li class=\"nav__header\">\\n          <p>\\n           <strong>\\n            Regulations\\n           </strong>\\n          </p>\\n         </li>\\n         <li>\\n          <a class=\"sr-only-focusable\" href=\"/consumerscommunities/cra_about.htm\">\\n           Community Reinvestment Act (CRA)\\n          </a>\\n         </li>\\n         <li>\\n          <a class=\"sr-only-focusable\" href=\"/supervisionreg/reglisting.htm\">\\n           All Regulations\\n          </a>\\n         </li>\\n         <li class=\"nav__header\">\\n          <p>\\n           <strong>\\n            Supervision\\xa0&amp; Enforcement\\n           </strong>\\n          </p>\\n         </li>\\n         <li>\\n          <a class=\"sr-only-focusable\" href=\"/supervisionreg/caletters/caletters.htm\">\\n           CA Letters\\n          </a>\\n         </li>\\n         <li>\\n          <a class=\"sr-only-focusable\" href=\"/apps/enforcementactions/default.aspx\">\\n           Enforcement Actions\\n          </a>\\n         </li>\\n         <li>\\n          <a class=\"sr-only-focusable\" href=\"/consumerscommunities/independent-foreclosure-review.htm\">\\n           Independent Foreclosure Review\\n          </a>\\n         </li>\\n        </ul>\\n        <ul class=\"col-sm-3 list-unstyled\">\\n         <li class=\"nav__header\">\\n          <p>\\n           <strong>\\n            Community Development\\n           </strong>\\n          </p>\\n         </li>\\n         <li>\\n          <a class=\"sr-only-focusable\" href=\"/consumerscommunities/neighborhood-revitalization.htm\">\\n           Housing and Neighborhood Revitalization\\n          </a>\\n         </li>\\n         <li>\\n          <a class=\"sr-only-focusable\" href=\"/consumerscommunities/small-business-and-entrepreneurship.htm\">\\n           Small Business and Entrepreneurship\\n          </a>\\n         </li>\\n         <li>\\n          <a class=\"sr-only-focusable\" href=\"/consumerscommunities/workforce.htm\">\\n           Employment and Workforce Development\\n          </a>\\n         </li>\\n         <li>\\n          <a class=\"sr-only-focusable\" href=\"/consumerscommunities/cdf.htm\">\\n           Community Development Finance\\n          </a>\\n         </li>\\n        </ul>\\n        <ul class=\"col-sm-3 list-unstyled\">\\n         <li>\\n          <a class=\"sr-only-focusable\" href=\"/conferences.htm\">\\n           Conferences\\n          </a>\\n         </li>\\n         <li class=\"nav__header\">\\n          <p>\\n           <strong>\\n            Research\\xa0&amp; Analysis\\n           </strong>\\n          </p>\\n         </li>\\n         <li>\\n          <a class=\"sr-only-focusable\" href=\"/consumerscommunities/shed.htm\">\\n           Survey of Household Economics and Decisionmaking\\n          </a>\\n         </li>\\n         <li>\\n          <a class=\"sr-only-focusable\" href=\"/consumerscommunities/community-development-publications.htm\">\\n           Research Publications &amp; Data Analysis\\n          </a>\\n         </li>\\n        </ul>\\n        <ul class=\"col-sm-3 list-unstyled\">\\n         <li>\\n          <a class=\"sr-only-focusable\" href=\"/aboutthefed/cac.htm\">\\n           Community Advisory Council\\n          </a>\\n         </li>\\n         <li class=\"nav__header\">\\n          <p>\\n           <strong>\\n            Consumer Resources\\n           </strong>\\n          </p>\\n         </li>\\n         <li>\\n          <a class=\"sr-only-focusable\" href=\"/consumerscommunities/foreclosure.htm\">\\n           Mortgage and Foreclosure Resources\\n          </a>\\n         </li>\\n         <li>\\n          <a class=\"sr-only-focusable\" href=\"/consumerscommunities/comm-dev-system-map.htm\">\\n           Federal Reserve Community Development Resources\\n          </a>\\n         </li>\\n        </ul>\\n       </div>\\n      </li>\\n     </ul>\\n    </li>\\n   </ul>\\n  </nav>\\n  <div class=\"container container__main\" id=\"content\" role=\"main\">\\n   <div class=\"row\">\\n    <div class=\"page-header\">\\n     <ol class=\"breadcrumb\">\\n      <li class=\"breadcrumb__item\">\\n       <a class=\"breadcrumb__link\" href=\"/default.htm\">\\n        Home\\n       </a>\\n      </li>\\n      <li class=\"breadcrumb__item\">\\n       <a class=\"breadcrumb__link\" href=\"/newsevents.htm\">\\n        News &amp; Events\\n       </a>\\n      </li>\\n      <li class=\"breadcrumb__item\">\\n       <a class=\"breadcrumb__link\" href=\"/newsevents/speeches.htm\">\\n        Speeches\\n       </a>\\n      </li>\\n     </ol>\\n     <div class=\"header-group\">\\n      <div class=\"page-title\" id=\"page-title\">\\n       <h2>\\n        2019 Speeches\\n       </h2>\\n      </div>\\n     </div>\\n    </div>\\n    <noscript>\\n     <div class=\"js-disabled text-center\">\\n      <span class=\"icon icon-alert icon--jsAlert\">\\n      </span>\\n      <span>\\n       <strong>\\n        Please enable JavaScript if it is disabled in your browser or access the information through the links provided below.\\n       </strong>\\n      </span>\\n     </div>\\n    </noscript>\\n   </div>\\n   <div class=\"row\">\\n    <div class=\"row eventlist\">\\n     <div class=\"col-xs-12 col-sm-8 col-md-8\">\\n      <div class=\"row\">\\n       <div class=\"col-xs-3 col-md-2 eventlist__time\">\\n        <time>\\n         3/25/2019\\n        </time>\\n       </div>\\n       <div class=\"col-xs-9 col-md-10 eventlist__event\">\\n        <p>\\n        </p>\\n        <p>\\n         <a href=\"/newsevents/speech/bowman20190325a.htm\">\\n          <em>\\n           Welcoming Remarks\\n          </em>\\n         </a>\\n        </p>\\n        <p class=\"news__speaker\">\\n         Governor Michelle W. Bowman\\n        </p>\\n        <p>\\n         At the National Agricultural Credit Conference, Washington, D.C.\\n        </p>\\n       </div>\\n      </div>\\n      <div class=\"row\">\\n       <div class=\"col-xs-3 col-md-2 eventlist__time\">\\n        <time>\\n         3/12/2019\\n        </time>\\n       </div>\\n       <div class=\"col-xs-9 col-md-10 eventlist__event\">\\n        <p>\\n        </p>\\n        <p>\\n         <a href=\"/newsevents/speech/brainard20190312a.htm\">\\n          <em>\\n           The Community Reinvestment Act: How Can We Preserve What Works and Make it Better?\\n          </em>\\n         </a>\\n        </p>\\n        <p>\\n         <a class=\"watchLive\" href=\"https://www.facebook.com/TheNCRC/\">\\n          <span class=\"icon-video icon icon__sm\">\\n          </span>\\n          <span class=\"icon-label\">\\n           Watch Live\\n          </span>\\n         </a>\\n        </p>\\n        <p class=\"news__speaker\">\\n         Governor Lael Brainard\\n        </p>\\n        <p>\\n         At the 2019 Just Economy Conference, National Community Reinvestment Coalition, Washington, D.C.\\n        </p>\\n       </div>\\n      </div>\\n      <div class=\"row\">\\n       <div class=\"col-xs-3 col-md-2 eventlist__time\">\\n        <time>\\n         3/11/2019\\n        </time>\\n       </div>\\n       <div class=\"col-xs-9 col-md-10 eventlist__event\">\\n        <p>\\n        </p>\\n        <p>\\n         <a href=\"/newsevents/speech/powell20190311a.htm\">\\n          <em>\\n           Brief Remarks\\n          </em>\\n         </a>\\n        </p>\\n        <p class=\"news__speaker\">\\n         Chair Jerome H. Powell\\n        </p>\\n        <p>\\n         At the \"Just Economy Conference\" sponsored by the National Community Reinvestment Coalition, Washington, D.C. (via prerecorded video)\\n        </p>\\n       </div>\\n      </div>\\n      <div class=\"row\">\\n       <div class=\"col-xs-3 col-md-2 eventlist__time\">\\n        <time>\\n         3/8/2019\\n        </time>\\n       </div>\\n       <div class=\"col-xs-9 col-md-10 eventlist__event\">\\n        <p>\\n        </p>\\n        <p>\\n         <a href=\"/newsevents/speech/powell20190308a.htm\">\\n          <em>\\n           Monetary Policy: Normalization and the Road Ahead\\n          </em>\\n         </a>\\n        </p>\\n        <p class=\"news__speaker\">\\n         Chair Jerome H. Powell\\n        </p>\\n        <p>\\n         At the 2019 SIEPR Economic Summit, Stanford Institute of Economic Policy Research, Stanford, California\\n        </p>\\n       </div>\\n      </div>\\n      <div class=\"row\">\\n       <div class=\"col-xs-3 col-md-2 eventlist__time\">\\n        <time>\\n         3/7/2019\\n        </time>\\n       </div>\\n       <div class=\"col-xs-9 col-md-10 eventlist__event\">\\n        <p>\\n        </p>\\n        <p>\\n         <a href=\"/newsevents/speech/brainard20190307a.htm\">\\n          <em>\\n           Navigating Cautiously\\n          </em>\\n         </a>\\n        </p>\\n        <p class=\"news__speaker\">\\n         Governor Lael Brainard\\n        </p>\\n        <p>\\n         At the Julis-Rabinowitz Center for Public Policy and Finance and the Bendheim Center for Finance, Woodrow Wilson School of Public and International Affairs, Princeton University, Princeton, New Jersey\\n        </p>\\n       </div>\\n      </div>\\n      <div class=\"row\">\\n       <div class=\"col-xs-3 col-md-2 eventlist__time\">\\n        <time>\\n         2/28/2019\\n        </time>\\n       </div>\\n       <div class=\"col-xs-9 col-md-10 eventlist__event\">\\n        <p>\\n        </p>\\n        <p>\\n         <a href=\"/newsevents/speech/powell20190228b.htm\">\\n          <em>\\n           Recent Economic Developments and Longer-Term Challenges\\n          </em>\\n         </a>\\n        </p>\\n        <p>\\n         <a class=\"watchLive\" href=\"https://livestream.com/accounts/6302425/events/8573837\">\\n          <span class=\"icon-video icon icon__sm\">\\n          </span>\\n          <span class=\"icon-label\">\\n           Watch Live\\n          </span>\\n         </a>\\n        </p>\\n        <p class=\"news__speaker\">\\n         Chair Jerome H. Powell\\n        </p>\\n        <p>\\n         At the Citizens Budget Commission 87th Annual Awards Dinner, New York, New York\\n        </p>\\n       </div>\\n      </div>\\n      <div class=\"row\">\\n       <div class=\"col-xs-3 col-md-2 eventlist__time\">\\n        <time>\\n         2/28/2019\\n        </time>\\n       </div>\\n       <div class=\"col-xs-9 col-md-10 eventlist__event\">\\n        <p>\\n        </p>\\n        <p>\\n         <a href=\"/newsevents/speech/clarida20190228a.htm\">\\n          <em>\\n           U.S. Economic Outlook and Monetary Policy\\n          </em>\\n         </a>\\n        </p>\\n        <p class=\"news__speaker\">\\n         Vice Chair Richard H. Clarida\\n        </p>\\n        <p>\\n         At \"Promoting Global Growth and Domestic Economic Security,\" 35th Annual NABE Economic Policy Conference, Washington, D.C.\\n        </p>\\n       </div>\\n      </div>\\n      <div class=\"row\">\\n       <div class=\"col-xs-3 col-md-2 eventlist__time\">\\n        <time>\\n         2/23/2019\\n        </time>\\n       </div>\\n       <div class=\"col-xs-9 col-md-10 eventlist__event\">\\n        <p>\\n        </p>\\n        <p>\\n         <a href=\"/newsevents/speech/brainard20190223a.htm\">\\n          <em>\\n           Is Economics for Me? Increasing the Participation of Black Women in Economics\\n          </em>\\n         </a>\\n        </p>\\n        <p>\\n         <a class=\"watchLive\" href=\"https://www.youtube.com/channel/UCy1b4ZuOpNm8wqZsFkgHx1w/featured\">\\n          <span class=\"icon-video icon icon__sm\">\\n          </span>\\n          <span class=\"icon-label\">\\n           Watch Live\\n          </span>\\n         </a>\\n        </p>\\n        <p class=\"news__speaker\">\\n         Governor Lael Brainard\\n        </p>\\n        <p>\\n         At the Sadie T. M. Alexander Conference for Economics, Washington, D.C.\\n        </p>\\n       </div>\\n      </div>\\n      <div class=\"row\">\\n       <div class=\"col-xs-3 col-md-2 eventlist__time\">\\n        <time>\\n         2/22/2019\\n        </time>\\n       </div>\\n       <div class=\"col-xs-9 col-md-10 eventlist__event\">\\n        <p>\\n        </p>\\n        <p>\\n         <a href=\"/newsevents/speech/quarles20190222a.htm\">\\n          <em>\\n           The Future of the Federal Reserve\\'s Balance Sheet\\n          </em>\\n         </a>\\n        </p>\\n        <p class=\"news__speaker\">\\n         Vice Chairman for Supervision Randal K. Quarles\\n        </p>\\n        <p>\\n         At the 2019 U.S. Monetary Policy Forum, sponsored by the Initiative on Global Markets at the University of Chicago Booth School of Business, New York, New York\\n        </p>\\n       </div>\\n      </div>\\n      <div class=\"row\">\\n       <div class=\"col-xs-3 col-md-2 eventlist__time\">\\n        <time>\\n         2/22/2019\\n        </time>\\n       </div>\\n       <div class=\"col-xs-9 col-md-10 eventlist__event\">\\n        <p>\\n        </p>\\n        <p>\\n         <a href=\"/newsevents/speech/clarida20190222a.htm\">\\n          <em>\\n           The Federal Reserve\\'s Review of Its Monetary Policy Strategy, Tools, and Communication Practices\\n          </em>\\n         </a>\\n        </p>\\n        <p class=\"news__speaker\">\\n         Vice Chair Richard H. Clarida\\n        </p>\\n        <p>\\n         At the 2019 U.S. Monetary Policy Forum, sponsored by the Initiative on Global Markets at the University of Chicago Booth School of Business, New York, New York\\n        </p>\\n       </div>\\n      </div>\\n      <div class=\"row\">\\n       <div class=\"col-xs-3 col-md-2 eventlist__time\">\\n        <time>\\n         2/12/2019\\n        </time>\\n       </div>\\n       <div class=\"col-xs-9 col-md-10 eventlist__event\">\\n        <p>\\n        </p>\\n        <p>\\n         <a href=\"/newsevents/speech/powell20190212a.htm\">\\n          <em>\\n           Encouraging Economic Development in High-Poverty Rural Communities\\n          </em>\\n         </a>\\n        </p>\\n        <p>\\n         <a class=\"watchLive\" href=\"https://www.youtube.com/watch?v=WDeSeEWVsHI\">\\n          <span class=\"icon-video icon icon__sm\">\\n          </span>\\n          <span class=\"icon-label\">\\n           Watch Live\\n          </span>\\n         </a>\\n        </p>\\n        <p class=\"news__speaker\">\\n         Chairman Jerome H. Powell\\n        </p>\\n        <p>\\n         At “Rural Places, Rural Spaces: Closing Financial Services Gaps in Persistent Poverty America,” a policy forum sponsored by Hope Enterprise Corporation, Mississippi Valley State University, Itta Bena, Mississippi\\n        </p>\\n       </div>\\n      </div>\\n      <div class=\"row\">\\n       <div class=\"col-xs-3 col-md-2 eventlist__time\">\\n        <time>\\n         2/11/2019\\n        </time>\\n       </div>\\n       <div class=\"col-xs-9 col-md-10 eventlist__event\">\\n        <p>\\n        </p>\\n        <p>\\n         <a href=\"/newsevents/speech/bowman20190211a.htm\">\\n          <em>\\n           A Conversation on Community Banking\\n          </em>\\n         </a>\\n        </p>\\n        <p>\\n         <a class=\"watchLive\" href=\"https://www.aba.com/Training/Conferences/Pages/live.aspx?utm_source=ABAWebsite&amp;utm_medium=vanity&amp;utm_campaign=CCB&amp;utm_content=live\">\\n          <span class=\"icon-video icon icon__sm\">\\n          </span>\\n          <span class=\"icon-label\">\\n           Watch Live\\n          </span>\\n         </a>\\n        </p>\\n        <p class=\"news__speaker\">\\n         Governor Michelle W. Bowman\\n        </p>\\n        <p>\\n         At the Conference for Community Bankers, sponsored by the American Bankers Association, San Diego, California\\n        </p>\\n       </div>\\n      </div>\\n      <div class=\"row\">\\n       <div class=\"col-xs-3 col-md-2 eventlist__time\">\\n        <time>\\n         2/10/2019\\n        </time>\\n       </div>\\n       <div class=\"col-xs-9 col-md-10 eventlist__event\">\\n        <p>\\n        </p>\\n        <p>\\n         <a href=\"/newsevents/speech/quarles20190210a.htm\">\\n          <em>\\n           Ideas of Order: Charting a Course for the Financial Stability Board\\n          </em>\\n         </a>\\n        </p>\\n        <p class=\"news__speaker\">\\n         Vice Chairman for Supervision and Chair of the Financial Stability Board Randal K. Quarles\\n        </p>\\n        <p>\\n         At Bank for International Settlements Special Governors Meeting, Hong Kong\\n        </p>\\n       </div>\\n      </div>\\n      <div class=\"row\">\\n       <div class=\"col-xs-3 col-md-2 eventlist__time\">\\n        <time>\\n         2/6/2019\\n        </time>\\n       </div>\\n       <div class=\"col-xs-9 col-md-10 eventlist__event\">\\n        <p>\\n        </p>\\n        <p>\\n         <a href=\"/newsevents/speech/powell20190206a.htm\">\\n          <em>\\n           Welcoming Remarks\\n          </em>\\n         </a>\\n        </p>\\n        <p>\\n         <a class=\"watchLive\" href=\"https://www.federalreserve.gov/conferences/chairman-powell-teacher-town-hall-2019.htm\">\\n          <span class=\"icon-video icon icon__sm\">\\n          </span>\\n          <span class=\"icon-label\">\\n           Watch Live\\n          </span>\\n         </a>\\n        </p>\\n        <p class=\"news__speaker\">\\n         Chairman Jerome H. Powell\\n        </p>\\n        <p>\\n         At Conversation with the Chairman: A Teacher Town Hall Meeting, Washington, D.C.\\n        </p>\\n       </div>\\n      </div>\\n      <div class=\"row\">\\n       <div class=\"col-xs-3 col-md-2 eventlist__time\">\\n        <time>\\n         2/6/2019\\n        </time>\\n       </div>\\n       <div class=\"col-xs-9 col-md-10 eventlist__event\">\\n        <p>\\n        </p>\\n        <p>\\n         <a href=\"/newsevents/speech/quarles20190206a.htm\">\\n          <em>\\n           Inviting Participation: The Public\\'s Role in Stress Testing\\'s Next Chapter\\n          </em>\\n         </a>\\n        </p>\\n        <p class=\"news__speaker\">\\n         Vice Chairman for Supervision Randal K. Quarles\\n        </p>\\n        <p>\\n         To the Council for Economic Education, New York, New York\\n        </p>\\n       </div>\\n      </div>\\n      <div class=\"row\">\\n       <div class=\"col-xs-3 col-md-2 eventlist__time\">\\n        <time>\\n         2/1/2019\\n        </time>\\n       </div>\\n       <div class=\"col-xs-9 col-md-10 eventlist__event\">\\n        <p>\\n        </p>\\n        <p>\\n         <a href=\"/newsevents/speech/brainard20190201a.htm\">\\n          <em>\\n           Strengthening the Community Reinvestment Act: What Are We Learning?\\n          </em>\\n         </a>\\n        </p>\\n        <p class=\"news__speaker\">\\n         Governor Lael Brainard\\n        </p>\\n        <p>\\n         At \"Research Symposium on the Community Reinvestment Act\" hosted by the Federal Reserve Bank of Philadelphia, Philadelphia, Pennsylvania\\n        </p>\\n       </div>\\n      </div>\\n      <div class=\"row\">\\n       <div class=\"col-xs-3 col-md-2 eventlist__time\">\\n        <time>\\n         1/10/2019\\n        </time>\\n       </div>\\n       <div class=\"col-xs-9 col-md-10 eventlist__event\">\\n        <p>\\n        </p>\\n        <p>\\n         <a href=\"/newsevents/speech/clarida20190110a.htm\">\\n          <em>\\n           Monetary Policy Outlook for 2019\\n          </em>\\n         </a>\\n        </p>\\n        <p class=\"news__speaker\">\\n         Vice Chairman Richard H. Clarida\\n        </p>\\n        <p>\\n         At the Money Marketeers of New York University, New York, New York\\n        </p>\\n       </div>\\n      </div>\\n      <div class=\"row\">\\n       <div class=\"col-xs-3 col-md-2 eventlist__time\">\\n        <time>\\n         1/9/2019\\n        </time>\\n       </div>\\n       <div class=\"col-xs-9 col-md-10 eventlist__event\">\\n        <p>\\n        </p>\\n        <p>\\n         <a href=\"/newsevents/speech/quarles20190109a.htm\">\\n          <em>\\n           Insurance Supervision and International Engagement\\n          </em>\\n         </a>\\n        </p>\\n        <p class=\"news__speaker\">\\n         Vice Chairman for Supervision Randal K. Quarles\\n        </p>\\n        <p>\\n         At the American Council of Life Insurers Executive Roundtable, Naples, Florida\\n        </p>\\n       </div>\\n      </div>\\n     </div>\\n     <div class=\"col-xs-12 col-sm-4 col-md-4\">\\n     </div>\\n    </div>\\n   </div>\\n   <div class=\"row\">\\n    <div class=\"lastUpdate\" id=\"lastUpdate\">\\n     Last Update: \\n          \\n                          March 25, 2019\\n    </div>\\n   </div>\\n  </div>\\n  <a class=\"icon__backTop icon-backtop\" href=\"#\" id=\"back-top\" title=\"Scroll To Top\">\\n   <span class=\"sr-only\">\\n    Back to Top\\n   </span>\\n  </a>\\n  <footer class=\"container footer\">\\n   <div class=\"row footer__content\">\\n    <div class=\"col-xs-12 col-sm-4\">\\n     <h6 class=\"footer__heading\">\\n      <span class=\"text-uppercase\">\\n       Board of Governors\\n      </span>\\n      <em>\\n       of the\\n      </em>\\n      <span class=\"text-uppercase\">\\n       Federal Reserve System\\n      </span>\\n     </h6>\\n     <ul class=\"list-unstyled\">\\n      <li class=\"footer__listItem\">\\n       <a class=\"footer__link\" href=\"/aboutthefed.htm\">\\n        About the Fed\\n       </a>\\n      </li>\\n      <li class=\"footer__listItem\">\\n       <a class=\"footer__link\" href=\"/newsevents.htm\">\\n        News &amp; Events\\n       </a>\\n      </li>\\n      <li class=\"footer__listItem\">\\n       <a class=\"footer__link\" href=\"/monetarypolicy.htm\">\\n        Monetary Policy\\n       </a>\\n      </li>\\n      <li class=\"footer__listItem\">\\n       <a class=\"footer__link\" href=\"/supervisionreg.htm\">\\n        Supervision &amp; Regulation\\n       </a>\\n      </li>\\n      <li class=\"footer__listItem\">\\n       <a class=\"footer__link\" href=\"/paymentsystems.htm\">\\n        Payment Systems\\n       </a>\\n      </li>\\n      <li class=\"footer__listItem\">\\n       <a class=\"footer__link\" href=\"/econres.htm\">\\n        Economic Research\\n       </a>\\n      </li>\\n      <li class=\"footer__listItem\">\\n       <a class=\"footer__link\" href=\"/data.htm\">\\n        Data\\n       </a>\\n      </li>\\n      <li class=\"footer__listItem\">\\n       <a class=\"footer__link\" href=\"/consumerscommunities.htm\">\\n        Consumers &amp; Communities\\n       </a>\\n      </li>\\n     </ul>\\n    </div>\\n    <div class=\"col-xs-12 col-sm-4\">\\n     <h6 class=\"text-uppercase footer__heading\">\\n      Tools and Information\\n     </h6>\\n     <ul class=\"list-unstyled\">\\n      <li class=\"footer__listItem\">\\n       <a class=\"footer__link\" href=\"/aboutthefed/contact-us-topics.htm\">\\n        Contact\\n       </a>\\n      </li>\\n      <li class=\"footer__listItem\">\\n       <a class=\"footer__link\" href=\"/publications.htm\">\\n        Publications\\n       </a>\\n      </li>\\n      <li class=\"footer__listItem\">\\n       <a class=\"footer__link\" href=\"/foia/about_foia.htm\">\\n        Freedom of Information (FOIA)\\n       </a>\\n      </li>\\n      <li class=\"footer__listItem\">\\n       <a class=\"footer__link\" href=\"https://oig.federalreserve.gov/\">\\n        Office of Inspector General\\n       </a>\\n      </li>\\n      <li class=\"footer__listItem\">\\n       <a class=\"footer__link\" href=\"/publications/annual-report.htm\">\\n        Budget &amp; Performance\\n       </a>\\n       |\\n       <a class=\"footer__link\" href=\"/regreform/audit.htm\">\\n        Audit\\n       </a>\\n      </li>\\n      <li class=\"footer__listItem\">\\n       <a class=\"footer__link\" href=\"/eeo.htm\">\\n        No FEAR Act\\n       </a>\\n      </li>\\n      <li class=\"footer__listItem\">\\n       <a class=\"footer__link\" href=\"/espanol.htm\">\\n        Español\\n       </a>\\n      </li>\\n      <li class=\"footer__listItem\">\\n       <a class=\"footer__link\" href=\"/website-linking-policies.htm\">\\n        Website Policies\\n       </a>\\n       |\\n       <a class=\"footer__link\" href=\"/privacy.htm\">\\n        Privacy Program\\n       </a>\\n      </li>\\n      <li class=\"footer__listItem\">\\n       <a class=\"footer__link\" href=\"/accessibility.htm\">\\n        Accessibility\\n       </a>\\n      </li>\\n     </ul>\\n    </div>\\n    <div class=\"col-xs-12 col-sm-4\">\\n     <div class=\"footer__social\">\\n      <h6 class=\"text-uppercase footer__heading footer__heading--social\">\\n       Stay Connected\\n      </h6>\\n      <a class=\"icon__md icon footer__btn icon-facebook-color\" href=\"https://www.facebook.com/federalreserve\">\\n       <span class=\"sr-only\">\\n        Link to Federal Reserve Facebook Page\\n       </span>\\n      </a>\\n      <a class=\"icon__md icon footer__btn icon-twitter-color\" href=\"https://twitter.com/federalreserve\">\\n       <span class=\"sr-only\">\\n        Link to Federal Reserve Twitter Page\\n       </span>\\n      </a>\\n      <a class=\"icon__md icon footer__btn icon-youtube-color\" href=\"https://www.youtube.com/federalreserve\">\\n       <span class=\"sr-only\">\\n        Link to Federal Reserve YouTube Page\\n       </span>\\n      </a>\\n      <a class=\"icon__md icon footer__btn icon-flickr-color\" href=\"https://www.flickr.com/photos/federalreserve/\">\\n       <span class=\"sr-only\">\\n        Link to Federal Reserve Flickr Page\\n       </span>\\n      </a>\\n      <a class=\"icon__md icon footer__btn icon-linkedin-color\" href=\"https://www.linkedin.com/company/federal-reserve-board\">\\n       <span class=\"sr-only\">\\n        Federal Reserve LinkedIn Page\\n       </span>\\n      </a>\\n      <a class=\"icon__md icon footer__btn icon-rss-color\" href=\"/feeds/feeds.htm\">\\n       <span class=\"sr-only\">\\n        Subscribe to RSS\\n       </span>\\n      </a>\\n      <a class=\"icon__md icon footer__btn icon-email-color\" href=\"/subscribe.htm\">\\n       <span class=\"sr-only\">\\n        Subscribe to Email\\n       </span>\\n      </a>\\n     </div>\\n     <a href=\"https://www.usa.gov/\" target=\"_blank\" title=\"Link to USA.gov\">\\n      <img alt=\"Link to USA.gov\" class=\"footer__image\" src=\"/images/USAGov%402x.png\"/>\\n     </a>\\n     <a href=\"/open/open.htm\" target=\"_blank\" title=\"Link to Open.gov\">\\n      <img alt=\"Link to Open.gov\" class=\"footer__image\" src=\"/images/OpenGov%402x.png\"/>\\n     </a>\\n    </div>\\n   </div>\\n   <div class=\"row\">\\n    <div class=\"col-xs-12 footer__footer\">\\n     <p class=\"text-uppercase footer__text footer__text--left\">\\n      Board of Governors\\n      <em class=\"text-lowercase\">\\n       of the\\n      </em>\\n      Federal Reserve System\\n     </p>\\n     <p class=\"footer__text footer__text--right\">\\n      20th Street and Constitution Avenue N.W., Washington, DC 20551\\n     </p>\\n    </div>\\n   </div>\\n  </footer>\\n  <script src=\"/js/jquery1.11.1.min.js\" type=\"text/javascript\">\\n  </script>\\n  <script src=\"/js/bootstrap.min.js\" type=\"text/javascript\">\\n  </script>\\n  <script src=\"/js/scripts.js\" type=\"text/javascript\">\\n  </script>\\n  <script src=\"/js/modal.js\" type=\"text/javascript\">\\n  </script>\\n  <script src=\"/js/sticky-tables.js\" type=\"text/javascript\">\\n  </script>\\n  <script src=\"/js/slides/ekko-lightbox.min.js\" type=\"text/javascript\">\\n  </script>\\n  <script src=\"/js/t4-nav-controller.js\" type=\"text/javascript\">\\n  </script>\\n  <script type=\"text/javascript\">\\n   $(document).ready(function($) {\\n        // delegate calls to data-toggle=\"lightbox\"\\n        $(document).delegate(\\'*[data-toggle=\"lightbox\"]:not([data-gallery=\"navigateTo\"])\\', \\'click\\', function(event) {\\n            event.preventDefault();\\n            $(this).ekkoLightbox();\\n        });\\n        $(\\'a[data-click=\"false\"]\\').click(function(e) {\\n            e.preventDefault();\\n            var target = $(this).data(\\'target\\');\\n            $(target).click();\\n        });\\n    });\\n  </script>\\n  <script src=\"/resources/track_downloads.js\" type=\"text/javascript\">\\n  </script>\\n </body>\\n</html>\\n'"
      ]
     },
     "execution_count": 33,
     "metadata": {},
     "output_type": "execute_result"
    }
   ],
   "source": [
    "soup.prettify()"
   ]
  },
  {
   "cell_type": "code",
   "execution_count": 34,
   "metadata": {},
   "outputs": [],
   "source": [
    "event_list = soup.find('div', class_='row eventlist')\n"
   ]
  },
  {
   "cell_type": "code",
   "execution_count": 35,
   "metadata": {},
   "outputs": [],
   "source": [
    "date_lst =[]\n",
    "title_lst = []\n",
    "speaker_lst = []\n",
    "html_lst = []"
   ]
  },
  {
   "cell_type": "code",
   "execution_count": 36,
   "metadata": {},
   "outputs": [
    {
     "name": "stdout",
     "output_type": "stream",
     "text": [
      "['3/25/2019']\n",
      "['Governor Michelle W. Bowman']\n",
      "['Welcoming Remarks']\n",
      "['3/12/2019']\n",
      "['Governor Lael Brainard']\n",
      "['The Community Reinvestment Act: How Can We Preserve What Works and Make it Better?']\n",
      "['3/11/2019']\n",
      "['Chair Jerome H. Powell']\n",
      "['Brief Remarks']\n",
      "['3/8/2019']\n",
      "['Chair Jerome H. Powell']\n",
      "['Monetary Policy: Normalization and the Road Ahead']\n",
      "['3/7/2019']\n",
      "['Governor Lael Brainard']\n",
      "['Navigating Cautiously']\n",
      "['2/28/2019']\n",
      "['Chair Jerome H. Powell']\n",
      "['Recent Economic Developments and Longer-Term Challenges']\n",
      "['2/28/2019']\n",
      "['Vice Chair Richard H. Clarida']\n",
      "['U.S. Economic Outlook and Monetary Policy']\n",
      "['2/23/2019']\n",
      "['Governor Lael Brainard']\n",
      "['Is Economics for Me? Increasing the Participation of Black Women in Economics']\n",
      "['2/22/2019']\n",
      "['Vice Chairman for Supervision Randal K. Quarles']\n",
      "[\"The Future of the Federal Reserve's Balance Sheet\"]\n",
      "['2/22/2019']\n",
      "['Vice Chair Richard H. Clarida']\n",
      "[\"The Federal Reserve's Review of Its Monetary Policy Strategy, Tools, and Communication Practices\"]\n",
      "['2/12/2019']\n",
      "['Chairman Jerome H. Powell']\n",
      "['Encouraging Economic Development in High-Poverty Rural Communities']\n",
      "['2/11/2019']\n",
      "['Governor Michelle W. Bowman']\n",
      "['A Conversation on Community Banking']\n",
      "['2/10/2019']\n",
      "['Vice Chairman for Supervision and Chair of the Financial Stability Board Randal K. Quarles']\n",
      "['Ideas of Order: Charting a Course for the Financial Stability Board']\n",
      "['2/6/2019']\n",
      "['Chairman Jerome H. Powell']\n",
      "['Welcoming Remarks']\n",
      "['2/6/2019']\n",
      "['Vice Chairman for Supervision Randal K. Quarles']\n",
      "[\"Inviting Participation: The Public's Role in Stress Testing's Next Chapter\"]\n",
      "['2/1/2019']\n",
      "['Governor Lael Brainard']\n",
      "['Strengthening the Community Reinvestment Act: What Are We Learning?']\n",
      "['1/10/2019']\n",
      "['Vice Chairman Richard H. Clarida']\n",
      "['Monetary Policy Outlook for 2019']\n",
      "['1/9/2019']\n",
      "['Vice Chairman for Supervision Randal K. Quarles']\n",
      "['Insurance Supervision and International Engagement']\n"
     ]
    }
   ],
   "source": [
    "for row in event_list.find_all('div', class_='row'):\n",
    "    tmp_date= [x.text for x in row.find_all('time')]\n",
    "    print(tmp_date)\n",
    "    date_lst.append(tmp_date)\n",
    "    \n",
    "    tmp_speaker = [x.text for x in row.find_all('p', class_='news__speaker')]\n",
    "    print(tmp_speaker)\n",
    "    speaker_lst.append(tmp_speaker)\n",
    "    \n",
    "    tmp_title = [x.text for x in row.find_all('em')]\n",
    "    print(tmp_title)\n",
    "    title_lst.append(tmp_title)\n",
    "                 \n",
    "    #tmp_html = [x.text for x in row.find_all('a')]\n",
    "    #print(tmp_html)\n",
    "    #html_lst.append(tmp_html)"
   ]
  },
  {
   "cell_type": "code",
   "execution_count": 37,
   "metadata": {},
   "outputs": [
    {
     "name": "stdout",
     "output_type": "stream",
     "text": [
      "/newsevents/speech/bowman20190325a.htm\n",
      "/newsevents/speech/brainard20190312a.htm\n",
      "https://www.facebook.com/TheNCRC/\n",
      "/newsevents/speech/powell20190311a.htm\n",
      "/newsevents/speech/powell20190308a.htm\n",
      "/newsevents/speech/brainard20190307a.htm\n",
      "/newsevents/speech/powell20190228b.htm\n",
      "https://livestream.com/accounts/6302425/events/8573837\n",
      "/newsevents/speech/clarida20190228a.htm\n",
      "/newsevents/speech/brainard20190223a.htm\n",
      "https://www.youtube.com/channel/UCy1b4ZuOpNm8wqZsFkgHx1w/featured\n",
      "/newsevents/speech/quarles20190222a.htm\n",
      "/newsevents/speech/clarida20190222a.htm\n",
      "/newsevents/speech/powell20190212a.htm\n",
      "https://www.youtube.com/watch?v=WDeSeEWVsHI\n",
      "/newsevents/speech/bowman20190211a.htm\n",
      "https://www.aba.com/Training/Conferences/Pages/live.aspx?utm_source=ABAWebsite&utm_medium=vanity&utm_campaign=CCB&utm_content=live\n",
      "/newsevents/speech/quarles20190210a.htm\n",
      "/newsevents/speech/powell20190206a.htm\n",
      "https://www.federalreserve.gov/conferences/chairman-powell-teacher-town-hall-2019.htm\n",
      "/newsevents/speech/quarles20190206a.htm\n",
      "/newsevents/speech/brainard20190201a.htm\n",
      "/newsevents/speech/clarida20190110a.htm\n",
      "/newsevents/speech/quarles20190109a.htm\n"
     ]
    }
   ],
   "source": [
    "link_lst = []\n",
    "for link in event_list.find_all('a', href=True):\n",
    "    print(link['href'])\n",
    "    link_lst.append(link['href'])\n"
   ]
  },
  {
   "cell_type": "code",
   "execution_count": null,
   "metadata": {},
   "outputs": [],
   "source": [
    "print(type(link_lst))"
   ]
  },
  {
   "cell_type": "code",
   "execution_count": null,
   "metadata": {},
   "outputs": [],
   "source": [
    "# trying with a list comprehension\n",
    "link_lst = [x for x in link_lst if 'https://' not in x]\n",
    "new_lst"
   ]
  },
  {
   "cell_type": "code",
   "execution_count": null,
   "metadata": {},
   "outputs": [],
   "source": [
    "len(date_lst)"
   ]
  },
  {
   "cell_type": "code",
   "execution_count": null,
   "metadata": {},
   "outputs": [],
   "source": [
    "speakers = event_list.find_all('p', class_ = 'news__speaker')\n",
    "speakers"
   ]
  },
  {
   "cell_type": "code",
   "execution_count": null,
   "metadata": {},
   "outputs": [],
   "source": [
    "speakers.text"
   ]
  },
  {
   "cell_type": "code",
   "execution_count": null,
   "metadata": {},
   "outputs": [],
   "source": [
    "# trying event time\n",
    "dates = event_list.find_all('time')"
   ]
  },
  {
   "cell_type": "code",
   "execution_count": null,
   "metadata": {},
   "outputs": [],
   "source": [
    "events.prettify()"
   ]
  },
  {
   "cell_type": "code",
   "execution_count": null,
   "metadata": {},
   "outputs": [],
   "source": [
    "print(type(dates))"
   ]
  },
  {
   "cell_type": "code",
   "execution_count": null,
   "metadata": {},
   "outputs": [],
   "source": [
    "# now list of titles\n",
    "titles = event_list.find_all('a')\n",
    "#titles"
   ]
  },
  {
   "cell_type": "code",
   "execution_count": null,
   "metadata": {},
   "outputs": [],
   "source": [
    "import json"
   ]
  },
  {
   "cell_type": "code",
   "execution_count": null,
   "metadata": {},
   "outputs": [],
   "source": [
    "host = 'federalreserve.gov'\n",
    "path = new_lst[0]\n",
    "headers = {;}"
   ]
  },
  {
   "cell_type": "code",
   "execution_count": null,
   "metadata": {},
   "outputs": [],
   "source": [
    "temp = 'https://federalreserve.gov'\n",
    "temp2 = new_lst[0]\n",
    "temp_url = temp + temp2\n",
    "temp_url"
   ]
  },
  {
   "cell_type": "code",
   "execution_count": null,
   "metadata": {},
   "outputs": [],
   "source": [
    "from urllib.request import urlopen\n",
    "data_chunk = json.loads(urlopen(temp_url).read().decode())"
   ]
  },
  {
   "cell_type": "code",
   "execution_count": null,
   "metadata": {},
   "outputs": [],
   "source": [
    "wikiurl = \"https://en.wikipedia.org/w/api.php?action=query&titles=Main_Page&prop=pageviews&format=json\""
   ]
  },
  {
   "cell_type": "code",
   "execution_count": null,
   "metadata": {},
   "outputs": [],
   "source": [
    "link_lst = new_lst"
   ]
  },
  {
   "cell_type": "code",
   "execution_count": null,
   "metadata": {},
   "outputs": [],
   "source": [
    "conn = HTTPSConnection(host = 'www.federalreserve.gov')\n",
    "conn.request(method='GET', url = 'link_lst[0]')\n",
    "resp = conn.getresponse()\n",
    "body = resp.read()\n"
   ]
  },
  {
   "cell_type": "code",
   "execution_count": null,
   "metadata": {},
   "outputs": [],
   "source": [
    "body"
   ]
  },
  {
   "cell_type": "code",
   "execution_count": null,
   "metadata": {},
   "outputs": [],
   "source": [
    "import requests\n",
    "import json\n"
   ]
  },
  {
   "cell_type": "code",
   "execution_count": null,
   "metadata": {},
   "outputs": [],
   "source": [
    "temp_url"
   ]
  },
  {
   "cell_type": "code",
   "execution_count": null,
   "metadata": {},
   "outputs": [],
   "source": [
    "response = requests.get(temp_url)\n"
   ]
  },
  {
   "cell_type": "code",
   "execution_count": null,
   "metadata": {},
   "outputs": [],
   "source": [
    "response.status_code"
   ]
  },
  {
   "cell_type": "code",
   "execution_count": null,
   "metadata": {},
   "outputs": [],
   "source": [
    "response"
   ]
  },
  {
   "cell_type": "code",
   "execution_count": null,
   "metadata": {},
   "outputs": [],
   "source": [
    "#print(response.text)"
   ]
  },
  {
   "cell_type": "code",
   "execution_count": null,
   "metadata": {},
   "outputs": [],
   "source": [
    "sp = BeautifulSoup(response.text)"
   ]
  },
  {
   "cell_type": "code",
   "execution_count": null,
   "metadata": {},
   "outputs": [],
   "source": [
    "sp"
   ]
  },
  {
   "cell_type": "code",
   "execution_count": null,
   "metadata": {},
   "outputs": [],
   "source": [
    "article = sp.find('div', class_='col-xs-12 col-sm-8 col-md-8')\n",
    "#article\n"
   ]
  },
  {
   "cell_type": "code",
   "execution_count": null,
   "metadata": {},
   "outputs": [],
   "source": []
  },
  {
   "cell_type": "code",
   "execution_count": null,
   "metadata": {},
   "outputs": [],
   "source": [
    "doc = []\n",
    "for p in article.find_all('p'):\n",
    "    doc.append(p.text)\n"
   ]
  },
  {
   "cell_type": "code",
   "execution_count": null,
   "metadata": {},
   "outputs": [],
   "source": [
    "doc"
   ]
  },
  {
   "cell_type": "code",
   "execution_count": null,
   "metadata": {},
   "outputs": [],
   "source": [
    "print(type(doc))"
   ]
  },
  {
   "cell_type": "code",
   "execution_count": null,
   "metadata": {},
   "outputs": [],
   "source": [
    "temp = ''.join(doc)"
   ]
  },
  {
   "cell_type": "code",
   "execution_count": null,
   "metadata": {},
   "outputs": [],
   "source": [
    "temp"
   ]
  },
  {
   "cell_type": "code",
   "execution_count": null,
   "metadata": {},
   "outputs": [],
   "source": []
  },
  {
   "cell_type": "markdown",
   "metadata": {},
   "source": [
    "### Testing my function to pull all of the files"
   ]
  },
  {
   "cell_type": "code",
   "execution_count": 38,
   "metadata": {},
   "outputs": [],
   "source": [
    "host = 'www.federalreserve.gov'\n",
    "url = '/newsevents/speech/2015-speeches.htm'"
   ]
  },
  {
   "cell_type": "code",
   "execution_count": 39,
   "metadata": {},
   "outputs": [],
   "source": [
    "\n",
    "def find_speaches_by_year(host, url, print_test=False):\n",
    "    conn = HTTPSConnection(host = host)\n",
    "    conn.request(method='GET', url = url)\n",
    "    resp = conn.getresponse()\n",
    "    body = resp.read()\n",
    "    # check that we received the correct response code\n",
    "    if resp.status != 200:\n",
    "        print('Error from Web Site! Response code: ', resp.status)\n",
    "    else:\n",
    "        soup=BeautifulSoup(body)\n",
    "        event_list = soup.find('div', class_='row eventlist')\n",
    "        # creating the list of dates, titles, speakers and html articles from web page\n",
    "        date_lst =[]\n",
    "        title_lst = []\n",
    "        speaker_lst = []\n",
    "        link_lst = []\n",
    "\n",
    "        for row in event_list.find_all('div', class_='row'):\n",
    "            tmp_date= [x.text for x in row.find_all('time')]\n",
    "            date_lst.append(tmp_date)\n",
    "        \n",
    "            tmp_speaker = [x.text for x in row.find_all('p', class_='news__speaker')]\n",
    "            speaker_lst.append(tmp_speaker)\n",
    "        \n",
    "            tmp_title = [x.text for x in row.find_all('em')]\n",
    "            title_lst.append(tmp_title)\n",
    "\n",
    "        for link in event_list.find_all('a', href=True, class_ = lambda x: x != 'watchLive'):\n",
    "            link_lst.append(link['href'])\n",
    "            \n",
    "        # some of the links include video with the transcript. We are deleteing these here\n",
    "        #link_lst = [x for x in link_lst if 'https://' not in x]\n",
    "        #link_lst = [x for x in link_lst if 'http://' not in x]\n",
    "\n",
    "        if print_test:\n",
    "            print('length of dates: ', len(date_lst))\n",
    "            print('length of speakers: ', len(speaker_lst))\n",
    "            print('length of titles: ', len(title_lst))\n",
    "            print('length of href: ', len(link_lst))\n",
    "\n",
    "        return date_lst, speaker_lst, title_lst, link_lst,\n"
   ]
  },
  {
   "cell_type": "code",
   "execution_count": 40,
   "metadata": {},
   "outputs": [
    {
     "data": {
      "text/plain": [
       "'/newsevents/speech/2006speech.htm'"
      ]
     },
     "execution_count": 40,
     "metadata": {},
     "output_type": "execute_result"
    }
   ],
   "source": [
    "this_url = annual_htm_list[0]\n",
    "this_url"
   ]
  },
  {
   "cell_type": "code",
   "execution_count": 41,
   "metadata": {},
   "outputs": [
    {
     "name": "stdout",
     "output_type": "stream",
     "text": [
      "length of dates:  73\n",
      "length of speakers:  73\n",
      "length of titles:  73\n",
      "length of href:  73\n"
     ]
    }
   ],
   "source": [
    "this_url = annual_htm_list[0]\n",
    "dates, speakers, titles, links = find_speaches_by_year(host, this_url, print_test=True)\n"
   ]
  },
  {
   "cell_type": "code",
   "execution_count": null,
   "metadata": {},
   "outputs": [],
   "source": []
  },
  {
   "cell_type": "code",
   "execution_count": 42,
   "metadata": {},
   "outputs": [],
   "source": [
    "def create_url_list(start_year, end_year, prefix, suffix):\n",
    "    # Creates the list of web sites where the speeches are stored\n",
    "    #NOTE: The suffix is different based on the year!\n",
    "    annual_htm_list = []\n",
    "    for x in range(start_year, end_year+1):\n",
    "        if x <=2010:\n",
    "            this_suffix = 'speech.htm'\n",
    "            mid_str=str(x)\n",
    "            annual_htm_list.append(prefix + mid_str + this_suffix)\n",
    "        else:\n",
    "            mid_str = str(x)\n",
    "            annual_htm_list.append(prefix + mid_str + suffix)\n",
    "    return annual_htm_list"
   ]
  },
  {
   "cell_type": "code",
   "execution_count": 43,
   "metadata": {},
   "outputs": [
    {
     "data": {
      "text/plain": [
       "['/newsevents/speech/2006speech.htm',\n",
       " '/newsevents/speech/2007speech.htm',\n",
       " '/newsevents/speech/2008speech.htm',\n",
       " '/newsevents/speech/2009speech.htm',\n",
       " '/newsevents/speech/2010speech.htm',\n",
       " '/newsevents/speech/2011-speeches.htm',\n",
       " '/newsevents/speech/2012-speeches.htm',\n",
       " '/newsevents/speech/2013-speeches.htm',\n",
       " '/newsevents/speech/2014-speeches.htm',\n",
       " '/newsevents/speech/2015-speeches.htm',\n",
       " '/newsevents/speech/2016-speeches.htm',\n",
       " '/newsevents/speech/2017-speeches.htm',\n",
       " '/newsevents/speech/2018-speeches.htm',\n",
       " '/newsevents/speech/2019-speeches.htm']"
      ]
     },
     "execution_count": 43,
     "metadata": {},
     "output_type": "execute_result"
    }
   ],
   "source": [
    "prefix = '/newsevents/speech/'\n",
    "suffix = '-speeches.htm'\n",
    "start_year = 2006\n",
    "end_year = 2019\n",
    "\n",
    "annual_htm_list =create_url_list(start_year, end_year, prefix, suffix)        \n",
    "annual_htm_list"
   ]
  },
  {
   "cell_type": "code",
   "execution_count": 47,
   "metadata": {},
   "outputs": [],
   "source": [
    "import pandas as pd\n",
    "import numpy as np"
   ]
  },
  {
   "cell_type": "code",
   "execution_count": 48,
   "metadata": {},
   "outputs": [],
   "source": [
    "def create_speech_df(host, annual_htm_list):\n",
    "    '''\n",
    "    Build a dataframe by looping through the list of annual speeches\n",
    "\n",
    "    '''\n",
    "    all_dates = []\n",
    "    all_speakers = []\n",
    "    all_titles = []\n",
    "    all_links = []\n",
    "    for item in annual_htm_list:\n",
    "        date_lst, speaker_lst, title_lst, link_lst =find_speaches_by_year(host, \n",
    "                                                    item, print_test=True)\n",
    "        all_dates = all_dates + date_lst\n",
    "        all_speakers = all_speakers + speaker_lst\n",
    "        all_titles = all_titles + title_lst\n",
    "        all_links = all_links + link_lst\n",
    "    \n",
    "    dict1 = {'date': all_dates, 'speaker':all_speakers,\n",
    "            'title': all_titles, 'link':all_links}\n",
    "    df = pd.DataFrame.from_dict(dict1)\n",
    "    df['date']=df['date'].str[0]\n",
    "    df['date'] = pd.to_datetime(df['date'])\n",
    "    df['speaker']=df['speaker'].str[0]\n",
    "    df['title']=df['title'].str[0]\n",
    "    #creating empty document column to be populated later\n",
    "    doc = np.zeros_like(df['date'])\n",
    "    df['text'] = doc\n",
    "    return df\n",
    "\n"
   ]
  },
  {
   "cell_type": "code",
   "execution_count": 49,
   "metadata": {},
   "outputs": [
    {
     "name": "stdout",
     "output_type": "stream",
     "text": [
      "length of dates:  73\n",
      "length of speakers:  73\n",
      "length of titles:  73\n",
      "length of href:  73\n",
      "length of dates:  75\n",
      "length of speakers:  75\n",
      "length of titles:  75\n",
      "length of href:  75\n",
      "length of dates:  73\n",
      "length of speakers:  73\n",
      "length of titles:  73\n",
      "length of href:  73\n",
      "length of dates:  55\n",
      "length of speakers:  55\n",
      "length of titles:  55\n",
      "length of href:  55\n",
      "length of dates:  60\n",
      "length of speakers:  60\n",
      "length of titles:  60\n",
      "length of href:  60\n",
      "length of dates:  48\n",
      "length of speakers:  48\n",
      "length of titles:  48\n",
      "length of href:  48\n",
      "length of dates:  42\n",
      "length of speakers:  42\n",
      "length of titles:  42\n",
      "length of href:  42\n",
      "length of dates:  53\n",
      "length of speakers:  53\n",
      "length of titles:  53\n",
      "length of href:  53\n",
      "length of dates:  41\n",
      "length of speakers:  41\n",
      "length of titles:  41\n",
      "length of href:  41\n",
      "length of dates:  54\n",
      "length of speakers:  54\n",
      "length of titles:  54\n",
      "length of href:  54\n",
      "length of dates:  44\n",
      "length of speakers:  44\n",
      "length of titles:  44\n",
      "length of href:  44\n",
      "length of dates:  55\n",
      "length of speakers:  55\n",
      "length of titles:  55\n",
      "length of href:  55\n",
      "length of dates:  44\n",
      "length of speakers:  44\n",
      "length of titles:  44\n",
      "length of href:  44\n",
      "length of dates:  18\n",
      "length of speakers:  18\n",
      "length of titles:  18\n",
      "length of href:  18\n"
     ]
    }
   ],
   "source": [
    "df = create_speech_df(host, annual_htm_list)"
   ]
  },
  {
   "cell_type": "code",
   "execution_count": 50,
   "metadata": {},
   "outputs": [
    {
     "data": {
      "text/html": [
       "<div>\n",
       "<style scoped>\n",
       "    .dataframe tbody tr th:only-of-type {\n",
       "        vertical-align: middle;\n",
       "    }\n",
       "\n",
       "    .dataframe tbody tr th {\n",
       "        vertical-align: top;\n",
       "    }\n",
       "\n",
       "    .dataframe thead th {\n",
       "        text-align: right;\n",
       "    }\n",
       "</style>\n",
       "<table border=\"1\" class=\"dataframe\">\n",
       "  <thead>\n",
       "    <tr style=\"text-align: right;\">\n",
       "      <th></th>\n",
       "      <th>date</th>\n",
       "      <th>speaker</th>\n",
       "      <th>title</th>\n",
       "      <th>link</th>\n",
       "      <th>text</th>\n",
       "    </tr>\n",
       "  </thead>\n",
       "  <tbody>\n",
       "    <tr>\n",
       "      <th>0</th>\n",
       "      <td>2006-12-15</td>\n",
       "      <td>Chairman Ben S. Bernanke</td>\n",
       "      <td>The Chinese Economy: Progress and Challenges</td>\n",
       "      <td>/newsevents/speech/bernanke20061215a.htm</td>\n",
       "      <td>1970-01-01</td>\n",
       "    </tr>\n",
       "    <tr>\n",
       "      <th>1</th>\n",
       "      <td>2006-12-01</td>\n",
       "      <td>Vice Chairman Donald L. Kohn</td>\n",
       "      <td>Monetary Policy and Uncertainty</td>\n",
       "      <td>/newsevents/speech/kohn20061201a.htm</td>\n",
       "      <td>1970-01-01</td>\n",
       "    </tr>\n",
       "    <tr>\n",
       "      <th>2</th>\n",
       "      <td>2006-12-01</td>\n",
       "      <td>Chairman Ben S. Bernanke</td>\n",
       "      <td>Welcoming remarks</td>\n",
       "      <td>/newsevents/speech/bernanke20061201a.htm</td>\n",
       "      <td>1970-01-01</td>\n",
       "    </tr>\n",
       "    <tr>\n",
       "      <th>3</th>\n",
       "      <td>2006-11-30</td>\n",
       "      <td>Governor Susan Schmidt Bies</td>\n",
       "      <td>A U.S. Perspective on Basel II Implementation</td>\n",
       "      <td>/newsevents/speech/bies20061130a.htm</td>\n",
       "      <td>1970-01-01</td>\n",
       "    </tr>\n",
       "    <tr>\n",
       "      <th>4</th>\n",
       "      <td>2006-11-28</td>\n",
       "      <td>Chairman Ben S. Bernanke</td>\n",
       "      <td>The Economic Outlook</td>\n",
       "      <td>/newsevents/speech/bernanke20061128a.htm</td>\n",
       "      <td>1970-01-01</td>\n",
       "    </tr>\n",
       "  </tbody>\n",
       "</table>\n",
       "</div>"
      ],
      "text/plain": [
       "        date                       speaker  \\\n",
       "0 2006-12-15      Chairman Ben S. Bernanke   \n",
       "1 2006-12-01  Vice Chairman Donald L. Kohn   \n",
       "2 2006-12-01      Chairman Ben S. Bernanke   \n",
       "3 2006-11-30   Governor Susan Schmidt Bies   \n",
       "4 2006-11-28      Chairman Ben S. Bernanke   \n",
       "\n",
       "                                           title  \\\n",
       "0   The Chinese Economy: Progress and Challenges   \n",
       "1                Monetary Policy and Uncertainty   \n",
       "2                              Welcoming remarks   \n",
       "3  A U.S. Perspective on Basel II Implementation   \n",
       "4                           The Economic Outlook   \n",
       "\n",
       "                                       link       text  \n",
       "0  /newsevents/speech/bernanke20061215a.htm 1970-01-01  \n",
       "1      /newsevents/speech/kohn20061201a.htm 1970-01-01  \n",
       "2  /newsevents/speech/bernanke20061201a.htm 1970-01-01  \n",
       "3      /newsevents/speech/bies20061130a.htm 1970-01-01  \n",
       "4  /newsevents/speech/bernanke20061128a.htm 1970-01-01  "
      ]
     },
     "execution_count": 50,
     "metadata": {},
     "output_type": "execute_result"
    }
   ],
   "source": [
    "df.head()"
   ]
  },
  {
   "cell_type": "code",
   "execution_count": 52,
   "metadata": {},
   "outputs": [
    {
     "data": {
      "text/plain": [
       "Int64Index([99, 103, 183, 240], dtype='int64')"
      ]
     },
     "execution_count": 52,
     "metadata": {},
     "output_type": "execute_result"
    }
   ],
   "source": [
    "df[df['speaker']==''].index"
   ]
  },
  {
   "cell_type": "code",
   "execution_count": 63,
   "metadata": {},
   "outputs": [
    {
     "data": {
      "text/plain": [
       "date                                     2007-09-01 00:00:00\n",
       "speaker                                                     \n",
       "title      \"Housing and the Monetary Transmission Mechani...\n",
       "link                   /pubs/feds/2007/200740/200740abs.html\n",
       "text                                     1970-01-01 00:00:00\n",
       "Name: 103, dtype: object"
      ]
     },
     "execution_count": 63,
     "metadata": {},
     "output_type": "execute_result"
    }
   ],
   "source": [
    "df.iloc[103]"
   ]
  },
  {
   "cell_type": "code",
   "execution_count": 68,
   "metadata": {},
   "outputs": [
    {
     "data": {
      "text/plain": [
       "Int64Index([99, 103], dtype='int64')"
      ]
     },
     "execution_count": 68,
     "metadata": {},
     "output_type": "execute_result"
    }
   ],
   "source": [
    "delete_these = df[df['link'].str.match('/pubs/feds')].index\n",
    "delete_these"
   ]
  },
  {
   "cell_type": "code",
   "execution_count": 69,
   "metadata": {},
   "outputs": [],
   "source": [
    "df2 = df.drop(delete_these)"
   ]
  },
  {
   "cell_type": "code",
   "execution_count": 70,
   "metadata": {},
   "outputs": [
    {
     "name": "stdout",
     "output_type": "stream",
     "text": [
      "<class 'pandas.core.frame.DataFrame'>\n",
      "Int64Index: 733 entries, 0 to 734\n",
      "Data columns (total 5 columns):\n",
      "date       733 non-null datetime64[ns]\n",
      "speaker    733 non-null object\n",
      "title      733 non-null object\n",
      "link       733 non-null object\n",
      "text       733 non-null datetime64[ns]\n",
      "dtypes: datetime64[ns](2), object(3)\n",
      "memory usage: 34.4+ KB\n"
     ]
    }
   ],
   "source": [
    "df2.info()"
   ]
  },
  {
   "cell_type": "code",
   "execution_count": 66,
   "metadata": {},
   "outputs": [
    {
     "name": "stdout",
     "output_type": "stream",
     "text": [
      "<class 'pandas.core.frame.DataFrame'>\n",
      "RangeIndex: 735 entries, 0 to 734\n",
      "Data columns (total 5 columns):\n",
      "date       735 non-null datetime64[ns]\n",
      "speaker    735 non-null object\n",
      "title      735 non-null object\n",
      "link       735 non-null object\n",
      "text       735 non-null datetime64[ns]\n",
      "dtypes: datetime64[ns](2), object(3)\n",
      "memory usage: 28.8+ KB\n"
     ]
    }
   ],
   "source": [
    "df.info()"
   ]
  },
  {
   "cell_type": "code",
   "execution_count": null,
   "metadata": {},
   "outputs": [],
   "source": [
    "a = df['date'][0]"
   ]
  },
  {
   "cell_type": "code",
   "execution_count": null,
   "metadata": {},
   "outputs": [],
   "source": [
    "type(a)"
   ]
  },
  {
   "cell_type": "code",
   "execution_count": null,
   "metadata": {},
   "outputs": [],
   "source": [
    "df['date'] = pd.to_datetime(df['date'])"
   ]
  },
  {
   "cell_type": "code",
   "execution_count": null,
   "metadata": {},
   "outputs": [],
   "source": [
    "df.head()"
   ]
  },
  {
   "cell_type": "code",
   "execution_count": null,
   "metadata": {},
   "outputs": [],
   "source": [
    "import numpy as np\n",
    "doc = np.zeros_like(df['date'])"
   ]
  },
  {
   "cell_type": "code",
   "execution_count": null,
   "metadata": {},
   "outputs": [],
   "source": [
    "doc.shape\n"
   ]
  },
  {
   "cell_type": "code",
   "execution_count": null,
   "metadata": {},
   "outputs": [],
   "source": [
    "import pandas as pd \n",
    "import numpy as np\n",
    "import matplotlib.pyplot as pyplot\n"
   ]
  },
  {
   "cell_type": "code",
   "execution_count": null,
   "metadata": {},
   "outputs": [],
   "source": [
    "def get_one_doc(host, url):\n",
    "\n",
    "    '''This function returns one string containing the text from \n",
    "        the url of a fed speech\n",
    "    '''\n",
    "    #conn = HTTPSConnection(host = host)\n",
    "    #conn.request(method='GET', url = url)\n",
    "    #resp = conn.getresponse()\n",
    "    #body = resp.read()\n",
    "\n",
    "    #if resp.status != 200:\n",
    "    #    print('Error from Web Site! Response code: ', resp.status)\n",
    "    \n",
    "    temp_url = 'https://' + host + url\n",
    "    response = requests.get(temp_url)\n",
    "\n",
    "    sp = BeautifulSoup(response.text)\n",
    "\n",
    "    article = sp.find('div', class_='col-xs-12 col-sm-8 col-md-8')\n",
    "\n",
    "    doc = []\n",
    "    for p in article.find_all('p'):\n",
    "        doc.append(p.text)\n",
    "\n",
    "    return_doc = ''.join(doc)\n",
    "\n",
    "    return return_doc\n"
   ]
  },
  {
   "cell_type": "code",
   "execution_count": null,
   "metadata": {},
   "outputs": [],
   "source": [
    "test= get_one_doc(host, df['link'][555] )"
   ]
  },
  {
   "cell_type": "code",
   "execution_count": null,
   "metadata": {},
   "outputs": [],
   "source": [
    "test"
   ]
  },
  {
   "cell_type": "code",
   "execution_count": null,
   "metadata": {},
   "outputs": [],
   "source": [
    "a_url = 'https://' + host + df['link'][0]\n",
    "a_url"
   ]
  },
  {
   "cell_type": "code",
   "execution_count": null,
   "metadata": {},
   "outputs": [],
   "source": [
    "df.head()"
   ]
  },
  {
   "cell_type": "code",
   "execution_count": null,
   "metadata": {},
   "outputs": [],
   "source": [
    "def get_one_doc(host, url):\n",
    "\n",
    "    '''This function returns one string containing the text from \n",
    "        the url of a fed speech\n",
    "    '''\n",
    "    #conn = HTTPSConnection(host = host)\n",
    "    #conn.request(method='GET', url = url)\n",
    "    #resp = conn.getresponse()\n",
    "    #body = resp.read()\n",
    "\n",
    "    temp_url = 'https://' + host + url\n",
    "    response = requests.get(temp_url)\n",
    "\n",
    "    #if response.status != 200:\n",
    "    #    print('Error from Web Site! Response code: ', response.status)\n",
    "    #    print(url)   \n",
    "    #    return none\n",
    "\n",
    "    sp = BeautifulSoup(response.text)\n",
    "\n",
    "    article = sp.find('div', class_='col-xs-12 col-sm-8 col-md-8')\n",
    "\n",
    "    doc = []\n",
    "    for p in article.find_all('p'):\n",
    "        doc.append(p.text)\n",
    "\n",
    "    return_doc = ''.join(doc)\n",
    "\n",
    "    return return_doc"
   ]
  },
  {
   "cell_type": "code",
   "execution_count": null,
   "metadata": {},
   "outputs": [],
   "source": [
    "def retrieve_docs(host, df):\n",
    "    for index, row in df.iterrows():\n",
    "        this_item = df['link'][index]\n",
    "        print(this_item)\n",
    "        doc = get_one_doc(host, item)\n",
    "        #df['text'][index] = doc\n",
    "    return df"
   ]
  },
  {
   "cell_type": "code",
   "execution_count": null,
   "metadata": {},
   "outputs": [],
   "source": [
    "## BELOW CRASHED ON THE 99th item (98 in index) \n",
    "for k in range(len(df)):\n",
    "    url = df['link'].iloc[k]\n",
    "    this_doc = get_one_doc(host, url)\n",
    "    df['text'].iloc[k]=this_doc"
   ]
  },
  {
   "cell_type": "code",
   "execution_count": null,
   "metadata": {},
   "outputs": [],
   "source": [
    "for k in np.arange(104, 200):\n",
    "    url = df['link'].iloc[k]\n",
    "    this_doc = get_one_doc(host, url)\n",
    "    df['text'].iloc[k]=this_doc"
   ]
  },
  {
   "cell_type": "code",
   "execution_count": null,
   "metadata": {},
   "outputs": [],
   "source": [
    "k = 600\n",
    "url = df['link'].iloc[k]\n",
    "this_doc = get_one_doc(host, url)\n",
    "df['text'].iloc[k]=this_doc"
   ]
  },
  {
   "cell_type": "code",
   "execution_count": null,
   "metadata": {},
   "outputs": [],
   "source": [
    "df.iloc[190:210]\n",
    "#df.tail()"
   ]
  },
  {
   "cell_type": "code",
   "execution_count": null,
   "metadata": {},
   "outputs": [],
   "source": [
    "df.iloc[99]"
   ]
  },
  {
   "cell_type": "code",
   "execution_count": null,
   "metadata": {},
   "outputs": [],
   "source": [
    "test= get_one_doc(host, df['link'][0] )\n"
   ]
  },
  {
   "cell_type": "code",
   "execution_count": null,
   "metadata": {},
   "outputs": [],
   "source": [
    "#annual_htm_list"
   ]
  },
  {
   "cell_type": "code",
   "execution_count": null,
   "metadata": {},
   "outputs": [],
   "source": [
    "suffix = '-speeches.htm'\n"
   ]
  },
  {
   "cell_type": "code",
   "execution_count": null,
   "metadata": {},
   "outputs": [],
   "source": [
    "df.iloc[734]"
   ]
  },
  {
   "cell_type": "code",
   "execution_count": null,
   "metadata": {},
   "outputs": [],
   "source": [
    "### location 555 has a problem\n",
    "df.loc[555]"
   ]
  },
  {
   "cell_type": "code",
   "execution_count": null,
   "metadata": {},
   "outputs": [],
   "source": [
    "df.loc[0]"
   ]
  },
  {
   "cell_type": "code",
   "execution_count": null,
   "metadata": {},
   "outputs": [],
   "source": [
    "temp_url = 'https://' + host + url\n",
    "response = requests.get(temp_url)\n",
    "\n",
    "if response.status != 200:\n",
    "    print('Error from Web Site! Response code: ', resp.status)\n",
    "    print(url)\n",
    "        \n",
    "    return none"
   ]
  },
  {
   "cell_type": "code",
   "execution_count": null,
   "metadata": {},
   "outputs": [],
   "source": [
    "host"
   ]
  },
  {
   "cell_type": "code",
   "execution_count": null,
   "metadata": {},
   "outputs": [],
   "source": [
    "url = df['link'].loc[555]\n",
    "url"
   ]
  },
  {
   "cell_type": "code",
   "execution_count": null,
   "metadata": {},
   "outputs": [],
   "source": [
    "temp_url = 'https://' + host + url\n",
    "temp_url"
   ]
  },
  {
   "cell_type": "code",
   "execution_count": null,
   "metadata": {},
   "outputs": [],
   "source": [
    "response = requests.get(temp_url)"
   ]
  },
  {
   "cell_type": "code",
   "execution_count": null,
   "metadata": {},
   "outputs": [],
   "source": [
    "response = requests.get(temp_url)\n",
    "\n",
    "sp = BeautifulSoup(response.text)\n",
    "\n",
    "article = sp.find('div', class_='col-xs-12 col-sm-8 col-md-8')\n",
    "\n",
    "doc = []\n",
    "for p in article.find_all('p'):\n",
    "    doc.append(p.text)\n",
    "\n",
    "return_doc = ''.join(doc)"
   ]
  },
  {
   "cell_type": "code",
   "execution_count": null,
   "metadata": {},
   "outputs": [],
   "source": [
    "return_doc"
   ]
  },
  {
   "cell_type": "code",
   "execution_count": null,
   "metadata": {},
   "outputs": [],
   "source": [
    "requests.models.Response"
   ]
  },
  {
   "cell_type": "code",
   "execution_count": null,
   "metadata": {},
   "outputs": [],
   "source": [
    "sp = BeautifulSoup(response.text)\n",
    "sp"
   ]
  },
  {
   "cell_type": "code",
   "execution_count": null,
   "metadata": {},
   "outputs": [],
   "source": [
    "df.iloc[0:5]\n"
   ]
  },
  {
   "cell_type": "markdown",
   "metadata": {},
   "source": [
    "## Temporary fix for the two publications\n",
    "Speech 99 and 103 are publications. They do not have a Speaker and have a different html schema.\n",
    "We are deleting them now from this database manually. \n",
    "The code will be changed in VisualStudio to reflect a systematic way to remove these.\n",
    "If there is no speaker - then we will remove these items from our dataframe\n"
   ]
  },
  {
   "cell_type": "code",
   "execution_count": null,
   "metadata": {},
   "outputs": [],
   "source": [
    "# looking at publications 99 and 103\n",
    "df.iloc[95:105]"
   ]
  },
  {
   "cell_type": "code",
   "execution_count": null,
   "metadata": {},
   "outputs": [],
   "source": [
    "df = df.drop([99,103])"
   ]
  },
  {
   "cell_type": "code",
   "execution_count": null,
   "metadata": {},
   "outputs": [],
   "source": [
    "#df.iloc[95:105]\n",
    "df.head()"
   ]
  },
  {
   "cell_type": "markdown",
   "metadata": {},
   "source": [
    " ### SAVING THE FILE as 'speeches.p'\n"
   ]
  },
  {
   "cell_type": "code",
   "execution_count": null,
   "metadata": {},
   "outputs": [],
   "source": [
    "import pickle"
   ]
  },
  {
   "cell_type": "code",
   "execution_count": null,
   "metadata": {},
   "outputs": [],
   "source": [
    "pickle.dump(df, open(\"speeches.p\", 'wb'))"
   ]
  },
  {
   "cell_type": "code",
   "execution_count": null,
   "metadata": {},
   "outputs": [],
   "source": [
    "whos"
   ]
  },
  {
   "cell_type": "code",
   "execution_count": null,
   "metadata": {},
   "outputs": [],
   "source": [
    "host"
   ]
  },
  {
   "cell_type": "code",
   "execution_count": null,
   "metadata": {},
   "outputs": [],
   "source": [
    "start_year = 2016"
   ]
  },
  {
   "cell_type": "code",
   "execution_count": null,
   "metadata": {},
   "outputs": [],
   "source": [
    "test= create_url_list(start_year, end_year, prefix, suffix)\n",
    "test"
   ]
  },
  {
   "cell_type": "code",
   "execution_count": 71,
   "metadata": {},
   "outputs": [
    {
     "name": "stdout",
     "output_type": "stream",
     "text": [
      "Variable                Type               Data/Info\n",
      "----------------------------------------------------\n",
      "BeautifulSoup           type               <class 'bs4.BeautifulSoup'>\n",
      "HTTPConnection          type               <class 'http.client.HTTPConnection'>\n",
      "HTTPSConnection         type               <class 'http.client.HTTPSConnection'>\n",
      "MongoClient             type               <class 'pymongo.mongo_client.MongoClient'>\n",
      "annual_htm_list         list               n=14\n",
      "body                    bytes              b'\\xef\\xbb\\xbf<!doctype h<...>pt>\\n</body>\\n</html>\\n '\n",
      "conn                    HTTPSConnection    <http.client.HTTPSConnect<...>on object at 0x10aade940>\n",
      "create_speech_df        function           <function create_speech_df at 0x10b09f158>\n",
      "create_url_list         function           <function create_url_list at 0x10ac33a60>\n",
      "date_lst                list               n=18\n",
      "dates                   list               n=73\n",
      "delete_these            Int64Index         Int64Index([99, 103], dtype='int64')\n",
      "df                      DataFrame                    date           <...>n\\n[735 rows x 5 columns]\n",
      "df2                     DataFrame                    date           <...>n\\n[733 rows x 5 columns]\n",
      "end_string              str                speech.htm\n",
      "end_year                int                2019\n",
      "event_list              Tag                <div class=\"row eventlist<...>ol-md-4\">\\n</div>\\n</div>\n",
      "find_speaches_by_year   function           <function find_speaches_by_year at 0x1083f8488>\n",
      "front_string            str                /newsevents/speech/\n",
      "host                    str                www.federalreserve.gov\n",
      "html_lst                list               n=0\n",
      "link                    Tag                <a href=\"/newsevents/spee<...>ional Engagement</em></a>\n",
      "link_lst                list               n=24\n",
      "links                   list               n=73\n",
      "mid_str                 str                2019\n",
      "my_table                ResultSet          [<div class=\"col-xs-12 co<...>ination=\"\"></ul>\\n</div>]\n",
      "np                      module             <module 'numpy' from '/an<...>kages/numpy/__init__.py'>\n",
      "pd                      module             <module 'pandas' from '/a<...>ages/pandas/__init__.py'>\n",
      "prefix                  str                /newsevents/speech/\n",
      "resp                    HTTPResponse       <http.client.HTTPResponse object at 0x10aade908>\n",
      "row                     Tag                <div class=\"row\">\\n<div c<...>orida</p>\\n</div>\\n</div>\n",
      "socket                  module             <module 'socket' from '/a<...>lib/python3.6/socket.py'>\n",
      "soup                    BeautifulSoup      <!DOCTYPE html>\\n<html cl<...>ript>\\n</body>\\n</html>\\n\n",
      "speaker_lst             list               n=18\n",
      "speakers                list               n=73\n",
      "start_year              int                2006\n",
      "suffix                  str                -speeches.htm\n",
      "this_url                str                /newsevents/speech/2006speech.htm\n",
      "title_list              list               n=0\n",
      "title_lst               list               n=18\n",
      "titles                  list               n=73\n",
      "tmp_date                list               n=1\n",
      "tmp_speaker             list               n=1\n",
      "tmp_title               list               n=1\n",
      "url                     str                /newsevents/speech/2015-speeches.htm\n",
      "urlopen                 function           <function urlopen at 0x107b0f510>\n",
      "x                       int                2019\n"
     ]
    }
   ],
   "source": [
    "whos"
   ]
  },
  {
   "cell_type": "code",
   "execution_count": 72,
   "metadata": {},
   "outputs": [
    {
     "data": {
      "text/plain": [
       "['/newsevents/speech/2006speech.htm',\n",
       " '/newsevents/speech/2007speech.htm',\n",
       " '/newsevents/speech/2008speech.htm',\n",
       " '/newsevents/speech/2009speech.htm',\n",
       " '/newsevents/speech/2010speech.htm',\n",
       " '/newsevents/speech/2011-speeches.htm',\n",
       " '/newsevents/speech/2012-speeches.htm',\n",
       " '/newsevents/speech/2013-speeches.htm',\n",
       " '/newsevents/speech/2014-speeches.htm',\n",
       " '/newsevents/speech/2015-speeches.htm',\n",
       " '/newsevents/speech/2016-speeches.htm',\n",
       " '/newsevents/speech/2017-speeches.htm',\n",
       " '/newsevents/speech/2018-speeches.htm',\n",
       " '/newsevents/speech/2019-speeches.htm']"
      ]
     },
     "execution_count": 72,
     "metadata": {},
     "output_type": "execute_result"
    }
   ],
   "source": [
    "annual_htm_list\n"
   ]
  },
  {
   "cell_type": "code",
   "execution_count": 73,
   "metadata": {},
   "outputs": [
    {
     "name": "stdout",
     "output_type": "stream",
     "text": [
      "/newsevents/speech/2006speech.htm\n",
      "/newsevents/speech/2007speech.htm\n",
      "/newsevents/speech/2008speech.htm\n",
      "/newsevents/speech/2009speech.htm\n",
      "/newsevents/speech/2010speech.htm\n",
      "/newsevents/speech/2011-speeches.htm\n",
      "/newsevents/speech/2012-speeches.htm\n",
      "/newsevents/speech/2013-speeches.htm\n",
      "/newsevents/speech/2014-speeches.htm\n",
      "/newsevents/speech/2015-speeches.htm\n",
      "/newsevents/speech/2016-speeches.htm\n",
      "/newsevents/speech/2017-speeches.htm\n",
      "/newsevents/speech/2018-speeches.htm\n",
      "/newsevents/speech/2019-speeches.htm\n"
     ]
    }
   ],
   "source": [
    "for item in annual_htm_list:\n",
    "    print(item)"
   ]
  },
  {
   "cell_type": "code",
   "execution_count": 74,
   "metadata": {},
   "outputs": [
    {
     "data": {
      "text/plain": [
       "'/newsevents/speech/2019-speeches.htm'"
      ]
     },
     "execution_count": 74,
     "metadata": {},
     "output_type": "execute_result"
    }
   ],
   "source": [
    "item"
   ]
  },
  {
   "cell_type": "code",
   "execution_count": 75,
   "metadata": {},
   "outputs": [
    {
     "name": "stdout",
     "output_type": "stream",
     "text": [
      "length of dates:  18\n",
      "length of speakers:  18\n",
      "length of titles:  18\n",
      "length of href:  18\n"
     ]
    }
   ],
   "source": [
    "dl, sl, tl, ll = find_speaches_by_year(host, item, print_test=True)"
   ]
  },
  {
   "cell_type": "code",
   "execution_count": 76,
   "metadata": {},
   "outputs": [
    {
     "name": "stdout",
     "output_type": "stream",
     "text": [
      "Variable                Type               Data/Info\n",
      "----------------------------------------------------\n",
      "BeautifulSoup           type               <class 'bs4.BeautifulSoup'>\n",
      "HTTPConnection          type               <class 'http.client.HTTPConnection'>\n",
      "HTTPSConnection         type               <class 'http.client.HTTPSConnection'>\n",
      "MongoClient             type               <class 'pymongo.mongo_client.MongoClient'>\n",
      "annual_htm_list         list               n=14\n",
      "body                    bytes              b'\\xef\\xbb\\xbf<!doctype h<...>pt>\\n</body>\\n</html>\\n '\n",
      "conn                    HTTPSConnection    <http.client.HTTPSConnect<...>on object at 0x10aade940>\n",
      "create_speech_df        function           <function create_speech_df at 0x10b09f158>\n",
      "create_url_list         function           <function create_url_list at 0x10ac33a60>\n",
      "date_lst                list               n=18\n",
      "dates                   list               n=73\n",
      "delete_these            Int64Index         Int64Index([99, 103], dtype='int64')\n",
      "df                      DataFrame                    date           <...>n\\n[735 rows x 5 columns]\n",
      "df2                     DataFrame                    date           <...>n\\n[733 rows x 5 columns]\n",
      "dl                      list               n=18\n",
      "end_string              str                speech.htm\n",
      "end_year                int                2019\n",
      "event_list              Tag                <div class=\"row eventlist<...>ol-md-4\">\\n</div>\\n</div>\n",
      "find_speaches_by_year   function           <function find_speaches_by_year at 0x1083f8488>\n",
      "front_string            str                /newsevents/speech/\n",
      "host                    str                www.federalreserve.gov\n",
      "html_lst                list               n=0\n",
      "item                    str                /newsevents/speech/2019-speeches.htm\n",
      "link                    Tag                <a href=\"/newsevents/spee<...>ional Engagement</em></a>\n",
      "link_lst                list               n=24\n",
      "links                   list               n=73\n",
      "ll                      list               n=18\n",
      "mid_str                 str                2019\n",
      "my_table                ResultSet          [<div class=\"col-xs-12 co<...>ination=\"\"></ul>\\n</div>]\n",
      "np                      module             <module 'numpy' from '/an<...>kages/numpy/__init__.py'>\n",
      "pd                      module             <module 'pandas' from '/a<...>ages/pandas/__init__.py'>\n",
      "prefix                  str                /newsevents/speech/\n",
      "resp                    HTTPResponse       <http.client.HTTPResponse object at 0x10aade908>\n",
      "row                     Tag                <div class=\"row\">\\n<div c<...>orida</p>\\n</div>\\n</div>\n",
      "sl                      list               n=18\n",
      "socket                  module             <module 'socket' from '/a<...>lib/python3.6/socket.py'>\n",
      "soup                    BeautifulSoup      <!DOCTYPE html>\\n<html cl<...>ript>\\n</body>\\n</html>\\n\n",
      "speaker_lst             list               n=18\n",
      "speakers                list               n=73\n",
      "start_year              int                2006\n",
      "suffix                  str                -speeches.htm\n",
      "this_url                str                /newsevents/speech/2006speech.htm\n",
      "title_list              list               n=0\n",
      "title_lst               list               n=18\n",
      "titles                  list               n=73\n",
      "tl                      list               n=18\n",
      "tmp_date                list               n=1\n",
      "tmp_speaker             list               n=1\n",
      "tmp_title               list               n=1\n",
      "url                     str                /newsevents/speech/2015-speeches.htm\n",
      "urlopen                 function           <function urlopen at 0x107b0f510>\n",
      "x                       int                2019\n"
     ]
    }
   ],
   "source": [
    "whos"
   ]
  },
  {
   "cell_type": "code",
   "execution_count": 77,
   "metadata": {},
   "outputs": [
    {
     "name": "stdout",
     "output_type": "stream",
     "text": [
      "\u001b[H\u001b[2J"
     ]
    }
   ],
   "source": [
    "clear\n"
   ]
  },
  {
   "cell_type": "code",
   "execution_count": 78,
   "metadata": {},
   "outputs": [
    {
     "ename": "NameError",
     "evalue": "name 'whs' is not defined",
     "output_type": "error",
     "traceback": [
      "\u001b[0;31m---------------------------------------------------------------------------\u001b[0m",
      "\u001b[0;31mNameError\u001b[0m                                 Traceback (most recent call last)",
      "\u001b[0;32m<ipython-input-78-2d576fc2f5be>\u001b[0m in \u001b[0;36m<module>\u001b[0;34m\u001b[0m\n\u001b[0;32m----> 1\u001b[0;31m \u001b[0mwhs\u001b[0m\u001b[0;34m\u001b[0m\u001b[0;34m\u001b[0m\u001b[0m\n\u001b[0m",
      "\u001b[0;31mNameError\u001b[0m: name 'whs' is not defined"
     ]
    }
   ],
   "source": [
    "whs"
   ]
  },
  {
   "cell_type": "code",
   "execution_count": 79,
   "metadata": {},
   "outputs": [
    {
     "name": "stdout",
     "output_type": "stream",
     "text": [
      "Variable                Type               Data/Info\n",
      "----------------------------------------------------\n",
      "BeautifulSoup           type               <class 'bs4.BeautifulSoup'>\n",
      "HTTPConnection          type               <class 'http.client.HTTPConnection'>\n",
      "HTTPSConnection         type               <class 'http.client.HTTPSConnection'>\n",
      "MongoClient             type               <class 'pymongo.mongo_client.MongoClient'>\n",
      "annual_htm_list         list               n=14\n",
      "body                    bytes              b'\\xef\\xbb\\xbf<!doctype h<...>pt>\\n</body>\\n</html>\\n '\n",
      "conn                    HTTPSConnection    <http.client.HTTPSConnect<...>on object at 0x10aade940>\n",
      "create_speech_df        function           <function create_speech_df at 0x10b09f158>\n",
      "create_url_list         function           <function create_url_list at 0x10ac33a60>\n",
      "date_lst                list               n=18\n",
      "dates                   list               n=73\n",
      "delete_these            Int64Index         Int64Index([99, 103], dtype='int64')\n",
      "df                      DataFrame                    date           <...>n\\n[735 rows x 5 columns]\n",
      "df2                     DataFrame                    date           <...>n\\n[733 rows x 5 columns]\n",
      "dl                      list               n=18\n",
      "end_string              str                speech.htm\n",
      "end_year                int                2019\n",
      "event_list              Tag                <div class=\"row eventlist<...>ol-md-4\">\\n</div>\\n</div>\n",
      "find_speaches_by_year   function           <function find_speaches_by_year at 0x1083f8488>\n",
      "front_string            str                /newsevents/speech/\n",
      "host                    str                www.federalreserve.gov\n",
      "html_lst                list               n=0\n",
      "item                    str                /newsevents/speech/2019-speeches.htm\n",
      "link                    Tag                <a href=\"/newsevents/spee<...>ional Engagement</em></a>\n",
      "link_lst                list               n=24\n",
      "links                   list               n=73\n",
      "ll                      list               n=18\n",
      "mid_str                 str                2019\n",
      "my_table                ResultSet          [<div class=\"col-xs-12 co<...>ination=\"\"></ul>\\n</div>]\n",
      "np                      module             <module 'numpy' from '/an<...>kages/numpy/__init__.py'>\n",
      "pd                      module             <module 'pandas' from '/a<...>ages/pandas/__init__.py'>\n",
      "prefix                  str                /newsevents/speech/\n",
      "resp                    HTTPResponse       <http.client.HTTPResponse object at 0x10aade908>\n",
      "row                     Tag                <div class=\"row\">\\n<div c<...>orida</p>\\n</div>\\n</div>\n",
      "sl                      list               n=18\n",
      "socket                  module             <module 'socket' from '/a<...>lib/python3.6/socket.py'>\n",
      "soup                    BeautifulSoup      <!DOCTYPE html>\\n<html cl<...>ript>\\n</body>\\n</html>\\n\n",
      "speaker_lst             list               n=18\n",
      "speakers                list               n=73\n",
      "start_year              int                2006\n",
      "suffix                  str                -speeches.htm\n",
      "this_url                str                /newsevents/speech/2006speech.htm\n",
      "title_list              list               n=0\n",
      "title_lst               list               n=18\n",
      "titles                  list               n=73\n",
      "tl                      list               n=18\n",
      "tmp_date                list               n=1\n",
      "tmp_speaker             list               n=1\n",
      "tmp_title               list               n=1\n",
      "url                     str                /newsevents/speech/2015-speeches.htm\n",
      "urlopen                 function           <function urlopen at 0x107b0f510>\n",
      "x                       int                2019\n"
     ]
    }
   ],
   "source": [
    "whos\n"
   ]
  },
  {
   "cell_type": "code",
   "execution_count": null,
   "metadata": {},
   "outputs": [],
   "source": []
  }
 ],
 "metadata": {
  "kernelspec": {
   "display_name": "Python 3",
   "language": "python",
   "name": "python3"
  },
  "language_info": {
   "codemirror_mode": {
    "name": "ipython",
    "version": 3
   },
   "file_extension": ".py",
   "mimetype": "text/x-python",
   "name": "python",
   "nbconvert_exporter": "python",
   "pygments_lexer": "ipython3",
   "version": "3.6.8"
  }
 },
 "nbformat": 4,
 "nbformat_minor": 2
}
