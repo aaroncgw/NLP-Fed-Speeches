{
 "cells": [
  {
   "cell_type": "code",
   "execution_count": 115,
   "metadata": {},
   "outputs": [],
   "source": [
    "import string\n",
    "import numpy as np\n",
    "import pandas as pd\n",
    "\n",
    "from nltk.corpus import stopwords\n",
    "from nltk.tokenize import RegexpTokenizer\n",
    "from nltk.stem.porter import PorterStemmer\n",
    "\n",
    "from nltk.tokenize import word_tokenize\n",
    "from nltk.stem.porter import PorterStemmer\n",
    "from nltk.stem.snowball import SnowballStemmer\n",
    "from nltk.stem.wordnet import WordNetLemmatizer\n",
    "\n",
    "from sklearn.feature_extraction.text import TfidfVectorizer, CountVectorizer\n",
    "  \n",
    "import matplotlib.pyplot as plt\n",
    "%matplotlib inline"
   ]
  },
  {
   "cell_type": "code",
   "execution_count": 2,
   "metadata": {},
   "outputs": [
    {
     "name": "stdout",
     "output_type": "stream",
     "text": [
      "<class 'pandas.core.frame.DataFrame'>\n",
      "Int64Index: 733 entries, 0 to 734\n",
      "Data columns (total 5 columns):\n",
      "date       733 non-null datetime64[ns]\n",
      "speaker    733 non-null object\n",
      "title      733 non-null object\n",
      "link       733 non-null object\n",
      "text       733 non-null object\n",
      "dtypes: datetime64[ns](1), object(4)\n",
      "memory usage: 34.4+ KB\n"
     ]
    }
   ],
   "source": [
    "import pickle\n",
    "df = pickle.load( open( \"../data/all_fed_speeches\", \"rb\" ) )\n",
    "df.info()"
   ]
  },
  {
   "cell_type": "code",
   "execution_count": 5,
   "metadata": {},
   "outputs": [],
   "source": [
    "doc_list = list(df['text'])"
   ]
  },
  {
   "cell_type": "code",
   "execution_count": null,
   "metadata": {},
   "outputs": [],
   "source": []
  },
  {
   "cell_type": "code",
   "execution_count": 10,
   "metadata": {},
   "outputs": [],
   "source": [
    "tfidvect =TfidfVectorizer(lowercase=True, \n",
    "                          stop_words='english',\n",
    "                          max_features = 1000,\n",
    "                          norm = 'l2',\n",
    "                          use_idf = True,\n",
    "                          smooth_idf=True,\n",
    "                          sublinear_tf = False)\n",
    "tfidf_vectorized = tfidvect.fit_transform(doc_list)"
   ]
  },
  {
   "cell_type": "code",
   "execution_count": 12,
   "metadata": {},
   "outputs": [
    {
     "name": "stdout",
     "output_type": "stream",
     "text": [
      "26767\n"
     ]
    }
   ],
   "source": [
    "# checking stop words (which includes the cleared features from max_features)\n",
    "stops = tfidvect.stop_words_\n",
    "print(len(stops))\n"
   ]
  },
  {
   "cell_type": "code",
   "execution_count": 13,
   "metadata": {},
   "outputs": [
    {
     "name": "stdout",
     "output_type": "stream",
     "text": [
      "1000\n"
     ]
    }
   ],
   "source": [
    "# checking the vocabulary\n",
    "vocab = tfidvect.vocabulary_\n",
    "print(len(vocab))"
   ]
  },
  {
   "cell_type": "code",
   "execution_count": 15,
   "metadata": {},
   "outputs": [
    {
     "name": "stdout",
     "output_type": "stream",
     "text": [
      "{'china': 155, 'global': 391, 'economic': 284, 'important': 439, 'developments': 260, 'recent': 741, 'decades': 238, 'past': 642, 'years': 995, 'economy': 288, 'growth': 408, 'rate': 735, 'nearly': 593, '10': 1, 'percent': 649, 'year': 994, 'resulting': 790, 'output': 631, 'overall': 633, 'size': 856, 'today': 940, 'fourth': 374, 'largest': 505, 'world': 991, 'terms': 925, 'gross': 404, 'domestic': 276, 'product': 699, 'gdp': 387, 'current': 226, 'exchange': 321, 'rates': 736, 'second': 820, 'adjustments': 56, 'differences': 262, 'national': 589, 'strong': 890, 'performance': 651, 'improved': 442, 'standards': 878, 'people': 648, 'estimates': 313, 'million': 573, 'reforms': 753, 'began': 106, '2004': 18, 'life': 523, 'fallen': 342, '000': 0, 'measures': 564, 'remains': 769, 'developing': 258, 'nation': 588, 'particular': 640, 'average': 94, 'household': 430, 'consumption': 198, 'remain': 767, 'quite': 729, 'low': 543, 'areas': 80, 'challenge': 148, 'high': 418, 'stable': 874, 'development': 259, 'country': 215, 'fully': 377, 'remarks': 770, 'like': 525, 'offer': 616, 'continue': 200, 'promote': 707, 'progress': 705, 'markets': 558, 'level': 519, 'productivity': 701, 'open': 620, 'policy': 664, 'estimated': 312, '2005': 19, 'factors': 338, 'contributed': 204, 'including': 450, 'capital': 138, 'investment': 482, 'increasing': 455, 'trade': 944, 'view': 972, 'single': 854, 'ongoing': 619, 'expansion': 323, 'moved': 586, 'central': 144, 'planning': 658, 'greater': 403, 'prices': 689, 'market': 557, 'production': 700, 'state': 880, 'government': 399, 'reduced': 747, 'direct': 265, 'process': 697, 'scope': 819, '1999': 12, 'according': 42, 'estimate': 311, 'business': 133, 'goods': 397, 'substantial': 899, 'experience': 327, 'shown': 846, 'economies': 286, 'early': 281, 'complex': 180, 'effectively': 292, 'basis': 104, 'set': 834, 'serve': 831, 'critical': 223, 'information': 467, 'supply': 909, 'demand': 248, 'conditions': 186, 'relative': 763, 'specific': 868, 'services': 833, 'resources': 785, 'providing': 717, 'incentives': 447, 'cost': 210, 'reduction': 749, 'innovation': 469, 'activities': 50, 'labor': 501, 'particularly': 641, 'area': 79, 'notably': 608, 'reducing': 748, 'workers': 989, 'sectors': 822, 'firms': 357, 'employment': 299, 'wages': 978, 'relatively': 764, 'wage': 977, 'jobs': 491, 'higher': 419, 'significant': 848, 'source': 865, 'decline': 242, 'share': 837, 'population': 667, 'scale': 816, 'despite': 255, 'large': 502, 'example': 320, 'related': 761, 'times': 939, 'considerable': 193, 'force': 366, 'additional': 54, 'gains': 385, 'growing': 407, 'small': 859, 'medium': 566, 'emerging': 298, 'job': 490, 'united': 962, 'states': 882, 'help': 416, 'create': 218, 'support': 910, 'reduce': 746, 'education': 289, 'need': 596, 'new': 603, 'improvement': 443, 'major': 548, 'competition': 179, 'role': 802, 'international': 481, 'organization': 627, '2001': 15, 'service': 832, 'foreign': 371, 'increase': 452, 'improve': 441, 'quality': 723, 'operating': 621, 'helped': 417, 'based': 102, 'results': 791, 'energy': 302, 'sector': 821, 'opportunity': 625, 'know': 498, 'rapidly': 734, 'oil': 618, '50': 35, '2000': 14, 'agency': 62, 'increased': 453, 'day': 233, '2006': 20, 'half': 410, 'rapid': 733, 'use': 964, 'reflects': 751, 'price': 688, 'controls': 206, 'sustainable': 913, 'households': 431, 'benefits': 113, 'larger': 504, 'decisions': 241, 'office': 617, 'saving': 813, 'pace': 635, 'concerns': 184, 'ways': 982, 'return': 792, 'fixed': 359, 'annual': 71, 'rose': 803, 'remained': 768, 'lower': 544, 'countries': 214, 'period': 652, 'relevant': 766, '30': 34, 'investments': 483, 'continued': 201, 'capacity': 137, 'appear': 72, 'possible': 672, 'industry': 464, 'appears': 73, '2002': 16, '11': 2, 'financial': 354, 'play': 660, 'likely': 526, 'returns': 793, 'risk': 798, 'problem': 695, 'loans': 535, 'future': 384, 'better': 116, 'account': 43, 'costs': 211, '12': 3, 'taken': 917, 'steps': 884, 'beginning': 108, 'stock': 885, 'banking': 100, 'improving': 445, 'supervision': 906, 'institutions': 474, 'banks': 101, 'bank': 98, 'lending': 516, 'trends': 951, 'positive': 670, 'great': 402, 'deal': 234, 'range': 732, 'instruments': 475, 'available': 93, 'borrowers': 124, 'taking': 918, 'ensure': 304, 'credit': 220, 'sound': 863, 'finance': 353, 'availability': 92, 'consumers': 197, 'smaller': 860, 'quantitative': 724, 'influence': 466, 'finally': 352, 'require': 774, 'appropriate': 77, 'institutional': 473, 'function': 378, 'accounting': 44, 'good': 396, 'corporate': 209, 'effective': 291, 'supervisory': 908, 'oversight': 634, 'consistent': 194, 'rules': 806, 'allow': 66, 'focus': 362, 'provide': 714, 'long': 537, 'run': 807, 'macroeconomic': 545, 'believe': 110, 'benefit': 112, 'tools': 942, 'monetary': 578, 'fiscal': 358, 'policies': 663, 'achieve': 46, 'inflation': 465, 'stability': 873, 'effects': 294, '13': 4, 'work': 988, 'extent': 333, 'developed': 257, 'authorities': 90, 'affect': 59, 'activity': 51, 'way': 981, 'reason': 739, 'reform': 752, 'strengthen': 888, 'borrowing': 125, 'aggregate': 63, 'funds': 383, 'principles': 691, 'expected': 326, 'make': 549, 'effectiveness': 293, 'enhanced': 303, 'maintain': 547, 'close': 161, 'dollar': 275, 'purchases': 722, 'assets': 85, 'increases': 454, 'money': 579, 'result': 789, 'bonds': 122, 'investors': 484, 'commercial': 167, 'leading': 510, 'largely': 503, 'successful': 902, 'operations': 623, 'continues': 202, 'strategy': 887, 'problems': 696, 'near': 592, 'levels': 520, 'value': 968, 'held': 415, 'private': 693, 'potentially': 675, 'point': 661, 'expect': 324, 'ultimately': 955, 'longer': 538, 'term': 924, 'flow': 360, 'limited': 528, 'trading': 945, 'goal': 393, 'independent': 458, 'perspective': 655, 'degree': 246, 'short': 845, 'political': 666, 'ability': 36, 'course': 216, 'governments': 400, 'flows': 361, 'led': 511, 'exports': 330, 'currently': 227, 'seen': 826, 'compared': 177, 'accounts': 45, 'called': 135, 'research': 779, '14': 5, 'technology': 922, 'knowledge': 499, 'billion': 118, 'making': 551, '15': 6, 'products': 702, '16': 7, 'securities': 823, 'significantly': 849, '17': 8, 'lend': 513, 'balance': 97, 'payments': 646, 'net': 601, 'abroad': 38, 'look': 539, 'economists': 287, 'policymakers': 665, 'importance': 438, 'having': 413, 'recently': 742, 'included': 449, 'objectives': 614, 'plan': 657, '2010': 24, 'participation': 639, 'systems': 916, 'home': 426, 'data': 231, 'clearly': 160, '18': 9, '19': 10, 'situation': 855, 'real': 738, '20': 13, 'consumer': 196, 'currency': 225, 'provides': 716, 'lead': 509, 'probably': 694, 'present': 682, 'social': 861, 'safety': 810, 'health': 414, 'insurance': 476, 'plans': 659, 'case': 140, 'pre': 679, 'earnings': 282, 'apply': 74, 'local': 536, 'security': 825, 'similar': 850, 'income': 451, 'stronger': 891, 'risks': 799, 'program': 703, 'potential': 674, 'time': 938, 'spending': 870, 'types': 953, 'raise': 730, 'means': 562, 'fund': 380, 'required': 775, 'pay': 644, 'measure': 563, 'understand': 958, 'access': 39, 'mortgages': 585, 'noted': 610, 'objective': 613, 'goals': 394, 'proposed': 711, 'various': 971, 'effort': 295, 'success': 901, 'efforts': 296, 'discussed': 270, 'turn': 952, 'stress': 889, 'addition': 53, 'provision': 718, 'especially': 307, 'hope': 428, 'purchase': 721, 'variety': 970, 'opportunities': 624, 'industrial': 463, 'does': 273, 'change': 150, 'affected': 60, 'broad': 127, 'relationship': 762, 'challenges': 149, 'address': 55, 'environment': 305, 'regarding': 755, 'come': 165, 'responsibility': 788, 'september': 829, 'sheet': 840, 'needs': 598, 'york': 998, 'prospects': 712, 'washington': 980, 'pp': 676, 'robust': 801, 'working': 990, 'paper': 636, 'october': 615, 'david': 232, 'american': 69, 'review': 794, 'vol': 974, 'june': 495, 'framework': 375, 'far': 345, 'july': 494, 'institution': 472, 'press': 683, 'path': 643, 'economics': 285, 'bureau': 132, 'statistics': 883, 'papers': 637, 'line': 529, 'indicators': 460, 'www': 993, 'text2': 930, 'text3': 931, 'outlook': 630, 'text4': 932, 'federal': 349, 'reserve': 780, 'board': 120, 'staff': 875, 'using': 967, 'difficult': 264, 'series': 830, 'discussion': 271, '25': 33, 'sources': 866, 'adverse': 58, 'best': 115, 'cash': 142, 'issues': 488, 'involved': 485, 'provided': 715, 'implementation': 436, '2003': 17, 'useful': 966, 'analysis': 70, 'alternative': 67, 'approaches': 76, 'used': 965, 'november': 611, 'text': 929, 'conference': 188, 'uncertainty': 956, 'face': 334, 'think': 935, 'nature': 591, 'tend': 923, 'lessons': 517, 'views': 973, 'necessarily': 594, 'reflect': 750, 'members': 569, 'committee': 169, 'fomc': 365, 'faced': 335, 'going': 395, 'understanding': 959, 'expectations': 325, 'bankers': 99, 'typically': 954, 'subject': 897, 'issue': 486, 'resource': 784, 'historical': 421, 'consider': 192, 'just': 496, 'late': 506, 'fall': 341, 'implications': 437, 'known': 500, 'changes': 152, 'personal': 654, 'index': 459, 'hard': 412, 'month': 582, 'pressures': 685, 'compensation': 178, 'special': 867, 'begin': 107, 'hand': 411, 'rising': 797, 'release': 765, 'suggests': 905, 'total': 943, 'studies': 895, 'suggest': 904, 'existing': 322, 'certain': 145, 'key': 497, 'trend': 950, 'figure': 350, 'behavior': 109, 'downward': 277, 'cycle': 230, 'later': 507, 'questions': 727, 'sales': 812, 'survey': 912, 'movements': 587, 'general': 388, 'associated': 87, 'assessment': 83, 'guidance': 409, 'companies': 175, 'number': 612, 'wide': 985, 'common': 171, 'nominal': 604, 'treasury': 949, 'yields': 997, 'premium': 680, 'liquidity': 532, 'forecast': 367, 'needed': 597, 'form': 372, 'sense': 828, 'question': 726, 'stance': 876, 'asset': 84, 'structure': 893, 'public': 720, 'debt': 236, 'equity': 306, 'order': 626, 'directly': 266, 'say': 815, 'premiums': 681, 'underlying': 957, 'house': 429, 'previous': 687, 'estate': 310, 'doing': 274, 'created': 219, 'fundamental': 381, 'rise': 796, 'homes': 427, 'dynamics': 279, 'focused': 363, 'model': 575, 'evolution': 318, 'effect': 290, 'models': 576, 'rule': 805, 'possibility': 671, 'simply': 853, 'factor': 337, 'concern': 183, 'study': 896, 'end': 301, 'shocks': 844, 'severe': 835, 'little': 533, 'simple': 852, 'history': 422, 'shift': 842, 'slow': 858, 'elevated': 297, 'unemployment': 961, 'explain': 329, 'core': 208, 'post': 673, 'generally': 389, 'makes': 550, 'robert': 800, 'ago': 64, 'evidence': 317, 'response': 787, 'looking': 540, 'conduct': 187, 'actions': 49, 'respond': 786, 'given': 390, 'certainly': 146, 'approach': 75, 'circumstances': 156, '1990s': 11, 'conclusion': 185, 'gap': 386, 'did': 261, 'light': 524, 'necessary': 595, 'events': 316, 'lines': 530, 'control': 205, 'maximum': 561, 'loss': 541, 'different': 263, 'contrast': 203, 'standard': 877, 'bit': 119, 'weak': 983, 'zero': 999, 'extended': 332, 'management': 553, 'event': 315, 'requires': 778, 'practice': 677, 'projections': 706, 'intended': 477, 'primary': 690, 'aspects': 81, 'wealth': 984, 'confidence': 189, 'individuals': 462, 'fed': 348, 'decision': 240, 'recognize': 744, 'speech': 869, 'thought': 936, 'thank': 933, 'michael': 571, 'actual': 52, 'sharp': 838, 'journal': 493, 'april': 78, 'governors': 401, 'december': 239, 'european': 314, 'march': 555, 'january': 489, 'john': 492, 'groups': 406, 'university': 963, 'theory': 934, 'functioning': 379, 'mortgage': 584, 'discuss': 269, 'regulatory': 760, 'proposals': 710, 'basel': 103, 'ii': 434, 'cross': 224, 'manage': 552, 'customers': 229, 'positions': 669, 'supervisors': 907, 'losses': 542, 'minimum': 574, 'requirements': 777, 'tool': 941, 'negative': 599, 'consequences': 191, 'advanced': 57, 'discipline': 267, 'systemic': 914, 'examiners': 319, 'holding': 424, 'reasons': 740, 'default': 245, 'months': 583, 'agencies': 61, 'issued': 487, 'meet': 567, 'want': 979, 'final': 351, 'forward': 373, 'soundness': 864, 'chairman': 147, 'bernanke': 114, 'organizations': 628, 'operational': 622, 'august': 89, 'proposal': 709, 'develop': 256, 'community': 174, 'instead': 471, 'mid': 572, 'depository': 251, 'residential': 782, 'raised': 731, 'regard': 754, 'transparency': 948, 'periods': 653, 'earlier': 280, 'encourage': 300, 'identify': 433, 'group': 405, 'meeting': 568, 'let': 518, 'limit': 527, 'established': 309, 'individual': 461, 'coming': 166, 'practices': 678, 'colleagues': 164, 'closely': 162, 'regulators': 759, 'impact': 435, 'able': 37, 'regulation': 757, 'regime': 756, 'leverage': 521, 'ratio': 737, 'action': 48, 'hold': 423, 'counterparties': 213, 'tax': 920, 'assess': 82, 'include': 448, 'cases': 141, 'slack': 857, 'moderate': 577, 'congress': 190, 'report': 772, 'place': 656, 'roughly': 804, 'housing': 432, 'somewhat': 862, 'declines': 244, 'easing': 283, 'monitor': 580, 'statement': 881, 'department': 249, 'quarter': 725, 'outcomes': 629, 'decade': 237, 'construction': 195, 'family': 344, 'points': 662, 'reported': 773, 'shows': 847, 'normal': 607, 'declined': 243, 'experienced': 328, 'outside': 632, 'broader': 128, 'following': 364, 'reserves': 781, 'scenario': 817, 'forecasts': 368, 'broadly': 129, 'ahead': 65, 'fact': 336, 'women': 987, 'sharply': 839, 'improvements': 444, 'said': 811, 'volatility': 975, 'participants': 638, 'pressure': 684, 'non': 605, 'families': 343, 'neutral': 602, 'failure': 340, 'clear': 158, 'firm': 356, 'quickly': 728, 'businesses': 134, 'recession': 743, 'designed': 254, 'mandate': 554, 'similarly': 851, 'clearing': 159, 'dual': 278, 'derivatives': 253, 'target': 919, 'yield': 996, 'note': 609, 'importantly': 440, 'bond': 121, 'recovery': 745, '2007': 21, 'tightening': 937, 'changed': 151, 'curve': 228, 'accommodative': 41, 'right': 795, 'communication': 172, 'authority': 91, 'funding': 382, 'context': 199, 'deposit': 250, 'discount': 268, 'window': 986, 'monitoring': 581, 'resolution': 783, 'deposits': 252, 'substantially': 900, 'big': 117, 'fail': 339, 'dealers': 235, 'sponsored': 871, 'incentive': 446, 'traditional': 946, 'school': 818, 'globalization': 392, 'independence': 457, 'worth': 992, 'instance': 470, 'median': 565, 'crises': 221, 'start': 879, 'increasingly': 456, 'prior': 692, 'payment': 645, 'transactions': 947, 'attention': 88, 'loan': 534, 'commitment': 168, 'commodity': 170, 'maturity': 560, 'essential': 308, 'intermediaries': 478, 'infrastructure': 468, 'financing': 355, 'regulations': 758, 'cambridge': 136, 'city': 157, 'pdf': 647, 'changing': 153, 'gov': 398, 'america': 68, 'law': 508, 'february': 347, 'percentage': 650, 'ben': 111, 'act': 47, 'faster': 346, 'requirement': 776, 'structural': 892, 'chicago': 154, 'highly': 420, 'savings': 814, 'backed': 96, 'liquid': 531, 'legal': 512, 'card': 139, 'internal': 480, 'mentioned': 570, 'processes': 698, 'budget': 131, 'communities': 173, 'senior': 827, 'safe': 809, 'protection': 713, 'students': 894, 'natural': 590, 'sheets': 841, 'spreads': 872, 'margin': 556, 'shock': 843, 'council': 212, 'lenders': 515, 'programs': 704, 'comprehensive': 182, 'subprime': 898, 'borrower': 123, 'lender': 514, 'neighborhoods': 600, 'strategies': 886, 'bear': 105, 'properties': 708, 'values': 969, 'collateral': 163, 'underwriting': 960, 'cra': 217, 'conventional': 207, 'exposures': 331, 'runs': 808, 'compliance': 181, 'avoid': 95, 'testing': 927, 'portfolio': 668, 'assistance': 86, 'sufficient': 903, 'test': 926, '2011': 25, 'broker': 130, 'taylor': 921, 'vulnerabilities': 976, 'sure': 911, 'accommodation': 40, 'center': 143, '2008': 22, 'mass': 559, 'company': 176, 'delivered': 247, 'systemically': 915, 'holdings': 425, 'crisis': 222, 'prudential': 719, 'prevent': 686, '2012': 26, '2016': 30, 'tests': 928, 'nonbank': 606, 'securitization': 824, 'intermediation': 479, 'frank': 376, 'liabilities': 522, 'bound': 126, 'foreclosure': 369, 'foreclosures': 370, '2009': 23, 'repo': 771, 'macroprudential': 546, 'shadow': 836, '2013': 27, 'dodd': 272, '2018': 32, '2014': 28, '2015': 29, '2017': 31}\n"
     ]
    }
   ],
   "source": [
    "print(vocab)\n"
   ]
  },
  {
   "cell_type": "code",
   "execution_count": 16,
   "metadata": {},
   "outputs": [
    {
     "data": {
      "text/plain": [
       "array([[0.0120277 , 0.01952326, 0.00467892, 0.00867747, 0.0050535 ,\n",
       "        0.01041692, 0.01029846, 0.01116975, 0.00570364, 0.00558488],\n",
       "       [0.        , 0.01840275, 0.        , 0.        , 0.        ,\n",
       "        0.        , 0.        , 0.01316085, 0.01344071, 0.        ],\n",
       "       [0.        , 0.        , 0.        , 0.        , 0.        ,\n",
       "        0.        , 0.        , 0.        , 0.        , 0.        ],\n",
       "       [0.        , 0.        , 0.        , 0.        , 0.        ,\n",
       "        0.        , 0.        , 0.        , 0.        , 0.        ],\n",
       "       [0.0350087 , 0.00757678, 0.        , 0.        , 0.        ,\n",
       "        0.        , 0.        , 0.        , 0.        , 0.        ],\n",
       "       [0.        , 0.        , 0.        , 0.        , 0.        ,\n",
       "        0.        , 0.        , 0.        , 0.        , 0.        ],\n",
       "       [0.        , 0.01659447, 0.01325669, 0.01229286, 0.014318  ,\n",
       "        0.01475704, 0.02188383, 0.03164706, 0.01616001, 0.01582353],\n",
       "       [0.        , 0.00852611, 0.02043354, 0.00947396, 0.01103471,\n",
       "        0.01137307, 0.01124373, 0.        , 0.01245433, 0.        ],\n",
       "       [0.        , 0.        , 0.        , 0.        , 0.        ,\n",
       "        0.        , 0.        , 0.        , 0.        , 0.        ],\n",
       "       [0.03138271, 0.01018803, 0.        , 0.        , 0.        ,\n",
       "        0.01358993, 0.        , 0.        , 0.        , 0.        ]])"
      ]
     },
     "execution_count": 16,
     "metadata": {},
     "output_type": "execute_result"
    }
   ],
   "source": [
    "tfidf_arr = tfidf_vectorized.toarray()\n",
    "tfidf_arr[0:10,0:10]"
   ]
  },
  {
   "cell_type": "markdown",
   "metadata": {},
   "source": [
    "1. For 4 groups (classes) of the 20newsgroups corpus (your choice), find the 10 most important words by:\n",
    "    * total tf-idf score\n",
    "    * average tf-idf score (average only over non-zero values)\n",
    "    * highest tf (only) score across corpus (try using `use_idf = False` in `TfidfVectorizer` )\n"
   ]
  },
  {
   "cell_type": "code",
   "execution_count": 17,
   "metadata": {},
   "outputs": [],
   "source": [
    "def get_top_values(lst, n, labels):\n",
    "    '''\n",
    "    INPUT: LIST, INTEGER, LIST\n",
    "    OUTPUT: LIST\n",
    "\n",
    "    Given a list of values, find the indices with the highest n values.\n",
    "    Return the labels for each of these indices.\n",
    "\n",
    "    e.g.\n",
    "    lst = [7, 3, 2, 4, 1]\n",
    "    n = 2\n",
    "    labels = [\"cat\", \"dog\", \"mouse\", \"pig\", \"rabbit\"]\n",
    "    output: [\"cat\", \"pig\"]\n",
    "    '''\n",
    "    return [labels[i] for i in np.argsort(lst)[-1:-n-1:-1]]"
   ]
  },
  {
   "cell_type": "code",
   "execution_count": 18,
   "metadata": {},
   "outputs": [
    {
     "name": "stdout",
     "output_type": "stream",
     "text": [
      "top 50 by average tf-idf\n",
      "['saving', 'purchase', 'education', 'expect', 'loan', 'bound', 'governments', 'effective', 'second', 'efforts', 'looking', 'wide', 'short', 'scope', 'fed', 'release', 'reduce', 'rates', 'value', 'exchange', 'direct', 'requirements', 'payments', 'companies', 'essential', 'path', 'subject', 'considerable', 'international', 'certain', 'pressure', 'encourage', 'practices', 'analysis', 'necessarily', 'moderate', 'flows', 'reducing', 'flow', 'institutional', 'current', 'ways', 'actual', 'liquid', 'fixed', 'faster', 'reform', 'simple', 'similar', 'ensure']\n"
     ]
    }
   ],
   "source": [
    "# finding average tf-idf score in the vocabulary\n",
    "avg = np.sum(tfidf_arr, axis=0) / np.sum(tfidf_arr > 0, axis=0)\n",
    "print(\"top 50 by average tf-idf\")\n",
    "l_avg = list(avg)\n",
    "v_words = list(vocab.keys())\n",
    "print(get_top_values(l_avg, 50, v_words))"
   ]
  },
  {
   "cell_type": "code",
   "execution_count": 22,
   "metadata": {},
   "outputs": [
    {
     "name": "stdout",
     "output_type": "stream",
     "text": [
      "top 10 by total tf-idf\n",
      "['expect', 'value', 'purchase', 'looking', 'practices', 'subject', 'direct', 'institutional', 'requirements', 'release', 'moderate', 'state', 'education', 'reducing', 'ways', 'counterparties', 'issue', 'fixed', 'corporate', 'simple', 'internal', 'data', 'challenges', 'tool', 'analysis', 'term', 'extended', 'reduced', 'relatively', 'certain', 'common', 'council', 'spending', 'path', 'short', 'deposits', 'develop', 'systemic', 'congress', 'information', 'dodd', '2013', 'making', 'used', 'staff', 'similar', 'following', 'understanding', 'activities', 'balance']\n"
     ]
    }
   ],
   "source": [
    "# finding total tf-idf scrore\n",
    "total = np.sum(tfidf_arr, axis=0)\n",
    "print(\"top 10 by total tf-idf\")\n",
    "print(get_top_values(total, 50, v_words))\n"
   ]
  },
  {
   "cell_type": "code",
   "execution_count": 33,
   "metadata": {},
   "outputs": [
    {
     "name": "stdout",
     "output_type": "stream",
     "text": [
      "Here is the length of the new vocab:  1000\n",
      "top 10 by tf across all corpus\n",
      "['clearing', '25', 'deposits', 'or', 'many', 'mandate', 'effective', 'payments', 'areas', 'provided', 'credit', 'maintain', 'consumption', 'level', 'state', '2012', 'range', 'curve', 'avoid', 'development', 'existing', 'make', 'economists', 'needs', 'contrast', 'macroeconomic', 'reserve', 'hope', 'prudential', 'text', 'promote', 'derivatives', 'recovery', 'so', '000', 'office', 'how', 'me', 'factor', 'primary', 'mid', 'bound', 'face', 'nature', 'back', '2008', 'was', 'our', 'out', 'open']\n"
     ]
    }
   ],
   "source": [
    "# HIGHEST tfidf across corpus\n",
    "# redo vectorization without using idf\n",
    "vectorizer2 = TfidfVectorizer(use_idf=False, max_features=1000)\n",
    "# make documents into one giant document for this purpose\n",
    "vectors2 = vectorizer2.fit_transform([\"\\n\".join(doc_list)]).toarray()\n",
    "\n",
    "vocab2 = vectorizer2.vocabulary_\n",
    "words = list(vocab2.keys())\n",
    "print(\"Here is the length of the new vocab: \", len(vocab2))\n",
    "print(\"top 10 by tf across all corpus\")\n",
    "print(get_top_values(vectors2[0], 50, words))\n"
   ]
  },
  {
   "cell_type": "code",
   "execution_count": 31,
   "metadata": {},
   "outputs": [
    {
     "name": "stdout",
     "output_type": "stream",
     "text": [
      "<class 'numpy.ndarray'>\n"
     ]
    }
   ],
   "source": [
    "print(type(vectors2))"
   ]
  },
  {
   "cell_type": "code",
   "execution_count": 32,
   "metadata": {},
   "outputs": [
    {
     "name": "stdout",
     "output_type": "stream",
     "text": [
      "<class 'list'>\n"
     ]
    }
   ],
   "source": [
    "print(type(words))"
   ]
  },
  {
   "cell_type": "code",
   "execution_count": 34,
   "metadata": {},
   "outputs": [
    {
     "name": "stdout",
     "output_type": "stream",
     "text": [
      "Variable            Type                Data/Info\n",
      "-------------------------------------------------\n",
      "CountVectorizer     type                <class 'sklearn.feature_e<...>on.text.CountVectorizer'>\n",
      "PorterStemmer       ABCMeta             <class 'nltk.stem.porter.PorterStemmer'>\n",
      "RegexpTokenizer     ABCMeta             <class 'nltk.tokenize.regexp.RegexpTokenizer'>\n",
      "SnowballStemmer     ABCMeta             <class 'nltk.stem.snowball.SnowballStemmer'>\n",
      "TfidfVectorizer     type                <class 'sklearn.feature_e<...>on.text.TfidfVectorizer'>\n",
      "WordNetLemmatizer   type                <class 'nltk.stem.wordnet.WordNetLemmatizer'>\n",
      "avg                 ndarray             1000: 1000 elems, type `float64`, 8000 bytes\n",
      "df                  DataFrame                     date           <...>n\\n[733 rows x 5 columns]\n",
      "doc_list            list                n=733\n",
      "get_top_values      function            <function get_top_values at 0x1a13caaae8>\n",
      "l_avg               list                n=1000\n",
      "np                  module              <module 'numpy' from '/an<...>kages/numpy/__init__.py'>\n",
      "pd                  module              <module 'pandas' from '/a<...>ages/pandas/__init__.py'>\n",
      "pickle              module              <module 'pickle' from '/a<...>lib/python3.6/pickle.py'>\n",
      "stops               set                 {'facilitated', 'magnitud<...>, 'bridgewater', 'laxer'}\n",
      "stopwords           LazyCorpusLoader    <WordListCorpusReader in <...>pwords' (not loaded yet)>\n",
      "string              module              <module 'string' from '/a<...>lib/python3.6/string.py'>\n",
      "tfidf_arr           ndarray             733x1000: 733000 elems, type `float64`, 5864000 bytes (5.59234619140625 Mb)\n",
      "tfidf_vectorized    csr_matrix            (0, 155)\t0.797732842298<...>2, 31)\t0.0990883721754936\n",
      "tfidvect            TfidfVectorizer     TfidfVectorizer(analyzer=<...>n        vocabulary=None)\n",
      "total               ndarray             1000: 1000 elems, type `float64`, 8000 bytes\n",
      "v_words             list                n=1000\n",
      "vectorizer2         TfidfVectorizer     TfidfVectorizer(analyzer=<...>n        vocabulary=None)\n",
      "vectors2            ndarray             1x1000: 1000 elems, type `float64`, 8000 bytes\n",
      "vocab               dict                n=1000\n",
      "vocab2              dict                n=1000\n",
      "word_tokenize       function            <function word_tokenize at 0x1a136ce2f0>\n",
      "words               list                n=1000\n"
     ]
    }
   ],
   "source": [
    "whos"
   ]
  },
  {
   "cell_type": "code",
   "execution_count": 37,
   "metadata": {},
   "outputs": [
    {
     "data": {
      "text/plain": [
       "0   2006-12-15\n",
       "1   2006-12-01\n",
       "2   2006-12-01\n",
       "3   2006-11-30\n",
       "4   2006-11-28\n",
       "Name: date, dtype: datetime64[ns]"
      ]
     },
     "execution_count": 37,
     "metadata": {},
     "output_type": "execute_result"
    }
   ],
   "source": [
    "df['date'].iloc[0:5]\n"
   ]
  },
  {
   "cell_type": "code",
   "execution_count": 38,
   "metadata": {},
   "outputs": [],
   "source": [
    "import datetime"
   ]
  },
  {
   "cell_type": "code",
   "execution_count": 39,
   "metadata": {},
   "outputs": [],
   "source": [
    "this_date = datetime.datetime(2006, 12, 15)"
   ]
  },
  {
   "cell_type": "code",
   "execution_count": 40,
   "metadata": {},
   "outputs": [
    {
     "name": "stdout",
     "output_type": "stream",
     "text": [
      "2006-12-15 00:00:00\n"
     ]
    }
   ],
   "source": [
    "print(this_date)"
   ]
  },
  {
   "cell_type": "code",
   "execution_count": 82,
   "metadata": {},
   "outputs": [],
   "source": [
    "def create_speech_list(df, date):\n",
    "    df2 = df[df['date']<= date]\n",
    "    return df2"
   ]
  },
  {
   "cell_type": "code",
   "execution_count": 83,
   "metadata": {},
   "outputs": [],
   "source": [
    "df2 = create_speech_list(df, this_date)"
   ]
  },
  {
   "cell_type": "code",
   "execution_count": 84,
   "metadata": {},
   "outputs": [
    {
     "data": {
      "text/html": [
       "<div>\n",
       "<style scoped>\n",
       "    .dataframe tbody tr th:only-of-type {\n",
       "        vertical-align: middle;\n",
       "    }\n",
       "\n",
       "    .dataframe tbody tr th {\n",
       "        vertical-align: top;\n",
       "    }\n",
       "\n",
       "    .dataframe thead th {\n",
       "        text-align: right;\n",
       "    }\n",
       "</style>\n",
       "<table border=\"1\" class=\"dataframe\">\n",
       "  <thead>\n",
       "    <tr style=\"text-align: right;\">\n",
       "      <th></th>\n",
       "      <th>date</th>\n",
       "      <th>speaker</th>\n",
       "      <th>title</th>\n",
       "      <th>link</th>\n",
       "      <th>text</th>\n",
       "    </tr>\n",
       "  </thead>\n",
       "  <tbody>\n",
       "    <tr>\n",
       "      <th>421</th>\n",
       "      <td>2012-01-16</td>\n",
       "      <td>Governor Elizabeth A. Duke</td>\n",
       "      <td>From Community Banker to Central Banker--My Jo...</td>\n",
       "      <td>/newsevents/speech/duke20120116a.htm</td>\n",
       "      <td>\\n       It is certainly a pleasure to be here...</td>\n",
       "    </tr>\n",
       "    <tr>\n",
       "      <th>422</th>\n",
       "      <td>2012-01-13</td>\n",
       "      <td>Governor Elizabeth A. Duke</td>\n",
       "      <td>Opportunities to Reduce Regulatory Burden and ...</td>\n",
       "      <td>/newsevents/speech/duke20120113a.htm</td>\n",
       "      <td>\\n       It's a pleasure to be here this morni...</td>\n",
       "    </tr>\n",
       "    <tr>\n",
       "      <th>423</th>\n",
       "      <td>2012-01-07</td>\n",
       "      <td>Governor Sarah Bloom Raskin</td>\n",
       "      <td>Creating and Implementing an Enforcement Respo...</td>\n",
       "      <td>/newsevents/speech/raskin20120107a.htm</td>\n",
       "      <td>\\n       Thank you and happy New Year. It is a...</td>\n",
       "    </tr>\n",
       "    <tr>\n",
       "      <th>424</th>\n",
       "      <td>2012-01-06</td>\n",
       "      <td>Governor Sarah Bloom Raskin</td>\n",
       "      <td>Community Bank Examination and Supervision ami...</td>\n",
       "      <td>/newsevents/speech/raskin20120106a.htm</td>\n",
       "      <td>\\n       Thank you for the opportunity to spea...</td>\n",
       "    </tr>\n",
       "    <tr>\n",
       "      <th>425</th>\n",
       "      <td>2012-01-06</td>\n",
       "      <td>Governor Elizabeth A. Duke</td>\n",
       "      <td>Economic Developments, Risks to the Outlook, a...</td>\n",
       "      <td>/newsevents/speech/duke20120106a.htm</td>\n",
       "      <td>It is the start of a new year, the traditional...</td>\n",
       "    </tr>\n",
       "  </tbody>\n",
       "</table>\n",
       "</div>"
      ],
      "text/plain": [
       "          date                      speaker  \\\n",
       "421 2012-01-16   Governor Elizabeth A. Duke   \n",
       "422 2012-01-13   Governor Elizabeth A. Duke   \n",
       "423 2012-01-07  Governor Sarah Bloom Raskin   \n",
       "424 2012-01-06  Governor Sarah Bloom Raskin   \n",
       "425 2012-01-06   Governor Elizabeth A. Duke   \n",
       "\n",
       "                                                 title  \\\n",
       "421  From Community Banker to Central Banker--My Jo...   \n",
       "422  Opportunities to Reduce Regulatory Burden and ...   \n",
       "423  Creating and Implementing an Enforcement Respo...   \n",
       "424  Community Bank Examination and Supervision ami...   \n",
       "425  Economic Developments, Risks to the Outlook, a...   \n",
       "\n",
       "                                       link  \\\n",
       "421    /newsevents/speech/duke20120116a.htm   \n",
       "422    /newsevents/speech/duke20120113a.htm   \n",
       "423  /newsevents/speech/raskin20120107a.htm   \n",
       "424  /newsevents/speech/raskin20120106a.htm   \n",
       "425    /newsevents/speech/duke20120106a.htm   \n",
       "\n",
       "                                                  text  \n",
       "421  \\n       It is certainly a pleasure to be here...  \n",
       "422  \\n       It's a pleasure to be here this morni...  \n",
       "423  \\n       Thank you and happy New Year. It is a...  \n",
       "424  \\n       Thank you for the opportunity to spea...  \n",
       "425  It is the start of a new year, the traditional...  "
      ]
     },
     "execution_count": 84,
     "metadata": {},
     "output_type": "execute_result"
    }
   ],
   "source": [
    "df2.tail()"
   ]
  },
  {
   "cell_type": "code",
   "execution_count": 46,
   "metadata": {},
   "outputs": [
    {
     "data": {
      "text/plain": [
       "73"
      ]
     },
     "execution_count": 46,
     "metadata": {},
     "output_type": "execute_result"
    }
   ],
   "source": [
    "len(df2)"
   ]
  },
  {
   "cell_type": "code",
   "execution_count": 48,
   "metadata": {},
   "outputs": [
    {
     "data": {
      "text/html": [
       "<div>\n",
       "<style scoped>\n",
       "    .dataframe tbody tr th:only-of-type {\n",
       "        vertical-align: middle;\n",
       "    }\n",
       "\n",
       "    .dataframe tbody tr th {\n",
       "        vertical-align: top;\n",
       "    }\n",
       "\n",
       "    .dataframe thead th {\n",
       "        text-align: right;\n",
       "    }\n",
       "</style>\n",
       "<table border=\"1\" class=\"dataframe\">\n",
       "  <thead>\n",
       "    <tr style=\"text-align: right;\">\n",
       "      <th></th>\n",
       "      <th>date</th>\n",
       "      <th>speaker</th>\n",
       "      <th>title</th>\n",
       "      <th>link</th>\n",
       "      <th>text</th>\n",
       "    </tr>\n",
       "  </thead>\n",
       "  <tbody>\n",
       "    <tr>\n",
       "      <th>0</th>\n",
       "      <td>2006-12-15</td>\n",
       "      <td>Chairman Ben S. Bernanke</td>\n",
       "      <td>The Chinese Economy: Progress and Challenges</td>\n",
       "      <td>/newsevents/speech/bernanke20061215a.htm</td>\n",
       "      <td>The emergence of China as a global economic po...</td>\n",
       "    </tr>\n",
       "    <tr>\n",
       "      <th>1</th>\n",
       "      <td>2006-12-01</td>\n",
       "      <td>Vice Chairman Donald L. Kohn</td>\n",
       "      <td>Monetary Policy and Uncertainty</td>\n",
       "      <td>/newsevents/speech/kohn20061201a.htm</td>\n",
       "      <td>Tonight I will talk about one of the themes of...</td>\n",
       "    </tr>\n",
       "    <tr>\n",
       "      <th>2</th>\n",
       "      <td>2006-12-01</td>\n",
       "      <td>Chairman Ben S. Bernanke</td>\n",
       "      <td>Welcoming remarks</td>\n",
       "      <td>/newsevents/speech/bernanke20061201a.htm</td>\n",
       "      <td>Vice President Papademos, ladies and gentlemen...</td>\n",
       "    </tr>\n",
       "  </tbody>\n",
       "</table>\n",
       "</div>"
      ],
      "text/plain": [
       "        date                       speaker  \\\n",
       "0 2006-12-15      Chairman Ben S. Bernanke   \n",
       "1 2006-12-01  Vice Chairman Donald L. Kohn   \n",
       "2 2006-12-01      Chairman Ben S. Bernanke   \n",
       "\n",
       "                                          title  \\\n",
       "0  The Chinese Economy: Progress and Challenges   \n",
       "1               Monetary Policy and Uncertainty   \n",
       "2                             Welcoming remarks   \n",
       "\n",
       "                                       link  \\\n",
       "0  /newsevents/speech/bernanke20061215a.htm   \n",
       "1      /newsevents/speech/kohn20061201a.htm   \n",
       "2  /newsevents/speech/bernanke20061201a.htm   \n",
       "\n",
       "                                                text  \n",
       "0  The emergence of China as a global economic po...  \n",
       "1  Tonight I will talk about one of the themes of...  \n",
       "2  Vice President Papademos, ladies and gentlemen...  "
      ]
     },
     "execution_count": 48,
     "metadata": {},
     "output_type": "execute_result"
    }
   ],
   "source": [
    "df2.iloc[0:3]"
   ]
  },
  {
   "cell_type": "code",
   "execution_count": 85,
   "metadata": {},
   "outputs": [],
   "source": [
    "def create_speech_list(df, this_date, numb_speeches):\n",
    "    '''\n",
    "    For a given date, the most recent speeches are returned in a dataframe\n",
    "\n",
    "    INPUTS:\n",
    "        df - the dataframe of all fed speeches\n",
    "        date - the date needed to include no speeches before\n",
    "        num_speeches - the number of most recent speeches to include\n",
    "    OUTPUT:\n",
    "        dataframe - this is a subset of the original dataframe with same columns\n",
    "    '''\n",
    "    filtered_df = df[df['date']<= this_date].copy()\n",
    "    if len(filtered_df)> numb_speeches:\n",
    "        filtered_df = filtered_df.iloc[-1:-numb_speeches-1:-1]\n",
    "    return filtered_df\n"
   ]
  },
  {
   "cell_type": "code",
   "execution_count": 97,
   "metadata": {},
   "outputs": [],
   "source": [
    "this_date = datetime.datetime(2018, 9, 21)"
   ]
  },
  {
   "cell_type": "code",
   "execution_count": 98,
   "metadata": {},
   "outputs": [
    {
     "data": {
      "text/html": [
       "<div>\n",
       "<style scoped>\n",
       "    .dataframe tbody tr th:only-of-type {\n",
       "        vertical-align: middle;\n",
       "    }\n",
       "\n",
       "    .dataframe tbody tr th {\n",
       "        vertical-align: top;\n",
       "    }\n",
       "\n",
       "    .dataframe thead th {\n",
       "        text-align: right;\n",
       "    }\n",
       "</style>\n",
       "<table border=\"1\" class=\"dataframe\">\n",
       "  <thead>\n",
       "    <tr style=\"text-align: right;\">\n",
       "      <th></th>\n",
       "      <th>date</th>\n",
       "      <th>speaker</th>\n",
       "      <th>title</th>\n",
       "      <th>link</th>\n",
       "      <th>text</th>\n",
       "    </tr>\n",
       "  </thead>\n",
       "  <tbody>\n",
       "    <tr>\n",
       "      <th>716</th>\n",
       "      <td>2018-01-19</td>\n",
       "      <td>Vice Chairman for Supervision Randal K. Quarles</td>\n",
       "      <td>Early Observations on Improving the Effectiven...</td>\n",
       "      <td>/newsevents/speech/quarles20180119a.htm</td>\n",
       "      <td>It is a pleasure to be here with you at the Am...</td>\n",
       "    </tr>\n",
       "    <tr>\n",
       "      <th>715</th>\n",
       "      <td>2018-02-13</td>\n",
       "      <td>Chairman Jerome H. Powell</td>\n",
       "      <td>Remarks at the Ceremonial Swearing-in</td>\n",
       "      <td>/newsevents/speech/powell20180213a.htm</td>\n",
       "      <td>It is both humbling and a great privilege to b...</td>\n",
       "    </tr>\n",
       "    <tr>\n",
       "      <th>714</th>\n",
       "      <td>2018-02-22</td>\n",
       "      <td>Vice Chairman for Supervision Randal K. Quarles</td>\n",
       "      <td>The U.S. Economy after the Global Financial Cr...</td>\n",
       "      <td>/newsevents/speech/quarles20180222a.htm</td>\n",
       "      <td>I am very happy to be participating in this sy...</td>\n",
       "    </tr>\n",
       "    <tr>\n",
       "      <th>713</th>\n",
       "      <td>2018-02-26</td>\n",
       "      <td>Vice Chairman for Supervision Randal K. Quarles</td>\n",
       "      <td>An Assessment of the U.S. Economy</td>\n",
       "      <td>/newsevents/speech/quarles20180226a.htm</td>\n",
       "      <td>Thank you for the opportunity to take part in ...</td>\n",
       "    </tr>\n",
       "    <tr>\n",
       "      <th>712</th>\n",
       "      <td>2018-02-26</td>\n",
       "      <td>Vice Chairman for Supervision Randal K. Quarles</td>\n",
       "      <td>Brief Thoughts on the Financial Regulatory Sys...</td>\n",
       "      <td>/newsevents/speech/quarles20180226b.htm</td>\n",
       "      <td>Thank you very much for having me here at the ...</td>\n",
       "    </tr>\n",
       "  </tbody>\n",
       "</table>\n",
       "</div>"
      ],
      "text/plain": [
       "          date                                          speaker  \\\n",
       "716 2018-01-19  Vice Chairman for Supervision Randal K. Quarles   \n",
       "715 2018-02-13                        Chairman Jerome H. Powell   \n",
       "714 2018-02-22  Vice Chairman for Supervision Randal K. Quarles   \n",
       "713 2018-02-26  Vice Chairman for Supervision Randal K. Quarles   \n",
       "712 2018-02-26  Vice Chairman for Supervision Randal K. Quarles   \n",
       "\n",
       "                                                 title  \\\n",
       "716  Early Observations on Improving the Effectiven...   \n",
       "715              Remarks at the Ceremonial Swearing-in   \n",
       "714  The U.S. Economy after the Global Financial Cr...   \n",
       "713                  An Assessment of the U.S. Economy   \n",
       "712  Brief Thoughts on the Financial Regulatory Sys...   \n",
       "\n",
       "                                        link  \\\n",
       "716  /newsevents/speech/quarles20180119a.htm   \n",
       "715   /newsevents/speech/powell20180213a.htm   \n",
       "714  /newsevents/speech/quarles20180222a.htm   \n",
       "713  /newsevents/speech/quarles20180226a.htm   \n",
       "712  /newsevents/speech/quarles20180226b.htm   \n",
       "\n",
       "                                                  text  \n",
       "716  It is a pleasure to be here with you at the Am...  \n",
       "715  It is both humbling and a great privilege to b...  \n",
       "714  I am very happy to be participating in this sy...  \n",
       "713  Thank you for the opportunity to take part in ...  \n",
       "712  Thank you very much for having me here at the ...  "
      ]
     },
     "execution_count": 98,
     "metadata": {},
     "output_type": "execute_result"
    }
   ],
   "source": [
    "df3 = create_speech_list(df, this_date, 100)\n",
    "df3.head()"
   ]
  },
  {
   "cell_type": "code",
   "execution_count": 111,
   "metadata": {},
   "outputs": [
    {
     "data": {
      "text/plain": [
       "date                                     2019-03-11 00:00:00\n",
       "speaker                               Chair Jerome H. Powell\n",
       "title                                          Brief Remarks\n",
       "link                  /newsevents/speech/powell20190311a.htm\n",
       "text       Good evening, and thank you for inviting me to...\n",
       "Name: 719, dtype: object"
      ]
     },
     "execution_count": 111,
     "metadata": {},
     "output_type": "execute_result"
    }
   ],
   "source": [
    "df.iloc[717]"
   ]
  },
  {
   "cell_type": "code",
   "execution_count": 120,
   "metadata": {},
   "outputs": [
    {
     "data": {
      "text/plain": [
       "<matplotlib.collections.PathCollection at 0x1a14e9e518>"
      ]
     },
     "execution_count": 120,
     "metadata": {},
     "output_type": "execute_result"
    },
    {
     "data": {
      "image/png": "[encoded data removed]",
      "text/plain": [
       "<Figure size 432x288 with 1 Axes>"
      ]
     },
     "metadata": {
      "needs_background": "light"
     },
     "output_type": "display_data"
    }
   ],
   "source": [
    "## are my dates in line?\n",
    "temp = df['date']\n",
    "x = np.arange(len(temp))\n",
    "plt.scatter(x, temp)"
   ]
  },
  {
   "cell_type": "code",
   "execution_count": 118,
   "metadata": {},
   "outputs": [],
   "source": [
    "# sorting the dataframe and resetting the index\n",
    "df.sort_values(by=['date'], ascending=False, inplace=True)\n",
    "df.reset_index(drop=True, inplace=True)"
   ]
  },
  {
   "cell_type": "code",
   "execution_count": 119,
   "metadata": {},
   "outputs": [
    {
     "data": {
      "text/html": [
       "<div>\n",
       "<style scoped>\n",
       "    .dataframe tbody tr th:only-of-type {\n",
       "        vertical-align: middle;\n",
       "    }\n",
       "\n",
       "    .dataframe tbody tr th {\n",
       "        vertical-align: top;\n",
       "    }\n",
       "\n",
       "    .dataframe thead th {\n",
       "        text-align: right;\n",
       "    }\n",
       "</style>\n",
       "<table border=\"1\" class=\"dataframe\">\n",
       "  <thead>\n",
       "    <tr style=\"text-align: right;\">\n",
       "      <th></th>\n",
       "      <th>date</th>\n",
       "      <th>speaker</th>\n",
       "      <th>title</th>\n",
       "      <th>link</th>\n",
       "      <th>text</th>\n",
       "    </tr>\n",
       "  </thead>\n",
       "  <tbody>\n",
       "    <tr>\n",
       "      <th>0</th>\n",
       "      <td>2019-03-25</td>\n",
       "      <td>Governor Michelle W. Bowman</td>\n",
       "      <td>Welcoming Remarks</td>\n",
       "      <td>/newsevents/speech/bowman20190325a.htm</td>\n",
       "      <td>Good afternoon. It is a great pleasure for me ...</td>\n",
       "    </tr>\n",
       "    <tr>\n",
       "      <th>1</th>\n",
       "      <td>2019-03-12</td>\n",
       "      <td>Governor Lael Brainard</td>\n",
       "      <td>The Community Reinvestment Act: How Can We Pre...</td>\n",
       "      <td>/newsevents/speech/brainard20190312a.htm</td>\n",
       "      <td>It is a pleasure to have an opportunity to dis...</td>\n",
       "    </tr>\n",
       "    <tr>\n",
       "      <th>2</th>\n",
       "      <td>2019-03-11</td>\n",
       "      <td>Chair Jerome H. Powell</td>\n",
       "      <td>Brief Remarks</td>\n",
       "      <td>/newsevents/speech/powell20190311a.htm</td>\n",
       "      <td>Good evening, and thank you for inviting me to...</td>\n",
       "    </tr>\n",
       "    <tr>\n",
       "      <th>3</th>\n",
       "      <td>2019-03-08</td>\n",
       "      <td>Chair Jerome H. Powell</td>\n",
       "      <td>Monetary Policy: Normalization and the Road Ahead</td>\n",
       "      <td>/newsevents/speech/powell20190308a.htm</td>\n",
       "      <td>Thank you for the opportunity to speak here to...</td>\n",
       "    </tr>\n",
       "    <tr>\n",
       "      <th>4</th>\n",
       "      <td>2019-03-07</td>\n",
       "      <td>Governor Lael Brainard</td>\n",
       "      <td>Navigating Cautiously</td>\n",
       "      <td>/newsevents/speech/brainard20190307a.htm</td>\n",
       "      <td>While our economy continues to add jobs at a s...</td>\n",
       "    </tr>\n",
       "  </tbody>\n",
       "</table>\n",
       "</div>"
      ],
      "text/plain": [
       "        date                      speaker  \\\n",
       "0 2019-03-25  Governor Michelle W. Bowman   \n",
       "1 2019-03-12       Governor Lael Brainard   \n",
       "2 2019-03-11       Chair Jerome H. Powell   \n",
       "3 2019-03-08       Chair Jerome H. Powell   \n",
       "4 2019-03-07       Governor Lael Brainard   \n",
       "\n",
       "                                               title  \\\n",
       "0                                  Welcoming Remarks   \n",
       "1  The Community Reinvestment Act: How Can We Pre...   \n",
       "2                                      Brief Remarks   \n",
       "3  Monetary Policy: Normalization and the Road Ahead   \n",
       "4                              Navigating Cautiously   \n",
       "\n",
       "                                       link  \\\n",
       "0    /newsevents/speech/bowman20190325a.htm   \n",
       "1  /newsevents/speech/brainard20190312a.htm   \n",
       "2    /newsevents/speech/powell20190311a.htm   \n",
       "3    /newsevents/speech/powell20190308a.htm   \n",
       "4  /newsevents/speech/brainard20190307a.htm   \n",
       "\n",
       "                                                text  \n",
       "0  Good afternoon. It is a great pleasure for me ...  \n",
       "1  It is a pleasure to have an opportunity to dis...  \n",
       "2  Good evening, and thank you for inviting me to...  \n",
       "3  Thank you for the opportunity to speak here to...  \n",
       "4  While our economy continues to add jobs at a s...  "
      ]
     },
     "execution_count": 119,
     "metadata": {},
     "output_type": "execute_result"
    }
   ],
   "source": [
    "df.head()"
   ]
  },
  {
   "cell_type": "code",
   "execution_count": null,
   "metadata": {},
   "outputs": [],
   "source": []
  },
  {
   "cell_type": "code",
   "execution_count": 61,
   "metadata": {},
   "outputs": [],
   "source": [
    "numb_speeches = 5\n",
    "df3 = create_speech_list(df, this_date, numb_speeches)"
   ]
  },
  {
   "cell_type": "code",
   "execution_count": 69,
   "metadata": {},
   "outputs": [
    {
     "name": "stdout",
     "output_type": "stream",
     "text": [
      "<class 'pandas.core.frame.DataFrame'>\n",
      "Int64Index: 422 entries, 0 to 425\n",
      "Data columns (total 5 columns):\n",
      "date       422 non-null datetime64[ns]\n",
      "speaker    422 non-null object\n",
      "title      422 non-null object\n",
      "link       422 non-null object\n",
      "text       422 non-null object\n",
      "dtypes: datetime64[ns](1), object(4)\n",
      "memory usage: 19.8+ KB\n"
     ]
    }
   ],
   "source": [
    "tt = df[df['date']<= this_date]\n",
    "tt.info()"
   ]
  },
  {
   "cell_type": "code",
   "execution_count": 70,
   "metadata": {},
   "outputs": [
    {
     "data": {
      "text/html": [
       "<div>\n",
       "<style scoped>\n",
       "    .dataframe tbody tr th:only-of-type {\n",
       "        vertical-align: middle;\n",
       "    }\n",
       "\n",
       "    .dataframe tbody tr th {\n",
       "        vertical-align: top;\n",
       "    }\n",
       "\n",
       "    .dataframe thead th {\n",
       "        text-align: right;\n",
       "    }\n",
       "</style>\n",
       "<table border=\"1\" class=\"dataframe\">\n",
       "  <thead>\n",
       "    <tr style=\"text-align: right;\">\n",
       "      <th></th>\n",
       "      <th>date</th>\n",
       "      <th>speaker</th>\n",
       "      <th>title</th>\n",
       "      <th>link</th>\n",
       "      <th>text</th>\n",
       "    </tr>\n",
       "  </thead>\n",
       "  <tbody>\n",
       "    <tr>\n",
       "      <th>0</th>\n",
       "      <td>2006-12-15</td>\n",
       "      <td>Chairman Ben S. Bernanke</td>\n",
       "      <td>The Chinese Economy: Progress and Challenges</td>\n",
       "      <td>/newsevents/speech/bernanke20061215a.htm</td>\n",
       "      <td>The emergence of China as a global economic po...</td>\n",
       "    </tr>\n",
       "    <tr>\n",
       "      <th>1</th>\n",
       "      <td>2006-12-01</td>\n",
       "      <td>Vice Chairman Donald L. Kohn</td>\n",
       "      <td>Monetary Policy and Uncertainty</td>\n",
       "      <td>/newsevents/speech/kohn20061201a.htm</td>\n",
       "      <td>Tonight I will talk about one of the themes of...</td>\n",
       "    </tr>\n",
       "    <tr>\n",
       "      <th>2</th>\n",
       "      <td>2006-12-01</td>\n",
       "      <td>Chairman Ben S. Bernanke</td>\n",
       "      <td>Welcoming remarks</td>\n",
       "      <td>/newsevents/speech/bernanke20061201a.htm</td>\n",
       "      <td>Vice President Papademos, ladies and gentlemen...</td>\n",
       "    </tr>\n",
       "    <tr>\n",
       "      <th>3</th>\n",
       "      <td>2006-11-30</td>\n",
       "      <td>Governor Susan Schmidt Bies</td>\n",
       "      <td>A U.S. Perspective on Basel II Implementation</td>\n",
       "      <td>/newsevents/speech/bies20061130a.htm</td>\n",
       "      <td>Good afternoon. Thank you for the invitation t...</td>\n",
       "    </tr>\n",
       "    <tr>\n",
       "      <th>4</th>\n",
       "      <td>2006-11-28</td>\n",
       "      <td>Chairman Ben S. Bernanke</td>\n",
       "      <td>The Economic Outlook</td>\n",
       "      <td>/newsevents/speech/bernanke20061128a.htm</td>\n",
       "      <td>Thank you for inviting me to speak today. I wi...</td>\n",
       "    </tr>\n",
       "    <tr>\n",
       "      <th>5</th>\n",
       "      <td>2006-11-21</td>\n",
       "      <td>Governor Kevin Warsh</td>\n",
       "      <td>Financial Markets and the Federal Reserve</td>\n",
       "      <td>/newsevents/speech/warsh20061121a.htm</td>\n",
       "      <td>Thank you for inviting me to speak about the r...</td>\n",
       "    </tr>\n",
       "    <tr>\n",
       "      <th>6</th>\n",
       "      <td>2006-11-16</td>\n",
       "      <td>Governor Randall S. Kroszner</td>\n",
       "      <td>The Conquest of Worldwide Inflation: Currency ...</td>\n",
       "      <td>/newsevents/speech/kroszner20061116a.htm</td>\n",
       "      <td>\\n       I am delighted to speak at the Cato M...</td>\n",
       "    </tr>\n",
       "    <tr>\n",
       "      <th>7</th>\n",
       "      <td>2006-11-10</td>\n",
       "      <td>Chairman Ben S. Bernanke</td>\n",
       "      <td>Monetary Aggregates and Monetary Policy at the...</td>\n",
       "      <td>/newsevents/speech/bernanke20061110a.htm</td>\n",
       "      <td>My topic today is the role of monetary aggrega...</td>\n",
       "    </tr>\n",
       "    <tr>\n",
       "      <th>8</th>\n",
       "      <td>2006-11-03</td>\n",
       "      <td>Vice Chairman Donald L. Kohn</td>\n",
       "      <td>The Evolving Role of the Federal Reserve Banks</td>\n",
       "      <td>/newsevents/speech/kohn20061103a.htm</td>\n",
       "      <td>I am pleased to have the opportunity to speak ...</td>\n",
       "    </tr>\n",
       "    <tr>\n",
       "      <th>9</th>\n",
       "      <td>2006-11-02</td>\n",
       "      <td>Governor Susan S. Bies</td>\n",
       "      <td>The Economic Outlook</td>\n",
       "      <td>/newsevents/speech/bies20061102a.htm</td>\n",
       "      <td>Thank you for inviting me to speak with you to...</td>\n",
       "    </tr>\n",
       "  </tbody>\n",
       "</table>\n",
       "</div>"
      ],
      "text/plain": [
       "        date                       speaker  \\\n",
       "0 2006-12-15      Chairman Ben S. Bernanke   \n",
       "1 2006-12-01  Vice Chairman Donald L. Kohn   \n",
       "2 2006-12-01      Chairman Ben S. Bernanke   \n",
       "3 2006-11-30   Governor Susan Schmidt Bies   \n",
       "4 2006-11-28      Chairman Ben S. Bernanke   \n",
       "5 2006-11-21          Governor Kevin Warsh   \n",
       "6 2006-11-16  Governor Randall S. Kroszner   \n",
       "7 2006-11-10      Chairman Ben S. Bernanke   \n",
       "8 2006-11-03  Vice Chairman Donald L. Kohn   \n",
       "9 2006-11-02        Governor Susan S. Bies   \n",
       "\n",
       "                                               title  \\\n",
       "0       The Chinese Economy: Progress and Challenges   \n",
       "1                    Monetary Policy and Uncertainty   \n",
       "2                                  Welcoming remarks   \n",
       "3      A U.S. Perspective on Basel II Implementation   \n",
       "4                               The Economic Outlook   \n",
       "5          Financial Markets and the Federal Reserve   \n",
       "6  The Conquest of Worldwide Inflation: Currency ...   \n",
       "7  Monetary Aggregates and Monetary Policy at the...   \n",
       "8     The Evolving Role of the Federal Reserve Banks   \n",
       "9                               The Economic Outlook   \n",
       "\n",
       "                                       link  \\\n",
       "0  /newsevents/speech/bernanke20061215a.htm   \n",
       "1      /newsevents/speech/kohn20061201a.htm   \n",
       "2  /newsevents/speech/bernanke20061201a.htm   \n",
       "3      /newsevents/speech/bies20061130a.htm   \n",
       "4  /newsevents/speech/bernanke20061128a.htm   \n",
       "5     /newsevents/speech/warsh20061121a.htm   \n",
       "6  /newsevents/speech/kroszner20061116a.htm   \n",
       "7  /newsevents/speech/bernanke20061110a.htm   \n",
       "8      /newsevents/speech/kohn20061103a.htm   \n",
       "9      /newsevents/speech/bies20061102a.htm   \n",
       "\n",
       "                                                text  \n",
       "0  The emergence of China as a global economic po...  \n",
       "1  Tonight I will talk about one of the themes of...  \n",
       "2  Vice President Papademos, ladies and gentlemen...  \n",
       "3  Good afternoon. Thank you for the invitation t...  \n",
       "4  Thank you for inviting me to speak today. I wi...  \n",
       "5  Thank you for inviting me to speak about the r...  \n",
       "6  \\n       I am delighted to speak at the Cato M...  \n",
       "7  My topic today is the role of monetary aggrega...  \n",
       "8  I am pleased to have the opportunity to speak ...  \n",
       "9  Thank you for inviting me to speak with you to...  "
      ]
     },
     "execution_count": 70,
     "metadata": {},
     "output_type": "execute_result"
    }
   ],
   "source": [
    "tx = tt.iloc[0:10]\n",
    "tx"
   ]
  },
  {
   "cell_type": "code",
   "execution_count": null,
   "metadata": {},
   "outputs": [],
   "source": []
  }
 ],
 "metadata": {
  "kernelspec": {
   "display_name": "Python 3",
   "language": "python",
   "name": "python3"
  },
  "language_info": {
   "codemirror_mode": {
    "name": "ipython",
    "version": 3
   },
   "file_extension": ".py",
   "mimetype": "text/x-python",
   "name": "python",
   "nbconvert_exporter": "python",
   "pygments_lexer": "ipython3",
   "version": "3.6.8"
  }
 },
 "nbformat": 4,
 "nbformat_minor": 2
}
