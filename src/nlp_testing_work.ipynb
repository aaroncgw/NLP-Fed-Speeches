{
 "cells": [
  {
   "cell_type": "code",
   "execution_count": 1,
   "metadata": {},
   "outputs": [],
   "source": [
    "import string\n",
    "import numpy as np\n",
    "import pandas as pd\n",
    "\n",
    "from nltk.corpus import stopwords\n",
    "from nltk.tokenize import RegexpTokenizer\n",
    "from nltk.stem.porter import PorterStemmer\n",
    "\n",
    "from nltk.tokenize import word_tokenize\n",
    "from nltk.stem.porter import PorterStemmer\n",
    "from nltk.stem.snowball import SnowballStemmer\n",
    "from nltk.stem.wordnet import WordNetLemmatizer\n",
    "\n",
    "from sklearn.feature_extraction.text import TfidfVectorizer, CountVectorizer\n",
    "  \n",
    "import matplotlib.pyplot as plt\n",
    "%matplotlib inline"
   ]
  },
  {
   "cell_type": "code",
   "execution_count": 2,
   "metadata": {},
   "outputs": [
    {
     "name": "stdout",
     "output_type": "stream",
     "text": [
      "<class 'pandas.core.frame.DataFrame'>\n",
      "Int64Index: 733 entries, 0 to 734\n",
      "Data columns (total 5 columns):\n",
      "date       733 non-null datetime64[ns]\n",
      "speaker    733 non-null object\n",
      "title      733 non-null object\n",
      "link       733 non-null object\n",
      "text       733 non-null object\n",
      "dtypes: datetime64[ns](1), object(4)\n",
      "memory usage: 34.4+ KB\n"
     ]
    }
   ],
   "source": [
    "import pickle\n",
    "df = pickle.load( open( \"../data/all_fed_speeches\", \"rb\" ) )\n",
    "df.info()"
   ]
  },
  {
   "cell_type": "code",
   "execution_count": 3,
   "metadata": {},
   "outputs": [],
   "source": [
    "doc_list = list(df['text'])"
   ]
  },
  {
   "cell_type": "code",
   "execution_count": null,
   "metadata": {},
   "outputs": [],
   "source": []
  },
  {
   "cell_type": "code",
   "execution_count": 4,
   "metadata": {},
   "outputs": [],
   "source": [
    "tfidvect =TfidfVectorizer(lowercase=True, \n",
    "                          stop_words='english',\n",
    "                          max_features = 1000,\n",
    "                          norm = 'l2',\n",
    "                          use_idf = True,\n",
    "                          smooth_idf=True,\n",
    "                          sublinear_tf = False)\n",
    "tfidf_vectorized = tfidvect.fit_transform(doc_list)"
   ]
  },
  {
   "cell_type": "code",
   "execution_count": 5,
   "metadata": {},
   "outputs": [
    {
     "name": "stdout",
     "output_type": "stream",
     "text": [
      "26767\n"
     ]
    }
   ],
   "source": [
    "# checking stop words (which includes the cleared features from max_features)\n",
    "stops = tfidvect.stop_words_\n",
    "print(len(stops))\n"
   ]
  },
  {
   "cell_type": "code",
   "execution_count": 6,
   "metadata": {},
   "outputs": [
    {
     "name": "stdout",
     "output_type": "stream",
     "text": [
      "1000\n"
     ]
    }
   ],
   "source": [
    "# checking the vocabulary\n",
    "vocab = tfidvect.vocabulary_\n",
    "print(len(vocab))"
   ]
  },
  {
   "cell_type": "code",
   "execution_count": 7,
   "metadata": {},
   "outputs": [
    {
     "name": "stdout",
     "output_type": "stream",
     "text": [
      "{'china': 155, 'global': 391, 'economic': 284, 'important': 439, 'developments': 260, 'recent': 741, 'decades': 238, 'past': 642, 'years': 995, 'economy': 288, 'growth': 408, 'rate': 735, 'nearly': 593, '10': 1, 'percent': 649, 'year': 994, 'resulting': 790, 'output': 631, 'overall': 633, 'size': 856, 'today': 940, 'fourth': 374, 'largest': 505, 'world': 991, 'terms': 925, 'gross': 404, 'domestic': 276, 'product': 699, 'gdp': 387, 'current': 226, 'exchange': 321, 'rates': 736, 'second': 820, 'adjustments': 56, 'differences': 262, 'national': 589, 'strong': 890, 'performance': 651, 'improved': 442, 'standards': 878, 'people': 648, 'estimates': 313, 'million': 573, 'reforms': 753, 'began': 106, '2004': 18, 'life': 523, 'fallen': 342, '000': 0, 'measures': 564, 'remains': 769, 'developing': 258, 'nation': 588, 'particular': 640, 'average': 94, 'household': 430, 'consumption': 198, 'remain': 767, 'quite': 729, 'low': 543, 'areas': 80, 'challenge': 148, 'high': 418, 'stable': 874, 'development': 259, 'country': 215, 'fully': 377, 'remarks': 770, 'like': 525, 'offer': 616, 'continue': 200, 'promote': 707, 'progress': 705, 'markets': 558, 'level': 519, 'productivity': 701, 'open': 620, 'policy': 664, 'estimated': 312, '2005': 19, 'factors': 338, 'contributed': 204, 'including': 450, 'capital': 138, 'investment': 482, 'increasing': 455, 'trade': 944, 'view': 972, 'single': 854, 'ongoing': 619, 'expansion': 323, 'moved': 586, 'central': 144, 'planning': 658, 'greater': 403, 'prices': 689, 'market': 557, 'production': 700, 'state': 880, 'government': 399, 'reduced': 747, 'direct': 265, 'process': 697, 'scope': 819, '1999': 12, 'according': 42, 'estimate': 311, 'business': 133, 'goods': 397, 'substantial': 899, 'experience': 327, 'shown': 846, 'economies': 286, 'early': 281, 'complex': 180, 'effectively': 292, 'basis': 104, 'set': 834, 'serve': 831, 'critical': 223, 'information': 467, 'supply': 909, 'demand': 248, 'conditions': 186, 'relative': 763, 'specific': 868, 'services': 833, 'resources': 785, 'providing': 717, 'incentives': 447, 'cost': 210, 'reduction': 749, 'innovation': 469, 'activities': 50, 'labor': 501, 'particularly': 641, 'area': 79, 'notably': 608, 'reducing': 748, 'workers': 989, 'sectors': 822, 'firms': 357, 'employment': 299, 'wages': 978, 'relatively': 764, 'wage': 977, 'jobs': 491, 'higher': 419, 'significant': 848, 'source': 865, 'decline': 242, 'share': 837, 'population': 667, 'scale': 816, 'despite': 255, 'large': 502, 'example': 320, 'related': 761, 'times': 939, 'considerable': 193, 'force': 366, 'additional': 54, 'gains': 385, 'growing': 407, 'small': 859, 'medium': 566, 'emerging': 298, 'job': 490, 'united': 962, 'states': 882, 'help': 416, 'create': 218, 'support': 910, 'reduce': 746, 'education': 289, 'need': 596, 'new': 603, 'improvement': 443, 'major': 548, 'competition': 179, 'role': 802, 'international': 481, 'organization': 627, '2001': 15, 'service': 832, 'foreign': 371, 'increase': 452, 'improve': 441, 'quality': 723, 'operating': 621, 'helped': 417, 'based': 102, 'results': 791, 'energy': 302, 'sector': 821, 'opportunity': 625, 'know': 498, 'rapidly': 734, 'oil': 618, '50': 35, '2000': 14, 'agency': 62, 'increased': 453, 'day': 233, '2006': 20, 'half': 410, 'rapid': 733, 'use': 964, 'reflects': 751, 'price': 688, 'controls': 206, 'sustainable': 913, 'households': 431, 'benefits': 113, 'larger': 504, 'decisions': 241, 'office': 617, 'saving': 813, 'pace': 635, 'concerns': 184, 'ways': 982, 'return': 792, 'fixed': 359, 'annual': 71, 'rose': 803, 'remained': 768, 'lower': 544, 'countries': 214, 'period': 652, 'relevant': 766, '30': 34, 'investments': 483, 'continued': 201, 'capacity': 137, 'appear': 72, 'possible': 672, 'industry': 464, 'appears': 73, '2002': 16, '11': 2, 'financial': 354, 'play': 660, 'likely': 526, 'returns': 793, 'risk': 798, 'problem': 695, 'loans': 535, 'future': 384, 'better': 116, 'account': 43, 'costs': 211, '12': 3, 'taken': 917, 'steps': 884, 'beginning': 108, 'stock': 885, 'banking': 100, 'improving': 445, 'supervision': 906, 'institutions': 474, 'banks': 101, 'bank': 98, 'lending': 516, 'trends': 951, 'positive': 670, 'great': 402, 'deal': 234, 'range': 732, 'instruments': 475, 'available': 93, 'borrowers': 124, 'taking': 918, 'ensure': 304, 'credit': 220, 'sound': 863, 'finance': 353, 'availability': 92, 'consumers': 197, 'smaller': 860, 'quantitative': 724, 'influence': 466, 'finally': 352, 'require': 774, 'appropriate': 77, 'institutional': 473, 'function': 378, 'accounting': 44, 'good': 396, 'corporate': 209, 'effective': 291, 'supervisory': 908, 'oversight': 634, 'consistent': 194, 'rules': 806, 'allow': 66, 'focus': 362, 'provide': 714, 'long': 537, 'run': 807, 'macroeconomic': 545, 'believe': 110, 'benefit': 112, 'tools': 942, 'monetary': 578, 'fiscal': 358, 'policies': 663, 'achieve': 46, 'inflation': 465, 'stability': 873, 'effects': 294, '13': 4, 'work': 988, 'extent': 333, 'developed': 257, 'authorities': 90, 'affect': 59, 'activity': 51, 'way': 981, 'reason': 739, 'reform': 752, 'strengthen': 888, 'borrowing': 125, 'aggregate': 63, 'funds': 383, 'principles': 691, 'expected': 326, 'make': 549, 'effectiveness': 293, 'enhanced': 303, 'maintain': 547, 'close': 161, 'dollar': 275, 'purchases': 722, 'assets': 85, 'increases': 454, 'money': 579, 'result': 789, 'bonds': 122, 'investors': 484, 'commercial': 167, 'leading': 510, 'largely': 503, 'successful': 902, 'operations': 623, 'continues': 202, 'strategy': 887, 'problems': 696, 'near': 592, 'levels': 520, 'value': 968, 'held': 415, 'private': 693, 'potentially': 675, 'point': 661, 'expect': 324, 'ultimately': 955, 'longer': 538, 'term': 924, 'flow': 360, 'limited': 528, 'trading': 945, 'goal': 393, 'independent': 458, 'perspective': 655, 'degree': 246, 'short': 845, 'political': 666, 'ability': 36, 'course': 216, 'governments': 400, 'flows': 361, 'led': 511, 'exports': 330, 'currently': 227, 'seen': 826, 'compared': 177, 'accounts': 45, 'called': 135, 'research': 779, '14': 5, 'technology': 922, 'knowledge': 499, 'billion': 118, 'making': 551, '15': 6, 'products': 702, '16': 7, 'securities': 823, 'significantly': 849, '17': 8, 'lend': 513, 'balance': 97, 'payments': 646, 'net': 601, 'abroad': 38, 'look': 539, 'economists': 287, 'policymakers': 665, 'importance': 438, 'having': 413, 'recently': 742, 'included': 449, 'objectives': 614, 'plan': 657, '2010': 24, 'participation': 639, 'systems': 916, 'home': 426, 'data': 231, 'clearly': 160, '18': 9, '19': 10, 'situation': 855, 'real': 738, '20': 13, 'consumer': 196, 'currency': 225, 'provides': 716, 'lead': 509, 'probably': 694, 'present': 682, 'social': 861, 'safety': 810, 'health': 414, 'insurance': 476, 'plans': 659, 'case': 140, 'pre': 679, 'earnings': 282, 'apply': 74, 'local': 536, 'security': 825, 'similar': 850, 'income': 451, 'stronger': 891, 'risks': 799, 'program': 703, 'potential': 674, 'time': 938, 'spending': 870, 'types': 953, 'raise': 730, 'means': 562, 'fund': 380, 'required': 775, 'pay': 644, 'measure': 563, 'understand': 958, 'access': 39, 'mortgages': 585, 'noted': 610, 'objective': 613, 'goals': 394, 'proposed': 711, 'various': 971, 'effort': 295, 'success': 901, 'efforts': 296, 'discussed': 270, 'turn': 952, 'stress': 889, 'addition': 53, 'provision': 718, 'especially': 307, 'hope': 428, 'purchase': 721, 'variety': 970, 'opportunities': 624, 'industrial': 463, 'does': 273, 'change': 150, 'affected': 60, 'broad': 127, 'relationship': 762, 'challenges': 149, 'address': 55, 'environment': 305, 'regarding': 755, 'come': 165, 'responsibility': 788, 'september': 829, 'sheet': 840, 'needs': 598, 'york': 998, 'prospects': 712, 'washington': 980, 'pp': 676, 'robust': 801, 'working': 990, 'paper': 636, 'october': 615, 'david': 232, 'american': 69, 'review': 794, 'vol': 974, 'june': 495, 'framework': 375, 'far': 345, 'july': 494, 'institution': 472, 'press': 683, 'path': 643, 'economics': 285, 'bureau': 132, 'statistics': 883, 'papers': 637, 'line': 529, 'indicators': 460, 'www': 993, 'text2': 930, 'text3': 931, 'outlook': 630, 'text4': 932, 'federal': 349, 'reserve': 780, 'board': 120, 'staff': 875, 'using': 967, 'difficult': 264, 'series': 830, 'discussion': 271, '25': 33, 'sources': 866, 'adverse': 58, 'best': 115, 'cash': 142, 'issues': 488, 'involved': 485, 'provided': 715, 'implementation': 436, '2003': 17, 'useful': 966, 'analysis': 70, 'alternative': 67, 'approaches': 76, 'used': 965, 'november': 611, 'text': 929, 'conference': 188, 'uncertainty': 956, 'face': 334, 'think': 935, 'nature': 591, 'tend': 923, 'lessons': 517, 'views': 973, 'necessarily': 594, 'reflect': 750, 'members': 569, 'committee': 169, 'fomc': 365, 'faced': 335, 'going': 395, 'understanding': 959, 'expectations': 325, 'bankers': 99, 'typically': 954, 'subject': 897, 'issue': 486, 'resource': 784, 'historical': 421, 'consider': 192, 'just': 496, 'late': 506, 'fall': 341, 'implications': 437, 'known': 500, 'changes': 152, 'personal': 654, 'index': 459, 'hard': 412, 'month': 582, 'pressures': 685, 'compensation': 178, 'special': 867, 'begin': 107, 'hand': 411, 'rising': 797, 'release': 765, 'suggests': 905, 'total': 943, 'studies': 895, 'suggest': 904, 'existing': 322, 'certain': 145, 'key': 497, 'trend': 950, 'figure': 350, 'behavior': 109, 'downward': 277, 'cycle': 230, 'later': 507, 'questions': 727, 'sales': 812, 'survey': 912, 'movements': 587, 'general': 388, 'associated': 87, 'assessment': 83, 'guidance': 409, 'companies': 175, 'number': 612, 'wide': 985, 'common': 171, 'nominal': 604, 'treasury': 949, 'yields': 997, 'premium': 680, 'liquidity': 532, 'forecast': 367, 'needed': 597, 'form': 372, 'sense': 828, 'question': 726, 'stance': 876, 'asset': 84, 'structure': 893, 'public': 720, 'debt': 236, 'equity': 306, 'order': 626, 'directly': 266, 'say': 815, 'premiums': 681, 'underlying': 957, 'house': 429, 'previous': 687, 'estate': 310, 'doing': 274, 'created': 219, 'fundamental': 381, 'rise': 796, 'homes': 427, 'dynamics': 279, 'focused': 363, 'model': 575, 'evolution': 318, 'effect': 290, 'models': 576, 'rule': 805, 'possibility': 671, 'simply': 853, 'factor': 337, 'concern': 183, 'study': 896, 'end': 301, 'shocks': 844, 'severe': 835, 'little': 533, 'simple': 852, 'history': 422, 'shift': 842, 'slow': 858, 'elevated': 297, 'unemployment': 961, 'explain': 329, 'core': 208, 'post': 673, 'generally': 389, 'makes': 550, 'robert': 800, 'ago': 64, 'evidence': 317, 'response': 787, 'looking': 540, 'conduct': 187, 'actions': 49, 'respond': 786, 'given': 390, 'certainly': 146, 'approach': 75, 'circumstances': 156, '1990s': 11, 'conclusion': 185, 'gap': 386, 'did': 261, 'light': 524, 'necessary': 595, 'events': 316, 'lines': 530, 'control': 205, 'maximum': 561, 'loss': 541, 'different': 263, 'contrast': 203, 'standard': 877, 'bit': 119, 'weak': 983, 'zero': 999, 'extended': 332, 'management': 553, 'event': 315, 'requires': 778, 'practice': 677, 'projections': 706, 'intended': 477, 'primary': 690, 'aspects': 81, 'wealth': 984, 'confidence': 189, 'individuals': 462, 'fed': 348, 'decision': 240, 'recognize': 744, 'speech': 869, 'thought': 936, 'thank': 933, 'michael': 571, 'actual': 52, 'sharp': 838, 'journal': 493, 'april': 78, 'governors': 401, 'december': 239, 'european': 314, 'march': 555, 'january': 489, 'john': 492, 'groups': 406, 'university': 963, 'theory': 934, 'functioning': 379, 'mortgage': 584, 'discuss': 269, 'regulatory': 760, 'proposals': 710, 'basel': 103, 'ii': 434, 'cross': 224, 'manage': 552, 'customers': 229, 'positions': 669, 'supervisors': 907, 'losses': 542, 'minimum': 574, 'requirements': 777, 'tool': 941, 'negative': 599, 'consequences': 191, 'advanced': 57, 'discipline': 267, 'systemic': 914, 'examiners': 319, 'holding': 424, 'reasons': 740, 'default': 245, 'months': 583, 'agencies': 61, 'issued': 487, 'meet': 567, 'want': 979, 'final': 351, 'forward': 373, 'soundness': 864, 'chairman': 147, 'bernanke': 114, 'organizations': 628, 'operational': 622, 'august': 89, 'proposal': 709, 'develop': 256, 'community': 174, 'instead': 471, 'mid': 572, 'depository': 251, 'residential': 782, 'raised': 731, 'regard': 754, 'transparency': 948, 'periods': 653, 'earlier': 280, 'encourage': 300, 'identify': 433, 'group': 405, 'meeting': 568, 'let': 518, 'limit': 527, 'established': 309, 'individual': 461, 'coming': 166, 'practices': 678, 'colleagues': 164, 'closely': 162, 'regulators': 759, 'impact': 435, 'able': 37, 'regulation': 757, 'regime': 756, 'leverage': 521, 'ratio': 737, 'action': 48, 'hold': 423, 'counterparties': 213, 'tax': 920, 'assess': 82, 'include': 448, 'cases': 141, 'slack': 857, 'moderate': 577, 'congress': 190, 'report': 772, 'place': 656, 'roughly': 804, 'housing': 432, 'somewhat': 862, 'declines': 244, 'easing': 283, 'monitor': 580, 'statement': 881, 'department': 249, 'quarter': 725, 'outcomes': 629, 'decade': 237, 'construction': 195, 'family': 344, 'points': 662, 'reported': 773, 'shows': 847, 'normal': 607, 'declined': 243, 'experienced': 328, 'outside': 632, 'broader': 128, 'following': 364, 'reserves': 781, 'scenario': 817, 'forecasts': 368, 'broadly': 129, 'ahead': 65, 'fact': 336, 'women': 987, 'sharply': 839, 'improvements': 444, 'said': 811, 'volatility': 975, 'participants': 638, 'pressure': 684, 'non': 605, 'families': 343, 'neutral': 602, 'failure': 340, 'clear': 158, 'firm': 356, 'quickly': 728, 'businesses': 134, 'recession': 743, 'designed': 254, 'mandate': 554, 'similarly': 851, 'clearing': 159, 'dual': 278, 'derivatives': 253, 'target': 919, 'yield': 996, 'note': 609, 'importantly': 440, 'bond': 121, 'recovery': 745, '2007': 21, 'tightening': 937, 'changed': 151, 'curve': 228, 'accommodative': 41, 'right': 795, 'communication': 172, 'authority': 91, 'funding': 382, 'context': 199, 'deposit': 250, 'discount': 268, 'window': 986, 'monitoring': 581, 'resolution': 783, 'deposits': 252, 'substantially': 900, 'big': 117, 'fail': 339, 'dealers': 235, 'sponsored': 871, 'incentive': 446, 'traditional': 946, 'school': 818, 'globalization': 392, 'independence': 457, 'worth': 992, 'instance': 470, 'median': 565, 'crises': 221, 'start': 879, 'increasingly': 456, 'prior': 692, 'payment': 645, 'transactions': 947, 'attention': 88, 'loan': 534, 'commitment': 168, 'commodity': 170, 'maturity': 560, 'essential': 308, 'intermediaries': 478, 'infrastructure': 468, 'financing': 355, 'regulations': 758, 'cambridge': 136, 'city': 157, 'pdf': 647, 'changing': 153, 'gov': 398, 'america': 68, 'law': 508, 'february': 347, 'percentage': 650, 'ben': 111, 'act': 47, 'faster': 346, 'requirement': 776, 'structural': 892, 'chicago': 154, 'highly': 420, 'savings': 814, 'backed': 96, 'liquid': 531, 'legal': 512, 'card': 139, 'internal': 480, 'mentioned': 570, 'processes': 698, 'budget': 131, 'communities': 173, 'senior': 827, 'safe': 809, 'protection': 713, 'students': 894, 'natural': 590, 'sheets': 841, 'spreads': 872, 'margin': 556, 'shock': 843, 'council': 212, 'lenders': 515, 'programs': 704, 'comprehensive': 182, 'subprime': 898, 'borrower': 123, 'lender': 514, 'neighborhoods': 600, 'strategies': 886, 'bear': 105, 'properties': 708, 'values': 969, 'collateral': 163, 'underwriting': 960, 'cra': 217, 'conventional': 207, 'exposures': 331, 'runs': 808, 'compliance': 181, 'avoid': 95, 'testing': 927, 'portfolio': 668, 'assistance': 86, 'sufficient': 903, 'test': 926, '2011': 25, 'broker': 130, 'taylor': 921, 'vulnerabilities': 976, 'sure': 911, 'accommodation': 40, 'center': 143, '2008': 22, 'mass': 559, 'company': 176, 'delivered': 247, 'systemically': 915, 'holdings': 425, 'crisis': 222, 'prudential': 719, 'prevent': 686, '2012': 26, '2016': 30, 'tests': 928, 'nonbank': 606, 'securitization': 824, 'intermediation': 479, 'frank': 376, 'liabilities': 522, 'bound': 126, 'foreclosure': 369, 'foreclosures': 370, '2009': 23, 'repo': 771, 'macroprudential': 546, 'shadow': 836, '2013': 27, 'dodd': 272, '2018': 32, '2014': 28, '2015': 29, '2017': 31}\n"
     ]
    }
   ],
   "source": [
    "print(vocab)\n"
   ]
  },
  {
   "cell_type": "code",
   "execution_count": 8,
   "metadata": {},
   "outputs": [
    {
     "data": {
      "text/plain": [
       "array([[0.0120277 , 0.01952326, 0.00467892, 0.00867747, 0.0050535 ,\n",
       "        0.01041692, 0.01029846, 0.01116975, 0.00570364, 0.00558488],\n",
       "       [0.        , 0.01840275, 0.        , 0.        , 0.        ,\n",
       "        0.        , 0.        , 0.01316085, 0.01344071, 0.        ],\n",
       "       [0.        , 0.        , 0.        , 0.        , 0.        ,\n",
       "        0.        , 0.        , 0.        , 0.        , 0.        ],\n",
       "       [0.        , 0.        , 0.        , 0.        , 0.        ,\n",
       "        0.        , 0.        , 0.        , 0.        , 0.        ],\n",
       "       [0.0350087 , 0.00757678, 0.        , 0.        , 0.        ,\n",
       "        0.        , 0.        , 0.        , 0.        , 0.        ],\n",
       "       [0.        , 0.        , 0.        , 0.        , 0.        ,\n",
       "        0.        , 0.        , 0.        , 0.        , 0.        ],\n",
       "       [0.        , 0.01659447, 0.01325669, 0.01229286, 0.014318  ,\n",
       "        0.01475704, 0.02188383, 0.03164706, 0.01616001, 0.01582353],\n",
       "       [0.        , 0.00852611, 0.02043354, 0.00947396, 0.01103471,\n",
       "        0.01137307, 0.01124373, 0.        , 0.01245433, 0.        ],\n",
       "       [0.        , 0.        , 0.        , 0.        , 0.        ,\n",
       "        0.        , 0.        , 0.        , 0.        , 0.        ],\n",
       "       [0.03138271, 0.01018803, 0.        , 0.        , 0.        ,\n",
       "        0.01358993, 0.        , 0.        , 0.        , 0.        ]])"
      ]
     },
     "execution_count": 8,
     "metadata": {},
     "output_type": "execute_result"
    }
   ],
   "source": [
    "tfidf_arr = tfidf_vectorized.toarray()\n",
    "tfidf_arr[0:10,0:10]"
   ]
  },
  {
   "cell_type": "markdown",
   "metadata": {},
   "source": [
    "1. For 4 groups (classes) of the 20newsgroups corpus (your choice), find the 10 most important words by:\n",
    "    * total tf-idf score\n",
    "    * average tf-idf score (average only over non-zero values)\n",
    "    * highest tf (only) score across corpus (try using `use_idf = False` in `TfidfVectorizer` )\n"
   ]
  },
  {
   "cell_type": "code",
   "execution_count": 9,
   "metadata": {},
   "outputs": [],
   "source": [
    "def get_top_values(lst, n, labels):\n",
    "    '''\n",
    "    INPUT: LIST, INTEGER, LIST\n",
    "    OUTPUT: LIST\n",
    "\n",
    "    Given a list of values, find the indices with the highest n values.\n",
    "    Return the labels for each of these indices.\n",
    "\n",
    "    e.g.\n",
    "    lst = [7, 3, 2, 4, 1]\n",
    "    n = 2\n",
    "    labels = [\"cat\", \"dog\", \"mouse\", \"pig\", \"rabbit\"]\n",
    "    output: [\"cat\", \"pig\"]\n",
    "    '''\n",
    "    return [labels[i] for i in np.argsort(lst)[-1:-n-1:-1]]"
   ]
  },
  {
   "cell_type": "code",
   "execution_count": 10,
   "metadata": {},
   "outputs": [
    {
     "name": "stdout",
     "output_type": "stream",
     "text": [
      "top 50 by average tf-idf\n",
      "['saving', 'purchase', 'education', 'expect', 'loan', 'bound', 'governments', 'effective', 'second', 'efforts', 'looking', 'wide', 'short', 'scope', 'fed', 'release', 'reduce', 'rates', 'value', 'exchange', 'direct', 'requirements', 'payments', 'companies', 'essential', 'path', 'subject', 'considerable', 'international', 'certain', 'pressure', 'encourage', 'practices', 'analysis', 'necessarily', 'moderate', 'flows', 'reducing', 'flow', 'institutional', 'current', 'ways', 'actual', 'liquid', 'fixed', 'faster', 'reform', 'simple', 'similar', 'ensure']\n"
     ]
    }
   ],
   "source": [
    "# finding average tf-idf score in the vocabulary\n",
    "avg = np.sum(tfidf_arr, axis=0) / np.sum(tfidf_arr > 0, axis=0)\n",
    "print(\"top 50 by average tf-idf\")\n",
    "l_avg = list(avg)\n",
    "v_words = list(vocab.keys())\n",
    "print(get_top_values(l_avg, 50, v_words))"
   ]
  },
  {
   "cell_type": "code",
   "execution_count": 11,
   "metadata": {},
   "outputs": [
    {
     "name": "stdout",
     "output_type": "stream",
     "text": [
      "top 10 by total tf-idf\n",
      "['expect', 'value', 'purchase', 'looking', 'practices', 'subject', 'direct', 'institutional', 'requirements', 'release', 'moderate', 'state', 'education', 'reducing', 'ways', 'counterparties', 'issue', 'fixed', 'corporate', 'simple', 'internal', 'data', 'challenges', 'tool', 'analysis', 'term', 'extended', 'reduced', 'relatively', 'certain', 'common', 'council', 'spending', 'path', 'short', 'deposits', 'develop', 'systemic', 'congress', 'information', 'dodd', '2013', 'making', 'used', 'staff', 'similar', 'following', 'understanding', 'activities', 'balance']\n"
     ]
    }
   ],
   "source": [
    "# finding total tf-idf scrore\n",
    "total = np.sum(tfidf_arr, axis=0)\n",
    "print(\"top 10 by total tf-idf\")\n",
    "print(get_top_values(total, 50, v_words))\n"
   ]
  },
  {
   "cell_type": "code",
   "execution_count": 12,
   "metadata": {},
   "outputs": [
    {
     "name": "stdout",
     "output_type": "stream",
     "text": [
      "Here is the length of the new vocab:  1000\n",
      "top 10 by tf across all corpus\n",
      "['clearing', '25', 'deposits', 'or', 'many', 'mandate', 'effective', 'payments', 'areas', 'provided', 'credit', 'maintain', 'consumption', 'level', 'state', '2012', 'range', 'curve', 'avoid', 'development', 'existing', 'make', 'economists', 'needs', 'contrast', 'macroeconomic', 'reserve', 'hope', 'prudential', 'text', 'promote', 'derivatives', 'recovery', 'so', '000', 'office', 'how', 'me', 'factor', 'primary', 'mid', 'bound', 'face', 'nature', 'back', '2008', 'was', 'our', 'out', 'open']\n"
     ]
    }
   ],
   "source": [
    "# HIGHEST tfidf across corpus\n",
    "# redo vectorization without using idf\n",
    "vectorizer2 = TfidfVectorizer(use_idf=False, max_features=1000)\n",
    "# make documents into one giant document for this purpose\n",
    "vectors2 = vectorizer2.fit_transform([\"\\n\".join(doc_list)]).toarray()\n",
    "\n",
    "vocab2 = vectorizer2.vocabulary_\n",
    "words = list(vocab2.keys())\n",
    "print(\"Here is the length of the new vocab: \", len(vocab2))\n",
    "print(\"top 10 by tf across all corpus\")\n",
    "print(get_top_values(vectors2[0], 50, words))\n"
   ]
  },
  {
   "cell_type": "code",
   "execution_count": 31,
   "metadata": {},
   "outputs": [
    {
     "name": "stdout",
     "output_type": "stream",
     "text": [
      "<class 'numpy.ndarray'>\n"
     ]
    }
   ],
   "source": [
    "print(type(vectors2))"
   ]
  },
  {
   "cell_type": "code",
   "execution_count": 32,
   "metadata": {},
   "outputs": [
    {
     "name": "stdout",
     "output_type": "stream",
     "text": [
      "<class 'list'>\n"
     ]
    }
   ],
   "source": [
    "print(type(words))"
   ]
  },
  {
   "cell_type": "code",
   "execution_count": 34,
   "metadata": {},
   "outputs": [
    {
     "name": "stdout",
     "output_type": "stream",
     "text": [
      "Variable            Type                Data/Info\n",
      "-------------------------------------------------\n",
      "CountVectorizer     type                <class 'sklearn.feature_e<...>on.text.CountVectorizer'>\n",
      "PorterStemmer       ABCMeta             <class 'nltk.stem.porter.PorterStemmer'>\n",
      "RegexpTokenizer     ABCMeta             <class 'nltk.tokenize.regexp.RegexpTokenizer'>\n",
      "SnowballStemmer     ABCMeta             <class 'nltk.stem.snowball.SnowballStemmer'>\n",
      "TfidfVectorizer     type                <class 'sklearn.feature_e<...>on.text.TfidfVectorizer'>\n",
      "WordNetLemmatizer   type                <class 'nltk.stem.wordnet.WordNetLemmatizer'>\n",
      "avg                 ndarray             1000: 1000 elems, type `float64`, 8000 bytes\n",
      "df                  DataFrame                     date           <...>n\\n[733 rows x 5 columns]\n",
      "doc_list            list                n=733\n",
      "get_top_values      function            <function get_top_values at 0x1a13caaae8>\n",
      "l_avg               list                n=1000\n",
      "np                  module              <module 'numpy' from '/an<...>kages/numpy/__init__.py'>\n",
      "pd                  module              <module 'pandas' from '/a<...>ages/pandas/__init__.py'>\n",
      "pickle              module              <module 'pickle' from '/a<...>lib/python3.6/pickle.py'>\n",
      "stops               set                 {'facilitated', 'magnitud<...>, 'bridgewater', 'laxer'}\n",
      "stopwords           LazyCorpusLoader    <WordListCorpusReader in <...>pwords' (not loaded yet)>\n",
      "string              module              <module 'string' from '/a<...>lib/python3.6/string.py'>\n",
      "tfidf_arr           ndarray             733x1000: 733000 elems, type `float64`, 5864000 bytes (5.59234619140625 Mb)\n",
      "tfidf_vectorized    csr_matrix            (0, 155)\t0.797732842298<...>2, 31)\t0.0990883721754936\n",
      "tfidvect            TfidfVectorizer     TfidfVectorizer(analyzer=<...>n        vocabulary=None)\n",
      "total               ndarray             1000: 1000 elems, type `float64`, 8000 bytes\n",
      "v_words             list                n=1000\n",
      "vectorizer2         TfidfVectorizer     TfidfVectorizer(analyzer=<...>n        vocabulary=None)\n",
      "vectors2            ndarray             1x1000: 1000 elems, type `float64`, 8000 bytes\n",
      "vocab               dict                n=1000\n",
      "vocab2              dict                n=1000\n",
      "word_tokenize       function            <function word_tokenize at 0x1a136ce2f0>\n",
      "words               list                n=1000\n"
     ]
    }
   ],
   "source": [
    "whos"
   ]
  },
  {
   "cell_type": "code",
   "execution_count": 13,
   "metadata": {},
   "outputs": [
    {
     "data": {
      "text/plain": [
       "0   2006-12-15\n",
       "1   2006-12-01\n",
       "2   2006-12-01\n",
       "3   2006-11-30\n",
       "4   2006-11-28\n",
       "Name: date, dtype: datetime64[ns]"
      ]
     },
     "execution_count": 13,
     "metadata": {},
     "output_type": "execute_result"
    }
   ],
   "source": [
    "df['date'].iloc[0:5]\n"
   ]
  },
  {
   "cell_type": "code",
   "execution_count": 38,
   "metadata": {},
   "outputs": [],
   "source": [
    "import datetime"
   ]
  },
  {
   "cell_type": "code",
   "execution_count": 39,
   "metadata": {},
   "outputs": [],
   "source": [
    "this_date = datetime.datetime(2006, 12, 15)"
   ]
  },
  {
   "cell_type": "code",
   "execution_count": 40,
   "metadata": {},
   "outputs": [
    {
     "name": "stdout",
     "output_type": "stream",
     "text": [
      "2006-12-15 00:00:00\n"
     ]
    }
   ],
   "source": [
    "print(this_date)"
   ]
  },
  {
   "cell_type": "code",
   "execution_count": 82,
   "metadata": {},
   "outputs": [],
   "source": [
    "def create_speech_list(df, date):\n",
    "    df2 = df[df['date']<= date]\n",
    "    return df2"
   ]
  },
  {
   "cell_type": "code",
   "execution_count": 83,
   "metadata": {},
   "outputs": [],
   "source": [
    "df2 = create_speech_list(df, this_date)"
   ]
  },
  {
   "cell_type": "code",
   "execution_count": 84,
   "metadata": {},
   "outputs": [
    {
     "data": {
      "text/html": [
       "<div>\n",
       "<style scoped>\n",
       "    .dataframe tbody tr th:only-of-type {\n",
       "        vertical-align: middle;\n",
       "    }\n",
       "\n",
       "    .dataframe tbody tr th {\n",
       "        vertical-align: top;\n",
       "    }\n",
       "\n",
       "    .dataframe thead th {\n",
       "        text-align: right;\n",
       "    }\n",
       "</style>\n",
       "<table border=\"1\" class=\"dataframe\">\n",
       "  <thead>\n",
       "    <tr style=\"text-align: right;\">\n",
       "      <th></th>\n",
       "      <th>date</th>\n",
       "      <th>speaker</th>\n",
       "      <th>title</th>\n",
       "      <th>link</th>\n",
       "      <th>text</th>\n",
       "    </tr>\n",
       "  </thead>\n",
       "  <tbody>\n",
       "    <tr>\n",
       "      <th>421</th>\n",
       "      <td>2012-01-16</td>\n",
       "      <td>Governor Elizabeth A. Duke</td>\n",
       "      <td>From Community Banker to Central Banker--My Jo...</td>\n",
       "      <td>/newsevents/speech/duke20120116a.htm</td>\n",
       "      <td>\\n       It is certainly a pleasure to be here...</td>\n",
       "    </tr>\n",
       "    <tr>\n",
       "      <th>422</th>\n",
       "      <td>2012-01-13</td>\n",
       "      <td>Governor Elizabeth A. Duke</td>\n",
       "      <td>Opportunities to Reduce Regulatory Burden and ...</td>\n",
       "      <td>/newsevents/speech/duke20120113a.htm</td>\n",
       "      <td>\\n       It's a pleasure to be here this morni...</td>\n",
       "    </tr>\n",
       "    <tr>\n",
       "      <th>423</th>\n",
       "      <td>2012-01-07</td>\n",
       "      <td>Governor Sarah Bloom Raskin</td>\n",
       "      <td>Creating and Implementing an Enforcement Respo...</td>\n",
       "      <td>/newsevents/speech/raskin20120107a.htm</td>\n",
       "      <td>\\n       Thank you and happy New Year. It is a...</td>\n",
       "    </tr>\n",
       "    <tr>\n",
       "      <th>424</th>\n",
       "      <td>2012-01-06</td>\n",
       "      <td>Governor Sarah Bloom Raskin</td>\n",
       "      <td>Community Bank Examination and Supervision ami...</td>\n",
       "      <td>/newsevents/speech/raskin20120106a.htm</td>\n",
       "      <td>\\n       Thank you for the opportunity to spea...</td>\n",
       "    </tr>\n",
       "    <tr>\n",
       "      <th>425</th>\n",
       "      <td>2012-01-06</td>\n",
       "      <td>Governor Elizabeth A. Duke</td>\n",
       "      <td>Economic Developments, Risks to the Outlook, a...</td>\n",
       "      <td>/newsevents/speech/duke20120106a.htm</td>\n",
       "      <td>It is the start of a new year, the traditional...</td>\n",
       "    </tr>\n",
       "  </tbody>\n",
       "</table>\n",
       "</div>"
      ],
      "text/plain": [
       "          date                      speaker  \\\n",
       "421 2012-01-16   Governor Elizabeth A. Duke   \n",
       "422 2012-01-13   Governor Elizabeth A. Duke   \n",
       "423 2012-01-07  Governor Sarah Bloom Raskin   \n",
       "424 2012-01-06  Governor Sarah Bloom Raskin   \n",
       "425 2012-01-06   Governor Elizabeth A. Duke   \n",
       "\n",
       "                                                 title  \\\n",
       "421  From Community Banker to Central Banker--My Jo...   \n",
       "422  Opportunities to Reduce Regulatory Burden and ...   \n",
       "423  Creating and Implementing an Enforcement Respo...   \n",
       "424  Community Bank Examination and Supervision ami...   \n",
       "425  Economic Developments, Risks to the Outlook, a...   \n",
       "\n",
       "                                       link  \\\n",
       "421    /newsevents/speech/duke20120116a.htm   \n",
       "422    /newsevents/speech/duke20120113a.htm   \n",
       "423  /newsevents/speech/raskin20120107a.htm   \n",
       "424  /newsevents/speech/raskin20120106a.htm   \n",
       "425    /newsevents/speech/duke20120106a.htm   \n",
       "\n",
       "                                                  text  \n",
       "421  \\n       It is certainly a pleasure to be here...  \n",
       "422  \\n       It's a pleasure to be here this morni...  \n",
       "423  \\n       Thank you and happy New Year. It is a...  \n",
       "424  \\n       Thank you for the opportunity to spea...  \n",
       "425  It is the start of a new year, the traditional...  "
      ]
     },
     "execution_count": 84,
     "metadata": {},
     "output_type": "execute_result"
    }
   ],
   "source": [
    "df2.tail()"
   ]
  },
  {
   "cell_type": "code",
   "execution_count": 46,
   "metadata": {},
   "outputs": [
    {
     "data": {
      "text/plain": [
       "73"
      ]
     },
     "execution_count": 46,
     "metadata": {},
     "output_type": "execute_result"
    }
   ],
   "source": [
    "len(df2)"
   ]
  },
  {
   "cell_type": "code",
   "execution_count": 48,
   "metadata": {},
   "outputs": [
    {
     "data": {
      "text/html": [
       "<div>\n",
       "<style scoped>\n",
       "    .dataframe tbody tr th:only-of-type {\n",
       "        vertical-align: middle;\n",
       "    }\n",
       "\n",
       "    .dataframe tbody tr th {\n",
       "        vertical-align: top;\n",
       "    }\n",
       "\n",
       "    .dataframe thead th {\n",
       "        text-align: right;\n",
       "    }\n",
       "</style>\n",
       "<table border=\"1\" class=\"dataframe\">\n",
       "  <thead>\n",
       "    <tr style=\"text-align: right;\">\n",
       "      <th></th>\n",
       "      <th>date</th>\n",
       "      <th>speaker</th>\n",
       "      <th>title</th>\n",
       "      <th>link</th>\n",
       "      <th>text</th>\n",
       "    </tr>\n",
       "  </thead>\n",
       "  <tbody>\n",
       "    <tr>\n",
       "      <th>0</th>\n",
       "      <td>2006-12-15</td>\n",
       "      <td>Chairman Ben S. Bernanke</td>\n",
       "      <td>The Chinese Economy: Progress and Challenges</td>\n",
       "      <td>/newsevents/speech/bernanke20061215a.htm</td>\n",
       "      <td>The emergence of China as a global economic po...</td>\n",
       "    </tr>\n",
       "    <tr>\n",
       "      <th>1</th>\n",
       "      <td>2006-12-01</td>\n",
       "      <td>Vice Chairman Donald L. Kohn</td>\n",
       "      <td>Monetary Policy and Uncertainty</td>\n",
       "      <td>/newsevents/speech/kohn20061201a.htm</td>\n",
       "      <td>Tonight I will talk about one of the themes of...</td>\n",
       "    </tr>\n",
       "    <tr>\n",
       "      <th>2</th>\n",
       "      <td>2006-12-01</td>\n",
       "      <td>Chairman Ben S. Bernanke</td>\n",
       "      <td>Welcoming remarks</td>\n",
       "      <td>/newsevents/speech/bernanke20061201a.htm</td>\n",
       "      <td>Vice President Papademos, ladies and gentlemen...</td>\n",
       "    </tr>\n",
       "  </tbody>\n",
       "</table>\n",
       "</div>"
      ],
      "text/plain": [
       "        date                       speaker  \\\n",
       "0 2006-12-15      Chairman Ben S. Bernanke   \n",
       "1 2006-12-01  Vice Chairman Donald L. Kohn   \n",
       "2 2006-12-01      Chairman Ben S. Bernanke   \n",
       "\n",
       "                                          title  \\\n",
       "0  The Chinese Economy: Progress and Challenges   \n",
       "1               Monetary Policy and Uncertainty   \n",
       "2                             Welcoming remarks   \n",
       "\n",
       "                                       link  \\\n",
       "0  /newsevents/speech/bernanke20061215a.htm   \n",
       "1      /newsevents/speech/kohn20061201a.htm   \n",
       "2  /newsevents/speech/bernanke20061201a.htm   \n",
       "\n",
       "                                                text  \n",
       "0  The emergence of China as a global economic po...  \n",
       "1  Tonight I will talk about one of the themes of...  \n",
       "2  Vice President Papademos, ladies and gentlemen...  "
      ]
     },
     "execution_count": 48,
     "metadata": {},
     "output_type": "execute_result"
    }
   ],
   "source": [
    "df2.iloc[0:3]"
   ]
  },
  {
   "cell_type": "code",
   "execution_count": 25,
   "metadata": {},
   "outputs": [],
   "source": [
    "def create_speech_list(df, this_date, numb_speeches):\n",
    "    '''\n",
    "    For a given date, the most recent speeches are returned in a dataframe\n",
    "\n",
    "    INPUTS:\n",
    "        df - the dataframe of all fed speeches\n",
    "        date - the date needed to include no speeches before\n",
    "        num_speeches - the number of most recent speeches to include\n",
    "    OUTPUT:\n",
    "        dataframe - this is a subset of the original dataframe with same columns\n",
    "    '''\n",
    "    filtered_df = df[df['date']<= this_date].copy()\n",
    "    if len(filtered_df)> numb_speeches:\n",
    "        filtered_df = filtered_df.iloc[0:numb_speeches]\n",
    "    return filtered_df\n"
   ]
  },
  {
   "cell_type": "code",
   "execution_count": 26,
   "metadata": {},
   "outputs": [],
   "source": [
    "import datetime\n",
    "this_date = datetime.datetime(2018, 9, 21)"
   ]
  },
  {
   "cell_type": "code",
   "execution_count": 30,
   "metadata": {},
   "outputs": [
    {
     "data": {
      "text/html": [
       "<div>\n",
       "<style scoped>\n",
       "    .dataframe tbody tr th:only-of-type {\n",
       "        vertical-align: middle;\n",
       "    }\n",
       "\n",
       "    .dataframe tbody tr th {\n",
       "        vertical-align: top;\n",
       "    }\n",
       "\n",
       "    .dataframe thead th {\n",
       "        text-align: right;\n",
       "    }\n",
       "</style>\n",
       "<table border=\"1\" class=\"dataframe\">\n",
       "  <thead>\n",
       "    <tr style=\"text-align: right;\">\n",
       "      <th></th>\n",
       "      <th>date</th>\n",
       "      <th>speaker</th>\n",
       "      <th>title</th>\n",
       "      <th>link</th>\n",
       "      <th>text</th>\n",
       "    </tr>\n",
       "  </thead>\n",
       "  <tbody>\n",
       "    <tr>\n",
       "      <th>42</th>\n",
       "      <td>2018-06-20</td>\n",
       "      <td>Chairman Jerome H. Powell</td>\n",
       "      <td>Monetary Policy at a Time of Uncertainty and T...</td>\n",
       "      <td>/newsevents/speech/powell20180620a.htm</td>\n",
       "      <td>Nine years into an expansion that has sometime...</td>\n",
       "    </tr>\n",
       "    <tr>\n",
       "      <th>43</th>\n",
       "      <td>2018-05-31</td>\n",
       "      <td>Governor Lael Brainard</td>\n",
       "      <td>Sustaining Full Employment and Inflation aroun...</td>\n",
       "      <td>/newsevents/speech/brainard20180531a.htm</td>\n",
       "      <td>I appreciate the opportunity to join the Forec...</td>\n",
       "    </tr>\n",
       "    <tr>\n",
       "      <th>44</th>\n",
       "      <td>2018-05-25</td>\n",
       "      <td>Chairman Jerome H. Powell</td>\n",
       "      <td>Financial Stability and Central Bank Transparency</td>\n",
       "      <td>/newsevents/speech/powell20180525a.htm</td>\n",
       "      <td>Thank you for inviting me here to celebrate th...</td>\n",
       "    </tr>\n",
       "    <tr>\n",
       "      <th>45</th>\n",
       "      <td>2018-05-18</td>\n",
       "      <td>Governor Lael Brainard</td>\n",
       "      <td>Keeping Community at the Heart of the Communit...</td>\n",
       "      <td>/newsevents/speech/brainard20180518a.htm</td>\n",
       "      <td>I want to thank Ben Dulchin and the Associatio...</td>\n",
       "    </tr>\n",
       "    <tr>\n",
       "      <th>46</th>\n",
       "      <td>2018-05-16</td>\n",
       "      <td>Vice Chairman for Supervision Randal K. Quarles</td>\n",
       "      <td>Trust Everyone--But Brand Your Cattle: Finding...</td>\n",
       "      <td>/newsevents/speech/quarles20180516a.htm</td>\n",
       "      <td>Thank you to Professor Scott for inviting me t...</td>\n",
       "    </tr>\n",
       "  </tbody>\n",
       "</table>\n",
       "</div>"
      ],
      "text/plain": [
       "         date                                          speaker  \\\n",
       "42 2018-06-20                        Chairman Jerome H. Powell   \n",
       "43 2018-05-31                           Governor Lael Brainard   \n",
       "44 2018-05-25                        Chairman Jerome H. Powell   \n",
       "45 2018-05-18                           Governor Lael Brainard   \n",
       "46 2018-05-16  Vice Chairman for Supervision Randal K. Quarles   \n",
       "\n",
       "                                                title  \\\n",
       "42  Monetary Policy at a Time of Uncertainty and T...   \n",
       "43  Sustaining Full Employment and Inflation aroun...   \n",
       "44  Financial Stability and Central Bank Transparency   \n",
       "45  Keeping Community at the Heart of the Communit...   \n",
       "46  Trust Everyone--But Brand Your Cattle: Finding...   \n",
       "\n",
       "                                        link  \\\n",
       "42    /newsevents/speech/powell20180620a.htm   \n",
       "43  /newsevents/speech/brainard20180531a.htm   \n",
       "44    /newsevents/speech/powell20180525a.htm   \n",
       "45  /newsevents/speech/brainard20180518a.htm   \n",
       "46   /newsevents/speech/quarles20180516a.htm   \n",
       "\n",
       "                                                 text  \n",
       "42  Nine years into an expansion that has sometime...  \n",
       "43  I appreciate the opportunity to join the Forec...  \n",
       "44  Thank you for inviting me here to celebrate th...  \n",
       "45  I want to thank Ben Dulchin and the Associatio...  \n",
       "46  Thank you to Professor Scott for inviting me t...  "
      ]
     },
     "execution_count": 30,
     "metadata": {},
     "output_type": "execute_result"
    }
   ],
   "source": [
    "df_test = create_speech_list(df, this_date, 10)\n",
    "df_test.tail()"
   ]
  },
  {
   "cell_type": "code",
   "execution_count": 31,
   "metadata": {},
   "outputs": [],
   "source": [
    "df_new = df.iloc[41]"
   ]
  },
  {
   "cell_type": "code",
   "execution_count": 16,
   "metadata": {},
   "outputs": [
    {
     "data": {
      "text/plain": [
       "<matplotlib.collections.PathCollection at 0x1199a14e0>"
      ]
     },
     "execution_count": 16,
     "metadata": {},
     "output_type": "execute_result"
    },
    {
     "data": {
      "image/png": "[encoded data removed]",
      "text/plain": [
       "<Figure size 432x288 with 1 Axes>"
      ]
     },
     "metadata": {
      "needs_background": "light"
     },
     "output_type": "display_data"
    }
   ],
   "source": [
    "## are my dates in line?\n",
    "temp = df['date']\n",
    "x = np.arange(len(temp))\n",
    "plt.scatter(x, temp)"
   ]
  },
  {
   "cell_type": "code",
   "execution_count": 15,
   "metadata": {},
   "outputs": [],
   "source": [
    "# sorting the dataframe and resetting the index\n",
    "df.sort_values(by=['date'], ascending=False, inplace=True)\n",
    "df.reset_index(drop=True, inplace=True)"
   ]
  },
  {
   "cell_type": "code",
   "execution_count": null,
   "metadata": {},
   "outputs": [],
   "source": []
  },
  {
   "cell_type": "code",
   "execution_count": null,
   "metadata": {},
   "outputs": [],
   "source": []
  },
  {
   "cell_type": "code",
   "execution_count": 32,
   "metadata": {},
   "outputs": [
    {
     "data": {
      "text/html": [
       "<div>\n",
       "<style scoped>\n",
       "    .dataframe tbody tr th:only-of-type {\n",
       "        vertical-align: middle;\n",
       "    }\n",
       "\n",
       "    .dataframe tbody tr th {\n",
       "        vertical-align: top;\n",
       "    }\n",
       "\n",
       "    .dataframe thead th {\n",
       "        text-align: right;\n",
       "    }\n",
       "</style>\n",
       "<table border=\"1\" class=\"dataframe\">\n",
       "  <thead>\n",
       "    <tr style=\"text-align: right;\">\n",
       "      <th></th>\n",
       "      <th>date</th>\n",
       "      <th>speaker</th>\n",
       "      <th>title</th>\n",
       "      <th>link</th>\n",
       "      <th>text</th>\n",
       "    </tr>\n",
       "  </thead>\n",
       "  <tbody>\n",
       "    <tr>\n",
       "      <th>42</th>\n",
       "      <td>2018-06-20</td>\n",
       "      <td>Chairman Jerome H. Powell</td>\n",
       "      <td>Monetary Policy at a Time of Uncertainty and T...</td>\n",
       "      <td>/newsevents/speech/powell20180620a.htm</td>\n",
       "      <td>Nine years into an expansion that has sometime...</td>\n",
       "    </tr>\n",
       "    <tr>\n",
       "      <th>43</th>\n",
       "      <td>2018-05-31</td>\n",
       "      <td>Governor Lael Brainard</td>\n",
       "      <td>Sustaining Full Employment and Inflation aroun...</td>\n",
       "      <td>/newsevents/speech/brainard20180531a.htm</td>\n",
       "      <td>I appreciate the opportunity to join the Forec...</td>\n",
       "    </tr>\n",
       "    <tr>\n",
       "      <th>44</th>\n",
       "      <td>2018-05-25</td>\n",
       "      <td>Chairman Jerome H. Powell</td>\n",
       "      <td>Financial Stability and Central Bank Transparency</td>\n",
       "      <td>/newsevents/speech/powell20180525a.htm</td>\n",
       "      <td>Thank you for inviting me here to celebrate th...</td>\n",
       "    </tr>\n",
       "    <tr>\n",
       "      <th>45</th>\n",
       "      <td>2018-05-18</td>\n",
       "      <td>Governor Lael Brainard</td>\n",
       "      <td>Keeping Community at the Heart of the Communit...</td>\n",
       "      <td>/newsevents/speech/brainard20180518a.htm</td>\n",
       "      <td>I want to thank Ben Dulchin and the Associatio...</td>\n",
       "    </tr>\n",
       "    <tr>\n",
       "      <th>46</th>\n",
       "      <td>2018-05-16</td>\n",
       "      <td>Vice Chairman for Supervision Randal K. Quarles</td>\n",
       "      <td>Trust Everyone--But Brand Your Cattle: Finding...</td>\n",
       "      <td>/newsevents/speech/quarles20180516a.htm</td>\n",
       "      <td>Thank you to Professor Scott for inviting me t...</td>\n",
       "    </tr>\n",
       "  </tbody>\n",
       "</table>\n",
       "</div>"
      ],
      "text/plain": [
       "         date                                          speaker  \\\n",
       "42 2018-06-20                        Chairman Jerome H. Powell   \n",
       "43 2018-05-31                           Governor Lael Brainard   \n",
       "44 2018-05-25                        Chairman Jerome H. Powell   \n",
       "45 2018-05-18                           Governor Lael Brainard   \n",
       "46 2018-05-16  Vice Chairman for Supervision Randal K. Quarles   \n",
       "\n",
       "                                                title  \\\n",
       "42  Monetary Policy at a Time of Uncertainty and T...   \n",
       "43  Sustaining Full Employment and Inflation aroun...   \n",
       "44  Financial Stability and Central Bank Transparency   \n",
       "45  Keeping Community at the Heart of the Communit...   \n",
       "46  Trust Everyone--But Brand Your Cattle: Finding...   \n",
       "\n",
       "                                        link  \\\n",
       "42    /newsevents/speech/powell20180620a.htm   \n",
       "43  /newsevents/speech/brainard20180531a.htm   \n",
       "44    /newsevents/speech/powell20180525a.htm   \n",
       "45  /newsevents/speech/brainard20180518a.htm   \n",
       "46   /newsevents/speech/quarles20180516a.htm   \n",
       "\n",
       "                                                 text  \n",
       "42  Nine years into an expansion that has sometime...  \n",
       "43  I appreciate the opportunity to join the Forec...  \n",
       "44  Thank you for inviting me here to celebrate th...  \n",
       "45  I want to thank Ben Dulchin and the Associatio...  \n",
       "46  Thank you to Professor Scott for inviting me t...  "
      ]
     },
     "execution_count": 32,
     "metadata": {},
     "output_type": "execute_result"
    }
   ],
   "source": [
    "df_test = create_speech_list(df, this_date, 10)\n",
    "df_test.tail()"
   ]
  },
  {
   "cell_type": "code",
   "execution_count": 33,
   "metadata": {},
   "outputs": [],
   "source": [
    "df_new = df.iloc[41]"
   ]
  },
  {
   "cell_type": "code",
   "execution_count": 34,
   "metadata": {},
   "outputs": [
    {
     "name": "stdout",
     "output_type": "stream",
     "text": [
      "10\n",
      "<class 'list'>\n"
     ]
    }
   ],
   "source": [
    "test_docs = list(df_test['text'])\n",
    "print(len(test_docs))\n",
    "print(type(test_docs))"
   ]
  },
  {
   "cell_type": "code",
   "execution_count": 39,
   "metadata": {},
   "outputs": [
    {
     "name": "stdout",
     "output_type": "stream",
     "text": [
      "<class 'str'>\n"
     ]
    }
   ],
   "source": [
    "one_text = df_new['text']\n",
    "print(type(one_text))"
   ]
  },
  {
   "cell_type": "code",
   "execution_count": 42,
   "metadata": {},
   "outputs": [],
   "source": [
    "tfidvect =TfidfVectorizer(lowercase=True, \n",
    "                          stop_words='english',\n",
    "                          max_features = 2000,\n",
    "                          norm = 'l2',\n",
    "                          use_idf = True,\n",
    "                          smooth_idf=True,\n",
    "                          sublinear_tf = False)\n",
    "tfidf_vectorized = tfidvect.fit_transform(test_docs).toarray()"
   ]
  },
  {
   "cell_type": "code",
   "execution_count": 43,
   "metadata": {},
   "outputs": [
    {
     "name": "stdout",
     "output_type": "stream",
     "text": [
      "1764\n"
     ]
    }
   ],
   "source": [
    "# checking stop words (which includes the cleared features from max_features)\n",
    "stops = tfidvect.stop_words_\n",
    "print(len(stops))"
   ]
  },
  {
   "cell_type": "code",
   "execution_count": 44,
   "metadata": {},
   "outputs": [
    {
     "name": "stdout",
     "output_type": "stream",
     "text": [
      "2000\n"
     ]
    }
   ],
   "source": [
    "# checking the vocabulary\n",
    "vocab = tfidvect.vocabulary_\n",
    "print(len(vocab))"
   ]
  },
  {
   "cell_type": "code",
   "execution_count": 49,
   "metadata": {},
   "outputs": [],
   "source": [
    "#print(vocab)"
   ]
  },
  {
   "cell_type": "code",
   "execution_count": 50,
   "metadata": {},
   "outputs": [
    {
     "data": {
      "text/plain": [
       "array([[0.00901629, 0.01030572, 0.        , 0.04555605, 0.00719893,\n",
       "        0.01030572, 0.01439787, 0.        , 0.00801612, 0.01030572],\n",
       "       [0.        , 0.01693255, 0.        , 0.01603922, 0.        ,\n",
       "        0.        , 0.        , 0.00846627, 0.00658534, 0.        ],\n",
       "       [0.        , 0.        , 0.        , 0.        , 0.        ,\n",
       "        0.        , 0.01208467, 0.        , 0.        , 0.        ],\n",
       "       [0.        , 0.        , 0.        , 0.        , 0.09970112,\n",
       "        0.        , 0.        , 0.        , 0.        , 0.        ],\n",
       "       [0.05350918, 0.        , 0.        , 0.00965581, 0.02136184,\n",
       "        0.        , 0.        , 0.        , 0.        , 0.        ],\n",
       "       [0.        , 0.        , 0.0488154 , 0.01310274, 0.        ,\n",
       "        0.        , 0.        , 0.        , 0.        , 0.        ],\n",
       "       [0.01053755, 0.        , 0.        , 0.09127281, 0.00841357,\n",
       "        0.        , 0.03365428, 0.01204455, 0.00936864, 0.01204455],\n",
       "       [0.        , 0.        , 0.        , 0.        , 0.        ,\n",
       "        0.        , 0.        , 0.        , 0.        , 0.        ],\n",
       "       [0.        , 0.        , 0.        , 0.02139504, 0.00591661,\n",
       "        0.00847   , 0.01183323, 0.        , 0.00658824, 0.        ],\n",
       "       [0.        , 0.        , 0.        , 0.        , 0.        ,\n",
       "        0.        , 0.00851853, 0.        , 0.        , 0.        ]])"
      ]
     },
     "execution_count": 50,
     "metadata": {},
     "output_type": "execute_result"
    }
   ],
   "source": [
    "tfidf_vectorized[0:10,0:10]"
   ]
  },
  {
   "cell_type": "code",
   "execution_count": 54,
   "metadata": {},
   "outputs": [
    {
     "name": "stdout",
     "output_type": "stream",
     "text": [
      "top 50 by average tf-idf\n",
      "['economies', 'better', 'threats', 'fallen', 'supporting', 'stars', 'tend', 'little', 'legislation', 'subsidiary', 'forum', 'text6', 'hogue', 'stringency', 'assisted', 'reporting', 'held', 'look', 'söderström', '30', 'prices', 'flexibility', 'remaining', 'questions', 'position', 'global', 'economy', 'ability', 'roundtable', 'age', 'evaluated', 'symposium', 'important', 'hole', 'exceed', 'data', 'frederic', 'maintain', 'fund', 'president', 'complex', 'originally', '20', 'impose', '28', '1967', 'boost', 'factor', 'additionally', 'remarks']\n"
     ]
    }
   ],
   "source": [
    "          # finding average tf-idf score in the vocabulary\n",
    "avg = np.sum(tfidf_vectorized, axis=0) / np.sum(tfidf_vectorized > 0, axis=0)\n",
    "print(\"top 50 by average tf-idf\")\n",
    "l_avg = list(avg)\n",
    "v_words = list(vocab.keys())\n",
    "print(get_top_values(l_avg, 50, v_words))  "
   ]
  },
  {
   "cell_type": "code",
   "execution_count": 55,
   "metadata": {},
   "outputs": [
    {
     "name": "stdout",
     "output_type": "stream",
     "text": [
      "top 10 by total tf-idf\n",
      "['stringency', 'tend', 'symposium', '39', 'remained', 'clearly', 'evaluated', 'economies', 'impose', '1967', 'hole', 'contracts', 'better', 'flexibility', 'priority', 'proxy', 'markets', 'resiliency', 'little', 'valley', 'position', 'reporting', 'strength', 'broad', 'subsidiary', 'söderström', 'exceed', 'frederic', 'systemic', 'fund', 'text6', 'calif', 'shift', 'doing', 'revealed', 'mechanisms', 'fallen', 'threats', 'ihc', 'recovered', 'provides', '28', 'remarks', 'delivered', 'absorb', 'success', 'ability', 'discuss', 'increases', 'creation']\n"
     ]
    }
   ],
   "source": [
    "# finding total tf-idf scrore\n",
    "total = np.sum(tfidf_vectorized, axis=0)\n",
    "print(\"top 10 by total tf-idf\")\n",
    "print(get_top_values(total, 50, v_words))\n"
   ]
  },
  {
   "cell_type": "code",
   "execution_count": 56,
   "metadata": {},
   "outputs": [
    {
     "name": "stdout",
     "output_type": "stream",
     "text": [
      "Here is the length of the new vocab:  2000\n",
      "top 10 by tf across all corpus\n",
      "['euro', 'costs', 'generate', 'innovations', 'text7', 'boost', 'good', 'kiley', 'between', 'emphasize', 'regulatory', 'keep', 'separate', 'deserts', 'directly', 'spillovers', 'chen', 'richmond', 'standard', 'means', 'played', 'normal', 'product', 'remained', 'thomas', 'slack', 'forecasts', 'prepositioning', 'approaches', 'through', 'systemic', '2001', 'position', 'size', 'paper', 'monitoring', 'considering', 'presence', '1965', 'commentary', 'country', 'oil', 'instrument', 'lei', '1998', 'make', 'salt', 'applying', 'securities', 'either']\n"
     ]
    }
   ],
   "source": [
    "# HIGHEST tfidf across corpus\n",
    "# redo vectorization without using idf\n",
    "vectorizer2 = TfidfVectorizer(use_idf=False, max_features=2000)\n",
    "# make documents into one giant document for this purpose\n",
    "vectors2 = vectorizer2.fit_transform([\"\\n\".join(test_docs)]).toarray()\n",
    "\n",
    "vocab2 = vectorizer2.vocabulary_\n",
    "words = list(vocab2.keys())\n",
    "print(\"Here is the length of the new vocab: \", len(vocab2))\n",
    "print(\"top 10 by tf across all corpus\")\n",
    "print(get_top_values(vectors2[0], 50, words))\n"
   ]
  },
  {
   "cell_type": "code",
   "execution_count": 59,
   "metadata": {},
   "outputs": [],
   "source": [
    "new_tokens = tfidvect.transform([one_text]) #note needed the [] for one document"
   ]
  },
  {
   "cell_type": "code",
   "execution_count": 65,
   "metadata": {},
   "outputs": [],
   "source": [
    "from sklearn.metrics.pairwise import linear_kernel\n",
    "cosine_sims = linear_kernel(new_tokens, tfidf_vectorized)\n"
   ]
  },
  {
   "cell_type": "code",
   "execution_count": 73,
   "metadata": {},
   "outputs": [
    {
     "name": "stdout",
     "output_type": "stream",
     "text": [
      "The last speech has an average cosine sim of the last 10 speeches of:  0.284802968553296\n",
      "The last speech had a cosine sim relative to prior speech of:  0.1421336102082461\n"
     ]
    }
   ],
   "source": [
    "cosine_sims\n",
    "avg_cos =np.mean(cosine_sims)\n",
    "last_cos = cosine_sims[0][0]\n",
    "print('The last speech has an average cosine sim of the last 10 speeches of: ', avg_cos)\n",
    "print('The last speech had a cosine sim relative to prior speech of: ', last_cos)"
   ]
  },
  {
   "cell_type": "code",
   "execution_count": 72,
   "metadata": {},
   "outputs": [
    {
     "data": {
      "text/plain": [
       "0.1421336102082461"
      ]
     },
     "execution_count": 72,
     "metadata": {},
     "output_type": "execute_result"
    }
   ],
   "source": [
    "cosine_sims[0][0]"
   ]
  },
  {
   "cell_type": "code",
   "execution_count": 78,
   "metadata": {},
   "outputs": [],
   "source": [
    "all_dates = df['date'].unique()\n"
   ]
  },
  {
   "cell_type": "code",
   "execution_count": 79,
   "metadata": {},
   "outputs": [
    {
     "data": {
      "text/plain": [
       "642"
      ]
     },
     "execution_count": 79,
     "metadata": {},
     "output_type": "execute_result"
    }
   ],
   "source": [
    "len(all_dates)"
   ]
  },
  {
   "cell_type": "code",
   "execution_count": 81,
   "metadata": {},
   "outputs": [],
   "source": [
    "vc_dates =df['date'].value_counts()"
   ]
  },
  {
   "cell_type": "code",
   "execution_count": 82,
   "metadata": {},
   "outputs": [
    {
     "data": {
      "text/plain": [
       "2010-04-08    4\n",
       "2006-05-16    3\n",
       "2017-03-03    3\n",
       "2018-12-03    3\n",
       "2006-06-12    3\n",
       "2016-02-26    2\n",
       "2008-05-29    2\n",
       "2006-06-16    2\n",
       "2010-09-24    2\n",
       "2006-10-04    2\n",
       "2008-12-08    2\n",
       "2016-03-07    2\n",
       "2013-04-04    2\n",
       "2019-02-22    2\n",
       "2006-12-01    2\n",
       "2013-02-22    2\n",
       "2007-10-05    2\n",
       "2017-07-06    2\n",
       "2015-04-02    2\n",
       "2013-03-04    2\n",
       "2007-03-05    2\n",
       "2010-11-12    2\n",
       "2015-12-02    2\n",
       "2008-03-07    2\n",
       "2013-10-18    2\n",
       "2018-02-26    2\n",
       "2013-06-02    2\n",
       "2009-10-23    2\n",
       "2008-03-04    2\n",
       "2008-12-04    2\n",
       "             ..\n",
       "2019-03-12    1\n",
       "2018-01-19    1\n",
       "2007-01-11    1\n",
       "2008-12-01    1\n",
       "2007-10-11    1\n",
       "2011-05-16    1\n",
       "2006-09-01    1\n",
       "2008-04-14    1\n",
       "2017-10-04    1\n",
       "2007-04-25    1\n",
       "2016-10-14    1\n",
       "2016-05-26    1\n",
       "2011-06-07    1\n",
       "2008-02-15    1\n",
       "2010-10-25    1\n",
       "2015-11-05    1\n",
       "2008-06-26    1\n",
       "2018-04-19    1\n",
       "2018-06-20    1\n",
       "2008-03-11    1\n",
       "2013-02-05    1\n",
       "2007-05-23    1\n",
       "2013-10-11    1\n",
       "2019-02-23    1\n",
       "2016-11-11    1\n",
       "2018-03-05    1\n",
       "2007-09-24    1\n",
       "2011-04-29    1\n",
       "2014-12-02    1\n",
       "2007-05-01    1\n",
       "Name: date, Length: 642, dtype: int64"
      ]
     },
     "execution_count": 82,
     "metadata": {},
     "output_type": "execute_result"
    }
   ],
   "source": [
    "vc_dates"
   ]
  },
  {
   "cell_type": "code",
   "execution_count": 84,
   "metadata": {},
   "outputs": [
    {
     "data": {
      "text/plain": [
       "Welcoming Remarks                                                                            16\n",
       "Opening Remarks                                                                              13\n",
       "Brief Remarks                                                                                10\n",
       "The Economic Outlook                                                                          9\n",
       "The Economic Outlook and Monetary Policy                                                      4\n",
       "Remarks                                                                                       4\n",
       "The U.S. Economic Outlook                                                                     3\n",
       "Outlook and Risks for the U.S. Economy                                                        3\n",
       "Introductory Remarks                                                                          3\n",
       "The Federal Reserve and the Global Economy                                                    2\n",
       "The Fire-Sales Problem and Securities Financing Transactions                                  2\n",
       "Globalization and Financial Development                                                       2\n",
       "Remarks at the Ceremonial Swearing-in                                                         2\n",
       "From Community Banker to Central Banker--My Journey                                           2\n",
       "Reflections on a Year of Crisis                                                               2\n",
       "Why Are Yield Curves So Flat and Long Rates So Low Globally?                                  2\n",
       "Commencement address                                                                          2\n",
       "Celebrating Excellence in Community Development                                               2\n",
       "The U.S. Economy and Monetary Policy                                                          2\n",
       "Liquidity Provision by the Federal Reserve                                                    2\n",
       "Community Banking                                                                             2\n",
       "Enterprise Risk Management and Mortgage Lending                                               2\n",
       "Economic Outlook                                                                              2\n",
       "Welcoming remarks                                                                             2\n",
       "Monetary Policy and Financial Stability                                                       2\n",
       "Commencement Remarks                                                                          2\n",
       "Cross-Border Spillovers of Balance Sheet Normalization                                        2\n",
       "Housing Markets in Transition                                                                 1\n",
       " Increasing Economic Opportunity: Challenges and Strategies                                   1\n",
       "Confronting Too Big to Fail                                                                   1\n",
       "                                                                                             ..\n",
       "The Future of the Federal Reserve's Balance Sheet                                             1\n",
       "The Importance of the Nonbank Financial Sector                                                1\n",
       "Thoughts on Prudent Innovation in the Payment System                                          1\n",
       "The Crisis and the Policy Response                                                            1\n",
       "The Community Reinvestment Act and the Recent Mortgage Crisis                                 1\n",
       "Small Businesses and the Recovery                                                             1\n",
       "Monetary Policy and the Dual Mandate                                                          1\n",
       "Global Imbalances:  Recent Developments and Prospects                                         1\n",
       "Financial Regulation and the Invisible Hand                                                   1\n",
       "(Money), Interest and Prices: Patinkin and Woodford                                           1\n",
       "Current Economic and Financial Conditions                                                     1\n",
       "Aggregate Demand and the Global Economic Recovery                                             1\n",
       "Addressing Long-Term Vacant Properties to Support Neighborhood Stabilization                  1\n",
       "Transitions in the Outlook and Monetary Policy                                                1\n",
       "Normalizing Monetary Policy:  Prospects and Perspectives                                      1\n",
       "Reflections on Macroeconomics Then and Now                                                    1\n",
       "Unemployment, the Labor Market, and the Economy                                               1\n",
       "Inflation Dynamics                                                                            1\n",
       "The Continuous Challenges of Risk Management                                                  1\n",
       "Four Questions about the Financial Crisis                                                     1\n",
       "The Importance of Financial Education and the National Jump$tart Coalition Survey             1\n",
       "Emerging from the Crisis: Where Do We Stand?                                                  1\n",
       "Low Interest Rates and the Financial System                                                   1\n",
       "What the Federal Reserve Is Doing to Promote a Stronger Job Market                            1\n",
       "Comments on Housing and Mortgage Markets                                                      1\n",
       "The Housing Market and Subprime Lending                                                       1\n",
       "Unusual and Exigent: My First Year at the Fed                                                 1\n",
       "The U.S. Economy after the Global Financial Crisis                                            1\n",
       "Panel Discussion on \"Monetary Policy: Many Targets, Many Instruments. Where Do We Stand?\"     1\n",
       "Perspectives on Inequality and Opportunity from the Survey of Consumer Finances               1\n",
       "Name: title, Length: 659, dtype: int64"
      ]
     },
     "execution_count": 84,
     "metadata": {},
     "output_type": "execute_result"
    }
   ],
   "source": []
  },
  {
   "cell_type": "code",
   "execution_count": 113,
   "metadata": {},
   "outputs": [],
   "source": [
    "unique_dates = df['date'].unique()"
   ]
  },
  {
   "cell_type": "code",
   "execution_count": 114,
   "metadata": {},
   "outputs": [
    {
     "data": {
      "text/plain": [
       "642"
      ]
     },
     "execution_count": 114,
     "metadata": {},
     "output_type": "execute_result"
    }
   ],
   "source": [
    "len(unique_dates)"
   ]
  },
  {
   "cell_type": "code",
   "execution_count": 119,
   "metadata": {},
   "outputs": [],
   "source": [
    "b = np.sort(unique_dates)"
   ]
  },
  {
   "cell_type": "code",
   "execution_count": null,
   "metadata": {},
   "outputs": [],
   "source": []
  },
  {
   "cell_type": "code",
   "execution_count": 126,
   "metadata": {},
   "outputs": [
    {
     "data": {
      "text/plain": [
       "Timestamp('2006-02-24 00:00:00')"
      ]
     },
     "execution_count": 126,
     "metadata": {},
     "output_type": "execute_result"
    }
   ],
   "source": [
    "n_speeches = 5\n",
    "first_date = df['date'].iloc[-n_speeches]\n",
    "first_date"
   ]
  },
  {
   "cell_type": "code",
   "execution_count": 127,
   "metadata": {},
   "outputs": [
    {
     "data": {
      "text/html": [
       "<div>\n",
       "<style scoped>\n",
       "    .dataframe tbody tr th:only-of-type {\n",
       "        vertical-align: middle;\n",
       "    }\n",
       "\n",
       "    .dataframe tbody tr th {\n",
       "        vertical-align: top;\n",
       "    }\n",
       "\n",
       "    .dataframe thead th {\n",
       "        text-align: right;\n",
       "    }\n",
       "</style>\n",
       "<table border=\"1\" class=\"dataframe\">\n",
       "  <thead>\n",
       "    <tr style=\"text-align: right;\">\n",
       "      <th></th>\n",
       "      <th>date</th>\n",
       "      <th>speaker</th>\n",
       "      <th>title</th>\n",
       "      <th>link</th>\n",
       "      <th>text</th>\n",
       "    </tr>\n",
       "  </thead>\n",
       "  <tbody>\n",
       "    <tr>\n",
       "      <th>728</th>\n",
       "      <td>2006-02-24</td>\n",
       "      <td>Vice Chairman Roger W. Ferguson, Jr.</td>\n",
       "      <td>The Importance of Education</td>\n",
       "      <td>/newsevents/speech/ferguson20060224a.htm</td>\n",
       "      <td>I am pleased to have the opportunity to be par...</td>\n",
       "    </tr>\n",
       "    <tr>\n",
       "      <th>729</th>\n",
       "      <td>2006-02-23</td>\n",
       "      <td>Vice Chairman Roger W. Ferguson, Jr.</td>\n",
       "      <td>Globalization, Insurers, and Regulators: Share...</td>\n",
       "      <td>/newsevents/speech/ferguson20060223a.htm</td>\n",
       "      <td>I am honored to deliver the keynote address at...</td>\n",
       "    </tr>\n",
       "    <tr>\n",
       "      <th>730</th>\n",
       "      <td>2006-02-06</td>\n",
       "      <td>Chairman Ben S. Bernanke</td>\n",
       "      <td>Remarks at ceremonial swearing-in by President...</td>\n",
       "      <td>/newsevents/speech/bernanke20060206a.htm</td>\n",
       "      <td>Good morning.I would like to begin by thanking...</td>\n",
       "    </tr>\n",
       "    <tr>\n",
       "      <th>731</th>\n",
       "      <td>2006-02-02</td>\n",
       "      <td>Governor Susan Schmidt Bies</td>\n",
       "      <td>The Continuous Challenges of Risk Management</td>\n",
       "      <td>/newsevents/speech/bies20060202a.htm</td>\n",
       "      <td>I thank you for the invitation to speak today....</td>\n",
       "    </tr>\n",
       "    <tr>\n",
       "      <th>732</th>\n",
       "      <td>2006-01-18</td>\n",
       "      <td>Governor Susan Schmidt Bies</td>\n",
       "      <td>Productivity and Economic Outlook</td>\n",
       "      <td>/newsevents/speech/bies20060118a.htm</td>\n",
       "      <td>I appreciate the opportunity to speak with you...</td>\n",
       "    </tr>\n",
       "  </tbody>\n",
       "</table>\n",
       "</div>"
      ],
      "text/plain": [
       "          date                               speaker  \\\n",
       "728 2006-02-24  Vice Chairman Roger W. Ferguson, Jr.   \n",
       "729 2006-02-23  Vice Chairman Roger W. Ferguson, Jr.   \n",
       "730 2006-02-06              Chairman Ben S. Bernanke   \n",
       "731 2006-02-02           Governor Susan Schmidt Bies   \n",
       "732 2006-01-18           Governor Susan Schmidt Bies   \n",
       "\n",
       "                                                 title  \\\n",
       "728                        The Importance of Education   \n",
       "729  Globalization, Insurers, and Regulators: Share...   \n",
       "730  Remarks at ceremonial swearing-in by President...   \n",
       "731       The Continuous Challenges of Risk Management   \n",
       "732                  Productivity and Economic Outlook   \n",
       "\n",
       "                                         link  \\\n",
       "728  /newsevents/speech/ferguson20060224a.htm   \n",
       "729  /newsevents/speech/ferguson20060223a.htm   \n",
       "730  /newsevents/speech/bernanke20060206a.htm   \n",
       "731      /newsevents/speech/bies20060202a.htm   \n",
       "732      /newsevents/speech/bies20060118a.htm   \n",
       "\n",
       "                                                  text  \n",
       "728  I am pleased to have the opportunity to be par...  \n",
       "729  I am honored to deliver the keynote address at...  \n",
       "730  Good morning.I would like to begin by thanking...  \n",
       "731  I thank you for the invitation to speak today....  \n",
       "732  I appreciate the opportunity to speak with you...  "
      ]
     },
     "execution_count": 127,
     "metadata": {},
     "output_type": "execute_result"
    }
   ],
   "source": [
    "df.tail()"
   ]
  },
  {
   "cell_type": "code",
   "execution_count": 128,
   "metadata": {},
   "outputs": [
    {
     "name": "stdout",
     "output_type": "stream",
     "text": [
      "<class 'numpy.ndarray'>\n"
     ]
    }
   ],
   "source": [
    "print(type(unique_dates))"
   ]
  },
  {
   "cell_type": "code",
   "execution_count": 136,
   "metadata": {},
   "outputs": [
    {
     "name": "stdout",
     "output_type": "stream",
     "text": [
      "2006-02-24 00:00:00\n",
      "<class 'pandas._libs.tslibs.timestamps.Timestamp'>\n"
     ]
    }
   ],
   "source": [
    "first_date = df['date'].iloc[-n_speeches]\n",
    "print(first_date)\n",
    "print(type(first_date))"
   ]
  },
  {
   "cell_type": "code",
   "execution_count": 133,
   "metadata": {},
   "outputs": [
    {
     "data": {
      "text/plain": [
       "array(['2006-01-18T00:00:00.000000000', '2006-02-02T00:00:00.000000000',\n",
       "       '2006-02-06T00:00:00.000000000', '2006-02-23T00:00:00.000000000',\n",
       "       '2006-02-24T00:00:00.000000000', '2006-03-03T00:00:00.000000000',\n",
       "       '2006-03-08T00:00:00.000000000', '2006-03-10T00:00:00.000000000',\n",
       "       '2006-03-13T00:00:00.000000000', '2006-03-16T00:00:00.000000000',\n",
       "       '2006-03-20T00:00:00.000000000', '2006-03-29T00:00:00.000000000',\n",
       "       '2006-03-31T00:00:00.000000000', '2006-04-03T00:00:00.000000000',\n",
       "       '2006-04-05T00:00:00.000000000', '2006-04-06T00:00:00.000000000',\n",
       "       '2006-04-10T00:00:00.000000000', '2006-04-13T00:00:00.000000000',\n",
       "       '2006-04-17T00:00:00.000000000', '2006-04-20T00:00:00.000000000',\n",
       "       '2006-04-27T00:00:00.000000000', '2006-04-28T00:00:00.000000000',\n",
       "       '2006-05-03T00:00:00.000000000', '2006-05-04T00:00:00.000000000',\n",
       "       '2006-05-11T00:00:00.000000000', '2006-05-16T00:00:00.000000000',\n",
       "       '2006-05-18T00:00:00.000000000', '2006-05-24T00:00:00.000000000',\n",
       "       '2006-05-25T00:00:00.000000000', '2006-06-05T00:00:00.000000000',\n",
       "       '2006-06-06T00:00:00.000000000', '2006-06-09T00:00:00.000000000',\n",
       "       '2006-06-12T00:00:00.000000000', '2006-06-13T00:00:00.000000000',\n",
       "       '2006-06-14T00:00:00.000000000', '2006-06-15T00:00:00.000000000',\n",
       "       '2006-06-16T00:00:00.000000000', '2006-07-04T00:00:00.000000000',\n",
       "       '2006-07-06T00:00:00.000000000', '2006-07-18T00:00:00.000000000',\n",
       "       '2006-08-25T00:00:00.000000000', '2006-08-31T00:00:00.000000000',\n",
       "       '2006-09-01T00:00:00.000000000', '2006-09-11T00:00:00.000000000',\n",
       "       '2006-09-27T00:00:00.000000000', '2006-10-04T00:00:00.000000000',\n",
       "       '2006-10-11T00:00:00.000000000', '2006-10-12T00:00:00.000000000',\n",
       "       '2006-10-16T00:00:00.000000000', '2006-10-17T00:00:00.000000000',\n",
       "       '2006-11-01T00:00:00.000000000', '2006-11-02T00:00:00.000000000',\n",
       "       '2006-11-03T00:00:00.000000000', '2006-11-10T00:00:00.000000000',\n",
       "       '2006-11-16T00:00:00.000000000', '2006-11-21T00:00:00.000000000',\n",
       "       '2006-11-28T00:00:00.000000000', '2006-11-30T00:00:00.000000000',\n",
       "       '2006-12-01T00:00:00.000000000', '2006-12-15T00:00:00.000000000',\n",
       "       '2007-01-05T00:00:00.000000000', '2007-01-08T00:00:00.000000000',\n",
       "       '2007-01-11T00:00:00.000000000', '2007-01-17T00:00:00.000000000',\n",
       "       '2007-01-18T00:00:00.000000000', '2007-02-06T00:00:00.000000000',\n",
       "       '2007-02-21T00:00:00.000000000', '2007-02-26T00:00:00.000000000',\n",
       "       '2007-03-02T00:00:00.000000000', '2007-03-05T00:00:00.000000000',\n",
       "       '2007-03-06T00:00:00.000000000', '2007-03-09T00:00:00.000000000',\n",
       "       '2007-03-12T00:00:00.000000000', '2007-03-22T00:00:00.000000000',\n",
       "       '2007-03-23T00:00:00.000000000', '2007-03-30T00:00:00.000000000',\n",
       "       '2007-04-10T00:00:00.000000000', '2007-04-11T00:00:00.000000000',\n",
       "       '2007-04-20T00:00:00.000000000', '2007-04-25T00:00:00.000000000',\n",
       "       '2007-04-26T00:00:00.000000000', '2007-05-01T00:00:00.000000000',\n",
       "       '2007-05-10T00:00:00.000000000', '2007-05-15T00:00:00.000000000',\n",
       "       '2007-05-16T00:00:00.000000000', '2007-05-17T00:00:00.000000000',\n",
       "       '2007-05-22T00:00:00.000000000', '2007-05-23T00:00:00.000000000',\n",
       "       '2007-05-24T00:00:00.000000000', '2007-06-01T00:00:00.000000000',\n",
       "       '2007-06-05T00:00:00.000000000', '2007-06-14T00:00:00.000000000',\n",
       "       '2007-06-15T00:00:00.000000000', '2007-06-23T00:00:00.000000000',\n",
       "       '2007-07-10T00:00:00.000000000', '2007-07-12T00:00:00.000000000',\n",
       "       '2007-08-01T00:00:00.000000000', '2007-08-31T00:00:00.000000000',\n",
       "       '2007-09-06T00:00:00.000000000', '2007-09-10T00:00:00.000000000',\n",
       "       '2007-09-11T00:00:00.000000000', '2007-09-21T00:00:00.000000000',\n",
       "       '2007-09-24T00:00:00.000000000', '2007-09-27T00:00:00.000000000',\n",
       "       '2007-09-28T00:00:00.000000000', '2007-10-05T00:00:00.000000000',\n",
       "       '2007-10-11T00:00:00.000000000', '2007-10-12T00:00:00.000000000',\n",
       "       '2007-10-15T00:00:00.000000000', '2007-10-19T00:00:00.000000000',\n",
       "       '2007-10-20T00:00:00.000000000', '2007-10-22T00:00:00.000000000',\n",
       "       '2007-10-26T00:00:00.000000000', '2007-11-05T00:00:00.000000000',\n",
       "       '2007-11-06T00:00:00.000000000', '2007-11-07T00:00:00.000000000',\n",
       "       '2007-11-13T00:00:00.000000000', '2007-11-14T00:00:00.000000000',\n",
       "       '2007-11-16T00:00:00.000000000', '2007-11-28T00:00:00.000000000',\n",
       "       '2007-11-29T00:00:00.000000000', '2007-11-30T00:00:00.000000000',\n",
       "       '2008-01-04T00:00:00.000000000', '2008-01-05T00:00:00.000000000',\n",
       "       '2008-01-10T00:00:00.000000000', '2008-01-11T00:00:00.000000000',\n",
       "       '2008-02-04T00:00:00.000000000', '2008-02-15T00:00:00.000000000',\n",
       "       '2008-02-25T00:00:00.000000000', '2008-02-26T00:00:00.000000000',\n",
       "       '2008-02-27T00:00:00.000000000', '2008-02-29T00:00:00.000000000',\n",
       "       '2008-03-03T00:00:00.000000000', '2008-03-04T00:00:00.000000000',\n",
       "       '2008-03-07T00:00:00.000000000', '2008-03-11T00:00:00.000000000',\n",
       "       '2008-03-14T00:00:00.000000000', '2008-03-27T00:00:00.000000000',\n",
       "       '2008-04-03T00:00:00.000000000', '2008-04-04T00:00:00.000000000',\n",
       "       '2008-04-07T00:00:00.000000000', '2008-04-09T00:00:00.000000000',\n",
       "       '2008-04-10T00:00:00.000000000', '2008-04-14T00:00:00.000000000',\n",
       "       '2008-04-17T00:00:00.000000000', '2008-04-21T00:00:00.000000000',\n",
       "       '2008-05-05T00:00:00.000000000', '2008-05-07T00:00:00.000000000',\n",
       "       '2008-05-13T00:00:00.000000000', '2008-05-14T00:00:00.000000000',\n",
       "       '2008-05-15T00:00:00.000000000', '2008-05-20T00:00:00.000000000',\n",
       "       '2008-05-21T00:00:00.000000000', '2008-05-22T00:00:00.000000000',\n",
       "       '2008-05-29T00:00:00.000000000', '2008-06-03T00:00:00.000000000',\n",
       "       '2008-06-04T00:00:00.000000000', '2008-06-06T00:00:00.000000000',\n",
       "       '2008-06-09T00:00:00.000000000', '2008-06-11T00:00:00.000000000',\n",
       "       '2008-06-12T00:00:00.000000000', '2008-06-16T00:00:00.000000000',\n",
       "       '2008-06-26T00:00:00.000000000', '2008-07-02T00:00:00.000000000',\n",
       "       '2008-07-08T00:00:00.000000000', '2008-07-17T00:00:00.000000000',\n",
       "       '2008-07-28T00:00:00.000000000', '2008-08-22T00:00:00.000000000',\n",
       "       '2008-09-01T00:00:00.000000000', '2008-09-09T00:00:00.000000000',\n",
       "       '2008-09-11T00:00:00.000000000', '2008-10-07T00:00:00.000000000',\n",
       "       '2008-10-14T00:00:00.000000000', '2008-10-15T00:00:00.000000000',\n",
       "       '2008-10-20T00:00:00.000000000', '2008-10-31T00:00:00.000000000',\n",
       "       '2008-11-06T00:00:00.000000000', '2008-11-12T00:00:00.000000000',\n",
       "       '2008-11-14T00:00:00.000000000', '2008-11-19T00:00:00.000000000',\n",
       "       '2008-12-01T00:00:00.000000000', '2008-12-03T00:00:00.000000000',\n",
       "       '2008-12-04T00:00:00.000000000', '2008-12-08T00:00:00.000000000',\n",
       "       '2009-01-13T00:00:00.000000000', '2009-02-11T00:00:00.000000000',\n",
       "       '2009-02-16T00:00:00.000000000', '2009-02-18T00:00:00.000000000',\n",
       "       '2009-02-24T00:00:00.000000000', '2009-03-07T00:00:00.000000000',\n",
       "       '2009-03-10T00:00:00.000000000', '2009-03-20T00:00:00.000000000',\n",
       "       '2009-03-30T00:00:00.000000000', '2009-04-03T00:00:00.000000000',\n",
       "       '2009-04-06T00:00:00.000000000', '2009-04-14T00:00:00.000000000',\n",
       "       '2009-04-17T00:00:00.000000000', '2009-04-18T00:00:00.000000000',\n",
       "       '2009-04-20T00:00:00.000000000', '2009-05-07T00:00:00.000000000',\n",
       "       '2009-05-11T00:00:00.000000000', '2009-05-22T00:00:00.000000000',\n",
       "       '2009-05-23T00:00:00.000000000', '2009-06-04T00:00:00.000000000',\n",
       "       '2009-06-08T00:00:00.000000000', '2009-06-10T00:00:00.000000000',\n",
       "       '2009-06-15T00:00:00.000000000', '2009-06-16T00:00:00.000000000',\n",
       "       '2009-06-17T00:00:00.000000000', '2009-06-26T00:00:00.000000000',\n",
       "       '2009-07-09T00:00:00.000000000', '2009-07-10T00:00:00.000000000',\n",
       "       '2009-08-21T00:00:00.000000000', '2009-08-25T00:00:00.000000000',\n",
       "       '2009-09-10T00:00:00.000000000', '2009-09-14T00:00:00.000000000',\n",
       "       '2009-09-15T00:00:00.000000000', '2009-09-25T00:00:00.000000000',\n",
       "       '2009-09-30T00:00:00.000000000', '2009-10-08T00:00:00.000000000',\n",
       "       '2009-10-09T00:00:00.000000000', '2009-10-13T00:00:00.000000000',\n",
       "       '2009-10-19T00:00:00.000000000', '2009-10-21T00:00:00.000000000',\n",
       "       '2009-10-23T00:00:00.000000000', '2009-11-02T00:00:00.000000000',\n",
       "       '2009-11-09T00:00:00.000000000', '2009-11-10T00:00:00.000000000',\n",
       "       '2009-11-16T00:00:00.000000000', '2009-12-07T00:00:00.000000000',\n",
       "       '2009-12-09T00:00:00.000000000', '2009-12-10T00:00:00.000000000',\n",
       "       '2010-01-03T00:00:00.000000000', '2010-01-04T00:00:00.000000000',\n",
       "       '2010-01-29T00:00:00.000000000', '2010-02-03T00:00:00.000000000',\n",
       "       '2010-02-18T00:00:00.000000000', '2010-02-26T00:00:00.000000000',\n",
       "       '2010-03-18T00:00:00.000000000', '2010-03-20T00:00:00.000000000',\n",
       "       '2010-03-24T00:00:00.000000000', '2010-03-26T00:00:00.000000000',\n",
       "       '2010-03-31T00:00:00.000000000', '2010-04-07T00:00:00.000000000',\n",
       "       '2010-04-08T00:00:00.000000000', '2010-04-13T00:00:00.000000000',\n",
       "       '2010-04-19T00:00:00.000000000', '2010-04-21T00:00:00.000000000',\n",
       "       '2010-04-27T00:00:00.000000000', '2010-05-01T00:00:00.000000000',\n",
       "       '2010-05-06T00:00:00.000000000', '2010-05-08T00:00:00.000000000',\n",
       "       '2010-05-11T00:00:00.000000000', '2010-05-13T00:00:00.000000000',\n",
       "       '2010-05-25T00:00:00.000000000', '2010-05-30T00:00:00.000000000',\n",
       "       '2010-06-03T00:00:00.000000000', '2010-06-08T00:00:00.000000000',\n",
       "       '2010-06-09T00:00:00.000000000', '2010-06-16T00:00:00.000000000',\n",
       "       '2010-06-28T00:00:00.000000000', '2010-06-30T00:00:00.000000000',\n",
       "       '2010-07-12T00:00:00.000000000', '2010-07-15T00:00:00.000000000',\n",
       "       '2010-08-02T00:00:00.000000000', '2010-08-27T00:00:00.000000000',\n",
       "       '2010-09-01T00:00:00.000000000', '2010-09-17T00:00:00.000000000',\n",
       "       '2010-09-24T00:00:00.000000000', '2010-09-30T00:00:00.000000000',\n",
       "       '2010-10-04T00:00:00.000000000', '2010-10-11T00:00:00.000000000',\n",
       "       '2010-10-15T00:00:00.000000000', '2010-10-19T00:00:00.000000000',\n",
       "       '2010-10-25T00:00:00.000000000', '2010-11-08T00:00:00.000000000',\n",
       "       '2010-11-12T00:00:00.000000000', '2010-11-19T00:00:00.000000000',\n",
       "       '2010-12-01T00:00:00.000000000', '2010-12-02T00:00:00.000000000',\n",
       "       '2011-01-07T00:00:00.000000000', '2011-01-08T00:00:00.000000000',\n",
       "       '2011-02-02T00:00:00.000000000', '2011-02-03T00:00:00.000000000',\n",
       "       '2011-02-11T00:00:00.000000000', '2011-02-18T00:00:00.000000000',\n",
       "       '2011-02-25T00:00:00.000000000', '2011-03-02T00:00:00.000000000',\n",
       "       '2011-03-04T00:00:00.000000000', '2011-03-23T00:00:00.000000000',\n",
       "       '2011-03-24T00:00:00.000000000', '2011-03-31T00:00:00.000000000',\n",
       "       '2011-04-04T00:00:00.000000000', '2011-04-07T00:00:00.000000000',\n",
       "       '2011-04-11T00:00:00.000000000', '2011-04-14T00:00:00.000000000',\n",
       "       '2011-04-28T00:00:00.000000000', '2011-04-29T00:00:00.000000000',\n",
       "       '2011-05-05T00:00:00.000000000', '2011-05-06T00:00:00.000000000',\n",
       "       '2011-05-10T00:00:00.000000000', '2011-05-12T00:00:00.000000000',\n",
       "       '2011-05-16T00:00:00.000000000', '2011-05-24T00:00:00.000000000',\n",
       "       '2011-06-01T00:00:00.000000000', '2011-06-03T00:00:00.000000000',\n",
       "       '2011-06-07T00:00:00.000000000', '2011-06-09T00:00:00.000000000',\n",
       "       '2011-06-14T00:00:00.000000000', '2011-06-29T00:00:00.000000000',\n",
       "       '2011-08-26T00:00:00.000000000', '2011-09-01T00:00:00.000000000',\n",
       "       '2011-09-08T00:00:00.000000000', '2011-09-15T00:00:00.000000000',\n",
       "       '2011-09-26T00:00:00.000000000', '2011-09-28T00:00:00.000000000',\n",
       "       '2011-10-04T00:00:00.000000000', '2011-10-18T00:00:00.000000000',\n",
       "       '2011-10-20T00:00:00.000000000', '2011-10-21T00:00:00.000000000',\n",
       "       '2011-10-22T00:00:00.000000000', '2011-11-04T00:00:00.000000000',\n",
       "       '2011-11-09T00:00:00.000000000', '2011-11-10T00:00:00.000000000',\n",
       "       '2011-11-11T00:00:00.000000000', '2011-11-29T00:00:00.000000000',\n",
       "       '2012-01-06T00:00:00.000000000', '2012-01-07T00:00:00.000000000',\n",
       "       '2012-01-13T00:00:00.000000000', '2012-01-16T00:00:00.000000000',\n",
       "       '2012-02-10T00:00:00.000000000', '2012-02-16T00:00:00.000000000',\n",
       "       '2012-03-01T00:00:00.000000000', '2012-03-14T00:00:00.000000000',\n",
       "       '2012-03-23T00:00:00.000000000', '2012-03-26T00:00:00.000000000',\n",
       "       '2012-03-27T00:00:00.000000000', '2012-04-09T00:00:00.000000000',\n",
       "       '2012-04-10T00:00:00.000000000', '2012-04-11T00:00:00.000000000',\n",
       "       '2012-04-12T00:00:00.000000000', '2012-04-13T00:00:00.000000000',\n",
       "       '2012-05-02T00:00:00.000000000', '2012-05-10T00:00:00.000000000',\n",
       "       '2012-05-15T00:00:00.000000000', '2012-06-06T00:00:00.000000000',\n",
       "       '2012-06-12T00:00:00.000000000', '2012-07-20T00:00:00.000000000',\n",
       "       '2012-07-23T00:00:00.000000000', '2012-07-24T00:00:00.000000000',\n",
       "       '2012-08-06T00:00:00.000000000', '2012-08-07T00:00:00.000000000',\n",
       "       '2012-08-31T00:00:00.000000000', '2012-10-01T00:00:00.000000000',\n",
       "       '2012-10-05T00:00:00.000000000', '2012-10-10T00:00:00.000000000',\n",
       "       '2012-10-11T00:00:00.000000000', '2012-10-14T00:00:00.000000000',\n",
       "       '2012-11-09T00:00:00.000000000', '2012-11-13T00:00:00.000000000',\n",
       "       '2012-11-15T00:00:00.000000000', '2012-11-20T00:00:00.000000000',\n",
       "       '2012-11-28T00:00:00.000000000', '2012-11-30T00:00:00.000000000',\n",
       "       '2012-12-04T00:00:00.000000000', '2012-12-17T00:00:00.000000000',\n",
       "       '2013-01-04T00:00:00.000000000', '2013-02-05T00:00:00.000000000',\n",
       "       '2013-02-07T00:00:00.000000000', '2013-02-11T00:00:00.000000000',\n",
       "       '2013-02-22T00:00:00.000000000', '2013-02-28T00:00:00.000000000',\n",
       "       '2013-03-01T00:00:00.000000000', '2013-03-04T00:00:00.000000000',\n",
       "       '2013-03-08T00:00:00.000000000', '2013-03-22T00:00:00.000000000',\n",
       "       '2013-03-25T00:00:00.000000000', '2013-04-04T00:00:00.000000000',\n",
       "       '2013-04-08T00:00:00.000000000', '2013-04-12T00:00:00.000000000',\n",
       "       '2013-04-16T00:00:00.000000000', '2013-04-17T00:00:00.000000000',\n",
       "       '2013-04-18T00:00:00.000000000', '2013-04-19T00:00:00.000000000',\n",
       "       '2013-05-03T00:00:00.000000000', '2013-05-09T00:00:00.000000000',\n",
       "       '2013-05-10T00:00:00.000000000', '2013-05-16T00:00:00.000000000',\n",
       "       '2013-05-18T00:00:00.000000000', '2013-06-02T00:00:00.000000000',\n",
       "       '2013-06-06T00:00:00.000000000', '2013-06-27T00:00:00.000000000',\n",
       "       '2013-06-28T00:00:00.000000000', '2013-07-02T00:00:00.000000000',\n",
       "       '2013-07-10T00:00:00.000000000', '2013-07-17T00:00:00.000000000',\n",
       "       '2013-09-20T00:00:00.000000000', '2013-09-26T00:00:00.000000000',\n",
       "       '2013-10-02T00:00:00.000000000', '2013-10-03T00:00:00.000000000',\n",
       "       '2013-10-04T00:00:00.000000000', '2013-10-11T00:00:00.000000000',\n",
       "       '2013-10-14T00:00:00.000000000', '2013-10-18T00:00:00.000000000',\n",
       "       '2013-11-04T00:00:00.000000000', '2013-11-07T00:00:00.000000000',\n",
       "       '2013-11-08T00:00:00.000000000', '2013-11-13T00:00:00.000000000',\n",
       "       '2013-11-14T00:00:00.000000000', '2013-11-19T00:00:00.000000000',\n",
       "       '2013-11-21T00:00:00.000000000', '2013-11-22T00:00:00.000000000',\n",
       "       '2013-12-16T00:00:00.000000000', '2014-01-03T00:00:00.000000000',\n",
       "       '2014-02-25T00:00:00.000000000', '2014-02-28T00:00:00.000000000',\n",
       "       '2014-03-05T00:00:00.000000000', '2014-03-21T00:00:00.000000000',\n",
       "       '2014-03-24T00:00:00.000000000', '2014-03-25T00:00:00.000000000',\n",
       "       '2014-03-27T00:00:00.000000000', '2014-03-31T00:00:00.000000000',\n",
       "       '2014-04-09T00:00:00.000000000', '2014-04-15T00:00:00.000000000',\n",
       "       '2014-04-16T00:00:00.000000000', '2014-05-01T00:00:00.000000000',\n",
       "       '2014-05-06T00:00:00.000000000', '2014-05-08T00:00:00.000000000',\n",
       "       '2014-05-15T00:00:00.000000000', '2014-05-21T00:00:00.000000000',\n",
       "       '2014-06-06T00:00:00.000000000', '2014-06-09T00:00:00.000000000',\n",
       "       '2014-06-25T00:00:00.000000000', '2014-07-02T00:00:00.000000000',\n",
       "       '2014-07-10T00:00:00.000000000', '2014-08-11T00:00:00.000000000',\n",
       "       '2014-08-22T00:00:00.000000000', '2014-09-04T00:00:00.000000000',\n",
       "       '2014-09-18T00:00:00.000000000', '2014-09-23T00:00:00.000000000',\n",
       "       '2014-09-30T00:00:00.000000000', '2014-10-11T00:00:00.000000000',\n",
       "       '2014-10-17T00:00:00.000000000', '2014-10-20T00:00:00.000000000',\n",
       "       '2014-10-30T00:00:00.000000000', '2014-11-06T00:00:00.000000000',\n",
       "       '2014-11-07T00:00:00.000000000', '2014-11-14T00:00:00.000000000',\n",
       "       '2014-11-20T00:00:00.000000000', '2014-12-02T00:00:00.000000000',\n",
       "       '2014-12-03T00:00:00.000000000', '2015-01-20T00:00:00.000000000',\n",
       "       '2015-01-30T00:00:00.000000000', '2015-02-04T00:00:00.000000000',\n",
       "       '2015-02-09T00:00:00.000000000', '2015-02-18T00:00:00.000000000',\n",
       "       '2015-02-27T00:00:00.000000000', '2015-03-03T00:00:00.000000000',\n",
       "       '2015-03-23T00:00:00.000000000', '2015-03-27T00:00:00.000000000',\n",
       "       '2015-03-30T00:00:00.000000000', '2015-04-02T00:00:00.000000000',\n",
       "       '2015-04-08T00:00:00.000000000', '2015-04-30T00:00:00.000000000',\n",
       "       '2015-05-04T00:00:00.000000000', '2015-05-06T00:00:00.000000000',\n",
       "       '2015-05-14T00:00:00.000000000', '2015-05-21T00:00:00.000000000',\n",
       "       '2015-05-22T00:00:00.000000000', '2015-05-26T00:00:00.000000000',\n",
       "       '2015-06-01T00:00:00.000000000', '2015-06-02T00:00:00.000000000',\n",
       "       '2015-06-24T00:00:00.000000000', '2015-06-25T00:00:00.000000000',\n",
       "       '2015-06-30T00:00:00.000000000', '2015-07-01T00:00:00.000000000',\n",
       "       '2015-07-09T00:00:00.000000000', '2015-07-10T00:00:00.000000000',\n",
       "       '2015-08-03T00:00:00.000000000', '2015-08-29T00:00:00.000000000',\n",
       "       '2015-09-24T00:00:00.000000000', '2015-09-28T00:00:00.000000000',\n",
       "       '2015-09-30T00:00:00.000000000', '2015-10-02T00:00:00.000000000',\n",
       "       '2015-10-11T00:00:00.000000000', '2015-10-12T00:00:00.000000000',\n",
       "       '2015-10-19T00:00:00.000000000', '2015-10-20T00:00:00.000000000',\n",
       "       '2015-11-04T00:00:00.000000000', '2015-11-05T00:00:00.000000000',\n",
       "       '2015-11-06T00:00:00.000000000', '2015-11-12T00:00:00.000000000',\n",
       "       '2015-11-17T00:00:00.000000000', '2015-11-19T00:00:00.000000000',\n",
       "       '2015-11-20T00:00:00.000000000', '2015-12-01T00:00:00.000000000',\n",
       "       '2015-12-02T00:00:00.000000000', '2015-12-03T00:00:00.000000000',\n",
       "       '2016-01-03T00:00:00.000000000', '2016-02-01T00:00:00.000000000',\n",
       "       '2016-02-10T00:00:00.000000000', '2016-02-23T00:00:00.000000000',\n",
       "       '2016-02-26T00:00:00.000000000', '2016-03-07T00:00:00.000000000',\n",
       "       '2016-03-29T00:00:00.000000000', '2016-04-14T00:00:00.000000000',\n",
       "       '2016-05-19T00:00:00.000000000', '2016-05-20T00:00:00.000000000',\n",
       "       '2016-05-26T00:00:00.000000000', '2016-06-03T00:00:00.000000000',\n",
       "       '2016-06-06T00:00:00.000000000', '2016-06-21T00:00:00.000000000',\n",
       "       '2016-06-22T00:00:00.000000000', '2016-06-28T00:00:00.000000000',\n",
       "       '2016-07-12T00:00:00.000000000', '2016-08-21T00:00:00.000000000',\n",
       "       '2016-08-26T00:00:00.000000000', '2016-09-12T00:00:00.000000000',\n",
       "       '2016-09-26T00:00:00.000000000', '2016-09-27T00:00:00.000000000',\n",
       "       '2016-09-29T00:00:00.000000000', '2016-10-05T00:00:00.000000000',\n",
       "       '2016-10-07T00:00:00.000000000', '2016-10-09T00:00:00.000000000',\n",
       "       '2016-10-14T00:00:00.000000000', '2016-10-17T00:00:00.000000000',\n",
       "       '2016-10-21T00:00:00.000000000', '2016-10-24T00:00:00.000000000',\n",
       "       '2016-11-04T00:00:00.000000000', '2016-11-11T00:00:00.000000000',\n",
       "       '2016-11-15T00:00:00.000000000', '2016-11-17T00:00:00.000000000',\n",
       "       '2016-11-18T00:00:00.000000000', '2016-11-21T00:00:00.000000000',\n",
       "       '2016-11-29T00:00:00.000000000', '2016-11-30T00:00:00.000000000',\n",
       "       '2016-12-02T00:00:00.000000000', '2016-12-19T00:00:00.000000000',\n",
       "       '2017-01-07T00:00:00.000000000', '2017-01-12T00:00:00.000000000',\n",
       "       '2017-01-17T00:00:00.000000000', '2017-01-18T00:00:00.000000000',\n",
       "       '2017-01-19T00:00:00.000000000', '2017-02-11T00:00:00.000000000',\n",
       "       '2017-02-22T00:00:00.000000000', '2017-03-01T00:00:00.000000000',\n",
       "       '2017-03-03T00:00:00.000000000', '2017-03-23T00:00:00.000000000',\n",
       "       '2017-03-28T00:00:00.000000000', '2017-04-04T00:00:00.000000000',\n",
       "       '2017-04-05T00:00:00.000000000', '2017-04-17T00:00:00.000000000',\n",
       "       '2017-04-19T00:00:00.000000000', '2017-04-20T00:00:00.000000000',\n",
       "       '2017-04-28T00:00:00.000000000', '2017-05-05T00:00:00.000000000',\n",
       "       '2017-05-22T00:00:00.000000000', '2017-05-30T00:00:00.000000000',\n",
       "       '2017-06-01T00:00:00.000000000', '2017-06-20T00:00:00.000000000',\n",
       "       '2017-06-23T00:00:00.000000000', '2017-06-26T00:00:00.000000000',\n",
       "       '2017-06-27T00:00:00.000000000', '2017-07-06T00:00:00.000000000',\n",
       "       '2017-07-11T00:00:00.000000000', '2017-07-13T00:00:00.000000000',\n",
       "       '2017-07-28T00:00:00.000000000', '2017-07-31T00:00:00.000000000',\n",
       "       '2017-08-25T00:00:00.000000000', '2017-08-30T00:00:00.000000000',\n",
       "       '2017-09-05T00:00:00.000000000', '2017-09-26T00:00:00.000000000',\n",
       "       '2017-09-27T00:00:00.000000000', '2017-09-28T00:00:00.000000000',\n",
       "       '2017-10-04T00:00:00.000000000', '2017-10-05T00:00:00.000000000',\n",
       "       '2017-10-12T00:00:00.000000000', '2017-10-15T00:00:00.000000000',\n",
       "       '2017-10-18T00:00:00.000000000', '2017-10-20T00:00:00.000000000',\n",
       "       '2017-11-02T00:00:00.000000000', '2017-11-07T00:00:00.000000000',\n",
       "       '2017-11-15T00:00:00.000000000', '2017-11-16T00:00:00.000000000',\n",
       "       '2017-11-30T00:00:00.000000000', '2017-12-13T00:00:00.000000000',\n",
       "       '2018-01-19T00:00:00.000000000', '2018-02-13T00:00:00.000000000',\n",
       "       '2018-02-22T00:00:00.000000000', '2018-02-26T00:00:00.000000000',\n",
       "       '2018-03-05T00:00:00.000000000', '2018-03-06T00:00:00.000000000',\n",
       "       '2018-03-26T00:00:00.000000000', '2018-04-03T00:00:00.000000000',\n",
       "       '2018-04-06T00:00:00.000000000', '2018-04-17T00:00:00.000000000',\n",
       "       '2018-04-19T00:00:00.000000000', '2018-05-04T00:00:00.000000000',\n",
       "       '2018-05-08T00:00:00.000000000', '2018-05-15T00:00:00.000000000',\n",
       "       '2018-05-16T00:00:00.000000000', '2018-05-18T00:00:00.000000000',\n",
       "       '2018-05-25T00:00:00.000000000', '2018-05-31T00:00:00.000000000',\n",
       "       '2018-06-20T00:00:00.000000000', '2018-06-27T00:00:00.000000000',\n",
       "       '2018-07-18T00:00:00.000000000', '2018-07-19T00:00:00.000000000',\n",
       "       '2018-08-24T00:00:00.000000000', '2018-09-12T00:00:00.000000000',\n",
       "       '2018-09-27T00:00:00.000000000', '2018-10-02T00:00:00.000000000',\n",
       "       '2018-10-03T00:00:00.000000000', '2018-10-04T00:00:00.000000000',\n",
       "       '2018-10-15T00:00:00.000000000', '2018-10-17T00:00:00.000000000',\n",
       "       '2018-10-18T00:00:00.000000000', '2018-10-25T00:00:00.000000000',\n",
       "       '2018-11-09T00:00:00.000000000', '2018-11-13T00:00:00.000000000',\n",
       "       '2018-11-16T00:00:00.000000000', '2018-11-27T00:00:00.000000000',\n",
       "       '2018-11-28T00:00:00.000000000', '2018-12-03T00:00:00.000000000',\n",
       "       '2018-12-05T00:00:00.000000000', '2018-12-06T00:00:00.000000000',\n",
       "       '2018-12-07T00:00:00.000000000', '2019-01-09T00:00:00.000000000',\n",
       "       '2019-01-10T00:00:00.000000000', '2019-02-01T00:00:00.000000000',\n",
       "       '2019-02-06T00:00:00.000000000', '2019-02-10T00:00:00.000000000',\n",
       "       '2019-02-11T00:00:00.000000000', '2019-02-12T00:00:00.000000000',\n",
       "       '2019-02-22T00:00:00.000000000', '2019-02-23T00:00:00.000000000',\n",
       "       '2019-02-28T00:00:00.000000000', '2019-03-07T00:00:00.000000000',\n",
       "       '2019-03-08T00:00:00.000000000', '2019-03-11T00:00:00.000000000',\n",
       "       '2019-03-12T00:00:00.000000000', '2019-03-25T00:00:00.000000000'],\n",
       "      dtype='datetime64[ns]')"
      ]
     },
     "execution_count": 133,
     "metadata": {},
     "output_type": "execute_result"
    }
   ],
   "source": [
    "unique_dates"
   ]
  },
  {
   "cell_type": "code",
   "execution_count": 135,
   "metadata": {},
   "outputs": [
    {
     "ename": "TypeError",
     "evalue": "Cannot compare type 'Timestamp' with type 'int'",
     "output_type": "error",
     "traceback": [
      "\u001b[0;31m---------------------------------------------------------------------------\u001b[0m",
      "\u001b[0;31mTypeError\u001b[0m                                 Traceback (most recent call last)",
      "\u001b[0;32m<ipython-input-135-40d39fff279a>\u001b[0m in \u001b[0;36m<module>\u001b[0;34m\u001b[0m\n\u001b[0;32m----> 1\u001b[0;31m \u001b[0munique_dates\u001b[0m \u001b[0;34m=\u001b[0m \u001b[0munique_dates\u001b[0m \u001b[0;34m>=\u001b[0m \u001b[0mfirst_date\u001b[0m\u001b[0;34m\u001b[0m\u001b[0;34m\u001b[0m\u001b[0m\n\u001b[0m\u001b[1;32m      2\u001b[0m \u001b[0munique_dates\u001b[0m\u001b[0;34m\u001b[0m\u001b[0;34m\u001b[0m\u001b[0m\n",
      "\u001b[0;32mpandas/_libs/tslibs/timestamps.pyx\u001b[0m in \u001b[0;36mpandas._libs.tslibs.timestamps._Timestamp.__richcmp__\u001b[0;34m()\u001b[0m\n",
      "\u001b[0;31mTypeError\u001b[0m: Cannot compare type 'Timestamp' with type 'int'"
     ]
    }
   ],
   "source": [
    "unique_dates = unique_dates >= first_date\n",
    "unique_dates"
   ]
  },
  {
   "cell_type": "code",
   "execution_count": 137,
   "metadata": {},
   "outputs": [
    {
     "name": "stdout",
     "output_type": "stream",
     "text": [
      "<class 'pandas._libs.tslibs.timestamps.Timestamp'>\n"
     ]
    }
   ],
   "source": [
    "print(type(first_date))"
   ]
  },
  {
   "cell_type": "code",
   "execution_count": 138,
   "metadata": {},
   "outputs": [
    {
     "name": "stdout",
     "output_type": "stream",
     "text": [
      "<class 'numpy.ndarray'>\n"
     ]
    }
   ],
   "source": [
    "print(type(unique_dates))"
   ]
  },
  {
   "cell_type": "code",
   "execution_count": 139,
   "metadata": {},
   "outputs": [
    {
     "name": "stdout",
     "output_type": "stream",
     "text": [
      "<class 'numpy.datetime64'>\n"
     ]
    }
   ],
   "source": [
    "a = unique_dates[0]\n",
    "print(type(a))"
   ]
  },
  {
   "cell_type": "code",
   "execution_count": 140,
   "metadata": {},
   "outputs": [
    {
     "data": {
      "text/html": [
       "<div>\n",
       "<style scoped>\n",
       "    .dataframe tbody tr th:only-of-type {\n",
       "        vertical-align: middle;\n",
       "    }\n",
       "\n",
       "    .dataframe tbody tr th {\n",
       "        vertical-align: top;\n",
       "    }\n",
       "\n",
       "    .dataframe thead th {\n",
       "        text-align: right;\n",
       "    }\n",
       "</style>\n",
       "<table border=\"1\" class=\"dataframe\">\n",
       "  <thead>\n",
       "    <tr style=\"text-align: right;\">\n",
       "      <th></th>\n",
       "      <th>date</th>\n",
       "      <th>speaker</th>\n",
       "      <th>title</th>\n",
       "      <th>link</th>\n",
       "      <th>text</th>\n",
       "    </tr>\n",
       "  </thead>\n",
       "  <tbody>\n",
       "    <tr>\n",
       "      <th>393</th>\n",
       "      <td>2011-02-18</td>\n",
       "      <td>Chairman Ben S. Bernanke</td>\n",
       "      <td>Global Imbalances: Links to Economic and Finan...</td>\n",
       "      <td>/newsevents/speech/bernanke20110218a.htm</td>\n",
       "      <td>\\n       By facilitating the allocation of the...</td>\n",
       "    </tr>\n",
       "    <tr>\n",
       "      <th>242</th>\n",
       "      <td>2014-05-01</td>\n",
       "      <td>Chair Janet L. Yellen</td>\n",
       "      <td>Tailored Supervision of Community Banks</td>\n",
       "      <td>/newsevents/speech/yellen20140501a.htm</td>\n",
       "      <td>\\n       Thank you for inviting me to ICBA's p...</td>\n",
       "    </tr>\n",
       "    <tr>\n",
       "      <th>283</th>\n",
       "      <td>2013-05-18</td>\n",
       "      <td>Chairman Ben S. Bernanke</td>\n",
       "      <td>Economic Prospects for the Long Run</td>\n",
       "      <td>/newsevents/speech/bernanke20130518a.htm</td>\n",
       "      <td>\\n       Let me start by congratulating the gr...</td>\n",
       "    </tr>\n",
       "    <tr>\n",
       "      <th>501</th>\n",
       "      <td>2009-04-14</td>\n",
       "      <td>Chairman Ben S. Bernanke</td>\n",
       "      <td>Four Questions about the Financial Crisis</td>\n",
       "      <td>/newsevents/speech/bernanke20090414a.htm</td>\n",
       "      <td>I am pleased to have the privilege of speaking...</td>\n",
       "    </tr>\n",
       "  </tbody>\n",
       "</table>\n",
       "</div>"
      ],
      "text/plain": [
       "          date                   speaker  \\\n",
       "393 2011-02-18  Chairman Ben S. Bernanke   \n",
       "242 2014-05-01     Chair Janet L. Yellen   \n",
       "283 2013-05-18  Chairman Ben S. Bernanke   \n",
       "501 2009-04-14  Chairman Ben S. Bernanke   \n",
       "\n",
       "                                                 title  \\\n",
       "393  Global Imbalances: Links to Economic and Finan...   \n",
       "242            Tailored Supervision of Community Banks   \n",
       "283                Economic Prospects for the Long Run   \n",
       "501          Four Questions about the Financial Crisis   \n",
       "\n",
       "                                         link  \\\n",
       "393  /newsevents/speech/bernanke20110218a.htm   \n",
       "242    /newsevents/speech/yellen20140501a.htm   \n",
       "283  /newsevents/speech/bernanke20130518a.htm   \n",
       "501  /newsevents/speech/bernanke20090414a.htm   \n",
       "\n",
       "                                                  text  \n",
       "393  \\n       By facilitating the allocation of the...  \n",
       "242  \\n       Thank you for inviting me to ICBA's p...  \n",
       "283  \\n       Let me start by congratulating the gr...  \n",
       "501  I am pleased to have the privilege of speaking...  "
      ]
     },
     "execution_count": 140,
     "metadata": {},
     "output_type": "execute_result"
    }
   ],
   "source": [
    "df.sample(4)"
   ]
  },
  {
   "cell_type": "code",
   "execution_count": 213,
   "metadata": {},
   "outputs": [],
   "source": [
    "df['date']= pd.to_datetime(df['date'], for)"
   ]
  },
  {
   "cell_type": "code",
   "execution_count": 216,
   "metadata": {},
   "outputs": [
    {
     "name": "stdout",
     "output_type": "stream",
     "text": [
      "<class 'pandas.core.frame.DataFrame'>\n",
      "RangeIndex: 733 entries, 0 to 732\n",
      "Data columns (total 5 columns):\n",
      "date       733 non-null datetime64[ns]\n",
      "speaker    733 non-null object\n",
      "title      733 non-null object\n",
      "link       733 non-null object\n",
      "text       733 non-null object\n",
      "dtypes: datetime64[ns](1), object(4)\n",
      "memory usage: 28.7+ KB\n"
     ]
    }
   ],
   "source": [
    "df.info()"
   ]
  },
  {
   "cell_type": "code",
   "execution_count": 208,
   "metadata": {},
   "outputs": [],
   "source": [
    "unique_dates = df['date'].unique()\n",
    "unique_dates = np.sort(unique_dates)"
   ]
  },
  {
   "cell_type": "code",
   "execution_count": 222,
   "metadata": {},
   "outputs": [
    {
     "name": "stdout",
     "output_type": "stream",
     "text": [
      "2006-03-20T00:00:00.000000000\n"
     ]
    }
   ],
   "source": [
    "first_"
   ]
  },
  {
   "cell_type": "code",
   "execution_count": 223,
   "metadata": {},
   "outputs": [
    {
     "name": "stdout",
     "output_type": "stream",
     "text": [
      "2006-02-24 00:00:00\n",
      "<class 'pandas._libs.tslibs.timestamps.Timestamp'>\n",
      "<class 'pandas._libs.tslibs.timestamps.Timestamp'>\n"
     ]
    },
    {
     "ename": "TypeError",
     "evalue": "Cannot compare type 'Timestamp' with type 'int'",
     "output_type": "error",
     "traceback": [
      "\u001b[0;31m---------------------------------------------------------------------------\u001b[0m",
      "\u001b[0;31mTypeError\u001b[0m                                 Traceback (most recent call last)",
      "\u001b[0;32m<ipython-input-223-96c92649c009>\u001b[0m in \u001b[0;36m<module>\u001b[0;34m\u001b[0m\n\u001b[1;32m      4\u001b[0m \u001b[0mfirst_date\u001b[0m \u001b[0;34m=\u001b[0m \u001b[0mpd\u001b[0m\u001b[0;34m.\u001b[0m\u001b[0mto_datetime\u001b[0m\u001b[0;34m(\u001b[0m\u001b[0mfirst_date\u001b[0m\u001b[0;34m)\u001b[0m\u001b[0;34m\u001b[0m\u001b[0;34m\u001b[0m\u001b[0m\n\u001b[1;32m      5\u001b[0m \u001b[0mprint\u001b[0m\u001b[0;34m(\u001b[0m\u001b[0mtype\u001b[0m\u001b[0;34m(\u001b[0m\u001b[0mfirst_date\u001b[0m\u001b[0;34m)\u001b[0m\u001b[0;34m)\u001b[0m\u001b[0;34m\u001b[0m\u001b[0;34m\u001b[0m\u001b[0m\n\u001b[0;32m----> 6\u001b[0;31m \u001b[0munique_date\u001b[0m \u001b[0;34m=\u001b[0m \u001b[0munique_dates\u001b[0m \u001b[0;34m>=\u001b[0m \u001b[0mfirst_date\u001b[0m\u001b[0;34m\u001b[0m\u001b[0;34m\u001b[0m\u001b[0m\n\u001b[0m",
      "\u001b[0;32mpandas/_libs/tslibs/timestamps.pyx\u001b[0m in \u001b[0;36mpandas._libs.tslibs.timestamps._Timestamp.__richcmp__\u001b[0;34m()\u001b[0m\n",
      "\u001b[0;31mTypeError\u001b[0m: Cannot compare type 'Timestamp' with type 'int'"
     ]
    }
   ],
   "source": [
    "first_date = df['date'].iloc[-n_speeches]\n",
    "print(first_date)\n",
    "print(type(first_date))\n",
    "first_date = pd.to_datetime(first_date)\n",
    "print(type(first_date))\n",
    "unique_date = unique_dates >= first_date\n"
   ]
  },
  {
   "cell_type": "code",
   "execution_count": 235,
   "metadata": {},
   "outputs": [
    {
     "ename": "ValueError",
     "evalue": "Can only compare identically-labeled Series objects",
     "output_type": "error",
     "traceback": [
      "\u001b[0;31m---------------------------------------------------------------------------\u001b[0m",
      "\u001b[0;31mValueError\u001b[0m                                Traceback (most recent call last)",
      "\u001b[0;32m<ipython-input-235-8c7e6a3d4dbe>\u001b[0m in \u001b[0;36m<module>\u001b[0;34m\u001b[0m\n\u001b[0;32m----> 1\u001b[0;31m \u001b[0mdf\u001b[0m\u001b[0;34m[\u001b[0m\u001b[0mdf\u001b[0m\u001b[0;34m[\u001b[0m\u001b[0;34m'date'\u001b[0m\u001b[0;34m]\u001b[0m\u001b[0;34m<=\u001b[0m\u001b[0mdf\u001b[0m\u001b[0;34m[\u001b[0m\u001b[0;34m'date'\u001b[0m\u001b[0;34m]\u001b[0m\u001b[0;34m.\u001b[0m\u001b[0miloc\u001b[0m\u001b[0;34m[\u001b[0m\u001b[0;34m-\u001b[0m\u001b[0;36m20\u001b[0m\u001b[0;34m:\u001b[0m\u001b[0;34m-\u001b[0m\u001b[0;36m30\u001b[0m\u001b[0;34m:\u001b[0m\u001b[0;34m-\u001b[0m\u001b[0;36m1\u001b[0m\u001b[0;34m]\u001b[0m\u001b[0;34m]\u001b[0m\u001b[0;34m\u001b[0m\u001b[0;34m\u001b[0m\u001b[0m\n\u001b[0m",
      "\u001b[0;32m/anaconda3/lib/python3.6/site-packages/pandas/core/ops.py\u001b[0m in \u001b[0;36mwrapper\u001b[0;34m(self, other, axis)\u001b[0m\n\u001b[1;32m   1674\u001b[0m \u001b[0;34m\u001b[0m\u001b[0m\n\u001b[1;32m   1675\u001b[0m         \u001b[0;32melif\u001b[0m \u001b[0misinstance\u001b[0m\u001b[0;34m(\u001b[0m\u001b[0mother\u001b[0m\u001b[0;34m,\u001b[0m \u001b[0mABCSeries\u001b[0m\u001b[0;34m)\u001b[0m \u001b[0;32mand\u001b[0m \u001b[0;32mnot\u001b[0m \u001b[0mself\u001b[0m\u001b[0;34m.\u001b[0m\u001b[0m_indexed_same\u001b[0m\u001b[0;34m(\u001b[0m\u001b[0mother\u001b[0m\u001b[0;34m)\u001b[0m\u001b[0;34m:\u001b[0m\u001b[0;34m\u001b[0m\u001b[0;34m\u001b[0m\u001b[0m\n\u001b[0;32m-> 1676\u001b[0;31m             raise ValueError(\"Can only compare identically-labeled \"\n\u001b[0m\u001b[1;32m   1677\u001b[0m                              \"Series objects\")\n\u001b[1;32m   1678\u001b[0m \u001b[0;34m\u001b[0m\u001b[0m\n",
      "\u001b[0;31mValueError\u001b[0m: Can only compare identically-labeled Series objects"
     ]
    }
   ],
   "source": [
    "df[df['date']<=df['date'].iloc[-20:-30:-1]]"
   ]
  },
  {
   "cell_type": "code",
   "execution_count": 195,
   "metadata": {},
   "outputs": [
    {
     "name": "stdout",
     "output_type": "stream",
     "text": [
      "<class 'numpy.ndarray'>\n"
     ]
    }
   ],
   "source": [
    "print(type(unique_dates))"
   ]
  },
  {
   "cell_type": "code",
   "execution_count": 146,
   "metadata": {},
   "outputs": [
    {
     "name": "stdout",
     "output_type": "stream",
     "text": [
      "<class 'numpy.datetime64'>\n"
     ]
    }
   ],
   "source": [
    "b = unique_dates[0]\n",
    "print(type(b))"
   ]
  },
  {
   "cell_type": "code",
   "execution_count": 147,
   "metadata": {},
   "outputs": [
    {
     "data": {
      "text/plain": [
       "numpy.datetime64('2006-01-18T00:00:00.000000000')"
      ]
     },
     "execution_count": 147,
     "metadata": {},
     "output_type": "execute_result"
    }
   ],
   "source": [
    "b"
   ]
  },
  {
   "cell_type": "code",
   "execution_count": 155,
   "metadata": {},
   "outputs": [],
   "source": [
    "from datetime import datetime\n",
    "ud = np.datetime_as_string(unique_dates, 'D')"
   ]
  },
  {
   "cell_type": "code",
   "execution_count": 157,
   "metadata": {},
   "outputs": [
    {
     "name": "stdout",
     "output_type": "stream",
     "text": [
      "<class 'numpy.ndarray'>\n"
     ]
    }
   ],
   "source": [
    "print(type(ud))"
   ]
  },
  {
   "cell_type": "code",
   "execution_count": 158,
   "metadata": {},
   "outputs": [
    {
     "name": "stdout",
     "output_type": "stream",
     "text": [
      "<class 'numpy.str_'>\n"
     ]
    }
   ],
   "source": [
    "print(type(ud[0]))"
   ]
  },
  {
   "cell_type": "code",
   "execution_count": 161,
   "metadata": {},
   "outputs": [
    {
     "ename": "TypeError",
     "evalue": "Cannot compare type 'Timestamp' with type 'str'",
     "output_type": "error",
     "traceback": [
      "\u001b[0;31m---------------------------------------------------------------------------\u001b[0m",
      "\u001b[0;31mTypeError\u001b[0m                                 Traceback (most recent call last)",
      "\u001b[0;32m<ipython-input-161-a54a776dd0ac>\u001b[0m in \u001b[0;36m<module>\u001b[0;34m\u001b[0m\n\u001b[1;32m      1\u001b[0m \u001b[0mfirst_date\u001b[0m \u001b[0;34m=\u001b[0m \u001b[0mdf\u001b[0m\u001b[0;34m[\u001b[0m\u001b[0;34m'date'\u001b[0m\u001b[0;34m]\u001b[0m\u001b[0;34m.\u001b[0m\u001b[0miloc\u001b[0m\u001b[0;34m[\u001b[0m\u001b[0;34m-\u001b[0m\u001b[0mn_speeches\u001b[0m\u001b[0;34m]\u001b[0m\u001b[0;34m\u001b[0m\u001b[0;34m\u001b[0m\u001b[0m\n\u001b[0;32m----> 2\u001b[0;31m \u001b[0mcrap\u001b[0m \u001b[0;34m=\u001b[0m \u001b[0mud\u001b[0m \u001b[0;34m>=\u001b[0m \u001b[0mfirst_date\u001b[0m\u001b[0;34m\u001b[0m\u001b[0;34m\u001b[0m\u001b[0m\n\u001b[0m",
      "\u001b[0;32mpandas/_libs/tslibs/timestamps.pyx\u001b[0m in \u001b[0;36mpandas._libs.tslibs.timestamps._Timestamp.__richcmp__\u001b[0;34m()\u001b[0m\n",
      "\u001b[0;31mTypeError\u001b[0m: Cannot compare type 'Timestamp' with type 'str'"
     ]
    }
   ],
   "source": [
    "first_date = df['date'].iloc[-n_speeches]\n",
    "crap = ud >= first_date\n"
   ]
  },
  {
   "cell_type": "code",
   "execution_count": 162,
   "metadata": {},
   "outputs": [
    {
     "name": "stdout",
     "output_type": "stream",
     "text": [
      "<class 'pandas._libs.tslibs.timestamps.Timestamp'>\n",
      "<class 'numpy.ndarray'>\n"
     ]
    }
   ],
   "source": [
    "print(type(first_date))\n",
    "print(type(ud))"
   ]
  },
  {
   "cell_type": "code",
   "execution_count": 165,
   "metadata": {},
   "outputs": [],
   "source": [
    "fd = first_date.4()"
   ]
  },
  {
   "cell_type": "code",
   "execution_count": 166,
   "metadata": {},
   "outputs": [
    {
     "name": "stdout",
     "output_type": "stream",
     "text": [
      "<class 'numpy.datetime64'>\n"
     ]
    }
   ],
   "source": [
    "print(type(fd))"
   ]
  },
  {
   "cell_type": "code",
   "execution_count": 190,
   "metadata": {},
   "outputs": [
    {
     "name": "stdout",
     "output_type": "stream",
     "text": [
      "<class 'numpy.datetime64'>\n",
      "<class 'numpy.datetime64'>\n"
     ]
    }
   ],
   "source": [
    "unique_dates = df['date'].unique()\n",
    "print(type(unique_dates[0]))\n",
    "unique_dates = np.sort(unique_dates)\n",
    "print(type(unique_dates[0]))"
   ]
  },
  {
   "cell_type": "code",
   "execution_count": 183,
   "metadata": {},
   "outputs": [
    {
     "name": "stdout",
     "output_type": "stream",
     "text": [
      "<class 'numpy.datetime64'>\n"
     ]
    }
   ],
   "source": [
    "print(type(unique_dates[0]))"
   ]
  },
  {
   "cell_type": "code",
   "execution_count": 187,
   "metadata": {},
   "outputs": [],
   "source": [
    "first_date = df['date'].iloc[-n_speeches]"
   ]
  },
  {
   "cell_type": "code",
   "execution_count": 188,
   "metadata": {},
   "outputs": [
    {
     "name": "stdout",
     "output_type": "stream",
     "text": [
      "<class 'pandas._libs.tslibs.timestamps.Timestamp'>\n"
     ]
    }
   ],
   "source": [
    "print(type(first_date))"
   ]
  },
  {
   "cell_type": "code",
   "execution_count": 175,
   "metadata": {},
   "outputs": [
    {
     "data": {
      "text/plain": [
       "Timestamp('2006-02-24 00:00:00')"
      ]
     },
     "execution_count": 175,
     "metadata": {},
     "output_type": "execute_result"
    }
   ],
   "source": [
    "first_date"
   ]
  },
  {
   "cell_type": "code",
   "execution_count": 176,
   "metadata": {},
   "outputs": [
    {
     "data": {
      "text/plain": [
       "numpy.datetime64('2006-01-18T00:00:00.000000000')"
      ]
     },
     "execution_count": 176,
     "metadata": {},
     "output_type": "execute_result"
    }
   ],
   "source": [
    "unique_dates[0]"
   ]
  },
  {
   "cell_type": "code",
   "execution_count": 177,
   "metadata": {},
   "outputs": [
    {
     "ename": "AttributeError",
     "evalue": "'Timestamp' object has no attribute 'to_datetime'",
     "output_type": "error",
     "traceback": [
      "\u001b[0;31m---------------------------------------------------------------------------\u001b[0m",
      "\u001b[0;31mAttributeError\u001b[0m                            Traceback (most recent call last)",
      "\u001b[0;32m<ipython-input-177-4d91fc3807fb>\u001b[0m in \u001b[0;36m<module>\u001b[0;34m\u001b[0m\n\u001b[0;32m----> 1\u001b[0;31m \u001b[0mfirst_date\u001b[0m\u001b[0;34m.\u001b[0m\u001b[0mto_datetime\u001b[0m\u001b[0;34m(\u001b[0m\u001b[0;34m)\u001b[0m\u001b[0;34m\u001b[0m\u001b[0;34m\u001b[0m\u001b[0m\n\u001b[0m\u001b[1;32m      2\u001b[0m \u001b[0mfirst_date\u001b[0m\u001b[0;34m\u001b[0m\u001b[0;34m\u001b[0m\u001b[0m\n",
      "\u001b[0;31mAttributeError\u001b[0m: 'Timestamp' object has no attribute 'to_datetime'"
     ]
    }
   ],
   "source": [
    "first_date.to_datetime()\n",
    "first_date"
   ]
  },
  {
   "cell_type": "code",
   "execution_count": 178,
   "metadata": {},
   "outputs": [
    {
     "data": {
      "text/plain": [
       "date       datetime64[ns]\n",
       "speaker            object\n",
       "title              object\n",
       "link               object\n",
       "text               object\n",
       "dtype: object"
      ]
     },
     "execution_count": 178,
     "metadata": {},
     "output_type": "execute_result"
    }
   ],
   "source": [
    "df.dtypes"
   ]
  },
  {
   "cell_type": "code",
   "execution_count": 181,
   "metadata": {},
   "outputs": [
    {
     "name": "stdout",
     "output_type": "stream",
     "text": [
      "<class 'numpy.datetime64'>\n"
     ]
    }
   ],
   "source": [
    "print(type(unique_dates[0]))"
   ]
  },
  {
   "cell_type": "code",
   "execution_count": 236,
   "metadata": {},
   "outputs": [
    {
     "data": {
      "text/html": [
       "<div>\n",
       "<style scoped>\n",
       "    .dataframe tbody tr th:only-of-type {\n",
       "        vertical-align: middle;\n",
       "    }\n",
       "\n",
       "    .dataframe tbody tr th {\n",
       "        vertical-align: top;\n",
       "    }\n",
       "\n",
       "    .dataframe thead th {\n",
       "        text-align: right;\n",
       "    }\n",
       "</style>\n",
       "<table border=\"1\" class=\"dataframe\">\n",
       "  <thead>\n",
       "    <tr style=\"text-align: right;\">\n",
       "      <th></th>\n",
       "      <th>date</th>\n",
       "      <th>speaker</th>\n",
       "      <th>title</th>\n",
       "      <th>link</th>\n",
       "      <th>text</th>\n",
       "    </tr>\n",
       "  </thead>\n",
       "  <tbody>\n",
       "    <tr>\n",
       "      <th>0</th>\n",
       "      <td>2019-03-25</td>\n",
       "      <td>Governor Michelle W. Bowman</td>\n",
       "      <td>Welcoming Remarks</td>\n",
       "      <td>/newsevents/speech/bowman20190325a.htm</td>\n",
       "      <td>Good afternoon. It is a great pleasure for me ...</td>\n",
       "    </tr>\n",
       "    <tr>\n",
       "      <th>1</th>\n",
       "      <td>2019-03-12</td>\n",
       "      <td>Governor Lael Brainard</td>\n",
       "      <td>The Community Reinvestment Act: How Can We Pre...</td>\n",
       "      <td>/newsevents/speech/brainard20190312a.htm</td>\n",
       "      <td>It is a pleasure to have an opportunity to dis...</td>\n",
       "    </tr>\n",
       "    <tr>\n",
       "      <th>2</th>\n",
       "      <td>2019-03-11</td>\n",
       "      <td>Chair Jerome H. Powell</td>\n",
       "      <td>Brief Remarks</td>\n",
       "      <td>/newsevents/speech/powell20190311a.htm</td>\n",
       "      <td>Good evening, and thank you for inviting me to...</td>\n",
       "    </tr>\n",
       "    <tr>\n",
       "      <th>3</th>\n",
       "      <td>2019-03-08</td>\n",
       "      <td>Chair Jerome H. Powell</td>\n",
       "      <td>Monetary Policy: Normalization and the Road Ahead</td>\n",
       "      <td>/newsevents/speech/powell20190308a.htm</td>\n",
       "      <td>Thank you for the opportunity to speak here to...</td>\n",
       "    </tr>\n",
       "    <tr>\n",
       "      <th>4</th>\n",
       "      <td>2019-03-07</td>\n",
       "      <td>Governor Lael Brainard</td>\n",
       "      <td>Navigating Cautiously</td>\n",
       "      <td>/newsevents/speech/brainard20190307a.htm</td>\n",
       "      <td>While our economy continues to add jobs at a s...</td>\n",
       "    </tr>\n",
       "  </tbody>\n",
       "</table>\n",
       "</div>"
      ],
      "text/plain": [
       "        date                      speaker  \\\n",
       "0 2019-03-25  Governor Michelle W. Bowman   \n",
       "1 2019-03-12       Governor Lael Brainard   \n",
       "2 2019-03-11       Chair Jerome H. Powell   \n",
       "3 2019-03-08       Chair Jerome H. Powell   \n",
       "4 2019-03-07       Governor Lael Brainard   \n",
       "\n",
       "                                               title  \\\n",
       "0                                  Welcoming Remarks   \n",
       "1  The Community Reinvestment Act: How Can We Pre...   \n",
       "2                                      Brief Remarks   \n",
       "3  Monetary Policy: Normalization and the Road Ahead   \n",
       "4                              Navigating Cautiously   \n",
       "\n",
       "                                       link  \\\n",
       "0    /newsevents/speech/bowman20190325a.htm   \n",
       "1  /newsevents/speech/brainard20190312a.htm   \n",
       "2    /newsevents/speech/powell20190311a.htm   \n",
       "3    /newsevents/speech/powell20190308a.htm   \n",
       "4  /newsevents/speech/brainard20190307a.htm   \n",
       "\n",
       "                                                text  \n",
       "0  Good afternoon. It is a great pleasure for me ...  \n",
       "1  It is a pleasure to have an opportunity to dis...  \n",
       "2  Good evening, and thank you for inviting me to...  \n",
       "3  Thank you for the opportunity to speak here to...  \n",
       "4  While our economy continues to add jobs at a s...  "
      ]
     },
     "execution_count": 236,
     "metadata": {},
     "output_type": "execute_result"
    }
   ],
   "source": [
    "df.head()"
   ]
  },
  {
   "cell_type": "code",
   "execution_count": 238,
   "metadata": {},
   "outputs": [
    {
     "name": "stdout",
     "output_type": "stream",
     "text": [
      "Variable             Type                Data/Info\n",
      "--------------------------------------------------\n",
      "CountVectorizer      type                <class 'sklearn.feature_e<...>on.text.CountVectorizer'>\n",
      "PorterStemmer        ABCMeta             <class 'nltk.stem.porter.PorterStemmer'>\n",
      "RegexpTokenizer      ABCMeta             <class 'nltk.tokenize.regexp.RegexpTokenizer'>\n",
      "SnowballStemmer      ABCMeta             <class 'nltk.stem.snowball.SnowballStemmer'>\n",
      "TfidfVectorizer      type                <class 'sklearn.feature_e<...>on.text.TfidfVectorizer'>\n",
      "WordNetLemmatizer    type                <class 'nltk.stem.wordnet.WordNetLemmatizer'>\n",
      "a                    Timestamp           2019-03-25 00:00:00\n",
      "aa                   ndarray             1x2000: 2000 elems, type `float64`, 16000 bytes\n",
      "all_dates            ndarray             642: 642 elems, type `datetime64[ns]`, 5136 bytes\n",
      "avg                  ndarray             2000: 2000 elems, type `float64`, 16000 bytes\n",
      "avg_cos              float64             0.284802968553296\n",
      "b                    datetime64          2006-01-18T00:00:00.000000000\n",
      "cosine_sims          ndarray             1x10: 10 elems, type `float64`, 80 bytes\n",
      "create_speech_list   function            <function create_speech_list at 0x11e0f39d8>\n",
      "datetime             type                <class 'datetime.datetime'>\n",
      "df                   DataFrame                     date           <...>n\\n[733 rows x 5 columns]\n",
      "df3                  DataFrame                    date            <...>tt for inviting me t...  \n",
      "df_new               Series              date                     <...>\\nName: 41, dtype: object\n",
      "df_test              DataFrame                    date            <...>tt for inviting me t...  \n",
      "doc_list             list                n=733\n",
      "fd                   datetime64          2006-02-24T00:00:00.000000000\n",
      "first_date           Timestamp           2006-02-24 00:00:00\n",
      "get_top_values       function            <function get_top_values at 0x119a4a0d0>\n",
      "l_avg                list                n=2000\n",
      "last_cos             float64             0.1421336102082461\n",
      "linear_kernel        function            <function linear_kernel at 0x1188d7d08>\n",
      "n_speeches           int                 5\n",
      "new_tokens           csr_matrix            (0, 1997)\t0.01337729413<...>, 0)\t0.053509176547177704\n",
      "np                   module              <module 'numpy' from '/an<...>kages/numpy/__init__.py'>\n",
      "one_text             str                 Good afternoon. It is a p<...>rg/about/. Return to text\n",
      "pd                   module              <module 'pandas' from '/a<...>ages/pandas/__init__.py'>\n",
      "pickle               module              <module 'pickle' from '/a<...>lib/python3.6/pickle.py'>\n",
      "plt                  module              <module 'matplotlib.pyplo<...>es/matplotlib/pyplot.py'>\n",
      "stops                set                 {'oecd', 'disabled', 'lea<...>inable', 'transitioning'}\n",
      "stopwords            LazyCorpusLoader    <WordListCorpusReader in <...>pwords' (not loaded yet)>\n",
      "string               module              <module 'string' from '/a<...>lib/python3.6/string.py'>\n",
      "temp                 Series              0     2019-03-25\\n1     2<...>33, dtype: datetime64[ns]\n",
      "test_docs            list                n=10\n",
      "tfidf_arr            ndarray             733x1000: 733000 elems, type `float64`, 5864000 bytes (5.59234619140625 Mb)\n",
      "tfidf_vectorized     ndarray             10x2000: 20000 elems, type `float64`, 160000 bytes (156.25 kb)\n",
      "tfidvect             TfidfVectorizer     TfidfVectorizer(analyzer=<...>n        vocabulary=None)\n",
      "this_date            datetime            2018-09-21 00:00:00\n",
      "total                ndarray             2000: 2000 elems, type `float64`, 16000 bytes\n",
      "ud                   ndarray             642: 642 elems, type `<U28`, 71904 bytes\n",
      "unique_dates         ndarray             642: 642 elems, type `datetime64[ns]`, 5136 bytes\n",
      "v_words              list                n=2000\n",
      "vc_dates             Series              2010-04-08    4\\n2006-05-<...>Length: 642, dtype: int64\n",
      "vectorizer2          TfidfVectorizer     TfidfVectorizer(analyzer=<...>n        vocabulary=None)\n",
      "vectors2             ndarray             1x2000: 2000 elems, type `float64`, 16000 bytes\n",
      "vocab                dict                n=2000\n",
      "vocab2               dict                n=2000\n",
      "word_tokenize        function            <function word_tokenize at 0x118cc82f0>\n",
      "words                list                n=2000\n",
      "x                    Series              0     2019-03-25\\n1     2<...>33, dtype: datetime64[ns]\n"
     ]
    }
   ],
   "source": [
    "whos"
   ]
  },
  {
   "cell_type": "code",
   "execution_count": 239,
   "metadata": {},
   "outputs": [],
   "source": [
    "cos_last = np.zeros_like(df['date'])"
   ]
  },
  {
   "cell_type": "code",
   "execution_count": 241,
   "metadata": {},
   "outputs": [],
   "source": [
    "cos_avg_n = np.zeros_like(df['date'])"
   ]
  },
  {
   "cell_type": "code",
   "execution_count": 242,
   "metadata": {},
   "outputs": [
    {
     "data": {
      "text/plain": [
       "(733,)"
      ]
     },
     "execution_count": 242,
     "metadata": {},
     "output_type": "execute_result"
    }
   ],
   "source": [
    "cos_last.shape"
   ]
  },
  {
   "cell_type": "code",
   "execution_count": null,
   "metadata": {},
   "outputs": [],
   "source": []
  }
 ],
 "metadata": {
  "kernelspec": {
   "display_name": "Python 3",
   "language": "python",
   "name": "python3"
  },
  "language_info": {
   "codemirror_mode": {
    "name": "ipython",
    "version": 3
   },
   "file_extension": ".py",
   "mimetype": "text/x-python",
   "name": "python",
   "nbconvert_exporter": "python",
   "pygments_lexer": "ipython3",
   "version": "3.6.8"
  }
 },
 "nbformat": 4,
 "nbformat_minor": 2
}
