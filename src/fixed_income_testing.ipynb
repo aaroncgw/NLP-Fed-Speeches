{
 "cells": [
  {
   "cell_type": "markdown",
   "metadata": {},
   "source": [
    "## Testing a basic yield curve to zero to forward process"
   ]
  },
  {
   "cell_type": "code",
   "execution_count": 16,
   "metadata": {},
   "outputs": [],
   "source": [
    "import numpy as np\n",
    "import pandas as pd"
   ]
  },
  {
   "cell_type": "code",
   "execution_count": 1,
   "metadata": {},
   "outputs": [],
   "source": [
    "def zero_coupon_bond_price(par, ytm, time):\n",
    "    ''' Takes the par price, ytm and time to maturity and returns the spot price of the bond'''\n",
    "    return par / (1 + ytm) ** time"
   ]
  },
  {
   "cell_type": "code",
   "execution_count": 11,
   "metadata": {},
   "outputs": [
    {
     "data": {
      "text/plain": [
       "99.50371902099891"
      ]
     },
     "execution_count": 11,
     "metadata": {},
     "output_type": "execute_result"
    }
   ],
   "source": [
    "par = 100\n",
    "ytm = 0.01\n",
    "time = 0.5\n",
    "price = zero_coupon_bond_price(par, ytm, time)\n",
    "price"
   ]
  },
  {
   "cell_type": "code",
   "execution_count": 5,
   "metadata": {},
   "outputs": [
    {
     "data": {
      "text/plain": [
       "99.6509969874776"
      ]
     },
     "execution_count": 5,
     "metadata": {},
     "output_type": "execute_result"
    }
   ],
   "source": [
    "price"
   ]
  },
  {
   "cell_type": "code",
   "execution_count": 13,
   "metadata": {},
   "outputs": [],
   "source": [
    "\n",
    "market_bond_dict = [\n",
    "    {\n",
    "        'Face': 100,\n",
    "        'Maturity': 0.25,\n",
    "        'Coupon': 0,\n",
    "        'Price': 97.50\n",
    "    },\n",
    "    {\n",
    "        'Face': 100,\n",
    "        'Maturity': 0.5,\n",
    "        'Coupon': 0,\n",
    "        'Price': 94.90\n",
    "    },\n",
    "    {\n",
    "        'Face': 100,\n",
    "        'Maturity': 1.0,\n",
    "        'Coupon': 0,\n",
    "        'Price': 90.00\n",
    "    },\n",
    "    {\n",
    "        'Face': 100,\n",
    "        'Maturity': 1.5,\n",
    "        'Coupon': 8,\n",
    "        'Price': 96.00\n",
    "    },\n",
    "    {\n",
    "        'Face': 100,\n",
    "        'Maturity': 2.0,\n",
    "        'Coupon': 12,\n",
    "        'Price': 101.60\n",
    "    }\n",
    "]"
   ]
  },
  {
   "cell_type": "code",
   "execution_count": 14,
   "metadata": {},
   "outputs": [
    {
     "data": {
      "text/plain": [
       "[{'Face': 100, 'Maturity': 0.25, 'Coupon': 0, 'Price': 97.5},\n",
       " {'Face': 100, 'Maturity': 0.5, 'Coupon': 0, 'Price': 94.9},\n",
       " {'Face': 100, 'Maturity': 1.0, 'Coupon': 0, 'Price': 90.0},\n",
       " {'Face': 100, 'Maturity': 1.5, 'Coupon': 8, 'Price': 96.0},\n",
       " {'Face': 100, 'Maturity': 2.0, 'Coupon': 12, 'Price': 101.6}]"
      ]
     },
     "execution_count": 14,
     "metadata": {},
     "output_type": "execute_result"
    }
   ],
   "source": [
    "market_bond_dict"
   ]
  },
  {
   "cell_type": "code",
   "execution_count": 18,
   "metadata": {},
   "outputs": [],
   "source": [
    "market_bonds = pd.DataFrame(market_bond_dict)"
   ]
  },
  {
   "cell_type": "code",
   "execution_count": 19,
   "metadata": {},
   "outputs": [
    {
     "data": {
      "text/html": [
       "<div>\n",
       "<style scoped>\n",
       "    .dataframe tbody tr th:only-of-type {\n",
       "        vertical-align: middle;\n",
       "    }\n",
       "\n",
       "    .dataframe tbody tr th {\n",
       "        vertical-align: top;\n",
       "    }\n",
       "\n",
       "    .dataframe thead th {\n",
       "        text-align: right;\n",
       "    }\n",
       "</style>\n",
       "<table border=\"1\" class=\"dataframe\">\n",
       "  <thead>\n",
       "    <tr style=\"text-align: right;\">\n",
       "      <th></th>\n",
       "      <th>Coupon</th>\n",
       "      <th>Face</th>\n",
       "      <th>Maturity</th>\n",
       "      <th>Price</th>\n",
       "    </tr>\n",
       "  </thead>\n",
       "  <tbody>\n",
       "    <tr>\n",
       "      <th>0</th>\n",
       "      <td>0</td>\n",
       "      <td>100</td>\n",
       "      <td>0.25</td>\n",
       "      <td>97.5</td>\n",
       "    </tr>\n",
       "    <tr>\n",
       "      <th>1</th>\n",
       "      <td>0</td>\n",
       "      <td>100</td>\n",
       "      <td>0.50</td>\n",
       "      <td>94.9</td>\n",
       "    </tr>\n",
       "    <tr>\n",
       "      <th>2</th>\n",
       "      <td>0</td>\n",
       "      <td>100</td>\n",
       "      <td>1.00</td>\n",
       "      <td>90.0</td>\n",
       "    </tr>\n",
       "    <tr>\n",
       "      <th>3</th>\n",
       "      <td>8</td>\n",
       "      <td>100</td>\n",
       "      <td>1.50</td>\n",
       "      <td>96.0</td>\n",
       "    </tr>\n",
       "    <tr>\n",
       "      <th>4</th>\n",
       "      <td>12</td>\n",
       "      <td>100</td>\n",
       "      <td>2.00</td>\n",
       "      <td>101.6</td>\n",
       "    </tr>\n",
       "  </tbody>\n",
       "</table>\n",
       "</div>"
      ],
      "text/plain": [
       "   Coupon  Face  Maturity  Price\n",
       "0       0   100      0.25   97.5\n",
       "1       0   100      0.50   94.9\n",
       "2       0   100      1.00   90.0\n",
       "3       8   100      1.50   96.0\n",
       "4      12   100      2.00  101.6"
      ]
     },
     "execution_count": 19,
     "metadata": {},
     "output_type": "execute_result"
    }
   ],
   "source": [
    "market_bonds\n"
   ]
  },
  {
   "cell_type": "code",
   "execution_count": 21,
   "metadata": {},
   "outputs": [],
   "source": [
    "three_month_zcb_interest = 100 / 94.9\n",
    "three_month_spot_rate = (4* np.log(three_month_zcb_interest))\n",
    "\n",
    "#print('3M interest ', (three_month_zcb_interet -1)*100))"
   ]
  },
  {
   "cell_type": "code",
   "execution_count": 22,
   "metadata": {},
   "outputs": [
    {
     "data": {
      "text/plain": [
       "1.053740779768177"
      ]
     },
     "execution_count": 22,
     "metadata": {},
     "output_type": "execute_result"
    }
   ],
   "source": [
    "three_month_zcb_interest"
   ]
  },
  {
   "cell_type": "code",
   "execution_count": 23,
   "metadata": {},
   "outputs": [
    {
     "data": {
      "text/plain": [
       "0.20938592148883678"
      ]
     },
     "execution_count": 23,
     "metadata": {},
     "output_type": "execute_result"
    }
   ],
   "source": [
    "three_month_spot_rate"
   ]
  },
  {
   "cell_type": "code",
   "execution_count": 24,
   "metadata": {},
   "outputs": [
    {
     "data": {
      "text/plain": [
       "0.052346480372209195"
      ]
     },
     "execution_count": 24,
     "metadata": {},
     "output_type": "execute_result"
    }
   ],
   "source": [
    "np.log(three_month_zcb_interest)"
   ]
  },
  {
   "cell_type": "code",
   "execution_count": 25,
   "metadata": {},
   "outputs": [],
   "source": [
    "def spot_rate(par, price, maturity):\n",
    "    total_interest_earned = par / price\n",
    "    spot = ((1/maturity) * np.log(total_interest_earned))\n",
    "    total_interest_earned = total_interest_earned - 1\n",
    "    \n",
    "    return spot, total_interest_earned"
   ]
  },
  {
   "cell_type": "code",
   "execution_count": 28,
   "metadata": {},
   "outputs": [
    {
     "name": "stdout",
     "output_type": "stream",
     "text": [
      "6m interest =  5.3741%\n",
      "6m spot     =  10.4693%\n",
      "1y interest =  11.1111%\n",
      "1y spot     =  10.5361%\n"
     ]
    }
   ],
   "source": [
    "spot, int = spot_rate(100,94.9,0.5)\n",
    "print('6m interest =  {0:.4f}%'.format((int)*100))\n",
    "print('6m spot     =  {0:.4f}%'.format(spot*100))\n",
    "\n",
    "spot, int = spot_rate(100,90.0,1)\n",
    "print('1y interest =  {0:.4f}%'.format((int)*100))\n",
    "print('1y spot     =  {0:.4f}%'.format(spot*100))"
   ]
  },
  {
   "cell_type": "code",
   "execution_count": 29,
   "metadata": {},
   "outputs": [],
   "source": [
    "market_bonds['spot_rate'] = market_bonds.apply(lambda x:\n",
    "                                              spot_rate(x['Face'],\n",
    "                                                       x['Price'],\n",
    "                                                       x['Maturity'])[0],\n",
    "                                              axis =1)"
   ]
  },
  {
   "cell_type": "code",
   "execution_count": 30,
   "metadata": {},
   "outputs": [
    {
     "data": {
      "text/html": [
       "<div>\n",
       "<style scoped>\n",
       "    .dataframe tbody tr th:only-of-type {\n",
       "        vertical-align: middle;\n",
       "    }\n",
       "\n",
       "    .dataframe tbody tr th {\n",
       "        vertical-align: top;\n",
       "    }\n",
       "\n",
       "    .dataframe thead th {\n",
       "        text-align: right;\n",
       "    }\n",
       "</style>\n",
       "<table border=\"1\" class=\"dataframe\">\n",
       "  <thead>\n",
       "    <tr style=\"text-align: right;\">\n",
       "      <th></th>\n",
       "      <th>Coupon</th>\n",
       "      <th>Face</th>\n",
       "      <th>Maturity</th>\n",
       "      <th>Price</th>\n",
       "      <th>spot_rate</th>\n",
       "    </tr>\n",
       "  </thead>\n",
       "  <tbody>\n",
       "    <tr>\n",
       "      <th>0</th>\n",
       "      <td>0</td>\n",
       "      <td>100</td>\n",
       "      <td>0.25</td>\n",
       "      <td>97.5</td>\n",
       "      <td>0.101271</td>\n",
       "    </tr>\n",
       "    <tr>\n",
       "      <th>1</th>\n",
       "      <td>0</td>\n",
       "      <td>100</td>\n",
       "      <td>0.50</td>\n",
       "      <td>94.9</td>\n",
       "      <td>0.104693</td>\n",
       "    </tr>\n",
       "    <tr>\n",
       "      <th>2</th>\n",
       "      <td>0</td>\n",
       "      <td>100</td>\n",
       "      <td>1.00</td>\n",
       "      <td>90.0</td>\n",
       "      <td>0.105361</td>\n",
       "    </tr>\n",
       "    <tr>\n",
       "      <th>3</th>\n",
       "      <td>8</td>\n",
       "      <td>100</td>\n",
       "      <td>1.50</td>\n",
       "      <td>96.0</td>\n",
       "      <td>0.027215</td>\n",
       "    </tr>\n",
       "    <tr>\n",
       "      <th>4</th>\n",
       "      <td>12</td>\n",
       "      <td>100</td>\n",
       "      <td>2.00</td>\n",
       "      <td>101.6</td>\n",
       "      <td>-0.007937</td>\n",
       "    </tr>\n",
       "  </tbody>\n",
       "</table>\n",
       "</div>"
      ],
      "text/plain": [
       "   Coupon  Face  Maturity  Price  spot_rate\n",
       "0       0   100      0.25   97.5   0.101271\n",
       "1       0   100      0.50   94.9   0.104693\n",
       "2       0   100      1.00   90.0   0.105361\n",
       "3       8   100      1.50   96.0   0.027215\n",
       "4      12   100      2.00  101.6  -0.007937"
      ]
     },
     "execution_count": 30,
     "metadata": {},
     "output_type": "execute_result"
    }
   ],
   "source": [
    "market_bonds"
   ]
  },
  {
   "cell_type": "code",
   "execution_count": 31,
   "metadata": {},
   "outputs": [],
   "source": [
    "market_bonds['coupon_freq']= 2"
   ]
  },
  {
   "cell_type": "code",
   "execution_count": 32,
   "metadata": {},
   "outputs": [
    {
     "data": {
      "text/html": [
       "<div>\n",
       "<style scoped>\n",
       "    .dataframe tbody tr th:only-of-type {\n",
       "        vertical-align: middle;\n",
       "    }\n",
       "\n",
       "    .dataframe tbody tr th {\n",
       "        vertical-align: top;\n",
       "    }\n",
       "\n",
       "    .dataframe thead th {\n",
       "        text-align: right;\n",
       "    }\n",
       "</style>\n",
       "<table border=\"1\" class=\"dataframe\">\n",
       "  <thead>\n",
       "    <tr style=\"text-align: right;\">\n",
       "      <th></th>\n",
       "      <th>Coupon</th>\n",
       "      <th>Face</th>\n",
       "      <th>Maturity</th>\n",
       "      <th>Price</th>\n",
       "      <th>spot_rate</th>\n",
       "      <th>coupon_freq</th>\n",
       "    </tr>\n",
       "  </thead>\n",
       "  <tbody>\n",
       "    <tr>\n",
       "      <th>0</th>\n",
       "      <td>0</td>\n",
       "      <td>100</td>\n",
       "      <td>0.25</td>\n",
       "      <td>97.5</td>\n",
       "      <td>0.101271</td>\n",
       "      <td>2</td>\n",
       "    </tr>\n",
       "    <tr>\n",
       "      <th>1</th>\n",
       "      <td>0</td>\n",
       "      <td>100</td>\n",
       "      <td>0.50</td>\n",
       "      <td>94.9</td>\n",
       "      <td>0.104693</td>\n",
       "      <td>2</td>\n",
       "    </tr>\n",
       "    <tr>\n",
       "      <th>2</th>\n",
       "      <td>0</td>\n",
       "      <td>100</td>\n",
       "      <td>1.00</td>\n",
       "      <td>90.0</td>\n",
       "      <td>0.105361</td>\n",
       "      <td>2</td>\n",
       "    </tr>\n",
       "    <tr>\n",
       "      <th>3</th>\n",
       "      <td>8</td>\n",
       "      <td>100</td>\n",
       "      <td>1.50</td>\n",
       "      <td>96.0</td>\n",
       "      <td>0.027215</td>\n",
       "      <td>2</td>\n",
       "    </tr>\n",
       "    <tr>\n",
       "      <th>4</th>\n",
       "      <td>12</td>\n",
       "      <td>100</td>\n",
       "      <td>2.00</td>\n",
       "      <td>101.6</td>\n",
       "      <td>-0.007937</td>\n",
       "      <td>2</td>\n",
       "    </tr>\n",
       "  </tbody>\n",
       "</table>\n",
       "</div>"
      ],
      "text/plain": [
       "   Coupon  Face  Maturity  Price  spot_rate  coupon_freq\n",
       "0       0   100      0.25   97.5   0.101271            2\n",
       "1       0   100      0.50   94.9   0.104693            2\n",
       "2       0   100      1.00   90.0   0.105361            2\n",
       "3       8   100      1.50   96.0   0.027215            2\n",
       "4      12   100      2.00  101.6  -0.007937            2"
      ]
     },
     "execution_count": 32,
     "metadata": {},
     "output_type": "execute_result"
    }
   ],
   "source": [
    "market_bonds\n"
   ]
  },
  {
   "cell_type": "code",
   "execution_count": 33,
   "metadata": {},
   "outputs": [],
   "source": [
    "# determine the amount for each coupon payment\n",
    "\n",
    "def bond_intermediate_coupon_npv(coupon, frequency, periods):\n",
    "\n",
    "    coupon_amt = coupon / frequency\n",
    "\n",
    "    coupon_npv = 0\n",
    "\n",
    "    for i in range(1,periods):\n",
    "        # range is exclusive of the end so this will give us the first and second\n",
    "        # coupons which is what we need to discount; the final coupon will be\n",
    "        # evaluated with the principal payment to determine the spot rate for that\n",
    "        # period.\n",
    "\n",
    "        # determine which period we are evaluating\n",
    "        period = i / frequency\n",
    "\n",
    "        # get the spot rate for the period from dataframe\n",
    "        period_spot = market_bonds.loc[market_bonds['Maturity'] == period\n",
    "                                       , 'spot_rate'].values\n",
    "\n",
    "        discounted_value = coupon_amt / np.exp(period_spot * period)\n",
    "\n",
    "        coupon_npv += discounted_value[0]\n",
    "        print('NPV per {0}: {1:.2f}'.format(period, discounted_value[0]))\n",
    "\n",
    "    print('Coupon NPV: {0:.2f}'.format(coupon_npv))\n",
    "    \n",
    "    return coupon_npv"
   ]
  },
  {
   "cell_type": "code",
   "execution_count": 34,
   "metadata": {},
   "outputs": [
    {
     "name": "stdout",
     "output_type": "stream",
     "text": [
      "NPV per 0.5: 3.80\n",
      "NPV per 1.0: 3.60\n",
      "Coupon NPV: 7.40\n"
     ]
    }
   ],
   "source": [
    "example_bond_coupons = bond_intermediate_coupon_npv(8, 2, 3)\n"
   ]
  },
  {
   "cell_type": "code",
   "execution_count": null,
   "metadata": {},
   "outputs": [],
   "source": []
  },
  {
   "cell_type": "code",
   "execution_count": null,
   "metadata": {},
   "outputs": [],
   "source": []
  },
  {
   "cell_type": "code",
   "execution_count": null,
   "metadata": {},
   "outputs": [],
   "source": []
  },
  {
   "cell_type": "code",
   "execution_count": null,
   "metadata": {},
   "outputs": [],
   "source": []
  }
 ],
 "metadata": {
  "kernelspec": {
   "display_name": "Python 3",
   "language": "python",
   "name": "python3"
  },
  "language_info": {
   "codemirror_mode": {
    "name": "ipython",
    "version": 3
   },
   "file_extension": ".py",
   "mimetype": "text/x-python",
   "name": "python",
   "nbconvert_exporter": "python",
   "pygments_lexer": "ipython3",
   "version": "3.6.8"
  }
 },
 "nbformat": 4,
 "nbformat_minor": 2
}
