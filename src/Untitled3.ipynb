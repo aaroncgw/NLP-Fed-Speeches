{
 "cells": [
  {
   "cell_type": "code",
   "execution_count": 2,
   "metadata": {},
   "outputs": [],
   "source": [
    "import pickle\n",
    "import numpy as np\n",
    "import pandas as pd\n",
    "import matplotlib.pyplot as plt"
   ]
  },
  {
   "cell_type": "code",
   "execution_count": 3,
   "metadata": {},
   "outputs": [
    {
     "name": "stdout",
     "output_type": "stream",
     "text": [
      "<class 'pandas.core.frame.DataFrame'>\n",
      "RangeIndex: 737 entries, 0 to 736\n",
      "Data columns (total 5 columns):\n",
      "date       737 non-null object\n",
      "speaker    737 non-null object\n",
      "title      737 non-null object\n",
      "link       737 non-null object\n",
      "text       737 non-null object\n",
      "dtypes: object(5)\n",
      "memory usage: 28.9+ KB\n"
     ]
    }
   ],
   "source": [
    "    df = pickle.load( open( \"../data/mvp_fed_speeches\", \"rb\" ) )\n",
    "    df.info()\n"
   ]
  },
  {
   "cell_type": "code",
   "execution_count": 11,
   "metadata": {},
   "outputs": [
    {
     "data": {
      "text/plain": [
       "160    Identifying Opportunities for Reducing Regulat...\n",
       "161                             Come with Me to the FOMC\n",
       "162                                        Brief Remarks\n",
       "163                 Asia and the Global Financial Crisis\n",
       "164                    Monetary Policy under Uncertainty\n",
       "165    Don’t Chase the Needles: An Optimistic Assessm...\n",
       "166          Financial Innovation: A World in Transition\n",
       "167    Toward Building a More Effective Resolution Re...\n",
       "168                          Lean, Clean, and In-Between\n",
       "169    The Effects of the Great Recession on Central ...\n",
       "170    FinTech and the Search for Full Stack Financia...\n",
       "171    Why Are Interest Rates So Low? Causes and Impl...\n",
       "172    Perspectives on Inequality and Opportunity fro...\n",
       "173    A Supervisory Perspective on Enterprise Risk M...\n",
       "174    Bank Regulation and Supervision: Balancing Ben...\n",
       "175                       Community Investment in Denver\n",
       "176                 The U.S. Economy and Monetary Policy\n",
       "177    Monetary Policy Objectives and Tools in a Low-...\n",
       "178    Stabilizing the Financial Markets and the Economy\n",
       "179                                     Economic Outlook\n",
       "180    The Recent Financial Turmoil and its Economic ...\n",
       "181              Macroeconomic Research After the Crisis\n",
       "182    Celebrating 20 Years of the Bank of Mexico's I...\n",
       "183    U.S. Monetary Policy and International Implica...\n",
       "184                                              Remarks\n",
       "185                                 The Economic Outlook\n",
       "186    Prospects for Emerging Market Economies in a N...\n",
       "187           Rethinking Monetary Policy in a New Normal\n",
       "188                 Economic Outlook and Monetary Policy\n",
       "189                                    John Taylor Rules\n",
       "190                                      Opening remarks\n",
       "191                     Globalization: A Force for Good?\n",
       "192                     U.S. Economy and Monetary Policy\n",
       "193           The Federal Reserve and the Global Economy\n",
       "194    Communications Challenges and Quantitative Easing\n",
       "195               Evaluating Large-Scale Asset Purchases\n",
       "196                       Japan in the Global Economy II\n",
       "197    Macroprudential Supervision and Monetary Polic...\n",
       "198    Markets, Financial Institutions, and Consumers...\n",
       "199    A U.S. Supervisor's Perspective on Current Ban...\n",
       "200                       Financial Stability Regulation\n",
       "201                The U.S. Economy and Monetary Policy \n",
       "202    Monetary Policy Research and the Financial Cri...\n",
       "203       The Federal Reserve's Balance Sheet: An Update\n",
       "204                            In the Wake of the Crisis\n",
       "205    Distributed Ledger Technology: Implications fo...\n",
       "206            Current Economic and Financial Conditions\n",
       "207                        Treasury Markets and the TMPG\n",
       "208                                   Low Interest Rates\n",
       "209    Addressing Long-Term Vacant Properties to Supp...\n",
       "Name: title, dtype: object"
      ]
     },
     "execution_count": 11,
     "metadata": {},
     "output_type": "execute_result"
    }
   ],
   "source": [
    "df['title'][160:210]"
   ]
  },
  {
   "cell_type": "code",
   "execution_count": 12,
   "metadata": {},
   "outputs": [],
   "source": [
    "policy = df[df['title'].str.contains('Policy')]"
   ]
  },
  {
   "cell_type": "code",
   "execution_count": 14,
   "metadata": {},
   "outputs": [
    {
     "data": {
      "text/html": [
       "<div>\n",
       "<style scoped>\n",
       "    .dataframe tbody tr th:only-of-type {\n",
       "        vertical-align: middle;\n",
       "    }\n",
       "\n",
       "    .dataframe tbody tr th {\n",
       "        vertical-align: top;\n",
       "    }\n",
       "\n",
       "    .dataframe thead th {\n",
       "        text-align: right;\n",
       "    }\n",
       "</style>\n",
       "<table border=\"1\" class=\"dataframe\">\n",
       "  <thead>\n",
       "    <tr style=\"text-align: right;\">\n",
       "      <th></th>\n",
       "      <th>date</th>\n",
       "      <th>speaker</th>\n",
       "      <th>title</th>\n",
       "      <th>link</th>\n",
       "      <th>text</th>\n",
       "    </tr>\n",
       "  </thead>\n",
       "  <tbody>\n",
       "    <tr>\n",
       "      <th>count</th>\n",
       "      <td>128</td>\n",
       "      <td>128</td>\n",
       "      <td>128</td>\n",
       "      <td>128</td>\n",
       "      <td>128</td>\n",
       "    </tr>\n",
       "    <tr>\n",
       "      <th>unique</th>\n",
       "      <td>125</td>\n",
       "      <td>18</td>\n",
       "      <td>123</td>\n",
       "      <td>128</td>\n",
       "      <td>128</td>\n",
       "    </tr>\n",
       "    <tr>\n",
       "      <th>top</th>\n",
       "      <td>01/03/2010</td>\n",
       "      <td>Chairman Ben S. Bernanke</td>\n",
       "      <td>The Economic Outlook and Monetary Policy</td>\n",
       "      <td>/newsevents/speech/powell20181002a.htm</td>\n",
       "      <td>Thank you, Claudia, and thanks to the American...</td>\n",
       "    </tr>\n",
       "    <tr>\n",
       "      <th>freq</th>\n",
       "      <td>2</td>\n",
       "      <td>24</td>\n",
       "      <td>4</td>\n",
       "      <td>1</td>\n",
       "      <td>1</td>\n",
       "    </tr>\n",
       "  </tbody>\n",
       "</table>\n",
       "</div>"
      ],
      "text/plain": [
       "              date                   speaker  \\\n",
       "count          128                       128   \n",
       "unique         125                        18   \n",
       "top     01/03/2010  Chairman Ben S. Bernanke   \n",
       "freq             2                        24   \n",
       "\n",
       "                                           title  \\\n",
       "count                                        128   \n",
       "unique                                       123   \n",
       "top     The Economic Outlook and Monetary Policy   \n",
       "freq                                           4   \n",
       "\n",
       "                                          link  \\\n",
       "count                                      128   \n",
       "unique                                     128   \n",
       "top     /newsevents/speech/powell20181002a.htm   \n",
       "freq                                         1   \n",
       "\n",
       "                                                     text  \n",
       "count                                                 128  \n",
       "unique                                                128  \n",
       "top     Thank you, Claudia, and thanks to the American...  \n",
       "freq                                                    1  "
      ]
     },
     "execution_count": 14,
     "metadata": {},
     "output_type": "execute_result"
    }
   ],
   "source": [
    "policy.describe()"
   ]
  },
  {
   "cell_type": "code",
   "execution_count": 23,
   "metadata": {},
   "outputs": [
    {
     "data": {
      "text/plain": [
       "0      Monetary Policy: Normalization and the Road Ahead\n",
       "12             U.S. Economic Outlook and Monetary Policy\n",
       "15     The Federal Reserve's Review of Its Monetary P...\n",
       "45              The Economic Outlook and Monetary Policy\n",
       "49     Normalizing Monetary Policy When the Neutral I...\n",
       "52                       Monetary Policy and Uncertainty\n",
       "61     The Federal Reserve’s Enhanced Communication S...\n",
       "67              Data Dependence and U.S. Monetary Policy\n",
       "74             The Economic Recovery and Economic Policy\n",
       "76                     Communication and Monetary Policy\n",
       "79            Monetary Policy and Asset Prices Revisited\n",
       "86             Policy Challenges for the Federal Reserve\n",
       "87             On the Outlook for the Economy and Policy\n",
       "93     Monetary Policy Accommodation, Risk-Taking, an...\n",
       "95              Policy Coordination Among Central Banks \n",
       "106    U.S. Monetary Policy from an International Per...\n",
       "110    Monetary Aggregates and Monetary Policy at the...\n",
       "120    Remarks at the Panel Discussion on \"Shaping th...\n",
       "123    Unconventional Monetary Policy and Cross-Borde...\n",
       "128            Financial Instability and Monetary Policy\n",
       "132    Advanced Economy Monetary Policy and Emerging ...\n",
       "142     Outlook for the U.S. Economy and Monetary Policy\n",
       "150    The Outlook for the U.S. Economy and Economic ...\n",
       "159    Headline versus Core Inflation in the Conduct ...\n",
       "164                    Monetary Policy under Uncertainty\n",
       "165    Don’t Chase the Needles: An Optimistic Assessm...\n",
       "176                 The U.S. Economy and Monetary Policy\n",
       "177    Monetary Policy Objectives and Tools in a Low-...\n",
       "180    The Recent Financial Turmoil and its Economic ...\n",
       "183    U.S. Monetary Policy and International Implica...\n",
       "                             ...                        \n",
       "628    Navigating Monetary Policy as Headwinds Shift ...\n",
       "635               Challenges Confronting Monetary Policy\n",
       "640    Monetary Policy: By Rule, By Committee, or By ...\n",
       "646                    Globalization and Monetary Policy\n",
       "647       Transitions in the Outlook and Monetary Policy\n",
       "649    Accommodative Monetary Policy and Its Effects ...\n",
       "651    Comments on \"Market Tantrums and Monetary Policy\"\n",
       "653    Conducting Monetary Policy with a Large Balanc...\n",
       "660                 The U.S. Economy and Monetary Policy\n",
       "662              Monetary Policy and Financial Stability\n",
       "663    Unconventional Monetary Policy and Central Ban...\n",
       "669                  Recent Monetary Policy Developments\n",
       "672             The Economic Outlook and Monetary Policy\n",
       "674    Discussion of \"Crunch Time: Fiscal Crises and ...\n",
       "691    Overheating in Credit Markets: Origins, Measur...\n",
       "697        The Economic Outlook and Macroeconomic Policy\n",
       "702                               Recent Monetary Policy\n",
       "703          Advancing Macroprudential Policy Objectives\n",
       "707    The Economic Outlook and the Conduct of Moneta...\n",
       "708    The Goals of Monetary Policy and How We Pursue...\n",
       "711             Monetary Policy in a Time of Uncertainty\n",
       "715                   The Crisis and the Policy Response\n",
       "717    Monetary Policy Flexibility, Risk Management, ...\n",
       "719    Financial Markets, the Economic Outlook, and M...\n",
       "727    Recent and Prospective Developments in Monetar...\n",
       "729    Interconnectedness and Systemic Risk:  Lessons...\n",
       "731    Expertise and Macroeconomic Policy, Comments o...\n",
       "732    Monetary Policy, Financial Stability, and the ...\n",
       "735               Monetary Policy and the Housing Bubble\n",
       "736    Monetary Policy in the Crisis: Past, Present, ...\n",
       "Name: title, Length: 128, dtype: object"
      ]
     },
     "execution_count": 23,
     "metadata": {},
     "output_type": "execute_result"
    }
   ],
   "source": [
    "policy['title']"
   ]
  },
  {
   "cell_type": "code",
   "execution_count": 15,
   "metadata": {},
   "outputs": [],
   "source": [
    "outlook = df[df['title'].str.contains('Outlook')]"
   ]
  },
  {
   "cell_type": "code",
   "execution_count": 16,
   "metadata": {},
   "outputs": [
    {
     "data": {
      "text/html": [
       "<div>\n",
       "<style scoped>\n",
       "    .dataframe tbody tr th:only-of-type {\n",
       "        vertical-align: middle;\n",
       "    }\n",
       "\n",
       "    .dataframe tbody tr th {\n",
       "        vertical-align: top;\n",
       "    }\n",
       "\n",
       "    .dataframe thead th {\n",
       "        text-align: right;\n",
       "    }\n",
       "</style>\n",
       "<table border=\"1\" class=\"dataframe\">\n",
       "  <thead>\n",
       "    <tr style=\"text-align: right;\">\n",
       "      <th></th>\n",
       "      <th>date</th>\n",
       "      <th>speaker</th>\n",
       "      <th>title</th>\n",
       "      <th>link</th>\n",
       "      <th>text</th>\n",
       "    </tr>\n",
       "  </thead>\n",
       "  <tbody>\n",
       "    <tr>\n",
       "      <th>count</th>\n",
       "      <td>49</td>\n",
       "      <td>49</td>\n",
       "      <td>49</td>\n",
       "      <td>49</td>\n",
       "      <td>49</td>\n",
       "    </tr>\n",
       "    <tr>\n",
       "      <th>unique</th>\n",
       "      <td>49</td>\n",
       "      <td>17</td>\n",
       "      <td>33</td>\n",
       "      <td>49</td>\n",
       "      <td>49</td>\n",
       "    </tr>\n",
       "    <tr>\n",
       "      <th>top</th>\n",
       "      <td>06/05/2006</td>\n",
       "      <td>Chairman Ben S. Bernanke</td>\n",
       "      <td>The Economic Outlook</td>\n",
       "      <td>/newsevents/speech/brainard20150602a.htm</td>\n",
       "      <td>I'm pleased to be here and honored to be invit...</td>\n",
       "    </tr>\n",
       "    <tr>\n",
       "      <th>freq</th>\n",
       "      <td>1</td>\n",
       "      <td>8</td>\n",
       "      <td>9</td>\n",
       "      <td>1</td>\n",
       "      <td>1</td>\n",
       "    </tr>\n",
       "  </tbody>\n",
       "</table>\n",
       "</div>"
      ],
      "text/plain": [
       "              date                   speaker                 title  \\\n",
       "count           49                        49                    49   \n",
       "unique          49                        17                    33   \n",
       "top     06/05/2006  Chairman Ben S. Bernanke  The Economic Outlook   \n",
       "freq             1                         8                     9   \n",
       "\n",
       "                                            link  \\\n",
       "count                                         49   \n",
       "unique                                        49   \n",
       "top     /newsevents/speech/brainard20150602a.htm   \n",
       "freq                                           1   \n",
       "\n",
       "                                                     text  \n",
       "count                                                  49  \n",
       "unique                                                 49  \n",
       "top     I'm pleased to be here and honored to be invit...  \n",
       "freq                                                    1  "
      ]
     },
     "execution_count": 16,
     "metadata": {},
     "output_type": "execute_result"
    }
   ],
   "source": [
    "outlook.describe()"
   ]
  },
  {
   "cell_type": "code",
   "execution_count": 17,
   "metadata": {},
   "outputs": [],
   "source": [
    "regulation = df[df['title'].str.contains('Regulation')]"
   ]
  },
  {
   "cell_type": "code",
   "execution_count": 18,
   "metadata": {},
   "outputs": [
    {
     "data": {
      "text/html": [
       "<div>\n",
       "<style scoped>\n",
       "    .dataframe tbody tr th:only-of-type {\n",
       "        vertical-align: middle;\n",
       "    }\n",
       "\n",
       "    .dataframe tbody tr th {\n",
       "        vertical-align: top;\n",
       "    }\n",
       "\n",
       "    .dataframe thead th {\n",
       "        text-align: right;\n",
       "    }\n",
       "</style>\n",
       "<table border=\"1\" class=\"dataframe\">\n",
       "  <thead>\n",
       "    <tr style=\"text-align: right;\">\n",
       "      <th></th>\n",
       "      <th>date</th>\n",
       "      <th>speaker</th>\n",
       "      <th>title</th>\n",
       "      <th>link</th>\n",
       "      <th>text</th>\n",
       "    </tr>\n",
       "  </thead>\n",
       "  <tbody>\n",
       "    <tr>\n",
       "      <th>count</th>\n",
       "      <td>36</td>\n",
       "      <td>36</td>\n",
       "      <td>36</td>\n",
       "      <td>36</td>\n",
       "      <td>36</td>\n",
       "    </tr>\n",
       "    <tr>\n",
       "      <th>unique</th>\n",
       "      <td>36</td>\n",
       "      <td>9</td>\n",
       "      <td>36</td>\n",
       "      <td>36</td>\n",
       "      <td>36</td>\n",
       "    </tr>\n",
       "    <tr>\n",
       "      <th>top</th>\n",
       "      <td>12/02/2016</td>\n",
       "      <td>Governor Daniel K. Tarullo</td>\n",
       "      <td>Getting It Right: Factors for Tailoring Superv...</td>\n",
       "      <td>/newsevents/speech/tarullo20140508a.htm</td>\n",
       "      <td>\\n       A little over three years ago, Lehman...</td>\n",
       "    </tr>\n",
       "    <tr>\n",
       "      <th>freq</th>\n",
       "      <td>1</td>\n",
       "      <td>20</td>\n",
       "      <td>1</td>\n",
       "      <td>1</td>\n",
       "      <td>1</td>\n",
       "    </tr>\n",
       "  </tbody>\n",
       "</table>\n",
       "</div>"
      ],
      "text/plain": [
       "              date                     speaker  \\\n",
       "count           36                          36   \n",
       "unique          36                           9   \n",
       "top     12/02/2016  Governor Daniel K. Tarullo   \n",
       "freq             1                          20   \n",
       "\n",
       "                                                    title  \\\n",
       "count                                                  36   \n",
       "unique                                                 36   \n",
       "top     Getting It Right: Factors for Tailoring Superv...   \n",
       "freq                                                    1   \n",
       "\n",
       "                                           link  \\\n",
       "count                                        36   \n",
       "unique                                       36   \n",
       "top     /newsevents/speech/tarullo20140508a.htm   \n",
       "freq                                          1   \n",
       "\n",
       "                                                     text  \n",
       "count                                                  36  \n",
       "unique                                                 36  \n",
       "top     \\n       A little over three years ago, Lehman...  \n",
       "freq                                                    1  "
      ]
     },
     "execution_count": 18,
     "metadata": {},
     "output_type": "execute_result"
    }
   ],
   "source": [
    "regulation.describe()"
   ]
  },
  {
   "cell_type": "code",
   "execution_count": 19,
   "metadata": {},
   "outputs": [
    {
     "data": {
      "text/plain": [
       "34       Industry Structure and Systemic Risk Regulation\n",
       "44                 Financial Regulation Since the Crisis\n",
       "57     Innovation, Information, and Regulation in Fin...\n",
       "64           Regulation of Foreign Banking Organizations\n",
       "68           Shadow Banking and Systemic Risk Regulation\n",
       "73                                  Liquidity Regulation\n",
       "114                  The Evolution of Capital Regulation\n",
       "115                Financial Regulation: Past and Future\n",
       "119    A Tiered Approach to Regulation and Supervisio...\n",
       "127    Shared Responsibility for the Regulation of In...\n",
       "133    The International Agenda for Financial Regulation\n",
       "146    Financial Regulation and Supervision after the...\n",
       "174    Bank Regulation and Supervision: Balancing Ben...\n",
       "200                       Financial Stability Regulation\n",
       "235    Capital Regulation Across Financial Intermedia...\n",
       "257                           Macroprudential Regulation\n",
       "266    Comments on “Financial Regulation in a System ...\n",
       "311    Getting It Right: Factors for Tailoring Superv...\n",
       "329         Financial Regulation and Financial Stability\n",
       "365    Large Banks and Small Banks in an Era of Syste...\n",
       "382       Corporate Governance and Prudential Regulation\n",
       "388       Financial Regulation in the Wake of the Crisis\n",
       "457                  Regulation and Financial Innovation\n",
       "458        Regulation and Supervision of Community Banks\n",
       "472         Rethinking the Aims of Prudential Regulation\n",
       "482    Implementing a Macroprudential Approach to Sup...\n",
       "484    Liquidity Regulation and the Size of the Fed's...\n",
       "493    Tailoring Community Bank Regulation and Superv...\n",
       "510             Liquidity Regulation and Central Banking\n",
       "528    Involving Markets and the Public in Financial ...\n",
       "536          Financial Regulation and the Invisible Hand\n",
       "568    Central Counterparty Clearing: History, Innova...\n",
       "574         Financial Regulation: Seeking the Middle Way\n",
       "673    International Cooperation in Financial Regulation\n",
       "698                       Regulation and Its Discontents\n",
       "706    Early Observations on Improving the Effectiven...\n",
       "Name: title, dtype: object"
      ]
     },
     "execution_count": 19,
     "metadata": {},
     "output_type": "execute_result"
    }
   ],
   "source": [
    "regulation['title']"
   ]
  },
  {
   "cell_type": "code",
   "execution_count": 20,
   "metadata": {},
   "outputs": [],
   "source": [
    "bs = df[df['title'].str.contains('Balance Sheet')]"
   ]
  },
  {
   "cell_type": "code",
   "execution_count": 22,
   "metadata": {},
   "outputs": [
    {
     "data": {
      "text/plain": [
       "14     The Future of the Federal Reserve's Balance Sheet\n",
       "203       The Federal Reserve's Balance Sheet: An Update\n",
       "266    Comments on “Financial Regulation in a System ...\n",
       "316    Cross-Border Spillovers of Balance Sheet Norma...\n",
       "321    Cross-Border Spillovers of Balance Sheet Norma...\n",
       "484    Liquidity Regulation and the Size of the Fed's...\n",
       "566                 The Federal Reserve's Balance Sheet \n",
       "653    Conducting Monetary Policy with a Large Balanc...\n",
       "679    Federal Reserve Policies to Ease Credit and Th...\n",
       "Name: title, dtype: object"
      ]
     },
     "execution_count": 22,
     "metadata": {},
     "output_type": "execute_result"
    }
   ],
   "source": [
    "bs['title']"
   ]
  },
  {
   "cell_type": "code",
   "execution_count": 28,
   "metadata": {},
   "outputs": [
    {
     "data": {
      "text/plain": [
       "Int64Index([  0,  12,  15,  45,  49,  52,  61,  67,  74,  76,\n",
       "            ...\n",
       "            711, 715, 717, 719, 727, 729, 731, 732, 735, 736],\n",
       "           dtype='int64', length=128)"
      ]
     },
     "execution_count": 28,
     "metadata": {},
     "output_type": "execute_result"
    }
   ],
   "source": [
    "index_p = policy.index\n",
    "index_p\n"
   ]
  },
  {
   "cell_type": "code",
   "execution_count": 29,
   "metadata": {},
   "outputs": [
    {
     "data": {
      "text/plain": [
       "Int64Index([ 12,  45,  66,  87,  88, 130, 137, 142, 150, 165, 179, 185, 188,\n",
       "            211, 217, 226, 270, 272, 285, 322, 389, 390, 398, 401, 405, 411,\n",
       "            428, 436, 505, 506, 534, 535, 548, 554, 579, 624, 638, 644, 647,\n",
       "            672, 697, 707, 709, 710, 719, 721, 724, 725, 730],\n",
       "           dtype='int64')"
      ]
     },
     "execution_count": 29,
     "metadata": {},
     "output_type": "execute_result"
    }
   ],
   "source": [
    "index_o = outlook.index\n",
    "index_o"
   ]
  },
  {
   "cell_type": "code",
   "execution_count": 30,
   "metadata": {},
   "outputs": [
    {
     "data": {
      "text/plain": [
       "Int64Index([14, 203, 266, 316, 321, 484, 566, 653, 679], dtype='int64')"
      ]
     },
     "execution_count": 30,
     "metadata": {},
     "output_type": "execute_result"
    }
   ],
   "source": [
    "index_bs = bs.index\n",
    "index_bs"
   ]
  },
  {
   "cell_type": "code",
   "execution_count": 33,
   "metadata": {},
   "outputs": [
    {
     "data": {
      "text/plain": [
       "Int64Index([ 34,  44,  57,  64,  68,  73, 114, 115, 119, 127, 133, 146, 174,\n",
       "            200, 235, 257, 266, 311, 329, 365, 382, 388, 457, 458, 472, 482,\n",
       "            484, 493, 510, 528, 536, 568, 574, 673, 698, 706],\n",
       "           dtype='int64')"
      ]
     },
     "execution_count": 33,
     "metadata": {},
     "output_type": "execute_result"
    }
   ],
   "source": [
    "index_reg = regulation.index\n",
    "index_reg"
   ]
  },
  {
   "cell_type": "code",
   "execution_count": 35,
   "metadata": {},
   "outputs": [
    {
     "name": "stdout",
     "output_type": "stream",
     "text": [
      "<class 'pandas.core.indexes.numeric.Int64Index'>\n"
     ]
    }
   ],
   "source": [
    "print(type(index_bs))"
   ]
  },
  {
   "cell_type": "code",
   "execution_count": 45,
   "metadata": {},
   "outputs": [
    {
     "data": {
      "text/plain": [
       "{14, 203, 266, 316, 321, 484, 566, 653, 679}"
      ]
     },
     "execution_count": 45,
     "metadata": {},
     "output_type": "execute_result"
    }
   ],
   "source": [
    "i_bs = set(index_bs)\n",
    "i_bs"
   ]
  },
  {
   "cell_type": "code",
   "execution_count": 46,
   "metadata": {},
   "outputs": [
    {
     "data": {
      "text/plain": [
       "{0,\n",
       " 12,\n",
       " 15,\n",
       " 45,\n",
       " 49,\n",
       " 52,\n",
       " 61,\n",
       " 67,\n",
       " 74,\n",
       " 76,\n",
       " 79,\n",
       " 86,\n",
       " 87,\n",
       " 93,\n",
       " 95,\n",
       " 106,\n",
       " 110,\n",
       " 120,\n",
       " 123,\n",
       " 128,\n",
       " 132,\n",
       " 142,\n",
       " 150,\n",
       " 159,\n",
       " 164,\n",
       " 165,\n",
       " 176,\n",
       " 177,\n",
       " 180,\n",
       " 183,\n",
       " 187,\n",
       " 188,\n",
       " 192,\n",
       " 197,\n",
       " 201,\n",
       " 202,\n",
       " 220,\n",
       " 221,\n",
       " 222,\n",
       " 224,\n",
       " 226,\n",
       " 241,\n",
       " 244,\n",
       " 247,\n",
       " 250,\n",
       " 255,\n",
       " 264,\n",
       " 265,\n",
       " 269,\n",
       " 280,\n",
       " 281,\n",
       " 285,\n",
       " 286,\n",
       " 291,\n",
       " 292,\n",
       " 331,\n",
       " 334,\n",
       " 338,\n",
       " 341,\n",
       " 342,\n",
       " 346,\n",
       " 357,\n",
       " 363,\n",
       " 393,\n",
       " 398,\n",
       " 401,\n",
       " 405,\n",
       " 408,\n",
       " 410,\n",
       " 414,\n",
       " 417,\n",
       " 422,\n",
       " 425,\n",
       " 460,\n",
       " 471,\n",
       " 477,\n",
       " 481,\n",
       " 509,\n",
       " 513,\n",
       " 515,\n",
       " 520,\n",
       " 521,\n",
       " 527,\n",
       " 534,\n",
       " 535,\n",
       " 539,\n",
       " 545,\n",
       " 547,\n",
       " 560,\n",
       " 579,\n",
       " 584,\n",
       " 594,\n",
       " 597,\n",
       " 599,\n",
       " 606,\n",
       " 609,\n",
       " 626,\n",
       " 627,\n",
       " 628,\n",
       " 635,\n",
       " 640,\n",
       " 646,\n",
       " 647,\n",
       " 649,\n",
       " 651,\n",
       " 653,\n",
       " 660,\n",
       " 662,\n",
       " 663,\n",
       " 669,\n",
       " 672,\n",
       " 674,\n",
       " 691,\n",
       " 697,\n",
       " 702,\n",
       " 703,\n",
       " 707,\n",
       " 708,\n",
       " 711,\n",
       " 715,\n",
       " 717,\n",
       " 719,\n",
       " 727,\n",
       " 729,\n",
       " 731,\n",
       " 732,\n",
       " 735,\n",
       " 736}"
      ]
     },
     "execution_count": 46,
     "metadata": {},
     "output_type": "execute_result"
    }
   ],
   "source": [
    "i_policy = set(index_p)\n",
    "i_policy"
   ]
  },
  {
   "cell_type": "code",
   "execution_count": 41,
   "metadata": {},
   "outputs": [
    {
     "data": {
      "text/plain": [
       "128"
      ]
     },
     "execution_count": 41,
     "metadata": {},
     "output_type": "execute_result"
    }
   ],
   "source": []
  },
  {
   "cell_type": "code",
   "execution_count": 47,
   "metadata": {},
   "outputs": [
    {
     "data": {
      "text/plain": [
       "{12,\n",
       " 45,\n",
       " 66,\n",
       " 87,\n",
       " 88,\n",
       " 130,\n",
       " 137,\n",
       " 142,\n",
       " 150,\n",
       " 165,\n",
       " 179,\n",
       " 185,\n",
       " 188,\n",
       " 211,\n",
       " 217,\n",
       " 226,\n",
       " 270,\n",
       " 272,\n",
       " 285,\n",
       " 322,\n",
       " 389,\n",
       " 390,\n",
       " 398,\n",
       " 401,\n",
       " 405,\n",
       " 411,\n",
       " 428,\n",
       " 436,\n",
       " 505,\n",
       " 506,\n",
       " 534,\n",
       " 535,\n",
       " 548,\n",
       " 554,\n",
       " 579,\n",
       " 624,\n",
       " 638,\n",
       " 644,\n",
       " 647,\n",
       " 672,\n",
       " 697,\n",
       " 707,\n",
       " 709,\n",
       " 710,\n",
       " 719,\n",
       " 721,\n",
       " 724,\n",
       " 725,\n",
       " 730}"
      ]
     },
     "execution_count": 47,
     "metadata": {},
     "output_type": "execute_result"
    }
   ],
   "source": [
    "i_out=set(index_o)\n",
    "i_out"
   ]
  },
  {
   "cell_type": "code",
   "execution_count": 43,
   "metadata": {},
   "outputs": [
    {
     "data": {
      "text/plain": [
       "705    Comments on the Fair and Effective Markets Review\n",
       "706    Early Observations on Improving the Effectiven...\n",
       "707    The Economic Outlook and the Conduct of Moneta...\n",
       "708    The Goals of Monetary Policy and How We Pursue...\n",
       "709    Economic Outlook and Developments in Mortgage ...\n",
       "710                    Productivity and Economic Outlook\n",
       "711             Monetary Policy in a Time of Uncertainty\n",
       "712      Enterprise Risk Management and Mortgage Lending\n",
       "713    From Community Banker to Central Banker--My Jo...\n",
       "714    Opportunities to Reduce Regulatory Burden and ...\n",
       "715                   The Crisis and the Policy Response\n",
       "716                                    Welcoming Remarks\n",
       "717    Monetary Policy Flexibility, Risk Management, ...\n",
       "718      Enterprise Risk Management and Mortgage Lending\n",
       "719    Financial Markets, the Economic Outlook, and M...\n",
       "720         The Federal Reserve's Asset Purchase Program\n",
       "721                                The Economic Outlook \n",
       "722          Low Interest Rates and the Financial System\n",
       "723    Creating and Implementing an Enforcement Respo...\n",
       "724                                 The Economic Outlook\n",
       "725    Economic Developments, Risks to the Outlook, a...\n",
       "Name: title, dtype: object"
      ]
     },
     "execution_count": 43,
     "metadata": {},
     "output_type": "execute_result"
    }
   ],
   "source": [
    "all = "
   ]
  },
  {
   "cell_type": "code",
   "execution_count": 56,
   "metadata": {},
   "outputs": [
    {
     "data": {
      "text/plain": [
       "165"
      ]
     },
     "execution_count": 56,
     "metadata": {},
     "output_type": "execute_result"
    }
   ],
   "source": [
    "all = i_bs |  i_out | i_policy\n",
    "len(all)"
   ]
  },
  {
   "cell_type": "code",
   "execution_count": 52,
   "metadata": {},
   "outputs": [
    {
     "data": {
      "text/plain": [
       "{14, 203, 266, 316, 321, 484, 566, 653, 679}"
      ]
     },
     "execution_count": 52,
     "metadata": {},
     "output_type": "execute_result"
    }
   ],
   "source": [
    "i_bs"
   ]
  },
  {
   "cell_type": "code",
   "execution_count": 60,
   "metadata": {},
   "outputs": [
    {
     "ename": "TypeError",
     "evalue": "unhashable type: 'RangeIndex'",
     "output_type": "error",
     "traceback": [
      "\u001b[0;31m---------------------------------------------------------------------------\u001b[0m",
      "\u001b[0;31mTypeError\u001b[0m                                 Traceback (most recent call last)",
      "\u001b[0;32m<ipython-input-60-30dc90b1a4c5>\u001b[0m in \u001b[0;36m<module>\u001b[0;34m\u001b[0m\n\u001b[0;32m----> 1\u001b[0;31m \u001b[0mnew_df\u001b[0m \u001b[0;34m=\u001b[0m \u001b[0mdf\u001b[0m\u001b[0;34m[\u001b[0m\u001b[0mdf\u001b[0m\u001b[0;34m.\u001b[0m\u001b[0mindex\u001b[0m \u001b[0;32min\u001b[0m \u001b[0mall\u001b[0m\u001b[0;34m]\u001b[0m\u001b[0;34m\u001b[0m\u001b[0;34m\u001b[0m\u001b[0m\n\u001b[0m",
      "\u001b[0;32m/anaconda3/lib/python3.6/site-packages/pandas/core/indexes/base.py\u001b[0m in \u001b[0;36m__hash__\u001b[0;34m(self)\u001b[0m\n\u001b[1;32m   3933\u001b[0m \u001b[0;34m\u001b[0m\u001b[0m\n\u001b[1;32m   3934\u001b[0m     \u001b[0;32mdef\u001b[0m \u001b[0m__hash__\u001b[0m\u001b[0;34m(\u001b[0m\u001b[0mself\u001b[0m\u001b[0;34m)\u001b[0m\u001b[0;34m:\u001b[0m\u001b[0;34m\u001b[0m\u001b[0;34m\u001b[0m\u001b[0m\n\u001b[0;32m-> 3935\u001b[0;31m         \u001b[0;32mraise\u001b[0m \u001b[0mTypeError\u001b[0m\u001b[0;34m(\u001b[0m\u001b[0;34m\"unhashable type: %r\"\u001b[0m \u001b[0;34m%\u001b[0m \u001b[0mtype\u001b[0m\u001b[0;34m(\u001b[0m\u001b[0mself\u001b[0m\u001b[0;34m)\u001b[0m\u001b[0;34m.\u001b[0m\u001b[0m__name__\u001b[0m\u001b[0;34m)\u001b[0m\u001b[0;34m\u001b[0m\u001b[0;34m\u001b[0m\u001b[0m\n\u001b[0m\u001b[1;32m   3936\u001b[0m \u001b[0;34m\u001b[0m\u001b[0m\n\u001b[1;32m   3937\u001b[0m     \u001b[0;32mdef\u001b[0m \u001b[0m__setitem__\u001b[0m\u001b[0;34m(\u001b[0m\u001b[0mself\u001b[0m\u001b[0;34m,\u001b[0m \u001b[0mkey\u001b[0m\u001b[0;34m,\u001b[0m \u001b[0mvalue\u001b[0m\u001b[0;34m)\u001b[0m\u001b[0;34m:\u001b[0m\u001b[0;34m\u001b[0m\u001b[0;34m\u001b[0m\u001b[0m\n",
      "\u001b[0;31mTypeError\u001b[0m: unhashable type: 'RangeIndex'"
     ]
    }
   ],
   "source": [
    "new_df = df[df.index in all]"
   ]
  },
  {
   "cell_type": "code",
   "execution_count": 63,
   "metadata": {},
   "outputs": [
    {
     "data": {
      "text/plain": [
       "array([False, False, False, False, False, False, False, False, False,\n",
       "       False, False, False, False, False, False, False, False, False,\n",
       "       False, False, False, False, False, False, False, False, False,\n",
       "       False, False, False, False, False, False, False, False, False,\n",
       "       False, False, False, False, False, False, False, False, False,\n",
       "       False, False, False, False, False, False, False, False, False,\n",
       "       False, False, False, False, False, False, False, False, False,\n",
       "       False, False, False, False, False, False, False, False, False,\n",
       "       False, False, False, False, False, False, False, False, False,\n",
       "       False, False, False, False, False, False, False, False, False,\n",
       "       False, False, False, False, False, False, False, False, False,\n",
       "       False, False, False, False, False, False, False, False, False,\n",
       "       False, False, False, False, False, False, False, False, False,\n",
       "       False, False, False, False, False, False, False, False, False,\n",
       "       False, False, False, False, False, False, False, False, False,\n",
       "       False, False, False, False, False, False, False, False, False,\n",
       "       False, False, False, False, False, False, False, False, False,\n",
       "       False, False, False, False, False, False, False, False, False,\n",
       "       False, False, False, False, False, False, False, False, False,\n",
       "       False, False, False, False, False, False, False, False, False,\n",
       "       False, False, False, False, False, False, False, False, False,\n",
       "       False, False, False, False, False, False, False, False, False,\n",
       "       False, False, False, False, False, False, False, False, False,\n",
       "       False, False, False, False, False, False, False, False, False,\n",
       "       False, False, False, False, False, False, False, False, False,\n",
       "       False, False, False, False, False, False, False, False, False,\n",
       "       False, False, False, False, False, False, False, False, False,\n",
       "       False, False, False, False, False, False, False, False, False,\n",
       "       False, False, False, False, False, False, False, False, False,\n",
       "       False, False, False, False, False, False, False, False, False,\n",
       "       False, False, False, False, False, False, False, False, False,\n",
       "       False, False, False, False, False, False, False, False, False,\n",
       "       False, False, False, False, False, False, False, False, False,\n",
       "       False, False, False, False, False, False, False, False, False,\n",
       "       False, False, False, False, False, False, False, False, False,\n",
       "       False, False, False, False, False, False, False, False, False,\n",
       "       False, False, False, False, False, False, False, False, False,\n",
       "       False, False, False, False, False, False, False, False, False,\n",
       "       False, False, False, False, False, False, False, False, False,\n",
       "       False, False, False, False, False, False, False, False, False,\n",
       "       False, False, False, False, False, False, False, False, False,\n",
       "       False, False, False, False, False, False, False, False, False,\n",
       "       False, False, False, False, False, False, False, False, False,\n",
       "       False, False, False, False, False, False, False, False, False,\n",
       "       False, False, False, False, False, False, False, False, False,\n",
       "       False, False, False, False, False, False, False, False, False,\n",
       "       False, False, False, False, False, False, False, False, False,\n",
       "       False, False, False, False, False, False, False, False, False,\n",
       "       False, False, False, False, False, False, False, False, False,\n",
       "       False, False, False, False, False, False, False, False, False,\n",
       "       False, False, False, False, False, False, False, False, False,\n",
       "       False, False, False, False, False, False, False, False, False,\n",
       "       False, False, False, False, False, False, False, False, False,\n",
       "       False, False, False, False, False, False, False, False, False,\n",
       "       False, False, False, False, False, False, False, False, False,\n",
       "       False, False, False, False, False, False, False, False, False,\n",
       "       False, False, False, False, False, False, False, False, False,\n",
       "       False, False, False, False, False, False, False, False, False,\n",
       "       False, False, False, False, False, False, False, False, False,\n",
       "       False, False, False, False, False, False, False, False, False,\n",
       "       False, False, False, False, False, False, False, False, False,\n",
       "       False, False, False, False, False, False, False, False, False,\n",
       "       False, False, False, False, False, False, False, False, False,\n",
       "       False, False, False, False, False, False, False, False, False,\n",
       "       False, False, False, False, False, False, False, False, False,\n",
       "       False, False, False, False, False, False, False, False, False,\n",
       "       False, False, False, False, False, False, False, False, False,\n",
       "       False, False, False, False, False, False, False, False, False,\n",
       "       False, False, False, False, False, False, False, False, False,\n",
       "       False, False, False, False, False, False, False, False, False,\n",
       "       False, False, False, False, False, False, False, False, False,\n",
       "       False, False, False, False, False, False, False, False, False,\n",
       "       False, False, False, False, False, False, False, False, False,\n",
       "       False, False, False, False, False, False, False, False, False,\n",
       "       False, False, False, False, False, False, False, False, False,\n",
       "       False, False, False, False, False, False, False, False, False,\n",
       "       False, False, False, False, False, False, False, False, False,\n",
       "       False, False, False, False, False, False, False, False, False,\n",
       "       False, False, False, False, False, False, False, False, False,\n",
       "       False, False, False, False, False, False, False, False, False,\n",
       "       False, False, False, False, False, False, False, False, False,\n",
       "       False, False, False, False, False, False, False, False])"
      ]
     },
     "execution_count": 63,
     "metadata": {},
     "output_type": "execute_result"
    }
   ],
   "source": [
    "all==df.index"
   ]
  },
  {
   "cell_type": "code",
   "execution_count": 69,
   "metadata": {},
   "outputs": [
    {
     "data": {
      "text/plain": [
       "165"
      ]
     },
     "execution_count": 69,
     "metadata": {},
     "output_type": "execute_result"
    }
   ],
   "source": [
    "list_all = list(all)\n",
    "len(list_all)"
   ]
  },
  {
   "cell_type": "code",
   "execution_count": 68,
   "metadata": {},
   "outputs": [],
   "source": [
    "df_new = df.loc[list_all]"
   ]
  },
  {
   "cell_type": "code",
   "execution_count": 70,
   "metadata": {},
   "outputs": [
    {
     "data": {
      "text/html": [
       "<div>\n",
       "<style scoped>\n",
       "    .dataframe tbody tr th:only-of-type {\n",
       "        vertical-align: middle;\n",
       "    }\n",
       "\n",
       "    .dataframe tbody tr th {\n",
       "        vertical-align: top;\n",
       "    }\n",
       "\n",
       "    .dataframe thead th {\n",
       "        text-align: right;\n",
       "    }\n",
       "</style>\n",
       "<table border=\"1\" class=\"dataframe\">\n",
       "  <thead>\n",
       "    <tr style=\"text-align: right;\">\n",
       "      <th></th>\n",
       "      <th>date</th>\n",
       "      <th>speaker</th>\n",
       "      <th>title</th>\n",
       "      <th>link</th>\n",
       "      <th>text</th>\n",
       "    </tr>\n",
       "  </thead>\n",
       "  <tbody>\n",
       "    <tr>\n",
       "      <th>count</th>\n",
       "      <td>165</td>\n",
       "      <td>165</td>\n",
       "      <td>165</td>\n",
       "      <td>165</td>\n",
       "      <td>165</td>\n",
       "    </tr>\n",
       "    <tr>\n",
       "      <th>unique</th>\n",
       "      <td>160</td>\n",
       "      <td>22</td>\n",
       "      <td>146</td>\n",
       "      <td>165</td>\n",
       "      <td>165</td>\n",
       "    </tr>\n",
       "    <tr>\n",
       "      <th>top</th>\n",
       "      <td>11/16/2009</td>\n",
       "      <td>Chairman Ben S. Bernanke</td>\n",
       "      <td>The Economic Outlook</td>\n",
       "      <td>/newsevents/speech/powell20181002a.htm</td>\n",
       "      <td>It is a pleasure to be at the Hoover Instituti...</td>\n",
       "    </tr>\n",
       "    <tr>\n",
       "      <th>freq</th>\n",
       "      <td>2</td>\n",
       "      <td>30</td>\n",
       "      <td>9</td>\n",
       "      <td>1</td>\n",
       "      <td>1</td>\n",
       "    </tr>\n",
       "  </tbody>\n",
       "</table>\n",
       "</div>"
      ],
      "text/plain": [
       "              date                   speaker                 title  \\\n",
       "count          165                       165                   165   \n",
       "unique         160                        22                   146   \n",
       "top     11/16/2009  Chairman Ben S. Bernanke  The Economic Outlook   \n",
       "freq             2                        30                     9   \n",
       "\n",
       "                                          link  \\\n",
       "count                                      165   \n",
       "unique                                     165   \n",
       "top     /newsevents/speech/powell20181002a.htm   \n",
       "freq                                         1   \n",
       "\n",
       "                                                     text  \n",
       "count                                                 165  \n",
       "unique                                                165  \n",
       "top     It is a pleasure to be at the Hoover Instituti...  \n",
       "freq                                                    1  "
      ]
     },
     "execution_count": 70,
     "metadata": {},
     "output_type": "execute_result"
    }
   ],
   "source": [
    "df_new.describe()"
   ]
  },
  {
   "cell_type": "code",
   "execution_count": null,
   "metadata": {},
   "outputs": [],
   "source": []
  }
 ],
 "metadata": {
  "kernelspec": {
   "display_name": "Python 3",
   "language": "python",
   "name": "python3"
  },
  "language_info": {
   "codemirror_mode": {
    "name": "ipython",
    "version": 3
   },
   "file_extension": ".py",
   "mimetype": "text/x-python",
   "name": "python",
   "nbconvert_exporter": "python",
   "pygments_lexer": "ipython3",
   "version": "3.6.8"
  }
 },
 "nbformat": 4,
 "nbformat_minor": 2
}
