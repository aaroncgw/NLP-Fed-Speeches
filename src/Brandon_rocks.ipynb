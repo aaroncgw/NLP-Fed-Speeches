{
 "cells": [
  {
   "cell_type": "code",
   "execution_count": 1,
   "metadata": {},
   "outputs": [],
   "source": [
    "import numpy as np\n",
    "import pandas as pd\n",
    "import pyflux as pf\n",
    "import datetime as datetime\n",
    "import matplotlib.pyplot as plt\n",
    "\n",
    "import os\n",
    "import pickle\n"
   ]
  },
  {
   "cell_type": "code",
   "execution_count": 2,
   "metadata": {},
   "outputs": [],
   "source": [
    "X = pickle.load(open(\"../data/interest_rate_data\", \"rb\" ))\n",
    "X_fwds = pickle.load(open('../data/forward_rates', 'rb'))\n",
    "X_zeros = pickle.load(open('../data/zero_rates', 'rb'))\n"
   ]
  },
  {
   "cell_type": "code",
   "execution_count": 3,
   "metadata": {},
   "outputs": [],
   "source": [
    "fed_metrics = pickle.load( open( \"../data/mvp_cosine_sim\", \"rb\" ) )\n",
    "cos_last = fed_metrics['cos_last']\n",
    "cos_avg_n = fed_metrics['cos_avg_n']\n",
    "ed_last = fed_metrics['ed_last']\n",
    "ed_avg_n = fed_metrics['ed_avg_n']\n",
    "fed_dates = fed_metrics['dates']"
   ]
  },
  {
   "cell_type": "markdown",
   "metadata": {},
   "source": [
    "# ISSUE: Multiple dates in fed_dates (one date occurs multiple times)"
   ]
  },
  {
   "cell_type": "code",
   "execution_count": null,
   "metadata": {},
   "outputs": [],
   "source": [
    "# X['cos_last'] = 0\n",
    "# X_fwds['cos_last']=0\n",
    "# X_zeros['cos_last']=0\n",
    "# X['cos_avg'] = 0\n",
    "# X_fwds['cos_avg']=0\n",
    "# X_zeros['cos_avg']=0\n",
    "\n",
    "# X['ed_last'] = 0\n",
    "# X_fwds['ed_last']=0\n",
    "# X_zeros['ed_last']=0\n",
    "# X['ed_avg'] = 0\n",
    "# X_fwds['ed_avg']=0\n",
    "# X_zeros['ed_avg']=0\n"
   ]
  },
  {
   "cell_type": "code",
   "execution_count": null,
   "metadata": {},
   "outputs": [],
   "source": [
    "#"
   ]
  },
  {
   "cell_type": "code",
   "execution_count": null,
   "metadata": {},
   "outputs": [],
   "source": [
    "#ed_last[i]\n"
   ]
  },
  {
   "cell_type": "code",
   "execution_count": null,
   "metadata": {},
   "outputs": [],
   "source": [
    "#print(type(fed_dates))"
   ]
  },
  {
   "cell_type": "code",
   "execution_count": null,
   "metadata": {},
   "outputs": [],
   "source": []
  },
  {
   "cell_type": "code",
   "execution_count": null,
   "metadata": {},
   "outputs": [],
   "source": [
    "# XX = X.copy()"
   ]
  },
  {
   "cell_type": "code",
   "execution_count": null,
   "metadata": {},
   "outputs": [],
   "source": [
    "# # first find unique dates for the fed dates\n",
    "# date_list = []\n",
    "# for i in range(len(fed_dates)):\n",
    "#     this_date = fed_dates[i]\n",
    "#     if this_date not in date_list:\n",
    "#         date_list.append(this_date)\n"
   ]
  },
  {
   "cell_type": "code",
   "execution_count": null,
   "metadata": {},
   "outputs": [],
   "source": [
    "# now creating the loop to assign variables to the X, X_zeros and X_fwds"
   ]
  },
  {
   "cell_type": "code",
   "execution_count": null,
   "metadata": {},
   "outputs": [],
   "source": [
    "# date_list"
   ]
  },
  {
   "cell_type": "code",
   "execution_count": null,
   "metadata": {},
   "outputs": [],
   "source": [
    "# # find index to all dates in fed dates with this date\n",
    "# ind_dates = fed_dates==date_list[i]"
   ]
  },
  {
   "cell_type": "code",
   "execution_count": null,
   "metadata": {},
   "outputs": [],
   "source": [
    "# # find ed for this index\n",
    "# this_ed = np.mean(ed_last[ind_dates])"
   ]
  },
  {
   "cell_type": "code",
   "execution_count": null,
   "metadata": {},
   "outputs": [],
   "source": [
    "# this_ed"
   ]
  },
  {
   "cell_type": "code",
   "execution_count": null,
   "metadata": {},
   "outputs": [],
   "source": [
    "# i = 457\n",
    "# date_list[i]"
   ]
  },
  {
   "cell_type": "code",
   "execution_count": null,
   "metadata": {},
   "outputs": [],
   "source": [
    "# ind_dates = fed_dates==date_list[i]\n",
    "# sum(ind_dates)"
   ]
  },
  {
   "cell_type": "code",
   "execution_count": null,
   "metadata": {},
   "outputs": [],
   "source": [
    "# for i in range(len(date_list)):\n",
    "#     this_sum = sum(fed_dates==date_list[i])\n",
    "#     if this_sum > 1:\n",
    "#         break"
   ]
  },
  {
   "cell_type": "code",
   "execution_count": 7,
   "metadata": {},
   "outputs": [],
   "source": [
    "avgstats = pd.DataFrame( {'date':fed_dates, \n",
    "               'ed_last':ed_last,\n",
    "               'ed_avg_n':ed_avg_n,\n",
    "               'cos_last':cos_last,\n",
    "               'cos_avg_n':cos_avg_n} ).groupby(\"date\").mean()"
   ]
  },
  {
   "cell_type": "code",
   "execution_count": 49,
   "metadata": {},
   "outputs": [
    {
     "data": {
      "text/plain": [
       "Timestamp('2006-03-20 00:00:00')"
      ]
     },
     "execution_count": 49,
     "metadata": {},
     "output_type": "execute_result"
    }
   ],
   "source": [
    "np.min(avgstats.index)\n"
   ]
  },
  {
   "cell_type": "code",
   "execution_count": 8,
   "metadata": {},
   "outputs": [],
   "source": [
    "avgstats.index = pd.to_datetime( avgstats.index )"
   ]
  },
  {
   "cell_type": "code",
   "execution_count": 9,
   "metadata": {},
   "outputs": [],
   "source": [
    "X = X.merge(avgstats, how='left', left_index=True, right_index=True)"
   ]
  },
  {
   "cell_type": "code",
   "execution_count": 10,
   "metadata": {},
   "outputs": [
    {
     "data": {
      "text/html": [
       "<div>\n",
       "<style scoped>\n",
       "    .dataframe tbody tr th:only-of-type {\n",
       "        vertical-align: middle;\n",
       "    }\n",
       "\n",
       "    .dataframe tbody tr th {\n",
       "        vertical-align: top;\n",
       "    }\n",
       "\n",
       "    .dataframe thead th {\n",
       "        text-align: right;\n",
       "    }\n",
       "</style>\n",
       "<table border=\"1\" class=\"dataframe\">\n",
       "  <thead>\n",
       "    <tr style=\"text-align: right;\">\n",
       "      <th></th>\n",
       "      <th>three_m</th>\n",
       "      <th>six_m</th>\n",
       "      <th>one_y</th>\n",
       "      <th>two_y</th>\n",
       "      <th>three_y</th>\n",
       "      <th>five_y</th>\n",
       "      <th>seven_y</th>\n",
       "      <th>ten_y</th>\n",
       "      <th>ed_last</th>\n",
       "      <th>ed_avg_n</th>\n",
       "      <th>cos_last</th>\n",
       "      <th>cos_avg_n</th>\n",
       "    </tr>\n",
       "  </thead>\n",
       "  <tbody>\n",
       "    <tr>\n",
       "      <th>count</th>\n",
       "      <td>3313.000000</td>\n",
       "      <td>3313.000000</td>\n",
       "      <td>3313.000000</td>\n",
       "      <td>3313.000000</td>\n",
       "      <td>3313.000000</td>\n",
       "      <td>3313.000000</td>\n",
       "      <td>3313.000000</td>\n",
       "      <td>3313.000000</td>\n",
       "      <td>494.000000</td>\n",
       "      <td>494.000000</td>\n",
       "      <td>494.000000</td>\n",
       "      <td>494.000000</td>\n",
       "    </tr>\n",
       "    <tr>\n",
       "      <th>mean</th>\n",
       "      <td>0.011427</td>\n",
       "      <td>0.012523</td>\n",
       "      <td>0.013427</td>\n",
       "      <td>0.015406</td>\n",
       "      <td>0.017595</td>\n",
       "      <td>0.022151</td>\n",
       "      <td>0.025897</td>\n",
       "      <td>0.029388</td>\n",
       "      <td>1.229707</td>\n",
       "      <td>1.229682</td>\n",
       "      <td>0.236689</td>\n",
       "      <td>0.236611</td>\n",
       "    </tr>\n",
       "    <tr>\n",
       "      <th>std</th>\n",
       "      <td>0.016504</td>\n",
       "      <td>0.016720</td>\n",
       "      <td>0.016194</td>\n",
       "      <td>0.014783</td>\n",
       "      <td>0.013717</td>\n",
       "      <td>0.011938</td>\n",
       "      <td>0.010655</td>\n",
       "      <td>0.009759</td>\n",
       "      <td>0.052907</td>\n",
       "      <td>0.051209</td>\n",
       "      <td>0.062030</td>\n",
       "      <td>0.060035</td>\n",
       "    </tr>\n",
       "    <tr>\n",
       "      <th>min</th>\n",
       "      <td>0.000000</td>\n",
       "      <td>0.000200</td>\n",
       "      <td>0.000800</td>\n",
       "      <td>0.001600</td>\n",
       "      <td>0.002800</td>\n",
       "      <td>0.005600</td>\n",
       "      <td>0.009100</td>\n",
       "      <td>0.013700</td>\n",
       "      <td>1.079679</td>\n",
       "      <td>1.079679</td>\n",
       "      <td>0.091596</td>\n",
       "      <td>0.091596</td>\n",
       "    </tr>\n",
       "    <tr>\n",
       "      <th>25%</th>\n",
       "      <td>0.000600</td>\n",
       "      <td>0.001200</td>\n",
       "      <td>0.001900</td>\n",
       "      <td>0.004700</td>\n",
       "      <td>0.008300</td>\n",
       "      <td>0.014000</td>\n",
       "      <td>0.018800</td>\n",
       "      <td>0.021900</td>\n",
       "      <td>1.197524</td>\n",
       "      <td>1.198772</td>\n",
       "      <td>0.194643</td>\n",
       "      <td>0.196159</td>\n",
       "    </tr>\n",
       "    <tr>\n",
       "      <th>50%</th>\n",
       "      <td>0.001800</td>\n",
       "      <td>0.003100</td>\n",
       "      <td>0.004900</td>\n",
       "      <td>0.008700</td>\n",
       "      <td>0.012700</td>\n",
       "      <td>0.018400</td>\n",
       "      <td>0.022800</td>\n",
       "      <td>0.027100</td>\n",
       "      <td>1.233755</td>\n",
       "      <td>1.232932</td>\n",
       "      <td>0.235324</td>\n",
       "      <td>0.235316</td>\n",
       "    </tr>\n",
       "    <tr>\n",
       "      <th>75%</th>\n",
       "      <td>0.017800</td>\n",
       "      <td>0.019500</td>\n",
       "      <td>0.021200</td>\n",
       "      <td>0.023400</td>\n",
       "      <td>0.024500</td>\n",
       "      <td>0.027300</td>\n",
       "      <td>0.030900</td>\n",
       "      <td>0.035900</td>\n",
       "      <td>1.266405</td>\n",
       "      <td>1.265736</td>\n",
       "      <td>0.275461</td>\n",
       "      <td>0.273112</td>\n",
       "    </tr>\n",
       "    <tr>\n",
       "      <th>max</th>\n",
       "      <td>0.051900</td>\n",
       "      <td>0.053300</td>\n",
       "      <td>0.053000</td>\n",
       "      <td>0.052900</td>\n",
       "      <td>0.052600</td>\n",
       "      <td>0.052300</td>\n",
       "      <td>0.052300</td>\n",
       "      <td>0.052600</td>\n",
       "      <td>1.347747</td>\n",
       "      <td>1.347747</td>\n",
       "      <td>0.405139</td>\n",
       "      <td>0.405139</td>\n",
       "    </tr>\n",
       "  </tbody>\n",
       "</table>\n",
       "</div>"
      ],
      "text/plain": [
       "           three_m        six_m        one_y        two_y      three_y  \\\n",
       "count  3313.000000  3313.000000  3313.000000  3313.000000  3313.000000   \n",
       "mean      0.011427     0.012523     0.013427     0.015406     0.017595   \n",
       "std       0.016504     0.016720     0.016194     0.014783     0.013717   \n",
       "min       0.000000     0.000200     0.000800     0.001600     0.002800   \n",
       "25%       0.000600     0.001200     0.001900     0.004700     0.008300   \n",
       "50%       0.001800     0.003100     0.004900     0.008700     0.012700   \n",
       "75%       0.017800     0.019500     0.021200     0.023400     0.024500   \n",
       "max       0.051900     0.053300     0.053000     0.052900     0.052600   \n",
       "\n",
       "            five_y      seven_y        ten_y     ed_last    ed_avg_n  \\\n",
       "count  3313.000000  3313.000000  3313.000000  494.000000  494.000000   \n",
       "mean      0.022151     0.025897     0.029388    1.229707    1.229682   \n",
       "std       0.011938     0.010655     0.009759    0.052907    0.051209   \n",
       "min       0.005600     0.009100     0.013700    1.079679    1.079679   \n",
       "25%       0.014000     0.018800     0.021900    1.197524    1.198772   \n",
       "50%       0.018400     0.022800     0.027100    1.233755    1.232932   \n",
       "75%       0.027300     0.030900     0.035900    1.266405    1.265736   \n",
       "max       0.052300     0.052300     0.052600    1.347747    1.347747   \n",
       "\n",
       "         cos_last   cos_avg_n  \n",
       "count  494.000000  494.000000  \n",
       "mean     0.236689    0.236611  \n",
       "std      0.062030    0.060035  \n",
       "min      0.091596    0.091596  \n",
       "25%      0.194643    0.196159  \n",
       "50%      0.235324    0.235316  \n",
       "75%      0.275461    0.273112  \n",
       "max      0.405139    0.405139  "
      ]
     },
     "execution_count": 10,
     "metadata": {},
     "output_type": "execute_result"
    }
   ],
   "source": [
    "# fed_dates==date_list[i]\n",
    "# this_sum\n",
    "X.describe()"
   ]
  },
  {
   "cell_type": "code",
   "execution_count": 16,
   "metadata": {},
   "outputs": [
    {
     "data": {
      "text/html": [
       "<div>\n",
       "<style scoped>\n",
       "    .dataframe tbody tr th:only-of-type {\n",
       "        vertical-align: middle;\n",
       "    }\n",
       "\n",
       "    .dataframe tbody tr th {\n",
       "        vertical-align: top;\n",
       "    }\n",
       "\n",
       "    .dataframe thead th {\n",
       "        text-align: right;\n",
       "    }\n",
       "</style>\n",
       "<table border=\"1\" class=\"dataframe\">\n",
       "  <thead>\n",
       "    <tr style=\"text-align: right;\">\n",
       "      <th></th>\n",
       "      <th>three_m</th>\n",
       "      <th>six_m</th>\n",
       "      <th>one_y</th>\n",
       "      <th>two_y</th>\n",
       "      <th>three_y</th>\n",
       "      <th>five_y</th>\n",
       "      <th>seven_y</th>\n",
       "      <th>ten_y</th>\n",
       "      <th>ed_last</th>\n",
       "      <th>ed_avg_n</th>\n",
       "      <th>cos_last</th>\n",
       "      <th>cos_avg_n</th>\n",
       "    </tr>\n",
       "  </thead>\n",
       "  <tbody>\n",
       "    <tr>\n",
       "      <th>count</th>\n",
       "      <td>3313.000000</td>\n",
       "      <td>3313.000000</td>\n",
       "      <td>3313.000000</td>\n",
       "      <td>3313.000000</td>\n",
       "      <td>3313.000000</td>\n",
       "      <td>3313.000000</td>\n",
       "      <td>3313.000000</td>\n",
       "      <td>3313.000000</td>\n",
       "      <td>3313.000000</td>\n",
       "      <td>3313.000000</td>\n",
       "      <td>3313.000000</td>\n",
       "      <td>3313.000000</td>\n",
       "    </tr>\n",
       "    <tr>\n",
       "      <th>mean</th>\n",
       "      <td>0.011427</td>\n",
       "      <td>0.012523</td>\n",
       "      <td>0.013427</td>\n",
       "      <td>0.015406</td>\n",
       "      <td>0.017595</td>\n",
       "      <td>0.022151</td>\n",
       "      <td>0.025897</td>\n",
       "      <td>0.029388</td>\n",
       "      <td>0.183361</td>\n",
       "      <td>0.183357</td>\n",
       "      <td>0.035293</td>\n",
       "      <td>0.035281</td>\n",
       "    </tr>\n",
       "    <tr>\n",
       "      <th>std</th>\n",
       "      <td>0.016504</td>\n",
       "      <td>0.016720</td>\n",
       "      <td>0.016194</td>\n",
       "      <td>0.014783</td>\n",
       "      <td>0.013717</td>\n",
       "      <td>0.011938</td>\n",
       "      <td>0.010655</td>\n",
       "      <td>0.009759</td>\n",
       "      <td>0.438559</td>\n",
       "      <td>0.438520</td>\n",
       "      <td>0.087651</td>\n",
       "      <td>0.087417</td>\n",
       "    </tr>\n",
       "    <tr>\n",
       "      <th>min</th>\n",
       "      <td>0.000000</td>\n",
       "      <td>0.000200</td>\n",
       "      <td>0.000800</td>\n",
       "      <td>0.001600</td>\n",
       "      <td>0.002800</td>\n",
       "      <td>0.005600</td>\n",
       "      <td>0.009100</td>\n",
       "      <td>0.013700</td>\n",
       "      <td>0.000000</td>\n",
       "      <td>0.000000</td>\n",
       "      <td>0.000000</td>\n",
       "      <td>0.000000</td>\n",
       "    </tr>\n",
       "    <tr>\n",
       "      <th>25%</th>\n",
       "      <td>0.000600</td>\n",
       "      <td>0.001200</td>\n",
       "      <td>0.001900</td>\n",
       "      <td>0.004700</td>\n",
       "      <td>0.008300</td>\n",
       "      <td>0.014000</td>\n",
       "      <td>0.018800</td>\n",
       "      <td>0.021900</td>\n",
       "      <td>0.000000</td>\n",
       "      <td>0.000000</td>\n",
       "      <td>0.000000</td>\n",
       "      <td>0.000000</td>\n",
       "    </tr>\n",
       "    <tr>\n",
       "      <th>50%</th>\n",
       "      <td>0.001800</td>\n",
       "      <td>0.003100</td>\n",
       "      <td>0.004900</td>\n",
       "      <td>0.008700</td>\n",
       "      <td>0.012700</td>\n",
       "      <td>0.018400</td>\n",
       "      <td>0.022800</td>\n",
       "      <td>0.027100</td>\n",
       "      <td>0.000000</td>\n",
       "      <td>0.000000</td>\n",
       "      <td>0.000000</td>\n",
       "      <td>0.000000</td>\n",
       "    </tr>\n",
       "    <tr>\n",
       "      <th>75%</th>\n",
       "      <td>0.017800</td>\n",
       "      <td>0.019500</td>\n",
       "      <td>0.021200</td>\n",
       "      <td>0.023400</td>\n",
       "      <td>0.024500</td>\n",
       "      <td>0.027300</td>\n",
       "      <td>0.030900</td>\n",
       "      <td>0.035900</td>\n",
       "      <td>0.000000</td>\n",
       "      <td>0.000000</td>\n",
       "      <td>0.000000</td>\n",
       "      <td>0.000000</td>\n",
       "    </tr>\n",
       "    <tr>\n",
       "      <th>max</th>\n",
       "      <td>0.051900</td>\n",
       "      <td>0.053300</td>\n",
       "      <td>0.053000</td>\n",
       "      <td>0.052900</td>\n",
       "      <td>0.052600</td>\n",
       "      <td>0.052300</td>\n",
       "      <td>0.052300</td>\n",
       "      <td>0.052600</td>\n",
       "      <td>1.347747</td>\n",
       "      <td>1.347747</td>\n",
       "      <td>0.405139</td>\n",
       "      <td>0.405139</td>\n",
       "    </tr>\n",
       "  </tbody>\n",
       "</table>\n",
       "</div>"
      ],
      "text/plain": [
       "           three_m        six_m        one_y        two_y      three_y  \\\n",
       "count  3313.000000  3313.000000  3313.000000  3313.000000  3313.000000   \n",
       "mean      0.011427     0.012523     0.013427     0.015406     0.017595   \n",
       "std       0.016504     0.016720     0.016194     0.014783     0.013717   \n",
       "min       0.000000     0.000200     0.000800     0.001600     0.002800   \n",
       "25%       0.000600     0.001200     0.001900     0.004700     0.008300   \n",
       "50%       0.001800     0.003100     0.004900     0.008700     0.012700   \n",
       "75%       0.017800     0.019500     0.021200     0.023400     0.024500   \n",
       "max       0.051900     0.053300     0.053000     0.052900     0.052600   \n",
       "\n",
       "            five_y      seven_y        ten_y      ed_last     ed_avg_n  \\\n",
       "count  3313.000000  3313.000000  3313.000000  3313.000000  3313.000000   \n",
       "mean      0.022151     0.025897     0.029388     0.183361     0.183357   \n",
       "std       0.011938     0.010655     0.009759     0.438559     0.438520   \n",
       "min       0.005600     0.009100     0.013700     0.000000     0.000000   \n",
       "25%       0.014000     0.018800     0.021900     0.000000     0.000000   \n",
       "50%       0.018400     0.022800     0.027100     0.000000     0.000000   \n",
       "75%       0.027300     0.030900     0.035900     0.000000     0.000000   \n",
       "max       0.052300     0.052300     0.052600     1.347747     1.347747   \n",
       "\n",
       "          cos_last    cos_avg_n  \n",
       "count  3313.000000  3313.000000  \n",
       "mean      0.035293     0.035281  \n",
       "std       0.087651     0.087417  \n",
       "min       0.000000     0.000000  \n",
       "25%       0.000000     0.000000  \n",
       "50%       0.000000     0.000000  \n",
       "75%       0.000000     0.000000  \n",
       "max       0.405139     0.405139  "
      ]
     },
     "execution_count": 16,
     "metadata": {},
     "output_type": "execute_result"
    }
   ],
   "source": [
    "X.fillna(value=0, inplace=True)\n",
    "X.describe()"
   ]
  },
  {
   "cell_type": "code",
   "execution_count": 17,
   "metadata": {},
   "outputs": [],
   "source": [
    "X_fwds = X_fwds.merge(avgstats, how='left', left_index = True, right_index = True)\n",
    "X_zeros = X_zeros.merge(avgstats, how = 'left', left_index = True, right_index = True)\n"
   ]
  },
  {
   "cell_type": "code",
   "execution_count": 18,
   "metadata": {},
   "outputs": [],
   "source": [
    "X_fwds.fillna(value=0, inplace=True)\n",
    "X_zeros.fillna(value=0, inplace=True)\n"
   ]
  },
  {
   "cell_type": "code",
   "execution_count": 19,
   "metadata": {},
   "outputs": [],
   "source": [
    "total_obs = len(X)\n",
    "train_int = int(round(total_obs*.7, 0))\n",
    "cv_int = int(round(total_obs*.85, 0))\n",
    "\n",
    "fwd_train = X_fwds[0:train_int]\n",
    "fwd_cv = X_fwds[train_int:cv_int]\n",
    "fwd_test = X_fwds[cv_int:]\n",
    "\n",
    "zero_train = X_zeros[0:train_int]\n",
    "zero_cv = X_zeros[train_int:cv_int]\n",
    "zero_test = X_zeros[cv_int:]\n",
    "\n",
    "X_train = X[0:train_int]\n",
    "X_cv = X[train_int:cv_int]\n",
    "X_test = X[cv_int:]\n"
   ]
  },
  {
   "cell_type": "code",
   "execution_count": 20,
   "metadata": {},
   "outputs": [],
   "source": [
    "model = pf.ARIMAX(data = fwd_train,\n",
    "         formula = 'ten_y~1+ed_last',\n",
    "         ar=1,\n",
    "         ma=1,\n",
    "         integ=1,\n",
    "         family=pf.Normal())"
   ]
  },
  {
   "cell_type": "code",
   "execution_count": 21,
   "metadata": {},
   "outputs": [
    {
     "name": "stdout",
     "output_type": "stream",
     "text": [
      "Normal ARIMAX(1,1,1)                                                                                      \n",
      "======================================================= ==================================================\n",
      "Dependent Variable: Differenced ten_y                   Method: MLE                                       \n",
      "Start Date: 2006-01-04 00:00:00                         Log Likelihood: 13323.8714                        \n",
      "End Date: 2015-04-07 00:00:00                           AIC: -26637.7428                                  \n",
      "Number of observations: 2317                            BIC: -26609.0027                                  \n",
      "==========================================================================================================\n",
      "Latent Variable                          Estimate   Std Error  z        P>|z|    95% C.I.                 \n",
      "======================================== ========== ========== ======== ======== =========================\n",
      "AR(1)                                    -0.0078    0.6975     -0.0111  0.9911   (-1.3749 | 1.3594)       \n",
      "MA(1)                                    -0.0078    0.6973     -0.0112  0.991    (-1.3744 | 1.3588)       \n",
      "Beta 1                                   -0.0       0.0        -0.7863  0.4317   (-0.0 | 0.0)             \n",
      "Beta ed_last                             0.0        0.0        0.7359   0.4618   (-0.0 | 0.0001)          \n",
      "Normal Scale                             0.0008                                                           \n",
      "==========================================================================================================\n"
     ]
    }
   ],
   "source": [
    "\n",
    "m = model.fit('MLE')\n",
    "m.summary()\n"
   ]
  },
  {
   "cell_type": "code",
   "execution_count": null,
   "metadata": {},
   "outputs": [],
   "source": []
  },
  {
   "cell_type": "code",
   "execution_count": null,
   "metadata": {},
   "outputs": [],
   "source": [
    "# trying different model"
   ]
  },
  {
   "cell_type": "code",
   "execution_count": 35,
   "metadata": {},
   "outputs": [],
   "source": [
    "model = pf.ARIMAX(data = fwd_train,\n",
    "         formula = 'ten_y~1+ed_avg_n',\n",
    "         ar=3,\n",
    "         ma=3,\n",
    "         integ=1,\n",
    "         family=pf.Normal())"
   ]
  },
  {
   "cell_type": "code",
   "execution_count": 36,
   "metadata": {},
   "outputs": [
    {
     "name": "stdout",
     "output_type": "stream",
     "text": [
      "Normal ARIMAX(3,1,3)                                                                                      \n",
      "======================================================= ==================================================\n",
      "Dependent Variable: Differenced ten_y                   Method: MLE                                       \n",
      "Start Date: 2006-01-06 00:00:00                         Log Likelihood: 13312.232                         \n",
      "End Date: 2015-04-07 00:00:00                           AIC: -26606.4639                                  \n",
      "Number of observations: 2315                            BIC: -26554.7395                                  \n",
      "==========================================================================================================\n",
      "Latent Variable                          Estimate   Std Error  z        P>|z|    95% C.I.                 \n",
      "======================================== ========== ========== ======== ======== =========================\n",
      "AR(1)                                    -0.0077    0.3165     -0.0242  0.9807   (-0.628 | 0.6126)        \n",
      "AR(2)                                    0.0        0.4522     0.0001   1.0      (-0.8864 | 0.8864)       \n",
      "AR(3)                                    0.0133     0.4236     0.0314   0.975    (-0.8169 | 0.8435)       \n",
      "MA(1)                                    -0.0077    0.3046     -0.0253  0.9798   (-0.6046 | 0.5892)       \n",
      "MA(2)                                    -0.0001    0.4616     -0.0002  0.9998   (-0.9049 | 0.9046)       \n",
      "MA(3)                                    0.0133     0.4346     0.0307   0.9755   (-0.8386 | 0.8652)       \n",
      "Beta 1                                   -0.0       0.0        -0.8565  0.3917   (-0.0 | 0.0)             \n",
      "Beta ed_avg_n                            0.0        0.0        0.8074   0.4194   (-0.0 | 0.0001)          \n",
      "Normal Scale                             0.0008                                                           \n",
      "==========================================================================================================\n"
     ]
    }
   ],
   "source": [
    "m = model.fit('MLE')\n",
    "m.summary()"
   ]
  },
  {
   "cell_type": "code",
   "execution_count": 37,
   "metadata": {},
   "outputs": [],
   "source": [
    "test_10_y = fwd_train['ten_y']"
   ]
  },
  {
   "cell_type": "code",
   "execution_count": 38,
   "metadata": {},
   "outputs": [
    {
     "data": {
      "text/plain": [
       "[<matplotlib.lines.Line2D at 0x1a1dbdbc18>]"
      ]
     },
     "execution_count": 38,
     "metadata": {},
     "output_type": "execute_result"
    },
    {
     "data": {
      "image/png": "[encoded data removed]",
      "text/plain": [
       "<Figure size 432x288 with 1 Axes>"
      ]
     },
     "metadata": {
      "needs_background": "light"
     },
     "output_type": "display_data"
    }
   ],
   "source": [
    "plt.plot(test_10_y)"
   ]
  },
  {
   "cell_type": "code",
   "execution_count": 40,
   "metadata": {},
   "outputs": [],
   "source": [
    "d1_10_y = test_10_y.diff()"
   ]
  },
  {
   "cell_type": "code",
   "execution_count": 42,
   "metadata": {},
   "outputs": [
    {
     "data": {
      "text/plain": [
       "[<matplotlib.lines.Line2D at 0x1a1e1cebe0>]"
      ]
     },
     "execution_count": 42,
     "metadata": {},
     "output_type": "execute_result"
    },
    {
     "data": {
      "image/png": "[encoded data removed]",
      "text/plain": [
       "<Figure size 432x288 with 1 Axes>"
      ]
     },
     "metadata": {
      "needs_background": "light"
     },
     "output_type": "display_data"
    }
   ],
   "source": [
    "plt.plot(d1_10_y)"
   ]
  },
  {
   "cell_type": "code",
   "execution_count": 43,
   "metadata": {},
   "outputs": [
    {
     "data": {
      "text/plain": [
       "-8.935248362994596e-06"
      ]
     },
     "execution_count": 43,
     "metadata": {},
     "output_type": "execute_result"
    }
   ],
   "source": [
    "np.mean(d1_10_y)"
   ]
  },
  {
   "cell_type": "code",
   "execution_count": 45,
   "metadata": {},
   "outputs": [
    {
     "data": {
      "image/png": "[encoded data removed]",
      "text/plain": [
       "<Figure size 432x288 with 1 Axes>"
      ]
     },
     "metadata": {
      "needs_background": "light"
     },
     "output_type": "display_data"
    }
   ],
   "source": [
    "\n",
    "from pandas import Series\n",
    "from matplotlib import pyplot\n",
    "from statsmodels.graphics.tsaplots import plot_pacf\n",
    "#series = Series.from_csv('daily-minimum-temperatures.csv', header=0)\n",
    "plot_pacf(test_10_y, lags=50)\n",
    "pyplot.show()\n"
   ]
  },
  {
   "cell_type": "code",
   "execution_count": 47,
   "metadata": {},
   "outputs": [
    {
     "data": {
      "image/png": "[encoded data removed]",
      "text/plain": [
       "<Figure size 432x288 with 1 Axes>"
      ]
     },
     "execution_count": 47,
     "metadata": {},
     "output_type": "execute_result"
    },
    {
     "data": {
      "image/png": "[encoded data removed]",
      "text/plain": [
       "<Figure size 432x288 with 1 Axes>"
      ]
     },
     "metadata": {
      "needs_background": "light"
     },
     "output_type": "display_data"
    }
   ],
   "source": [
    "plot_pacf(d1_10_y, lags = 50)"
   ]
  },
  {
   "cell_type": "code",
   "execution_count": null,
   "metadata": {},
   "outputs": [],
   "source": []
  }
 ],
 "metadata": {
  "kernelspec": {
   "display_name": "Python 3",
   "language": "python",
   "name": "python3"
  },
  "language_info": {
   "codemirror_mode": {
    "name": "ipython",
    "version": 3
   },
   "file_extension": ".py",
   "mimetype": "text/x-python",
   "name": "python",
   "nbconvert_exporter": "python",
   "pygments_lexer": "ipython3",
   "version": "3.6.8"
  }
 },
 "nbformat": 4,
 "nbformat_minor": 2
}
