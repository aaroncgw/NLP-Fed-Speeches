{
 "cells": [
  {
   "cell_type": "markdown",
   "metadata": {},
   "source": [
    "## Putting the speech variables into the correct date for our Pandas dataframe\n"
   ]
  },
  {
   "cell_type": "code",
   "execution_count": 7,
   "metadata": {},
   "outputs": [],
   "source": [
    "import pandas as pd \n",
    "import numpy as np\n",
    "\n",
    "import pickle\n",
    "import matplotlib.pyplot as plt\n",
    "%matplotlib inline"
   ]
  },
  {
   "cell_type": "code",
   "execution_count": 6,
   "metadata": {},
   "outputs": [],
   "source": [
    "# speeches = pickle.load(open(\"all_fed_speeches\", \"rb\" ) )\n",
    "## NOPE: Wrong file - before similarities calculated"
   ]
  },
  {
   "cell_type": "code",
   "execution_count": 5,
   "metadata": {},
   "outputs": [
    {
     "data": {
      "text/html": [
       "<div>\n",
       "<style scoped>\n",
       "    .dataframe tbody tr th:only-of-type {\n",
       "        vertical-align: middle;\n",
       "    }\n",
       "\n",
       "    .dataframe tbody tr th {\n",
       "        vertical-align: top;\n",
       "    }\n",
       "\n",
       "    .dataframe thead th {\n",
       "        text-align: right;\n",
       "    }\n",
       "</style>\n",
       "<table border=\"1\" class=\"dataframe\">\n",
       "  <thead>\n",
       "    <tr style=\"text-align: right;\">\n",
       "      <th></th>\n",
       "      <th>date</th>\n",
       "      <th>speaker</th>\n",
       "      <th>title</th>\n",
       "      <th>link</th>\n",
       "      <th>text</th>\n",
       "    </tr>\n",
       "  </thead>\n",
       "  <tbody>\n",
       "    <tr>\n",
       "      <th>0</th>\n",
       "      <td>2006-12-15</td>\n",
       "      <td>Chairman Ben S. Bernanke</td>\n",
       "      <td>The Chinese Economy: Progress and Challenges</td>\n",
       "      <td>/newsevents/speech/bernanke20061215a.htm</td>\n",
       "      <td>The emergence of China as a global economic po...</td>\n",
       "    </tr>\n",
       "    <tr>\n",
       "      <th>1</th>\n",
       "      <td>2006-12-01</td>\n",
       "      <td>Vice Chairman Donald L. Kohn</td>\n",
       "      <td>Monetary Policy and Uncertainty</td>\n",
       "      <td>/newsevents/speech/kohn20061201a.htm</td>\n",
       "      <td>Tonight I will talk about one of the themes of...</td>\n",
       "    </tr>\n",
       "    <tr>\n",
       "      <th>2</th>\n",
       "      <td>2006-12-01</td>\n",
       "      <td>Chairman Ben S. Bernanke</td>\n",
       "      <td>Welcoming remarks</td>\n",
       "      <td>/newsevents/speech/bernanke20061201a.htm</td>\n",
       "      <td>Vice President Papademos, ladies and gentlemen...</td>\n",
       "    </tr>\n",
       "    <tr>\n",
       "      <th>3</th>\n",
       "      <td>2006-11-30</td>\n",
       "      <td>Governor Susan Schmidt Bies</td>\n",
       "      <td>A U.S. Perspective on Basel II Implementation</td>\n",
       "      <td>/newsevents/speech/bies20061130a.htm</td>\n",
       "      <td>Good afternoon. Thank you for the invitation t...</td>\n",
       "    </tr>\n",
       "    <tr>\n",
       "      <th>4</th>\n",
       "      <td>2006-11-28</td>\n",
       "      <td>Chairman Ben S. Bernanke</td>\n",
       "      <td>The Economic Outlook</td>\n",
       "      <td>/newsevents/speech/bernanke20061128a.htm</td>\n",
       "      <td>Thank you for inviting me to speak today. I wi...</td>\n",
       "    </tr>\n",
       "  </tbody>\n",
       "</table>\n",
       "</div>"
      ],
      "text/plain": [
       "        date                       speaker  \\\n",
       "0 2006-12-15      Chairman Ben S. Bernanke   \n",
       "1 2006-12-01  Vice Chairman Donald L. Kohn   \n",
       "2 2006-12-01      Chairman Ben S. Bernanke   \n",
       "3 2006-11-30   Governor Susan Schmidt Bies   \n",
       "4 2006-11-28      Chairman Ben S. Bernanke   \n",
       "\n",
       "                                           title  \\\n",
       "0   The Chinese Economy: Progress and Challenges   \n",
       "1                Monetary Policy and Uncertainty   \n",
       "2                              Welcoming remarks   \n",
       "3  A U.S. Perspective on Basel II Implementation   \n",
       "4                           The Economic Outlook   \n",
       "\n",
       "                                       link  \\\n",
       "0  /newsevents/speech/bernanke20061215a.htm   \n",
       "1      /newsevents/speech/kohn20061201a.htm   \n",
       "2  /newsevents/speech/bernanke20061201a.htm   \n",
       "3      /newsevents/speech/bies20061130a.htm   \n",
       "4  /newsevents/speech/bernanke20061128a.htm   \n",
       "\n",
       "                                                text  \n",
       "0  The emergence of China as a global economic po...  \n",
       "1  Tonight I will talk about one of the themes of...  \n",
       "2  Vice President Papademos, ladies and gentlemen...  \n",
       "3  Good afternoon. Thank you for the invitation t...  \n",
       "4  Thank you for inviting me to speak today. I wi...  "
      ]
     },
     "execution_count": 5,
     "metadata": {},
     "output_type": "execute_result"
    }
   ],
   "source": [
    "speeches.head()"
   ]
  },
  {
   "cell_type": "code",
   "execution_count": 8,
   "metadata": {},
   "outputs": [
    {
     "data": {
      "text/plain": [
       "'/Users/davidsmith/Documents/Galvanize/Capstone/data'"
      ]
     },
     "execution_count": 8,
     "metadata": {},
     "output_type": "execute_result"
    }
   ],
   "source": [
    "pwd"
   ]
  },
  {
   "cell_type": "code",
   "execution_count": 9,
   "metadata": {},
   "outputs": [],
   "source": [
    "import os"
   ]
  },
  {
   "cell_type": "code",
   "execution_count": 10,
   "metadata": {},
   "outputs": [],
   "source": [
    "os.chdir('..')"
   ]
  },
  {
   "cell_type": "code",
   "execution_count": 11,
   "metadata": {},
   "outputs": [
    {
     "data": {
      "text/plain": [
       "'/Users/davidsmith/Documents/Galvanize/Capstone'"
      ]
     },
     "execution_count": 11,
     "metadata": {},
     "output_type": "execute_result"
    }
   ],
   "source": [
    "pwd"
   ]
  },
  {
   "cell_type": "code",
   "execution_count": 19,
   "metadata": {},
   "outputs": [],
   "source": [
    "speeches = pickle.load(open(\"data/ts_cosine_sim\", 'rb'))"
   ]
  },
  {
   "cell_type": "code",
   "execution_count": 21,
   "metadata": {},
   "outputs": [
    {
     "name": "stdout",
     "output_type": "stream",
     "text": [
      "Variable   Type      Data/Info\n",
      "------------------------------\n",
      "np         module    <module 'numpy' from '/an<...>kages/numpy/__init__.py'>\n",
      "os         module    <module 'os' from '/anaco<...>da3/lib/python3.6/os.py'>\n",
      "pd         module    <module 'pandas' from '/a<...>ages/pandas/__init__.py'>\n",
      "pickle     module    <module 'pickle' from '/a<...>lib/python3.6/pickle.py'>\n",
      "plt        module    <module 'matplotlib.pyplo<...>es/matplotlib/pyplot.py'>\n",
      "speeches   list      n=3\n"
     ]
    }
   ],
   "source": [
    "whos"
   ]
  },
  {
   "cell_type": "code",
   "execution_count": null,
   "metadata": {},
   "outputs": [],
   "source": []
  }
 ],
 "metadata": {
  "kernelspec": {
   "display_name": "Python 3",
   "language": "python",
   "name": "python3"
  },
  "language_info": {
   "codemirror_mode": {
    "name": "ipython",
    "version": 3
   },
   "file_extension": ".py",
   "mimetype": "text/x-python",
   "name": "python",
   "nbconvert_exporter": "python",
   "pygments_lexer": "ipython3",
   "version": "3.6.8"
  }
 },
 "nbformat": 4,
 "nbformat_minor": 2
}
